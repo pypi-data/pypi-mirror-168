{
 "cells": [
  {
   "cell_type": "code",
   "execution_count": null,
   "metadata": {},
   "outputs": [],
   "source": [
    "import sys\n",
    "sys.path.append(\"../..\")\n",
    "\n",
    "import os\n",
    "import numpy as np\n",
    "import matplotlib.pyplot as plt\n",
    "import h5py as h5\n",
    "import time\n",
    "\n",
    "import skopi as sk\n",
    "import skopi.gpu as sg"
   ]
  },
  {
   "cell_type": "code",
   "execution_count": null,
   "metadata": {},
   "outputs": [],
   "source": [
    "# Create a particle object\n",
    "particle = sk.Particle()\n",
    "\n",
    "particle.read_pdb('../input/3iyf.pdb', ff='WK')\n",
    "\n",
    "# Load beam\n",
    "beam = sk.Beam('../input/exp_chuck.beam') \n",
    "\n",
    "# Load and initialize the detector\n",
    "det = sk.PnccdDetector(geom = '../lcls/amo86615/PNCCD::CalibV1/Camp.0:pnCCD.1/geometry/0-end.data', \n",
    "                       beam = beam)"
   ]
  },
  {
   "cell_type": "markdown",
   "metadata": {},
   "source": [
    "# Calculate the 3D diffraction volume"
   ]
  },
  {
   "cell_type": "code",
   "execution_count": null,
   "metadata": {},
   "outputs": [],
   "source": [
    "mesh_length = 151\n",
    "\n",
    "# Setup the reciprocal space mesh grid for the detector\n",
    "# The edge pixel resolution is slightly larger than the corner resolution of the detector panel.\n",
    "mesh, voxel_length= det.get_reciprocal_mesh(voxel_number_1d = mesh_length)"
   ]
  },
  {
   "cell_type": "markdown",
   "metadata": {},
   "source": [
    "# Uniformly Take 10 slices"
   ]
  },
  {
   "cell_type": "code",
   "execution_count": null,
   "metadata": {},
   "outputs": [],
   "source": [
    "file_name = 'imStack-temp.hdf5'\n",
    "n = 100\n",
    "if True:\n",
    "    print \"Restarting\"\n",
    "    \n",
    "    # Generate n images uniformly over 4-sphere\n",
    "    # Calculate the 3D diffraction intensity volume\n",
    "    volume = sg.calculate_diffraction_pattern_gpu(mesh, particle, return_type='intensity')\n",
    "\n",
    "    # Because the Intensity is very low, I would like to increase the intensity a little bit\n",
    "    volume *= 10\n",
    "    \n",
    "    orientations = sk.geometry.get_uniform_quat(num_pts=n)\n",
    "    slices = sk.geometry.take_n_slice(\n",
    "        pattern_shape = det.pedestal.shape,\n",
    "        pixel_momentum = det.pixel_position_reciprocal,\n",
    "        volume = volume,\n",
    "        voxel_length = voxel_length,\n",
    "        orientations = orientations)\n",
    "    \n",
    "    vshape = volume.shape\n",
    "    ishape = (n, 4, 512, 512)\n",
    "    \n",
    "    with h5.File(file_name, 'w') as f:\n",
    "        f.create_dataset('volume', shape=vshape, maxshape=vshape, data=volume, dtype=np.float64)\n",
    "        f.create_dataset('imUniform', shape=ishape, maxshape=ishape, data=slices, dtype=np.int32)\n",
    "        f.create_dataset('imOrientations', orientations.shape, data=orientations, dtype=np.float32)\n",
    "\n",
    "with h5.File(file_name, 'r') as f:\n",
    "    print \"Loading\"\n",
    "    \n",
    "    volume = f['volume'][:]\n",
    "    data2 = f['imUniform'][:]\n",
    "    orientations = f['imOrientations'][:]"
   ]
  },
  {
   "cell_type": "code",
   "execution_count": null,
   "metadata": {},
   "outputs": [],
   "source": [
    "plt.imshow(np.log(volume[:,mesh_length/2,:]))\n",
    "plt.show()"
   ]
  },
  {
   "cell_type": "code",
   "execution_count": null,
   "metadata": {},
   "outputs": [],
   "source": [
    "plt.figure(figsize=(20, 8))\n",
    "for i in range(4):\n",
    "    plt.subplot(1, 4, i+1)\n",
    "    plt.imshow(np.log(data2[0, i]))\n",
    "plt.show()"
   ]
  },
  {
   "cell_type": "markdown",
   "metadata": {},
   "source": [
    "## Show quantizated results"
   ]
  },
  {
   "cell_type": "code",
   "execution_count": null,
   "metadata": {},
   "outputs": [],
   "source": [
    "data2cq = det.add_correction_and_quantization_batch(pattern_batch=data2)"
   ]
  },
  {
   "cell_type": "code",
   "execution_count": null,
   "metadata": {},
   "outputs": [],
   "source": [
    "plt.figure(figsize=(20, 8))\n",
    "for i in range(4):\n",
    "    plt.subplot(1, 4, i+1)\n",
    "    plt.imshow(data2cq[0, i])\n",
    "plt.show()"
   ]
  },
  {
   "cell_type": "code",
   "execution_count": null,
   "metadata": {},
   "outputs": [],
   "source": [
    "data2a = det.assemble_image_stack_batch(image_stack_batch=data2cq)"
   ]
  },
  {
   "cell_type": "code",
   "execution_count": null,
   "metadata": {},
   "outputs": [],
   "source": [
    "plt.imshow(data2a[0])\n",
    "plt.show()"
   ]
  },
  {
   "cell_type": "markdown",
   "metadata": {},
   "source": [
    " "
   ]
  },
  {
   "cell_type": "code",
   "execution_count": null,
   "metadata": {},
   "outputs": [],
   "source": [
    "l = 0\n",
    "pixel_momentum = det.pixel_position_reciprocal\n",
    "\n",
    "rot_mat = sk.geometry.quaternion2rot3d(orientations[l, :])\n",
    "\n",
    "# rotate the pixels in the reciprocal space.\n",
    "# Notice that at this time, the pixel position is in 3D\n",
    "rotated_pixel_position = sk.geometry.rotate_pixels_in_reciprocal_space(rot_mat, pixel_momentum)\n",
    "# calculate the index and weight in 3D\n",
    "local_index, local_weight = sk.geometry.get_weight_and_index(\n",
    "    pixel_position=rotated_pixel_position,\n",
    "    voxel_length=voxel_length,\n",
    "    voxel_num_1d=volume.shape[0])"
   ]
  },
  {
   "cell_type": "code",
   "execution_count": null,
   "metadata": {},
   "outputs": [],
   "source": [
    "pattern_shape = det.pedestal.shape\n",
    "pixel_num = np.prod(pattern_shape)\n",
    "\n",
    "volume_num_1d = volume.shape[0]\n",
    "convertion_factor = np.array([volume_num_1d * volume_num_1d, volume_num_1d, 1], dtype=np.int64)\n",
    "\n",
    "index_2d = np.reshape(local_index, [pixel_num, 8, 3])\n",
    "index_2d = np.matmul(index_2d, convertion_factor)\n",
    "\n",
    "volume_1d = np.reshape(volume, volume_num_1d ** 3)\n",
    "weight_2d = np.reshape(local_weight, [pixel_num, 8])\n",
    "\n",
    "# Expand the data to merge\n",
    "data_to_merge = volume_1d[index_2d]\n",
    "\n",
    "# Merge the data\n",
    "data_merged = np.sum(np.multiply(weight_2d, data_to_merge), axis=-1)\n",
    "\n",
    "slice_ = np.reshape(data_merged, pattern_shape)"
   ]
  },
  {
   "cell_type": "code",
   "execution_count": null,
   "metadata": {},
   "outputs": [],
   "source": [
    "plt.figure(figsize=(20, 4))\n",
    "for i in range(4):\n",
    "    plt.subplot(1, 4, i+1)\n",
    "    plt.imshow(np.log(data2[0, i]))\n",
    "plt.show()"
   ]
  },
  {
   "cell_type": "code",
   "execution_count": null,
   "metadata": {},
   "outputs": [],
   "source": [
    "plt.figure(figsize=(20, 4))\n",
    "for i in range(4):\n",
    "    plt.subplot(1, 4, i+1)\n",
    "    plt.imshow(np.log(slice_.astype('int32')[i]))\n",
    "plt.show()"
   ]
  },
  {
   "cell_type": "code",
   "execution_count": null,
   "metadata": {},
   "outputs": [],
   "source": [
    "plt.figure(figsize=(20, 4))\n",
    "for i in range(4):\n",
    "    plt.subplot(1, 4, i+1)\n",
    "    plt.imshow(data2[0, i] - slice_.astype('int32')[i])\n",
    "    plt.colorbar()\n",
    "plt.show()"
   ]
  },
  {
   "cell_type": "code",
   "execution_count": null,
   "metadata": {},
   "outputs": [],
   "source": [
    "data2cq = det.add_correction_and_quantization_batch(pattern_batch=data2)\n",
    "data2a = det.assemble_image_stack_batch(image_stack_batch=data2cq)"
   ]
  },
  {
   "cell_type": "markdown",
   "metadata": {},
   "source": [
    "## Merge intensities"
   ]
  },
  {
   "cell_type": "code",
   "execution_count": null,
   "metadata": {},
   "outputs": [],
   "source": [
    "volume_merge = np.zeros_like(volume)\n",
    "volume_weight = np.zeros_like(volume)"
   ]
  },
  {
   "cell_type": "code",
   "execution_count": null,
   "metadata": {},
   "outputs": [],
   "source": [
    "pixel_momentum = det.pixel_position_reciprocal\n",
    "volume_m_1d = np.reshape(volume_merge, volume_num_1d ** 3)\n",
    "volume_w_1d = np.reshape(volume_weight, volume_num_1d ** 3)\n",
    "    \n",
    "for l in range(n):\n",
    "    rot_mat = sk.geometry.quaternion2rot3d(orientations[l, :])\n",
    "\n",
    "    # rotate the pixels in the reciprocal space.\n",
    "    # Notice that at this time, the pixel position is in 3D\n",
    "    rotated_pixel_position = sk.geometry.rotate_pixels_in_reciprocal_space(rot_mat, pixel_momentum)\n",
    "    # calculate the index and weight in 3D\n",
    "    local_index, local_weight = sk.geometry.get_weight_and_index(\n",
    "        pixel_position=rotated_pixel_position,\n",
    "        voxel_length=voxel_length,\n",
    "        voxel_num_1d=volume.shape[0])\n",
    "    \n",
    "    index_2d = np.reshape(local_index, [pixel_num, 8, 3])\n",
    "    index_2d = np.matmul(index_2d, convertion_factor)\n",
    "\n",
    "    weight_2d = np.reshape(local_weight, [pixel_num, 8])\n",
    "    \n",
    "    data_1d = np.reshape(data2[l], pixel_num)\n",
    "\n",
    "    # Expand the data to merge\n",
    "    volume_m_1d[index_2d] += np.multiply(weight_2d, data_1d[:,np.newaxis])\n",
    "    volume_w_1d[index_2d] += weight_2d\n",
    "\n",
    "volume_merge = np.reshape(volume_m_1d, volume.shape)\n",
    "volume_weight = np.reshape(volume_w_1d, volume.shape)"
   ]
  },
  {
   "cell_type": "code",
   "execution_count": null,
   "metadata": {},
   "outputs": [],
   "source": [
    "plt.imshow(np.log(volume_weight[:,(mesh_length+1)//2]))\n",
    "plt.show()"
   ]
  },
  {
   "cell_type": "code",
   "execution_count": null,
   "metadata": {},
   "outputs": [],
   "source": [
    "plt.imshow(np.log(volume_merge[:,(mesh_length+1)//2]))\n",
    "plt.show()"
   ]
  },
  {
   "cell_type": "code",
   "execution_count": null,
   "metadata": {},
   "outputs": [],
   "source": [
    "volume_merge /= volume_weight"
   ]
  },
  {
   "cell_type": "code",
   "execution_count": null,
   "metadata": {},
   "outputs": [],
   "source": [
    "plt.imshow(np.log(volume_merge[:,(mesh_length+1)//2]))\n",
    "plt.show()"
   ]
  },
  {
   "cell_type": "code",
   "execution_count": null,
   "metadata": {},
   "outputs": [],
   "source": [
    "plt.imshow(np.log(volume[:,(mesh_length+1)//2]))\n",
    "plt.show()"
   ]
  },
  {
   "cell_type": "code",
   "execution_count": null,
   "metadata": {},
   "outputs": [],
   "source": [
    "vshape = volume_merge.shape\n",
    "with h5.File(file_name, 'a') as f:\n",
    "    f.create_dataset('merged', shape=vshape, maxshape=vshape, data=volume_merge, dtype=np.float32)"
   ]
  },
  {
   "cell_type": "markdown",
   "metadata": {},
   "source": [
    "## Merge photons"
   ]
  },
  {
   "cell_type": "code",
   "execution_count": null,
   "metadata": {},
   "outputs": [],
   "source": [
    "volume_merge_ph = np.zeros_like(volume)\n",
    "volume_weight_ph = np.zeros_like(volume)"
   ]
  },
  {
   "cell_type": "code",
   "execution_count": null,
   "metadata": {},
   "outputs": [],
   "source": [
    "# Same with photons instead of intensities\n",
    "pixel_momentum = det.pixel_position_reciprocal\n",
    "volume_m_1d = np.reshape(volume_merge_ph, volume_num_1d ** 3)\n",
    "volume_w_1d = np.reshape(volume_weight_ph, volume_num_1d ** 3)\n",
    "    \n",
    "for l in range(n):\n",
    "    rot_mat = sk.geometry.quaternion2rot3d(orientations[l, :])\n",
    "\n",
    "    # rotate the pixels in the reciprocal space.\n",
    "    # Notice that at this time, the pixel position is in 3D\n",
    "    rotated_pixel_position = sk.geometry.rotate_pixels_in_reciprocal_space(rot_mat, pixel_momentum)\n",
    "    # calculate the index and weight in 3D\n",
    "    local_index, local_weight = sk.geometry.get_weight_and_index(\n",
    "        pixel_position=rotated_pixel_position,\n",
    "        voxel_length=voxel_length,\n",
    "        voxel_num_1d=volume.shape[0])\n",
    "    \n",
    "    index_2d = np.reshape(local_index, [pixel_num, 8, 3])\n",
    "    index_2d = np.matmul(index_2d, convertion_factor)\n",
    "\n",
    "    weight_2d = np.reshape(local_weight, [pixel_num, 8])\n",
    "    \n",
    "    data_1d = np.reshape(data2cq[l], pixel_num)\n",
    "\n",
    "    # Expand the data to merge\n",
    "    volume_m_1d[index_2d] += np.multiply(weight_2d, data_1d[:,np.newaxis])\n",
    "    volume_w_1d[index_2d] += weight_2d\n",
    "\n",
    "volume_merge_ph = np.reshape(volume_m_1d, volume.shape)\n",
    "volume_weight_ph = np.reshape(volume_w_1d, volume.shape)"
   ]
  },
  {
   "cell_type": "code",
   "execution_count": null,
   "metadata": {},
   "outputs": [],
   "source": [
    "volume_merge_ph /= volume_weight_ph"
   ]
  },
  {
   "cell_type": "code",
   "execution_count": null,
   "metadata": {},
   "outputs": [],
   "source": [
    "plt.imshow(np.log(volume_merge_ph[:,(mesh_length+1)//2]))\n",
    "plt.show()"
   ]
  },
  {
   "cell_type": "code",
   "execution_count": null,
   "metadata": {},
   "outputs": [],
   "source": [
    "plt.imshow(np.log(volume[:,(mesh_length+1)//2]))\n",
    "plt.show()"
   ]
  },
  {
   "cell_type": "code",
   "execution_count": null,
   "metadata": {},
   "outputs": [],
   "source": [
    "vshape = volume_merge.shape\n",
    "with h5.File(file_name, 'a') as f:\n",
    "    f.create_dataset('photons', shape=vshape, maxshape=vshape, data=volume_merge_ph, dtype=np.float32)\n",
    "    #f['photons'][:] = volume_merge_ph"
   ]
  },
  {
   "cell_type": "code",
   "execution_count": null,
   "metadata": {},
   "outputs": [],
   "source": []
  }
 ],
 "metadata": {
  "kernelspec": {
   "display_name": "Python 2",
   "language": "python",
   "name": "python2"
  },
  "language_info": {
   "codemirror_mode": {
    "name": "ipython",
    "version": 2
   },
   "file_extension": ".py",
   "mimetype": "text/x-python",
   "name": "python",
   "nbconvert_exporter": "python",
   "pygments_lexer": "ipython2",
   "version": "2.7.15"
  }
 },
 "nbformat": 4,
 "nbformat_minor": 2
}
