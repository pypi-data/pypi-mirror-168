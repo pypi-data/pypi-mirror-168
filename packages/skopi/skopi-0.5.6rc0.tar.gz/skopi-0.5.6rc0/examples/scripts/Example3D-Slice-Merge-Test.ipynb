{
 "cells": [
  {
   "cell_type": "code",
   "execution_count": 1,
   "metadata": {},
   "outputs": [],
   "source": [
    "import sys\n",
    "sys.path.append(\"../..\")\n",
    "\n",
    "import os\n",
    "import numpy as np\n",
    "import matplotlib.pyplot as plt\n",
    "import h5py as h5\n",
    "import time\n",
    "\n",
    "import skopi as sk\n",
    "import skopi.gpu as sg"
   ]
  },
  {
   "cell_type": "code",
   "execution_count": 2,
   "metadata": {},
   "outputs": [],
   "source": [
    "# Create a particle object\n",
    "particle = sk.Particle()\n",
    "particle.read_pdb('../input/3iyf.pdb', ff='WK')\n",
    "\n",
    "# Load beam\n",
    "beam = sk.Beam('../input/exp_chuck.beam') \n",
    "\n",
    "# Load and initialize the detector\n",
    "det = sk.PnccdDetector(geom='../lcls/amo86615/PNCCD::CalibV1/Camp.0:pnCCD.1/geometry/0-end.data', \n",
    "                       beam=beam)"
   ]
  },
  {
   "cell_type": "markdown",
   "metadata": {},
   "source": [
    "# Calculate the 3D diffraction volume"
   ]
  },
  {
   "cell_type": "code",
   "execution_count": 3,
   "metadata": {},
   "outputs": [],
   "source": [
    "mesh_length = 128\n",
    "mesh, voxel_length = det.get_reciprocal_mesh(voxel_number_1d = mesh_length)\n",
    "volume = sg.calculate_diffraction_pattern_gpu(mesh, particle, return_type = 'intensity')"
   ]
  },
  {
   "cell_type": "markdown",
   "metadata": {},
   "source": [
    "# Take 2 slices"
   ]
  },
  {
   "cell_type": "code",
   "execution_count": 4,
   "metadata": {},
   "outputs": [
    {
     "name": "stdout",
     "output_type": "stream",
     "text": [
      "Finishing constructing 2 patterns in 1.970150 seconds\n"
     ]
    }
   ],
   "source": [
    "# Generate n images uniformly over 4-sphere\n",
    "n = 2\n",
    "orientations = np.array([\n",
    "    [1., 1., 0., 0.],\n",
    "    [-1., 0., 1., 0.]]\n",
    ") / np.sqrt(2)\n",
    "\n",
    "slices = sk.geometry.take_n_slice(\n",
    "    pattern_shape = det.pedestal.shape,\n",
    "    pixel_momentum = det.pixel_position_reciprocal,\n",
    "    volume = volume,\n",
    "    voxel_length = voxel_length,\n",
    "    orientations = orientations)\n",
    "\n",
    "vshape = volume.shape\n",
    "ishape =(n, 4, 512, 512)\n",
    "\n",
    "with h5.File('imStack-test.hdf5','w') as f:\n",
    "    f.create_dataset('volume', shape=vshape, maxshape=vshape, data=volume, dtype=np.float64)\n",
    "    f.create_dataset('imUniform', shape=ishape, maxshape=ishape, data=slices, dtype=np.float64)\n",
    "    f.create_dataset('imOrientations', orientations.shape, data=orientations, dtype=np.float64)\n",
    "\n",
    "with h5.File('imStack-test.hdf5','r') as f:\n",
    "    volume_in = f['volume'][:]\n",
    "    slices_in = f['imUniform'][:]\n",
    "    orientations_in = f['imOrientations'][:]"
   ]
  },
  {
   "cell_type": "markdown",
   "metadata": {},
   "source": [
    "# >>> Move the file in the test directory manually <<<\n",
    "This is not automated to avoid changing it by mistake"
   ]
  },
  {
   "cell_type": "markdown",
   "metadata": {},
   "source": [
    "# Check for consistency"
   ]
  },
  {
   "cell_type": "code",
   "execution_count": 5,
   "metadata": {},
   "outputs": [],
   "source": [
    "assert np.allclose(volume, volume_in)\n",
    "assert np.allclose(slices, slices_in)\n",
    "assert np.allclose(orientations, orientations_in)"
   ]
  },
  {
   "cell_type": "code",
   "execution_count": 6,
   "metadata": {},
   "outputs": [
    {
     "name": "stdout",
     "output_type": "stream",
     "text": [
      "Finishing constructing 2 patterns in 1.741647 seconds\n"
     ]
    }
   ],
   "source": [
    "slices_rec = sk.geometry.take_n_slice(\n",
    "    pattern_shape = det.pedestal.shape,\n",
    "    pixel_momentum = det.pixel_position_reciprocal,\n",
    "    volume = volume_in,\n",
    "    voxel_length = voxel_length,\n",
    "    orientations = orientations_in)"
   ]
  },
  {
   "cell_type": "code",
   "execution_count": 7,
   "metadata": {},
   "outputs": [],
   "source": [
    "# Note: This does not work if orientations is stored as float32\n",
    "assert np.allclose(slices_in, slices_rec)"
   ]
  }
 ],
 "metadata": {
  "kernelspec": {
   "display_name": "Python 2",
   "language": "python",
   "name": "python2"
  },
  "language_info": {
   "codemirror_mode": {
    "name": "ipython",
    "version": 2
   },
   "file_extension": ".py",
   "mimetype": "text/x-python",
   "name": "python",
   "nbconvert_exporter": "python",
   "pygments_lexer": "ipython2",
   "version": "2.7.15"
  }
 },
 "nbformat": 4,
 "nbformat_minor": 2
}
