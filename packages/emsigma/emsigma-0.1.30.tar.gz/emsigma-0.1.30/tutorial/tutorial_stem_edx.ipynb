{
 "cells": [
  {
   "cell_type": "markdown",
   "id": "eee9ad91-0f66-4557-8ada-a979b944698b",
   "metadata": {},
   "source": [
    "# Import libraries"
   ]
  },
  {
   "cell_type": "code",
   "execution_count": null,
   "id": "e8b14643-fb4f-415e-a8ae-867d79f82a88",
   "metadata": {},
   "outputs": [],
   "source": [
    "import sigma\n",
    "from sigma.utils import normalisation as norm \n",
    "from sigma.utils import visualisation as visual\n",
    "from sigma.utils.loadtem import TEMDataset\n",
    "from sigma.src.utils import same_seeds\n",
    "from sigma.src.dim_reduction import Experiment\n",
    "from sigma.models.autoencoder import AutoEncoder\n",
    "from sigma.src.segmentation import PixelSegmenter\n",
    "from sigma.gui import gui\n"
   ]
  },
  {
   "cell_type": "markdown",
   "id": "c09f4459-0549-432a-8955-67cfe1bec966",
   "metadata": {},
   "source": [
    "# Load emi/ser files\n",
    "Note that the `.emi` and the corresponding `.ser` files should be place in the same folder, e.g., `test.emi` and `test.ser` should be in the same folder."
   ]
  },
  {
   "cell_type": "code",
   "execution_count": null,
   "id": "3db5dfa2-d7fc-4713-831c-cc3e44bbe6e1",
   "metadata": {},
   "outputs": [],
   "source": [
    "file_path = '17.57.40 Spectrum image.emi' # file path\n",
    "tem = TEMDataset(file_path)"
   ]
  },
  {
   "cell_type": "markdown",
   "id": "5e049794-25c0-4ac4-bee9-00dac041843b",
   "metadata": {},
   "source": [
    "# Assign x-ray lines (if known)"
   ]
  },
  {
   "cell_type": "code",
   "execution_count": null,
   "id": "dca3d0ea-0a87-4c3e-a1a0-231b46912ed9",
   "metadata": {},
   "outputs": [],
   "source": [
    "tem.set_xray_lines(['C_Ka', 'O_Ka', 'Mg_Ka', 'Al_Ka', \n",
    "                    'Si_Ka', 'Ti_Ka','S_Ka', 'Ca_Ka',  \n",
    "                    'Fe_Ka', 'Ni_Ka'])"
   ]
  },
  {
   "cell_type": "markdown",
   "id": "33ac041f-b82a-4ef2-ae02-2d10a48e8091",
   "metadata": {},
   "source": [
    "# View EDX dataset and assign x-ray lines"
   ]
  },
  {
   "cell_type": "code",
   "execution_count": null,
   "id": "86866202-81f7-42b2-b420-4bf7b395428d",
   "metadata": {},
   "outputs": [],
   "source": [
    "gui.view_emi_dataset(tem)"
   ]
  },
  {
   "cell_type": "markdown",
   "id": "f67302db-5d6b-4717-9e45-08648ff58241",
   "metadata": {},
   "source": [
    "# Data pre-processing"
   ]
  },
  {
   "cell_type": "code",
   "execution_count": null,
   "id": "34dba14a",
   "metadata": {},
   "outputs": [],
   "source": [
    "# normalisation to make the spectrum of each pixel summing to 1.\n",
    "tem.peak_intensity_normalisation()\n",
    "\n",
    "# remove pixels with no signals. Note that only the stem-edx data set on slide 5 has to apply this function, as the measurement was inturrupted upon collecting data.\n",
    "tem.remove_NaN()\n"
   ]
  },
  {
   "cell_type": "code",
   "execution_count": null,
   "id": "da25e4e8",
   "metadata": {},
   "outputs": [],
   "source": [
    "tem.normalisation([norm.zscore, \n",
    "                   norm.softmax])"
   ]
  },
  {
   "cell_type": "markdown",
   "id": "c5df7a0b-6085-401d-8ccc-1e663df94134",
   "metadata": {},
   "source": [
    "# Auencoder"
   ]
  },
  {
   "cell_type": "code",
   "execution_count": null,
   "id": "067be31e-45d6-4d71-a1ff-9801157eb7a5",
   "metadata": {
    "tags": []
   },
   "outputs": [],
   "source": [
    "# The integer in this function can determine different initialised parameters of model (tuning sudo randomness)\n",
    "# This can influence the result of dimensionality reduction and change the latent space.\n",
    "same_seeds(1)\n",
    "\n",
    "# Set up the experiment, e.g. determining the model structure, dataset for training etc.\n",
    "general_results_dir='./' \n",
    "ex = Experiment(descriptor='softmax',\n",
    "                general_results_dir=general_results_dir,\n",
    "                model=AutoEncoder,\n",
    "                model_args={'hidden_layer_sizes':(512,256,128)}, # number of hidden layers and corresponding neurons\n",
    "                chosen_dataset=tem.normalised_elemental_data,\n",
    "                save_model_every_epoch=True)"
   ]
  },
  {
   "cell_type": "code",
   "execution_count": null,
   "id": "885d7d14",
   "metadata": {},
   "outputs": [],
   "source": [
    "# Train the model\n",
    "ex.run_model(num_epochs=50,\n",
    "             patience=50, \n",
    "             batch_size=64,\n",
    "             learning_rate=1e-4, \n",
    "             weight_decay=0.0, \n",
    "             task='train_all', # Change to 'train_eval' to train on the training set (85% dataset) and test on a testing set (15%) for evaluation\n",
    "             noise_added=0.0,\n",
    "             KLD_lambda=0.0,\n",
    "             criterion='MSE',\n",
    "             lr_scheduler_args={'factor':0.5,\n",
    "                                'patience':5, \n",
    "                                'threshold':1e-2, \n",
    "                                'min_lr':1e-6,\n",
    "                                'verbose':True}) "
   ]
  },
  {
   "cell_type": "markdown",
   "id": "758cc3db-67fd-43a4-bba9-73b16179af41",
   "metadata": {},
   "source": [
    "# (Optional) Load pre-trained Autoencoder"
   ]
  },
  {
   "cell_type": "code",
   "execution_count": null,
   "id": "c7882a1c-ba87-4c40-a83e-1e2b73f28ed2",
   "metadata": {},
   "outputs": [],
   "source": [
    "model_path = './2022-07-04_Model-softmax/params/Model-softmax_epoch005' # model path\n",
    "ex.load_trained_model(model_path)"
   ]
  },
  {
   "cell_type": "markdown",
   "id": "ebb6a6ed-cace-4f28-ad90-bcabb32163d8",
   "metadata": {
    "tags": []
   },
   "source": [
    "# BIC to determine number of component"
   ]
  },
  {
   "cell_type": "code",
   "execution_count": null,
   "id": "e73017d0-0c6b-4a01-bef1-2a484a0d1ea9",
   "metadata": {},
   "outputs": [],
   "source": [
    "latent = ex.get_latent()\n",
    "gui.view_bic(latent,\n",
    "             n_components=20,\n",
    "             model_args={'random_state':6, 'init_params':'kmeans'})"
   ]
  },
  {
   "cell_type": "markdown",
   "id": "e483b4e4-c490-4a37-8127-87aa12c93452",
   "metadata": {},
   "source": [
    "# GMM"
   ]
  },
  {
   "cell_type": "code",
   "execution_count": null,
   "id": "cb00f174",
   "metadata": {},
   "outputs": [],
   "source": [
    "latent = ex.get_latent()\n",
    "ps = PixelSegmenter(latent, \n",
    "                    tem.normalised_elemental_data, \n",
    "                    tem,\n",
    "                    method_args={'n_components':19, 'random_state':6, 'init_params':'kmeans'} )\n",
    "                    # can change random_state to different integer i.e. 10 or 0 to adjust the clustering result."
   ]
  },
  {
   "cell_type": "markdown",
   "id": "172c2dbd-9b00-48a5-8875-fbd4bf87145b",
   "metadata": {},
   "source": [
    "# Check latent space"
   ]
  },
  {
   "cell_type": "code",
   "execution_count": null,
   "id": "69d4c524",
   "metadata": {},
   "outputs": [],
   "source": [
    "# Plot latent sapce (2-dimensional) with corresponding Gaussian models\n",
    "gui.view_latent_space(ps, color=True)"
   ]
  },
  {
   "cell_type": "code",
   "execution_count": null,
   "id": "2501e60d",
   "metadata": {},
   "outputs": [],
   "source": [
    "# visualise the latent space\n",
    "gui.check_latent_space(ps,ratio_to_be_shown=0.5, show_map=True)"
   ]
  },
  {
   "cell_type": "code",
   "execution_count": null,
   "id": "18a8b1ac",
   "metadata": {},
   "outputs": [],
   "source": [
    "# check the density of latent space\n",
    "gui.plot_latent_density(ps, bins=50)"
   ]
  },
  {
   "cell_type": "markdown",
   "id": "f8b8e79f-230a-47bc-b860-718a82552a1d",
   "metadata": {},
   "source": [
    "# Check each cluster"
   ]
  },
  {
   "cell_type": "code",
   "execution_count": null,
   "id": "11cc17c5",
   "metadata": {},
   "outputs": [],
   "source": [
    "gui.show_cluster_distribution(ps)"
   ]
  },
  {
   "cell_type": "markdown",
   "id": "fea5cce9-a798-4cbf-9b61-132246d34920",
   "metadata": {},
   "source": [
    "# Phase map\n",
    "Note that the left figure is not BSE image but a sum intensity of edx intensity"
   ]
  },
  {
   "cell_type": "code",
   "execution_count": null,
   "id": "726d9d5d",
   "metadata": {},
   "outputs": [],
   "source": [
    "gui.view_phase_map(ps)"
   ]
  },
  {
   "cell_type": "markdown",
   "id": "2e4e1e54-7739-4a60-91fc-d37b1581a917",
   "metadata": {},
   "source": [
    "# Unmixing cluster spectrums using Non-negative Matrix Fatorization (NMF)"
   ]
  },
  {
   "cell_type": "code",
   "execution_count": null,
   "id": "7ee75c5c",
   "metadata": {},
   "outputs": [],
   "source": [
    "gui.view_clusters_sum_spectra(ps, normalisation=True, spectra_range=(0,8))"
   ]
  },
  {
   "cell_type": "code",
   "execution_count": null,
   "id": "e84a9a69",
   "metadata": {
    "tags": []
   },
   "outputs": [],
   "source": [
    "weights, components = ps.get_unmixed_edx_profile(clusters_to_be_calculated='All', \n",
    "                                                 n_components='All',\n",
    "                                                 normalised=False, \n",
    "                                                 method='NMF', \n",
    "                                                 method_args={'init':'nndsvd'})"
   ]
  },
  {
   "cell_type": "code",
   "execution_count": null,
   "id": "29e623cd",
   "metadata": {},
   "outputs": [],
   "source": [
    "gui.show_unmixed_weights_and_compoments(ps, weights, components)"
   ]
  },
  {
   "cell_type": "code",
   "execution_count": null,
   "id": "66545fd7-8656-46b2-943a-605c8d880256",
   "metadata": {},
   "outputs": [],
   "source": []
  }
 ],
 "metadata": {
  "kernelspec": {
   "display_name": "Python 3",
   "language": "python",
   "name": "python3"
  },
  "language_info": {
   "codemirror_mode": {
    "name": "ipython",
    "version": 3
   },
   "file_extension": ".py",
   "mimetype": "text/x-python",
   "name": "python",
   "nbconvert_exporter": "python",
   "pygments_lexer": "ipython3",
   "version": "3.7.10"
  },
  "vscode": {
   "interpreter": {
    "hash": "fda928b1efcd49c22f58971b5a697bc4d27135dd0d6efd1ff590b22bf90ef37d"
   }
  }
 },
 "nbformat": 4,
 "nbformat_minor": 5
}
