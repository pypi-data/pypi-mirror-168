{
 "cells": [
  {
   "cell_type": "code",
   "execution_count": null,
   "id": "16c5debe-fde0-44d6-9721-7854e03b2272",
   "metadata": {
    "tags": []
   },
   "outputs": [],
   "source": [
    "import sigma\n",
    "from sigma.utils.loadtem import TEMDataset"
   ]
  },
  {
   "cell_type": "markdown",
   "id": "5c7d2a1a-1158-4909-a613-ae912bb383f3",
   "metadata": {},
   "source": [
    "# Load emi/ser files\n",
    "Note that the `.emi` and the corresponding `.ser` files should be place in the same folder, e.g., `test.emi` and `test.ser` should be in the same folder."
   ]
  },
  {
   "cell_type": "code",
   "execution_count": null,
   "id": "be1e0c76-05d1-46ad-9029-540cd70dd385",
   "metadata": {},
   "outputs": [],
   "source": [
    "file_path = '.emi' # file path\n",
    "tem = TEMDataset(file_path)"
   ]
  },
  {
   "cell_type": "markdown",
   "id": "1514a169-c8f6-43c6-9885-58d7ddf2c0b8",
   "metadata": {},
   "source": [
    "# View STEM image"
   ]
  },
  {
   "cell_type": "code",
   "execution_count": null,
   "id": "d5d87b35-801a-4f60-82b5-60ee74401f33",
   "metadata": {},
   "outputs": [],
   "source": [
    "import hyperspy"
   ]
  },
  {
   "cell_type": "code",
   "execution_count": null,
   "id": "07cdf3c6-53e0-4789-82cc-e5cb19ad8476",
   "metadata": {},
   "outputs": [],
   "source": [
    "# plot stem image using hyperspy plot function\n",
    "tem.stem.plot()"
   ]
  },
  {
   "cell_type": "code",
   "execution_count": null,
   "id": "bbf5da58-3586-4099-ab8f-01593ef8cb98",
   "metadata": {},
   "outputs": [],
   "source": [
    "# plot stem image directly using raw data\n",
    "import matplotlib.pyplot as plt\n",
    "\n",
    "stem = tem.stem.data\n",
    "plt.imshow(stem, cmap='gray')\n",
    "plt.axis('off')\n",
    "plt.show()"
   ]
  }
 ],
 "metadata": {
  "kernelspec": {
   "display_name": "Python 3 (ipykernel)",
   "language": "python",
   "name": "python3"
  },
  "language_info": {
   "codemirror_mode": {
    "name": "ipython",
    "version": 3
   },
   "file_extension": ".py",
   "mimetype": "text/x-python",
   "name": "python",
   "nbconvert_exporter": "python",
   "pygments_lexer": "ipython3",
   "version": "3.7.11"
  }
 },
 "nbformat": 4,
 "nbformat_minor": 5
}
