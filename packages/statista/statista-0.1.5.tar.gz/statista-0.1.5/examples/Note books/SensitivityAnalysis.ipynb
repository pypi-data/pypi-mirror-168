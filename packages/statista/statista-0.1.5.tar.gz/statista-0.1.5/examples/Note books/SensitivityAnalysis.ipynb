{
 "cells": [
  {
   "cell_type": "markdown",
   "id": "0dad8c28-e8b5-4436-9ed5-bf4565e58939",
   "metadata": {
    "pycharm": {
     "name": "#%% md\n"
    }
   },
   "source": [
    "# Modules"
   ]
  },
  {
   "cell_type": "code",
   "execution_count": 1,
   "id": "1d24b952-51c1-42ff-93de-3d880dfe1fdb",
   "metadata": {
    "pycharm": {
     "name": "#%%\n"
    }
   },
   "outputs": [],
   "source": [
    "import pandas as pd\n",
    "import Hapi.rrm.hbv_bergestrom92 as HBVLumped\n",
    "from Hapi.run import Run\n",
    "from Hapi.catchment import Catchment\n",
    "from Hapi.rrm.routing import Routing\n",
    "import Hapi.statistics.performancecriteria as PC\n",
    "from Hapi.statistics.sensitivityanalysis import SensitivityAnalysis as SA"
   ]
  },
  {
   "cell_type": "markdown",
   "id": "5b7a2c89-1961-48de-850d-54f167abbf2d",
   "metadata": {
    "pycharm": {
     "name": "#%% md\n"
    }
   },
   "source": [
    "#### Root path to the examples folder"
   ]
  },
  {
   "cell_type": "code",
   "execution_count": 6,
   "id": "56475416-0ac3-4d30-a7cb-9989193f1881",
   "metadata": {
    "pycharm": {
     "name": "#%%\n"
    }
   },
   "outputs": [],
   "source": [
    "Comp = \"F:/01Algorithms/Hydrology/HAPI/Examples\""
   ]
  },
  {
   "cell_type": "markdown",
   "id": "8fb0151a-4ca0-44bc-9ce9-5ddadc888361",
   "metadata": {
    "pycharm": {
     "name": "#%% md\n"
    }
   },
   "source": [
    "### Paths"
   ]
  },
  {
   "cell_type": "code",
   "execution_count": 7,
   "id": "1d1ea596-42e6-4030-a189-1f1f7af43173",
   "metadata": {
    "pycharm": {
     "name": "#%%\n"
    }
   },
   "outputs": [],
   "source": [
    "Parameterpath = Comp + \"/data/lumped/Coello_Lumped2021-03-08_muskingum.txt\"\n",
    "MeteoDataPath = Comp + \"/data/lumped/meteo_data-MSWEP.csv\"\n",
    "Path = Comp + \"/data/lumped/\""
   ]
  },
  {
   "cell_type": "markdown",
   "id": "9064ca54-bff2-4f5c-b719-598ab02b1004",
   "metadata": {
    "pycharm": {
     "name": "#%% md\n"
    }
   },
   "source": [
    "### Model data"
   ]
  },
  {
   "cell_type": "code",
   "execution_count": 10,
   "id": "1bc3575a-de9c-4d84-b544-1b631b7db8b8",
   "metadata": {
    "pycharm": {
     "name": "#%%\n"
    }
   },
   "outputs": [
    {
     "name": "stdout",
     "output_type": "stream",
     "text": [
      "Lumped Model inputs are read successfully\n",
      "Lumped model is read successfully\n",
      "Parameters are read successfully\n"
     ]
    }
   ],
   "source": [
    "### meteorological data\n",
    "start = \"2009-01-01\"\n",
    "end = \"2011-12-31\"\n",
    "name = \"Coello\"\n",
    "Coello = Catchment(name, start, end)\n",
    "Coello.ReadLumpedInputs(MeteoDataPath)\n",
    "\n",
    "### Basic_inputs\n",
    "# catchment area\n",
    "CatArea = 1530\n",
    "# temporal resolution\n",
    "# [Snow pack, Soil moisture, Upper zone, Lower Zone, Water content]\n",
    "InitialCond = [0,10,10,10,0]\n",
    "\n",
    "Coello.ReadLumpedModel(HBVLumped, CatArea, InitialCond)\n",
    "\n",
    "### parameters\n",
    "Snow = 0 # no snow subroutine\n",
    "Coello.ReadParameters(Parameterpath, Snow)\n",
    "\n",
    "parameters = pd.read_csv(Parameterpath, index_col = 0, header = None)\n",
    "parameters.rename(columns={1:'value'}, inplace=True)"
   ]
  },
  {
   "cell_type": "markdown",
   "id": "8ae40d85-8e27-474d-ae4e-35dde4dfafa8",
   "metadata": {
    "pycharm": {
     "name": "#%% md\n"
    }
   },
   "source": [
    "### Parameters Boundaries"
   ]
  },
  {
   "cell_type": "code",
   "execution_count": 12,
   "id": "f23edbc1-59b6-428a-af54-854fa5ebb96d",
   "metadata": {
    "pycharm": {
     "name": "#%%\n"
    }
   },
   "outputs": [
    {
     "name": "stdout",
     "output_type": "stream",
     "text": [
      "Parameters bounds are read successfully\n"
     ]
    }
   ],
   "source": [
    "UB = pd.read_csv(Path + \"/UB-3.txt\", index_col = 0, header = None)\n",
    "parnames = UB.index\n",
    "UB = UB[1].tolist()\n",
    "LB = pd.read_csv(Path + \"/LB-3.txt\", index_col = 0, header = None)\n",
    "LB = LB[1].tolist()\n",
    "Coello.ReadParametersBounds(UB, LB, Snow)"
   ]
  },
  {
   "cell_type": "markdown",
   "id": "e25b5a51-3bb3-479b-8615-a535fc063736",
   "metadata": {
    "pycharm": {
     "name": "#%% md\n"
    }
   },
   "source": [
    "### Observed flow"
   ]
  },
  {
   "cell_type": "code",
   "execution_count": 13,
   "id": "5c1b95e3-13f0-44fd-b009-e293cda30982",
   "metadata": {
    "pycharm": {
     "name": "#%%\n"
    }
   },
   "outputs": [
    {
     "name": "stdout",
     "output_type": "stream",
     "text": [
      "Gauges data are read successfully\n"
     ]
    }
   ],
   "source": [
    "Coello.ReadDischargeGauges(Path + \"Qout_c.csv\", fmt=\"%Y-%m-%d\")\n",
    "### Routing\n",
    "Route=1\n",
    "# RoutingFn=Routing.TriangularRouting2\n",
    "RoutingFn = Routing.Muskingum"
   ]
  },
  {
   "cell_type": "markdown",
   "id": "c4a7f6ab-18f1-4c83-84fe-8ff33e443392",
   "metadata": {
    "pycharm": {
     "name": "#%% md\n"
    }
   },
   "source": [
    "### Run the model"
   ]
  },
  {
   "cell_type": "code",
   "execution_count": 15,
   "id": "a8845a3a-1052-44c2-9d64-b3026dcac682",
   "metadata": {
    "pycharm": {
     "name": "#%%\n"
    }
   },
   "outputs": [
    {
     "name": "stdout",
     "output_type": "stream",
     "text": [
      "Model Run has finished\n"
     ]
    }
   ],
   "source": [
    "Run.RunLumped(Coello, Route, RoutingFn)"
   ]
  },
  {
   "cell_type": "markdown",
   "id": "c8ab81d9-1671-421f-9d97-45a84a837f82",
   "metadata": {
    "pycharm": {
     "name": "#%% md\n"
    }
   },
   "source": [
    "### Performace"
   ]
  },
  {
   "cell_type": "code",
   "execution_count": 16,
   "id": "6b43e8c2-ee0d-4525-9855-b9a0d0a4c866",
   "metadata": {
    "pycharm": {
     "name": "#%%\n"
    }
   },
   "outputs": [
    {
     "name": "stdout",
     "output_type": "stream",
     "text": [
      "RMSE= 26.03\n",
      "NSE= 0.01\n",
      "NSEhf= 0.17\n",
      "KGE= 0.54\n",
      "WB= 96.55\n"
     ]
    }
   ],
   "source": [
    "Metrics = dict()\n",
    "\n",
    "Qobs = Coello.QGauges[Coello.QGauges.columns[0]]\n",
    "\n",
    "Metrics['RMSE'] = PC.RMSE(Qobs, Coello.Qsim['q'])\n",
    "Metrics['NSE'] = PC.NSE(Qobs, Coello.Qsim['q'])\n",
    "Metrics['NSEhf'] = PC.NSEHF(Qobs, Coello.Qsim['q'])\n",
    "Metrics['KGE'] = PC.KGE(Qobs, Coello.Qsim['q'])\n",
    "Metrics['WB'] = PC.WB(Qobs, Coello.Qsim['q'])\n",
    "\n",
    "print(\"RMSE= \" + str(round(Metrics['RMSE'],2)))\n",
    "print(\"NSE= \" + str(round(Metrics['NSE'],2)))\n",
    "print(\"NSEhf= \" + str(round(Metrics['NSEhf'],2)))\n",
    "print(\"KGE= \" + str(round(Metrics['KGE'],2)))\n",
    "print(\"WB= \" + str(round(Metrics['WB'],2)))"
   ]
  },
  {
   "cell_type": "markdown",
   "id": "1e4ca197-7ab3-4e6f-9153-7f3a96b05019",
   "metadata": {
    "pycharm": {
     "name": "#%% md\n"
    }
   },
   "source": [
    "First the SensitivityAnalysis method takes 4 arguments :\n",
    "    1-parameters:previous obtained parameters\n",
    "    2-LB: upper bound\n",
    "    3-UB: lower bound\n",
    "    4-wrapper: defined function contains the function you want to run with different\n",
    "        parameters and the metric function you want to assess the first function\n",
    "        based on it.\n",
    "\n",
    "- Wrapper function definition\n",
    "    define the function to the OAT sesitivity wrapper and put the parameters argument\n",
    "    at the first position, and then list all the other arguments required for your function\n",
    "\n",
    "    the following defined function contains two inner function that calculates discharge\n",
    "    for lumped HBV model and calculates the RMSE of the calculated discharge.\n",
    "\n",
    "    the first function \"RUN.RunLumped\" takes some arguments we need to pass it through\n",
    "    the SensitivityAnalysis method [ConceptualModel,data,p2,init_st,snow,Routing, RoutingFn]\n",
    "    with the same order in the defined function \"wrapper\"\n",
    "\n",
    "    the second function is RMSE takes the calculated discharge from the first function\n",
    "    and measured discharge array\n",
    "\n",
    "    to define the argument of the \"wrapper\" function\n",
    "    1- the random parameters valiable i=of the first function should be the first argument\n",
    "        \"wrapper(Randpar)\"\n",
    "    2- the first function arguments with the same order (except that the parameter\n",
    "            argument is taken out and placed at the first potition step-1)\n",
    "    3- list the argument of the second function with the same order that the second\n",
    "    function takes them\n",
    "\n",
    "SensitivityAnalysis method returns a dictionary with the name of the parameters\n",
    "as keys,\n",
    "Each parameter has a disctionary with two keys 0: list of parameters woth relative values\n",
    "1: list of parameter values\n"
   ]
  },
  {
   "cell_type": "code",
   "execution_count": 18,
   "id": "c67ce8ad-ec1a-439e-a3b6-443b3c73bc73",
   "metadata": {
    "pycharm": {
     "name": "#%%\n"
    }
   },
   "outputs": [],
   "source": [
    "# For Type 1\n",
    "def WrapperType1(Randpar,Route, RoutingFn, Qobs):\n",
    "    Coello.Parameters = Randpar\n",
    "\n",
    "    Run.RunLumped(Coello, Route, RoutingFn)\n",
    "    rmse = PC.RMSE(Qobs, Coello.Qsim['q'])\n",
    "    return rmse\n",
    "\n",
    "# For Type 2\n",
    "def WrapperType2(Randpar,Route, RoutingFn, Qobs):\n",
    "    Coello.Parameters = Randpar\n",
    "\n",
    "    Run.RunLumped(Coello, Route, RoutingFn)\n",
    "    rmse = PC.RMSE(Qobs, Coello.Qsim['q'])\n",
    "    return rmse, Coello.Qsim['q']"
   ]
  },
  {
   "cell_type": "code",
   "execution_count": 22,
   "id": "e92a0378-09b5-40f0-887e-c79e841c08b1",
   "metadata": {
    "pycharm": {
     "name": "#%%\n"
    }
   },
   "outputs": [],
   "source": [
    "Type = 2\n",
    "if Type ==1:\n",
    "    fn = WrapperType1\n",
    "elif Type == 2:\n",
    "    fn = WrapperType2\n",
    "\n",
    "Positions = [10]"
   ]
  },
  {
   "cell_type": "code",
   "execution_count": 20,
   "id": "16f30bd3-dfa6-465a-9588-71f8d82ddc1b",
   "metadata": {
    "pycharm": {
     "name": "#%%\n"
    }
   },
   "outputs": [
    {
     "name": "stdout",
     "output_type": "stream",
     "text": [
      "Model Run has finished\n",
      "10-k -0\n",
      "26.026\n",
      "Model Run has finished\n",
      "10-k -1\n",
      "26.011\n",
      "Model Run has finished\n",
      "10-k -2\n",
      "25.997\n",
      "Model Run has finished\n",
      "10-k -3\n",
      "25.983\n",
      "Model Run has finished\n",
      "10-k -4\n",
      "25.97\n",
      "Model Run has finished\n",
      "10-k -5\n",
      "25.957\n"
     ]
    }
   ],
   "source": [
    "Sen = SA(parameters, Coello.LB, Coello.UB, fn, Positions, 5, Type=Type)\n",
    "Sen.OAT(Route, RoutingFn, Qobs)"
   ]
  },
  {
   "cell_type": "code",
   "execution_count": 21,
   "id": "5ee3134d-ef9c-47bb-9d0f-5154d239917d",
   "metadata": {
    "pycharm": {
     "name": "#%%\n"
    }
   },
   "outputs": [
    {
     "data": {
      "image/png": "[encoded data removed]",
      "text/plain": [
       "<Figure size 576x432 with 2 Axes>"
      ]
     },
     "metadata": {
      "needs_background": "light"
     },
     "output_type": "display_data"
    }
   ],
   "source": [
    "From = ''\n",
    "To = ''\n",
    "if Type ==1:\n",
    "    fig, ax1 = Sen.Sobol(RealValues=False, Title=\"Sensitivity Analysis of the RMSE to models parameters\",\n",
    "              xlabel = \"Maxbas Values\", ylabel=\"RMSE\", From=From, To=To,xlabel2='Time',\n",
    "              ylabel2='Discharge m3/s', spaces=[None,None,None,None,None,None])\n",
    "elif Type ==2:\n",
    "    fig, (ax1,ax2) = Sen.Sobol(RealValues=False, Title=\"Sensitivity Analysis of the RMSE to models parameters\",\n",
    "              xlabel = \"Maxbas Values\", ylabel=\"RMSE\", From=From, To=To,xlabel2='Time',\n",
    "              ylabel2='Discharge m3/s', spaces=[None,None,None,None,None,None])\n",
    "    From = 0\n",
    "    To = len(Qobs.values)\n",
    "    ax2.plot(Qobs.values[From:To], label='Observed', color='red')"
   ]
  }
 ],
 "metadata": {
  "kernelspec": {
   "display_name": "Python 3",
   "language": "python",
   "name": "python3"
  },
  "language_info": {
   "codemirror_mode": {
    "name": "ipython",
    "version": 3
   },
   "file_extension": ".py",
   "mimetype": "text/x-python",
   "name": "python",
   "nbconvert_exporter": "python",
   "pygments_lexer": "ipython3",
   "version": "3.8.10"
  }
 },
 "nbformat": 4,
 "nbformat_minor": 5
}
