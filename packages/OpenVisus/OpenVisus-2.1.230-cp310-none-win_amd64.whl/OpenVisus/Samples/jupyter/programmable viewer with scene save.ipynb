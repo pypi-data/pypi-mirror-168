{
 "cells": [
  {
   "cell_type": "markdown",
   "id": "28013c42",
   "metadata": {},
   "source": [
    "TODO for Pania demo\n",
    "- [ok] open scene and manipulate it\n",
    "- [ok] translate slices\n",
    "- [ok] rotate camera\n",
    "- [ok] take snapshot \n",
    "- [ok] change isovalue\n",
    "- [todo] change slice palette\n",
    "- [todo] change color iso"
   ]
  },
  {
   "cell_type": "code",
   "execution_count": 1,
   "id": "bdc3cd48",
   "metadata": {},
   "outputs": [
    {
     "name": "stdout",
     "output_type": "stream",
     "text": [
      "['PyQt5', 'PyQt5.sip', 'PyQt5.QtCore', 'PyQt5.QtGui', 'PyQt5.QtWidgets']\n",
      "current working directory C:\\projects\\OpenVisus\n",
      "Starting OpenVisus C:\\projects\\OpenVisus\\build\\RelWithDebInfo\\OpenVisus\\__init__.py 3.9.11 (tags/v3.9.11:2de452f, Mar 16 2022, 14:33:45) [MSC v.1929 64 bit (AMD64)] sys.version_info(major=3, minor=9, micro=11, releaselevel='final', serial=0) ...\n",
      "QT_PLUGIN_PATH C:\\Python39\\lib\\site-packages\\PyQt5\\Qt5/plugins\n"
     ]
    }
   ],
   "source": [
    "import os,sys,pickle,random,threading,time\n",
    "import platform,subprocess,glob,datetime\n",
    "import numpy as np\n",
    "from PyQt5 import QtCore\n",
    "from PyQt5 import QtWidgets\n",
    "import sip\n",
    "\n",
    "# this is needed to run the Qt5 loop in the background \n",
    "# see http://localhost:8888/notebooks/VisibleMale.ipynb#\n",
    "%gui qt\n",
    "%matplotlib qt\n",
    "print([it for it in sys.modules.keys() if \"pyqt\" in it.lower()])\n",
    "\n",
    "# in case you are in debug mode\n",
    "sys.path.append(r\"C:\\projects\\OpenVisus\\build\\RelWithDebInfo\")\n",
    "\n",
    "# change working directory as needed\n",
    "os.chdir(r\"C:\\projects\\OpenVisus\")\n",
    "print(\"current working directory\",os.getcwd())\n",
    "\n",
    "from OpenVisus                        import *\n",
    "from OpenVisus.gui                    import *\n",
    "from OpenVisus.image_utils            import *\n",
    "\n",
    "# use this function to create a Viewer, solves the problem of window not raising\n",
    "viewer=None\n",
    "def CreateViewer():\n",
    "    global viewer\n",
    "    \n",
    "    if viewer is not None:\n",
    "        del viewer\n",
    "    \n",
    "    viewer=PyViewer()\n",
    "    viewer_py=sip.wrapinstance(FromCppQtWidget(viewer.c_ptr()), QMainWindow)\n",
    "    viewer_py.setVisible(True)\n",
    "    viewer_py.show()\n",
    "    viewer_py.setFocus()\n",
    "    viewer_py.showMaximized()\n",
    "    viewer_py.activateWindow()\n",
    "    print(time.time(),\"Viewer created\")\n",
    "    return viewer"
   ]
  },
  {
   "cell_type": "code",
   "execution_count": 2,
   "id": "8ee63f26",
   "metadata": {},
   "outputs": [],
   "source": [
    "# do not change this cell for very good reasons (otherwise Qt5 loop won't work)\n",
    "# this is needed to run the Qt5 loop in the background \n",
    "# see http://localhost:8888/notebooks/VisibleMale.ipynb#\n",
    "import time\n",
    "time.sleep(2)"
   ]
  },
  {
   "cell_type": "markdown",
   "id": "0380b47a",
   "metadata": {},
   "source": [
    "Define some utilities to perform viewer animations"
   ]
  },
  {
   "cell_type": "code",
   "execution_count": 6,
   "id": "157509d8",
   "metadata": {},
   "outputs": [
    {
     "name": "stdout",
     "output_type": "stream",
     "text": [
      "1663708106.5612545 Utilities defined\n"
     ]
    }
   ],
   "source": [
    "# //////////////////////////////////////////////////////////////\n",
    "\"\"\"\n",
    "RunActions is needed to schedule actions and execute them as soon as the viewer is idle\n",
    "Example:\n",
    "\n",
    "    run_actions.addAction(fn,arg=0)\n",
    "\n",
    "will run later.\n",
    "If you want to execute an immediate action:\n",
    "\n",
    "    fn(arg)\n",
    "\n",
    "\"\"\"\n",
    "class RunActions:\n",
    "    \n",
    "    def __init__(self):\n",
    "        self.v=[]\n",
    "        self.cursor=0\n",
    "        self.timer=QtCore.QTimer()\n",
    "        self.timer.timeout.connect(self.onTimer)\n",
    "  \n",
    "    def addAction(self, fn,**kwargs):\n",
    "        self.v.append(lambda : fn(**kwargs))\n",
    "        \n",
    "    def addSleep(self,msec):\n",
    "        self.v.append(msec)\n",
    "        \n",
    "    def onTimer(self):\n",
    "        \n",
    "        # if the last action was an action and the viewer is still running, I need to wait\n",
    "        if self.cursor>0 and callable(self.v[self.cursor-1]) and viewer.isRunning():\n",
    "            return\n",
    "        \n",
    "        if self.cursor>= len(self.v):\n",
    "            return\n",
    "        \n",
    "        cur=self.v[self.cursor]\n",
    "        self.cursor+=1\n",
    "        \n",
    "        # is a delay?\n",
    "        if isinstance(cur,int):\n",
    "            print(\"*** Sleep\",cur)\n",
    "            self.timer.start(cur) \n",
    "            \n",
    "        # is a real action, run it and later wait for completition\n",
    "        elif callable(cur):\n",
    "            cur()\n",
    "            self.timer.start(20) \n",
    "            \n",
    "        # there must be a problem\n",
    "        else:\n",
    "            raise Exception(\"internal error\")\n",
    "   \n",
    "    def start(self): \n",
    "        print(\"RunAction started\")\n",
    "        self.timer.start(1) \n",
    "        \n",
    "    def stop(self):\n",
    "        print(\"RunAction stopped\")\n",
    "        self.timer.stop()\n",
    "        \n",
    "        \n",
    "def RotateScene(axis=(0,0,1),angle=10):\n",
    "    print(\"*** RotateScene\",axis,angle)\n",
    "    glcamera=viewer.getGLCamera()\n",
    "    viewer.getGLCamera().setRotation(glcamera.getRotation() * Quaternion(Point3d(axis),math.radians(angle)))\n",
    "    viewer.refreshAll()\n",
    "    viewer.postRedisplay()\n",
    "    \n",
    "\n",
    "    \n",
    "def TakeSnapshot(filename=\"temp.png\",):\n",
    "    print(\"*** TakeSnapshotAction\",filename)  \n",
    "    # viewer.takeSnapshot(False,filename) BROKEN\n",
    "    viewer_py=sip.wrapinstance(FromCppQtWidget(viewer.c_ptr()), QMainWindow)\n",
    "    screenshot = QtWidgets.QApplication.primaryScreen().grabWindow(viewer_py.winId() )\n",
    "    screenshot.save(filename)\n",
    "    \n",
    "def OpenScene(filename=\"\"):\n",
    "    print(\"*** OpenScene\",filename)\n",
    "    viewer.open(filename)\n",
    "    \n",
    "def DropSelection():\n",
    "    print(\"*** DropSelection\")\n",
    "    viewer.dropSelection()\n",
    "    \n",
    "def HideDatasetBounds(uuid=\"dataset\"):\n",
    "    print(\"*** HideDatasetBounds\",uuid)\n",
    "    # **** make sure that the dataset node has UUID `dataset` (you can save an xml and inspect it) ***\n",
    "    dataset_node=DatasetNode.castFrom(viewer.findNodeByUUID(uuid))\n",
    "    if dataset_node:\n",
    "        dataset_node.setShowBounds(False)\n",
    "    else:\n",
    "        print(\"Failed to find a node with uuid\",uuid)\n",
    "      \n",
    "def TranslateSlice(slice=None,axis=0,offset=0):\n",
    "    viewer.setSlicePosition(slice, axis, offset)\n",
    "\n",
    "# run_actions.addAction(TakeSnapshot,filename=\"example.png\")\n",
    "# TakeSnapshot(filename=\"example.png\")\n",
    "    \n",
    "print(time.time(),\"Utilities defined\")"
   ]
  },
  {
   "cell_type": "code",
   "execution_count": 4,
   "id": "9b64708f",
   "metadata": {},
   "outputs": [
    {
     "name": "stdout",
     "output_type": "stream",
     "text": [
      "1663708041.9437466 Viewer created\n"
     ]
    }
   ],
   "source": [
    "# important to create the viewer in a different cell otherwise it won't get the focus\n",
    "viewer=CreateViewer()"
   ]
  },
  {
   "cell_type": "code",
   "execution_count": 5,
   "id": "ed2a21ff",
   "metadata": {},
   "outputs": [
    {
     "name": "stdout",
     "output_type": "stream",
     "text": [
      "RunAction started\n",
      "1663708046.3860872 OpenScene\n",
      "*** OpenScene C:\\data\\visus-datasets\\Pania_2021Q3_in_situ_data\\idx\\fly_scan_id_112524.h5\\segmentations\\modvisus\\visus.idx\n",
      "2022-09-20 15:07:26.507512 PyScriptingNode Got in input (34, 32, 63) uint8 origin Volume \n",
      "2022-09-20 15:07:26.507512 PyScriptingNode Output is  (34, 32, 63) uint8 msec 0 \n"
     ]
    }
   ],
   "source": [
    "run_actions=RunActions()\n",
    "run_actions.start()\n",
    "run_actions.addAction(OpenScene,filename=r\"C:\\data\\visus-datasets\\Pania_2021Q3_in_situ_data\\idx\\fly_scan_id_112524.h5\\segmentations\\modvisus\\visus.idx\")\n",
    "\n",
    "# default for addXXX functions\n",
    "parent=None\n",
    "fieldname=\"\"\n",
    "access_id=0\n",
    "\n",
    "print(time.time(),\"OpenScene\")"
   ]
  },
  {
   "cell_type": "code",
   "execution_count": 6,
   "id": "0a6a8856",
   "metadata": {},
   "outputs": [],
   "source": [
    "# uncomment as needed\n",
    "# run_actions.addAction(DropSelection)\n",
    "# run_actions.addAction(HideDatasetBounds,uuid=\"dataset\")"
   ]
  },
  {
   "cell_type": "code",
   "execution_count": 7,
   "id": "8e33fb25",
   "metadata": {},
   "outputs": [],
   "source": [
    "# remove default renderer\n",
    "viewer.removeNode(\"volume\")"
   ]
  },
  {
   "cell_type": "code",
   "execution_count": 8,
   "id": "45c2b332",
   "metadata": {},
   "outputs": [
    {
     "name": "stdout",
     "output_type": "stream",
     "text": [
      "2022-09-20 15:02:07.016044 PyScriptingNode Got in input (34, 32, 63) uint8 origin volume \n",
      "2022-09-20 15:02:07.017798 PyScriptingNode Output is  (34, 32, 63) uint8 msec 1 \n"
     ]
    }
   ],
   "source": [
    "# add volume render\n",
    "volume=viewer.addVolume(\"volume\", parent, fieldname, access_id)\n",
    "volume.setName(\"volume\")"
   ]
  },
  {
   "cell_type": "code",
   "execution_count": 7,
   "id": "5dc286fa",
   "metadata": {},
   "outputs": [
    {
     "name": "stdout",
     "output_type": "stream",
     "text": [
      "2022-09-20 15:08:37.762501 PyScriptingNode Got in input (1, 36, 37) uint8 origin xslice \n",
      "2022-09-20 15:08:37.764578 PyScriptingNode Output is  (1, 36, 37) uint8 msec 2 \n"
     ]
    }
   ],
   "source": [
    "# X slice\n",
    "xslice=viewer.addSlice(\"xslice\", None, fieldname, access_id, 0)\n",
    "xslice.setName(\"xslice\")\n",
    "viewer.setSlicePosition(xslice, 0, 200)"
   ]
  },
  {
   "cell_type": "code",
   "execution_count": 10,
   "id": "afffa346",
   "metadata": {},
   "outputs": [
    {
     "name": "stdout",
     "output_type": "stream",
     "text": [
      "2022-09-20 15:02:15.641169 PyScriptingNode Got in input (1, 37, 36) uint8 origin yslice \n",
      "2022-09-20 15:02:15.642125 PyScriptingNode Output is  (1, 37, 36) uint8 msec 1 \n"
     ]
    }
   ],
   "source": [
    "# y slice\n",
    "yslice=viewer.addSlice(\"yslice\", None, fieldname, access_id, 1)\n",
    "yslice.setName(\"yslice\")\n",
    "viewer.setSlicePosition(yslice, 1, 200)"
   ]
  },
  {
   "cell_type": "code",
   "execution_count": 11,
   "id": "7c8f9c19",
   "metadata": {},
   "outputs": [
    {
     "name": "stdout",
     "output_type": "stream",
     "text": [
      "2022-09-20 15:02:20.073518 PyScriptingNode Got in input (1, 36, 36) uint8 origin zslice \n",
      "2022-09-20 15:02:20.074729 PyScriptingNode Output is  (1, 36, 36) uint8 msec 2 \n"
     ]
    }
   ],
   "source": [
    "# z slice\n",
    "zslice=viewer.addSlice(\"zslice\", None, fieldname, access_id, 2)\n",
    "zslice.setName(\"zslice\")\n",
    "viewer.setSlicePosition(zslice, 2, 200)"
   ]
  },
  {
   "cell_type": "code",
   "execution_count": 13,
   "id": "c9d73994",
   "metadata": {},
   "outputs": [],
   "source": [
    "#viewer.removeNode(\"xslice\")\n",
    "#viewer.removeNode(\"yslice\")\n",
    "#viewer.removeNode(\"zslice\")\n",
    "#viewer.removeNode(\"volume\")"
   ]
  },
  {
   "cell_type": "code",
   "execution_count": 14,
   "id": "ebbd5a1b",
   "metadata": {},
   "outputs": [
    {
     "name": "stdout",
     "output_type": "stream",
     "text": [
      "2022-09-20 15:03:17.632446 PyScriptingNode Got in input (68, 63, 125) uint8 origin iso \n",
      "2022-09-20 15:03:17.634858 PyScriptingNode Output is  (68, 63, 125) uint8 msec 2 \n"
     ]
    }
   ],
   "source": [
    "# add isosurface\n",
    "isovalue=100\n",
    "iso=viewer.addIsoContour(\"iso\", parent, fieldname, access_id, str(isovalue))\n",
    "iso.setName(\"iso\")\n",
    "\n",
    "# if you later want to remove it\n",
    "# viewer.removeNode(\"iso\")"
   ]
  },
  {
   "cell_type": "code",
   "execution_count": 15,
   "id": "5049a888",
   "metadata": {},
   "outputs": [
    {
     "name": "stdout",
     "output_type": "stream",
     "text": [
      "New isovalue 200.0\n"
     ]
    }
   ],
   "source": [
    "# change isovalue\n",
    "dataflow=viewer.getDataflow()\n",
    "v=[IsoContourNode.castFrom(it) for it in dataflow.getNodesAsVector() if IsoContourNode.castFrom(it)]\n",
    "v[0].setIsoValue(200)\n",
    "print(\"New isovalue\",v[0].getIsoValue())"
   ]
  },
  {
   "cell_type": "code",
   "execution_count": 8,
   "id": "b83413cf",
   "metadata": {},
   "outputs": [
    {
     "name": "stdout",
     "output_type": "stream",
     "text": [
      "*** RotateScene (0, 0, 1) 10\n",
      "2022-09-20 15:09:46.322612 PyScriptingNode Got in input (1, 1, 33) uint8 origin xslice \n",
      "2022-09-20 15:09:46.323009 PyScriptingNode Output is  (1, 1, 33) uint8 msec 1 \n",
      "2022-09-20 15:09:46.323282 PyScriptingNode Got in input (34, 32, 63) uint8 origin Volume \n",
      "2022-09-20 15:09:46.323282 PyScriptingNode Output is  (34, 32, 63) uint8 msec 0 \n",
      "*** TakeSnapshotAction C:\\projects\\OpenVisus\\snapshot.000.png\n",
      "*** Sleep 50\n",
      "*** RotateScene (0, 0, 1) 10\n",
      "2022-09-20 15:09:46.636289 PyScriptingNode Got in input (34, 32, 63) uint8 origin Volume \n",
      "2022-09-20 15:09:46.636289 PyScriptingNode Output is  (34, 32, 63) uint8 msec 0 \n",
      "2022-09-20 15:09:46.636289 PyScriptingNode Got in input (1, 40, 36) uint8 origin xslice \n",
      "2022-09-20 15:09:46.636872 PyScriptingNode Output is  (1, 40, 36) uint8 msec 1 \n",
      "*** TakeSnapshotAction C:\\projects\\OpenVisus\\snapshot.001.png\n",
      "*** Sleep 50\n",
      "*** RotateScene (0, 0, 1) 10\n",
      "2022-09-20 15:09:46.889934 PyScriptingNode Got in input (1, 41, 36) uint8 origin xslice \n",
      "2022-09-20 15:09:46.890310 PyScriptingNode Output is  (1, 41, 36) uint8 msec 0 \n",
      "2022-09-20 15:09:46.890508 PyScriptingNode Got in input (34, 32, 63) uint8 origin Volume \n",
      "2022-09-20 15:09:46.890508 PyScriptingNode Output is  (34, 32, 63) uint8 msec 0 \n",
      "*** TakeSnapshotAction C:\\projects\\OpenVisus\\snapshot.002.png\n",
      "2022-09-20 15:09:47.074405 PyScriptingNode Got in input (1, 42, 36) uint8 origin xslice \n",
      "2022-09-20 15:09:47.074618 PyScriptingNode Output is  (1, 42, 36) uint8 msec 0 \n",
      "*** Sleep 50\n",
      "*** RotateScene (0, 0, 1) 10\n",
      "2022-09-20 15:09:47.269490 PyScriptingNode Got in input (1, 42, 36) uint8 origin xslice \n",
      "2022-09-20 15:09:47.269490 PyScriptingNode Output is  (1, 42, 36) uint8 msec 0 \n",
      "2022-09-20 15:09:47.269818 PyScriptingNode Got in input (34, 32, 63) uint8 origin Volume \n",
      "2022-09-20 15:09:47.269818 PyScriptingNode Output is  (34, 32, 63) uint8 msec 0 \n",
      "*** TakeSnapshotAction C:\\projects\\OpenVisus\\snapshot.003.png\n",
      "2022-09-20 15:09:47.453960 PyScriptingNode Got in input (1, 43, 36) uint8 origin xslice \n",
      "2022-09-20 15:09:47.456309 PyScriptingNode Output is  (1, 43, 36) uint8 msec 2 \n",
      "*** Sleep 50\n",
      "*** RotateScene (0, 0, 1) 10\n",
      "2022-09-20 15:09:47.640721 PyScriptingNode Got in input (1, 43, 36) uint8 origin xslice \n",
      "2022-09-20 15:09:47.640721 PyScriptingNode Output is  (1, 43, 36) uint8 msec 1 \n",
      "2022-09-20 15:09:47.641562 PyScriptingNode Got in input (34, 32, 63) uint8 origin Volume \n",
      "2022-09-20 15:09:47.641562 PyScriptingNode Output is  (34, 32, 63) uint8 msec 0 \n",
      "*** TakeSnapshotAction C:\\projects\\OpenVisus\\snapshot.004.png\n",
      "2022-09-20 15:09:47.823873 PyScriptingNode Got in input (1, 43, 36) uint8 origin xslice \n",
      "2022-09-20 15:09:47.823873 PyScriptingNode Output is  (1, 43, 36) uint8 msec 1 \n",
      "*** Sleep 50\n",
      "*** RotateScene (0, 0, 1) 10\n",
      "2022-09-20 15:09:48.010882 PyScriptingNode Got in input (1, 43, 36) uint8 origin xslice \n",
      "2022-09-20 15:09:48.011306 PyScriptingNode Got in input (34, 32, 63) uint8 origin Volume \n",
      "2022-09-20 15:09:48.011632 PyScriptingNode Output is  (34, 32, 63) uint8 msec 0 \n",
      "2022-09-20 15:09:48.011632 PyScriptingNode Output is  (1, 43, 36) uint8 msec 0 \n",
      "*** TakeSnapshotAction C:\\projects\\OpenVisus\\snapshot.005.png\n",
      "2022-09-20 15:09:48.197830 PyScriptingNode Got in input (1, 43, 36) uint8 origin xslice \n",
      "2022-09-20 15:09:48.200061 PyScriptingNode Output is  (1, 43, 36) uint8 msec 3 \n",
      "*** Sleep 50\n",
      "*** RotateScene (0, 0, 1) 10\n",
      "2022-09-20 15:09:48.445161 PyScriptingNode Got in input (1, 42, 37) uint8 origin xslice \n",
      "2022-09-20 15:09:48.447136 PyScriptingNode Output is  (1, 42, 37) uint8 msec 2 \n",
      "2022-09-20 15:09:48.447329 PyScriptingNode Got in input (34, 32, 63) uint8 origin Volume \n",
      "2022-09-20 15:09:48.447329 PyScriptingNode Output is  (34, 32, 63) uint8 msec 0 \n",
      "*** TakeSnapshotAction C:\\projects\\OpenVisus\\snapshot.006.png\n",
      "*** Sleep 50\n",
      "*** RotateScene (0, 0, 1) 10\n",
      "2022-09-20 15:09:48.707068 PyScriptingNode Got in input (1, 39, 37) uint8 origin xslice \n",
      "2022-09-20 15:09:48.709909 PyScriptingNode Output is  (1, 39, 37) uint8 msec 2 \n",
      "2022-09-20 15:09:48.710504 PyScriptingNode Got in input (34, 32, 63) uint8 origin Volume \n",
      "2022-09-20 15:09:48.710707 PyScriptingNode Output is  (34, 32, 63) uint8 msec 0 \n",
      "*** TakeSnapshotAction C:\\projects\\OpenVisus\\snapshot.007.png\n",
      "2022-09-20 15:09:48.891878 PyScriptingNode Got in input (1, 40, 37) uint8 origin xslice \n",
      "2022-09-20 15:09:48.892167 PyScriptingNode Output is  (1, 40, 37) uint8 msec 1 \n",
      "*** Sleep 50\n",
      "*** RotateScene (0, 0, 1) 10\n",
      "2022-09-20 15:09:49.077253 PyScriptingNode Got in input (1, 37, 38) uint8 origin xslice \n",
      "2022-09-20 15:09:49.077253 PyScriptingNode Output is  (1, 37, 38) uint8 msec 0 \n",
      "2022-09-20 15:09:49.077253 PyScriptingNode Got in input (34, 32, 63) uint8 origin Volume \n",
      "2022-09-20 15:09:49.078268 PyScriptingNode Output is  (34, 32, 63) uint8 msec 0 \n",
      "*** TakeSnapshotAction C:\\projects\\OpenVisus\\snapshot.008.png\n",
      "2022-09-20 15:09:49.260492 PyScriptingNode Got in input (1, 37, 38) uint8 origin xslice \n",
      "2022-09-20 15:09:49.260666 PyScriptingNode Output is  (1, 37, 38) uint8 msec 0 \n",
      "*** Sleep 50\n",
      "*** RotateScene (0, 0, 1) 10\n",
      "2022-09-20 15:09:49.448287 PyScriptingNode Got in input (34, 32, 63) uint8 origin Volume \n",
      "2022-09-20 15:09:49.448948 PyScriptingNode Output is  (34, 32, 63) uint8 msec 1 \n",
      "2022-09-20 15:09:49.449193 PyScriptingNode Got in input (1, 33, 38) uint8 origin xslice \n",
      "2022-09-20 15:09:49.449193 PyScriptingNode Output is  (1, 33, 38) uint8 msec 1 \n",
      "*** TakeSnapshotAction C:\\projects\\OpenVisus\\snapshot.009.png\n",
      "2022-09-20 15:09:49.642146 PyScriptingNode Got in input (1, 33, 38) uint8 origin xslice \n",
      "2022-09-20 15:09:49.644587 PyScriptingNode Output is  (1, 33, 38) uint8 msec 2 \n",
      "*** Sleep 50\n"
     ]
    }
   ],
   "source": [
    "# example of rotation of the scene of 360 degrees\n",
    "for I in range(10):\n",
    "    run_actions.addAction(RotateScene,axis=(0,0,1),angle=10)\n",
    "    run_actions.addAction(TranslateSlice,slice=xslice,axis=0,offset=I*100)\n",
    "    run_actions.addAction(TakeSnapshot,filename=os.path.join(os.getcwd(),f\"snapshot.{I:03d}.png\"))\n",
    "    # important to sleep, otherwise take snapshot will not work (I know it makes no sense)\n",
    "    run_actions.addSleep(50)"
   ]
  },
  {
   "cell_type": "code",
   "execution_count": null,
   "id": "e3747dbe",
   "metadata": {},
   "outputs": [],
   "source": [
    "# you may want to create several scenes and play\n",
    "if False:\n",
    "    snapshots=sorted(glob.glob(r\"D:\\visus_demo\\viewer_control_from_jupyter\\honeycomb1\\visusviewer.snapshot*xml\"))\n",
    "\n",
    "    run_actions.stop()\n",
    "    \n",
    "    # limit for debugging...\n",
    "    snapshots=snapshots[:2] \n",
    "\n",
    "    for I,snapshot in enumerate(snapshots):\n",
    "        print(\"\\t\",I,snapshot)\n",
    "        run_actions.addAction(OpenScene,filename=snapshot)\n",
    "        run_actions.addAction(DropSelection)\n",
    "        run_actions.addAction(HideDatasetBounds,uuid=\"dataset\")\n",
    "        run_actions.addAction(TakeSnapshot,filename=os.path.splitext(snapshot)[0] + \".png\")\n",
    "\n",
    "        # you can add some sleep between actions but it's not stricly necessary:\n",
    "        # RunActions waits for the viewer to become idle\n",
    "        run_actions.addSleep(10) \n",
    "\n",
    "    run_actions.start()"
   ]
  }
 ],
 "metadata": {
  "kernelspec": {
   "display_name": "Python 3 (ipykernel)",
   "language": "python",
   "name": "python3"
  },
  "language_info": {
   "codemirror_mode": {
    "name": "ipython",
    "version": 3
   },
   "file_extension": ".py",
   "mimetype": "text/x-python",
   "name": "python",
   "nbconvert_exporter": "python",
   "pygments_lexer": "ipython3",
   "version": "3.9.11"
  }
 },
 "nbformat": 4,
 "nbformat_minor": 5
}
