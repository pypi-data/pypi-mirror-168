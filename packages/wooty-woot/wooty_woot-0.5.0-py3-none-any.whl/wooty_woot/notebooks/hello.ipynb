{
 "cells": [
  {
   "cell_type": "markdown",
   "id": "4a0f95a5-b33c-4bb4-954c-5421214c11ad",
   "metadata": {},
   "source": [
    "# Hello World! "
   ]
  },
  {
   "cell_type": "code",
   "execution_count": null,
   "id": "66df3101-cd39-4cb7-8036-c6e9c4251949",
   "metadata": {},
   "outputs": [],
   "source": [
    "print(\"Hello world!\")"
   ]
  }
 ],
 "metadata": {
  "kernelspec": {
   "display_name": "Python 3 (ipykernel)",
   "language": "python",
   "name": "python3"
  },
  "language_info": {
   "codemirror_mode": {
    "name": "ipython",
    "version": 3
   },
   "file_extension": ".py",
   "mimetype": "text/x-python",
   "name": "python",
   "nbconvert_exporter": "python",
   "pygments_lexer": "ipython3",
   "version": "3.10.6"
  }
 },
 "nbformat": 4,
 "nbformat_minor": 5
}
