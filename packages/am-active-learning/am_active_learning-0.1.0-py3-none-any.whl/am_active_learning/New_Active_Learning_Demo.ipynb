{
 "cells": [
  {
   "cell_type": "code",
   "execution_count": 1,
   "id": "ff902b0d",
   "metadata": {},
   "outputs": [],
   "source": [
    "%load_ext autoreload\n",
    "%autoreload 2"
   ]
  },
  {
   "cell_type": "code",
   "execution_count": 2,
   "metadata": {},
   "outputs": [
    {
     "name": "stderr",
     "output_type": "stream",
     "text": [
      "/home/ayush/AM_Active_Learning/.venv/lib/python3.8/site-packages/tqdm/auto.py:22: TqdmWarning: IProgress not found. Please update jupyter and ipywidgets. See https://ipywidgets.readthedocs.io/en/stable/user_install.html\n",
      "  from .autonotebook import tqdm as notebook_tqdm\n"
     ]
    }
   ],
   "source": [
    "import pandas as pd\n",
    "from itertools import combinations\n",
    "import data_tools\n",
    "from data_tools import Property, qNEHVI\n",
    "import numpy as np\n",
    "from sklearn.preprocessing import MinMaxScaler"
   ]
  },
  {
   "cell_type": "code",
   "execution_count": 3,
   "id": "a33f3270",
   "metadata": {},
   "outputs": [
    {
     "name": "stderr",
     "output_type": "stream",
     "text": [
      "/home/ayush/AM_Active_Learning/data_tools/qNEHVI.py:132: FutureWarning: In a future version of pandas all arguments of DataFrame.dropna will be keyword-only.\n",
      "  data_frame = data_frame.dropna(0)\n"
     ]
    },
    {
     "name": "stdout",
     "output_type": "stream",
     "text": [
      "tensor([0.0206, 0.0381, 3.4493, 5.0000], device='cuda:0', dtype=torch.float64)\n"
     ]
    }
   ],
   "source": [
    "AL_loop = qNEHVI.Active_Learning_Loop('designchart-simplified.xlsx', ['IDA', 'IBOA', 'PEGDA'], ['Young Mod', 'Peak Stress', 'Peak Strain', 'Hardness'], ['max', 'max', 'min', 'max'])"
   ]
  },
  {
   "cell_type": "code",
   "execution_count": 5,
   "id": "0dbd536b",
   "metadata": {},
   "outputs": [
    {
     "name": "stderr",
     "output_type": "stream",
     "text": [
      "/home/ayush/AM_Active_Learning/data_tools/qNEHVI.py:46: UserWarning: To copy construct from a tensor, it is recommended to use sourceTensor.clone().detach() or sourceTensor.clone().detach().requires_grad_(True), rather than torch.tensor(sourceTensor).\n",
      "  y_bounds = torch.cat([torch.tensor([[0]*4], **tkwargs), torch.tensor(self.train_y.max(axis = 0)[0].clone().detach(), **tkwargs).view(1,-1)])\n"
     ]
    },
    {
     "name": "stdout",
     "output_type": "stream",
     "text": [
      "tensor([[2.0571e-02, 3.8143e-02, 1.7429e-02, 5.0000e+00],\n",
      "        [1.8700e+03, 3.8883e+01, 3.4493e+00, 9.3300e+01]], device='cuda:0',\n",
      "       dtype=torch.float64)\n",
      "0.0\n",
      "Optimization terminated successfully    (Exit mode 0)\n",
      "            Current function value: 0.0\n",
      "            Iterations: 1\n",
      "            Function evaluations: 1\n",
      "            Gradient evaluations: 1\n",
      "Optimization terminated successfully    (Exit mode 0)\n",
      "            Current function value: 0.0\n",
      "            Iterations: 1\n",
      "            Function evaluations: 1\n",
      "            Gradient evaluations: 1\n"
     ]
    }
   ],
   "source": [
    "df_1, df_2 = AL_loop.run_Loop()"
   ]
  },
  {
   "cell_type": "code",
   "execution_count": 6,
   "id": "95acee80",
   "metadata": {},
   "outputs": [
    {
     "data": {
      "text/html": [
       "<div>\n",
       "<style scoped>\n",
       "    .dataframe tbody tr th:only-of-type {\n",
       "        vertical-align: middle;\n",
       "    }\n",
       "\n",
       "    .dataframe tbody tr th {\n",
       "        vertical-align: top;\n",
       "    }\n",
       "\n",
       "    .dataframe thead th {\n",
       "        text-align: right;\n",
       "    }\n",
       "</style>\n",
       "<table border=\"1\" class=\"dataframe\">\n",
       "  <thead>\n",
       "    <tr style=\"text-align: right;\">\n",
       "      <th></th>\n",
       "      <th>IDA</th>\n",
       "      <th>IBOA</th>\n",
       "      <th>PEGDA</th>\n",
       "      <th>Hardness</th>\n",
       "      <th>Hardness_stdev</th>\n",
       "      <th>Peak Strain</th>\n",
       "      <th>Peak Strain_stdev</th>\n",
       "      <th>Peak Stress</th>\n",
       "      <th>Peak Stress_stdev</th>\n",
       "      <th>Young Mod</th>\n",
       "      <th>Young Mod_stdev</th>\n",
       "    </tr>\n",
       "  </thead>\n",
       "  <tbody>\n",
       "    <tr>\n",
       "      <th>0</th>\n",
       "      <td>0.736</td>\n",
       "      <td>0.000</td>\n",
       "      <td>0.264</td>\n",
       "      <td>48.155425</td>\n",
       "      <td>5.849577</td>\n",
       "      <td>0.237771</td>\n",
       "      <td>0.028985</td>\n",
       "      <td>0.331876</td>\n",
       "      <td>0.088084</td>\n",
       "      <td>4.662352</td>\n",
       "      <td>0.617402</td>\n",
       "    </tr>\n",
       "    <tr>\n",
       "      <th>1</th>\n",
       "      <td>0.000</td>\n",
       "      <td>0.926</td>\n",
       "      <td>0.074</td>\n",
       "      <td>85.529315</td>\n",
       "      <td>6.326735</td>\n",
       "      <td>0.051455</td>\n",
       "      <td>0.022358</td>\n",
       "      <td>8.848054</td>\n",
       "      <td>0.473516</td>\n",
       "      <td>652.014064</td>\n",
       "      <td>31.390965</td>\n",
       "    </tr>\n",
       "    <tr>\n",
       "      <th>2</th>\n",
       "      <td>0.419</td>\n",
       "      <td>0.190</td>\n",
       "      <td>0.392</td>\n",
       "      <td>75.065511</td>\n",
       "      <td>6.023774</td>\n",
       "      <td>0.232140</td>\n",
       "      <td>0.046968</td>\n",
       "      <td>5.958411</td>\n",
       "      <td>0.479542</td>\n",
       "      <td>301.092202</td>\n",
       "      <td>15.990873</td>\n",
       "    </tr>\n",
       "    <tr>\n",
       "      <th>3</th>\n",
       "      <td>0.080</td>\n",
       "      <td>0.523</td>\n",
       "      <td>0.397</td>\n",
       "      <td>88.611980</td>\n",
       "      <td>5.627527</td>\n",
       "      <td>0.129338</td>\n",
       "      <td>0.026813</td>\n",
       "      <td>19.763093</td>\n",
       "      <td>0.782097</td>\n",
       "      <td>1294.864413</td>\n",
       "      <td>20.169037</td>\n",
       "    </tr>\n",
       "    <tr>\n",
       "      <th>4</th>\n",
       "      <td>0.000</td>\n",
       "      <td>0.840</td>\n",
       "      <td>0.160</td>\n",
       "      <td>86.662365</td>\n",
       "      <td>5.979441</td>\n",
       "      <td>0.057361</td>\n",
       "      <td>0.023628</td>\n",
       "      <td>12.205863</td>\n",
       "      <td>0.545573</td>\n",
       "      <td>860.712004</td>\n",
       "      <td>28.180470</td>\n",
       "    </tr>\n",
       "  </tbody>\n",
       "</table>\n",
       "</div>"
      ],
      "text/plain": [
       "     IDA   IBOA  PEGDA   Hardness  Hardness_stdev  Peak Strain  \\\n",
       "0  0.736  0.000  0.264  48.155425        5.849577     0.237771   \n",
       "1  0.000  0.926  0.074  85.529315        6.326735     0.051455   \n",
       "2  0.419  0.190  0.392  75.065511        6.023774     0.232140   \n",
       "3  0.080  0.523  0.397  88.611980        5.627527     0.129338   \n",
       "4  0.000  0.840  0.160  86.662365        5.979441     0.057361   \n",
       "\n",
       "   Peak Strain_stdev  Peak Stress  Peak Stress_stdev    Young Mod  \\\n",
       "0           0.028985     0.331876           0.088084     4.662352   \n",
       "1           0.022358     8.848054           0.473516   652.014064   \n",
       "2           0.046968     5.958411           0.479542   301.092202   \n",
       "3           0.026813    19.763093           0.782097  1294.864413   \n",
       "4           0.023628    12.205863           0.545573   860.712004   \n",
       "\n",
       "   Young Mod_stdev  \n",
       "0         0.617402  \n",
       "1        31.390965  \n",
       "2        15.990873  \n",
       "3        20.169037  \n",
       "4        28.180470  "
      ]
     },
     "execution_count": 6,
     "metadata": {},
     "output_type": "execute_result"
    }
   ],
   "source": [
    "df_2"
   ]
  },
  {
   "cell_type": "code",
   "execution_count": null,
   "id": "048e6f01",
   "metadata": {},
   "outputs": [],
   "source": []
  }
 ],
 "metadata": {
  "interpreter": {
   "hash": "20f7039f650bdd7dabc1a861a7f3b2a0920884ba71a03012cdf5ff0ba9a9f010"
  },
  "kernelspec": {
   "display_name": "Python 3.8.7 ('.venv': poetry)",
   "language": "python",
   "name": "python3"
  },
  "language_info": {
   "codemirror_mode": {
    "name": "ipython",
    "version": 3
   },
   "file_extension": ".py",
   "mimetype": "text/x-python",
   "name": "python",
   "nbconvert_exporter": "python",
   "pygments_lexer": "ipython3",
   "version": "3.8.7"
  }
 },
 "nbformat": 4,
 "nbformat_minor": 5
}
