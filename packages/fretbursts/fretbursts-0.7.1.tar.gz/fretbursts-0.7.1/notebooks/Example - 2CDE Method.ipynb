{
 "cells": [
  {
   "cell_type": "markdown",
   "metadata": {},
   "source": [
    "# Example - 2CDE Method\n",
    "\n",
    "*This notebook is part of smFRET burst analysis software [FRETBursts](http://opensmfs.github.io/FRETBursts/).*\n",
    "\n",
    "> This notebook implements the 2CDE method from [Tomov 2012](http://dx.doi.org/10.1016%2Fj.bpj.2011.11.4025).\n",
    ">\n",
    "> For a complete tutorial on burst analysis see \n",
    "> [FRETBursts - us-ALEX smFRET burst analysis](FRETBursts - us-ALEX smFRET burst analysis.ipynb)."
   ]
  },
  {
   "cell_type": "code",
   "execution_count": null,
   "metadata": {},
   "outputs": [],
   "source": [
    "from fretbursts import *\n",
    "from fretbursts.phtools import phrates\n",
    "sns = init_notebook(apionly=True)\n",
    "sns.__version__"
   ]
  },
  {
   "cell_type": "code",
   "execution_count": null,
   "metadata": {},
   "outputs": [],
   "source": [
    "# Tweak here matplotlib style\n",
    "import matplotlib as mpl\n",
    "mpl.rcParams['font.sans-serif'].insert(0, 'Arial')\n",
    "mpl.rcParams['font.size'] = 12\n",
    "%config InlineBackend.figure_format = 'retina'"
   ]
  },
  {
   "cell_type": "markdown",
   "metadata": {},
   "source": [
    "# Load Data"
   ]
  },
  {
   "cell_type": "code",
   "execution_count": null,
   "metadata": {},
   "outputs": [],
   "source": [
    "url = 'http://files.figshare.com/2182601/0023uLRpitc_NTP_20dT_0.5GndCl.hdf5'\n",
    "download_file(url, save_dir='./data')\n",
    "\n",
    "filename = \"data/0023uLRpitc_NTP_20dT_0.5GndCl.hdf5\"\n",
    "\n",
    "d = loader.photon_hdf5(filename)\n",
    "loader.alex_apply_period(d)\n",
    "d.calc_bg(fun=bg.exp_fit, time_s=20, tail_min_us='auto', F_bg=1.7)\n",
    "d.burst_search()\n",
    "\n",
    "ds1 = d.select_bursts(select_bursts.size, th1=30)\n",
    "ds = ds1.select_bursts(select_bursts.naa, th1=30)\n",
    "\n",
    "alex_jointplot(ds)"
   ]
  },
  {
   "cell_type": "code",
   "execution_count": null,
   "metadata": {},
   "outputs": [],
   "source": [
    "ph = d.ph_times_m[0]"
   ]
  },
  {
   "cell_type": "code",
   "execution_count": null,
   "metadata": {},
   "outputs": [],
   "source": [
    "tau = 100e-6/d.clk_p\n",
    "tau"
   ]
  },
  {
   "cell_type": "markdown",
   "metadata": {},
   "source": [
    "# KDE considerations\n",
    "\n",
    "In computing a KDE, the kernel can have different shapes. In the original\n",
    "2CDE publication the \"laplace distribution\" kernel is used.\n",
    "\n",
    "In the next sections we will show the 2CDE results\n",
    "using both \"laplace distribution\" Gaussian kernel.\n",
    "\n",
    "Here, we simply plot the two kernels for comparison:"
   ]
  },
  {
   "cell_type": "code",
   "execution_count": null,
   "metadata": {},
   "outputs": [],
   "source": [
    "tau = 1\n",
    "tau2 = 2 * (tau**2)\n",
    "\n",
    "xx = np.arange(-4*tau, 4*tau, tau/100.)\n",
    "y1 = np.exp(-np.abs(xx) / tau)\n",
    "y2 = np.exp(-xx**2 / tau2)\n",
    "\n",
    "plt.plot(xx,y1, label=r'$\\exp \\left( - \\frac{|t|}{\\tau} \\right)$')\n",
    "plt.plot(xx, y2, label=r'$\\exp \\left( - \\frac{t^2}{2\\tau^2} \\right)$')\n",
    "plt.axvline(2*tau, color='k')\n",
    "plt.axvline(-2*tau, color='k')\n",
    "plt.xlabel('t')\n",
    "plt.legend(fontsize=22, bbox_to_anchor=(1.05, 1), loc=2)\n",
    "plt.title(r'$\\tau = %d$' % tau, fontsize=22);"
   ]
  },
  {
   "cell_type": "markdown",
   "metadata": {},
   "source": [
    "## Notes on Kernel Shape\n",
    "\n",
    "The Gaussian kernel gives a more accurate rate estimation with very little dependence on the position where the KDE is evaluated. On the contrary, with symmetric exponential kernel (laplace distribution), there is always a strong dependence on the evaluation position. In particular, when rates are estimated at the timestamps positions, the rates are systematically over-estimated (i.e. the peak is always sampled).\n",
    "\n",
    "For a Gaussian kernel, given a $\\tau$, the rate estimation will be accurate for rates higher than $1/(2\\,\\tau)$ counts-per-second. For lower rates, the estimation will strongly depend on where the KDE is evaluated. A similar condition can be also found for the exponential kernel, but this case the rate will aways be strongly dependent on the position."
   ]
  },
  {
   "cell_type": "markdown",
   "metadata": {},
   "source": [
    "# 2CDE\n",
    "\n",
    "## KDE and nbKDE Definitions\n",
    "\n",
    "Following Tomov 2012 notation, we define *KDE* as ([Tomov 2012, eq. 4](http://dx.doi.org/10.1016%2Fj.bpj.2011.11.4025)):\n",
    "\n",
    "$$KDE_{X_i}^Y \\left(t_{(CHX)_i}, t_{\\{CHY\\}} \\right) = \n",
    "\\sum_j^{N_{CHY}} \\exp \\left( - \\frac{\\lvert t_{(CHX)_i} - t_{(CHY)_j} \\rvert}{\\tau}\\right) $$\n",
    "\n",
    "and *nbKDE* as ([Tomov 2012, eq. 5](http://dx.doi.org/10.1016%2Fj.bpj.2011.11.4025)):\n",
    "\n",
    "$$nbKDE_{X_i}^X \\left(t_{\\{CHX\\}} \\right) = \\left(1 + \\frac{2}{N_{CHX}} \\right) \\cdot\n",
    "\\sum_{j, \\;j\\ne i}^{N_{CHX}} \\exp \\left( - \\frac{\\lvert t_{(CHX)_i} - t_{(CHX)_j} \\rvert}{\\tau}\\right) $$\n",
    "\n",
    "These quantities can be computed for any slice of the timestamp arrays. \n",
    "In the implementation of *FRET-2CDE*, they will be computed on slices of\n",
    "timestamps corresponding to each burst. \n",
    "In this context, $N_{CHX}$, (in the multiplicative correction factor of nbKDE), \n",
    "is the number of photons in the current burst (selecting only photons in the $X$ channel).\n",
    "\n",
    "## FRET-2CDE Definition\n",
    "\n",
    "To compute FRET-2CDE we need to define ([Tomov 2012, eq. 6](http://dx.doi.org/10.1016%2Fj.bpj.2011.11.4025)):\n",
    "\n",
    "$$(E)_D = \\frac{1}{N_{CHD}} \\sum_{i=1}^{N_{CHD}} \\frac{KDE_{Di}^A}{KDE_{Di}^A + nbKDE_{Di}^D} $$\n",
    "\n",
    "and the symmetric estimator ([Tomov 2012, eq. 7](http://dx.doi.org/10.1016%2Fj.bpj.2011.11.4025)):\n",
    "\n",
    "$$(1 - E)_A = \\frac{1}{N_{CHA}} \\sum_{i=1}^{N_{CHA}} \\frac{KDE_{Ai}^D}{KDE_{Ai}^D + nbKDE_{Ai}^A} $$\n",
    "\n",
    "Then *FRET-2CDE* is defined as ([Tomov 2012, eq. 8](http://dx.doi.org/10.1016%2Fj.bpj.2011.11.4025)):\n",
    "\n",
    "$$ FRET-2CDE \\left( t_{CHD}, t_{CHA} \\right) = \n",
    "110 - 100 \\cdot \\left[ (E)_D + (1 - E)_A \\right]\n",
    "$$\n",
    "\n",
    "These quantities are computed for each burst, so that $N_{CHD}$ ($N_{CHA}$) are\n",
    "the number of photons in the DexDem (AemDex) channel during current burst."
   ]
  },
  {
   "cell_type": "markdown",
   "metadata": {},
   "source": [
    "## FRET-2CDE Functions"
   ]
  },
  {
   "cell_type": "markdown",
   "metadata": {},
   "source": [
    "To implement the *FRET-2CDE*, we use the following FRETBursts function:\n",
    "\n",
    "- `phrates.kde_laplace()` ([documentation](http://fretbursts.readthedocs.org/en/latest/phrates.html#fretbursts.phtools.phrates.kde_laplace))\n",
    "\n",
    "This function computes the local photon rate using KDE with a [laplace distribution](https://en.wikipedia.org/wiki/Laplace_distribution) kernel. \n",
    "FRETBursts provides similar functions to use a Gaussian or rectangular kernel ([kde_gaussian](http://fretbursts.readthedocs.org/en/latest/phrates.html#fretbursts.phtools.phrates.kde_gaussian) and\n",
    "[kde_rect](http://fretbursts.readthedocs.org/en/latest/phrates.html#fretbursts.phtools.phrates.kde_rect)\n",
    "respectively).\n",
    "\n",
    "Here we define two functions to compute *FRET-2CDE* using the **laplace kernel**\n",
    "(as in the original paper) and **Gaussian kernel**:"
   ]
  },
  {
   "cell_type": "code",
   "execution_count": null,
   "metadata": {},
   "outputs": [],
   "source": [
    "def calc_fret_2cde(tau, ph, mask_d, mask_a, bursts):\n",
    "    \"\"\"\n",
    "    Compute FRET-2CDE for each burst.\n",
    "\n",
    "    FRET-2CDE is a quantity that tends to be around 10 for bursts which have no\n",
    "    dynamics, while it has larger values (e.g. 30..100) for bursts with\n",
    "    millisecond dynamics.\n",
    "\n",
    "    References:\n",
    "        Tomov et al. BJ (2012) doi:10.1016/j.bpj.2011.11.4025\n",
    "\n",
    "    Arguments:\n",
    "        tau (scalar): time-constant of the exponential KDE\n",
    "        ph (1D array): array of all-photons timestamps.\n",
    "        mask_d (bool array): mask for DexDem photons\n",
    "        mask_a (bool array): mask for DexAem photons\n",
    "        bursts (Bursts object): object containing burst data\n",
    "            (start-stop indexes are relative to `ph`).\n",
    "\n",
    "    Returns:\n",
    "        FRET_2CDE (1D array): array of FRET_2CDE quantities, one element\n",
    "            per burst. This array contains NaN in correspondence of bursts\n",
    "            containing to few photons to compute FRET-2CDE.\n",
    "    \"\"\"\n",
    "    # Computing KDE burst-by-burst would cause inaccuracies at the burst edges.\n",
    "    # Therefore, we first compute KDE on the full timestamps array and then\n",
    "    # we take slices for each burst.\n",
    "    # These KDEs are evaluated on all-photons array `ph` (hence the Ti suffix)\n",
    "    # using D or A photons during D-excitation (argument ph[mask_d] or ph[mask_a]).\n",
    "    KDE_DTi = phrates.kde_laplace(ph[mask_d], tau, time_axis=ph)\n",
    "    KDE_ATi = phrates.kde_laplace(ph[mask_a], tau, time_axis=ph)\n",
    "\n",
    "    FRET_2CDE = []\n",
    "    for ib, burst in enumerate(bursts):\n",
    "        burst_slice = slice(int(burst.istart), int(burst.istop) + 1)\n",
    "        if ~mask_d[burst_slice].any() or ~mask_a[burst_slice].any():\n",
    "            # Either D or A photon stream has no photons in current burst,\n",
    "            # thus FRET_2CDE cannot be computed. Fill position with NaN.\n",
    "            FRET_2CDE.append(np.nan)\n",
    "            continue\n",
    "\n",
    "        # Take slices of KDEs for current burst\n",
    "        kde_adi = KDE_ATi[burst_slice][mask_d[burst_slice]]\n",
    "        kde_ddi = KDE_DTi[burst_slice][mask_d[burst_slice]]\n",
    "        kde_dai = KDE_DTi[burst_slice][mask_a[burst_slice]]\n",
    "        kde_aai = KDE_ATi[burst_slice][mask_a[burst_slice]]\n",
    "\n",
    "        # nbKDE does not include the \"center\" timestamp which contributes 1.\n",
    "        # We thus subtract 1 from the precomputed KDEs.\n",
    "        # The N_CHD (N_CHA) value in the correction factor is the number of\n",
    "        # timestamps in DexDem (DexAem) stream falling within the current burst.\n",
    "        N_CHD = mask_d[burst_slice].sum()\n",
    "        N_CHA = mask_a[burst_slice].sum()\n",
    "        nbkde_ddi = (1 + 2/N_CHD) * (kde_ddi - 1)\n",
    "        nbkde_aai = (1 + 2/N_CHA) * (kde_aai - 1)\n",
    "\n",
    "        # N_CHD (N_CHA) in eq. 6 (eq. 7) of (Tomov 2012) is the number of photons\n",
    "        # in DexDem (DexAem) in current burst. Thus the sum is a mean.\n",
    "        ED = np.mean(kde_adi / (kde_adi + nbkde_ddi))  # (E)_D\n",
    "        EA = np.mean(kde_dai / (kde_dai + nbkde_aai))  # (1 - E)_A\n",
    "\n",
    "        # Compute fret_2cde for current burst\n",
    "        fret_2cde = 110 - 100 * (ED + EA)\n",
    "        FRET_2CDE.append(fret_2cde)\n",
    "    return np.array(FRET_2CDE)"
   ]
  },
  {
   "cell_type": "code",
   "execution_count": null,
   "metadata": {},
   "outputs": [],
   "source": [
    "def calc_fret_2cde_gauss(tau, ph, mask_d, mask_a, bursts):\n",
    "    \"\"\"\n",
    "    Compute a modification of FRET-2CDE using a Gaussian kernel.\n",
    "    \n",
    "    Reference: Tomov et al. BJ (2012) doi:10.1016/j.bpj.2011.11.4025\n",
    "    \n",
    "    Instead of using the exponential kernel (i.e. laplace distribution)\n",
    "    of the original paper, here we use a Gaussian kernel.\n",
    "    Photon density using Gaussian kernel provides a smooth estimate\n",
    "    regardless of the evaluation time. On the contrary, the \n",
    "    laplace-distribution kernel has discontinuities in the derivative \n",
    "    (cuspids) on each time point corresponding to a timestamp.\n",
    "    Using a Gaussian kernel removes the need of using the heuristic \n",
    "    correction (pre-factor) of nbKDE.\n",
    "    \n",
    "    Arguments:\n",
    "        tau (scalar): time-constant of the exponential KDE\n",
    "        ph (1D array): array of all-photons timestamps.\n",
    "        mask_d (bool array): mask for DexDem photons\n",
    "        mask_a (bool array): mask for DexAem photons\n",
    "        bursts (Bursts object): object containing burst data\n",
    "        \n",
    "    Returns:\n",
    "        FRET_2CDE (1D array): array of FRET_2CDE quantities, one element \n",
    "            per burst. This array contains NaN in correspondence of bursts \n",
    "            containing to few photons to compute FRET-2CDE.\n",
    "    \"\"\"\n",
    "    # Computing KDE burst-by-burst would cause inaccuracies at the edges\n",
    "    # So, we compute KDE for the full timestamps\n",
    "    KDE_DTi = phrates.kde_gaussian(ph[mask_d], tau, time_axis=ph)\n",
    "    KDE_ATi = phrates.kde_gaussian(ph[mask_a], tau, time_axis=ph)\n",
    "\n",
    "    FRET_2CDE = []\n",
    "    for ib, burst in enumerate(bursts):\n",
    "        burst_slice = slice(int(burst.istart), int(burst.istop) + 1)\n",
    "        if ~mask_d[burst_slice].any() or ~mask_a[burst_slice].any():\n",
    "            # Either D or A photon stream has no photons in current burst, \n",
    "            # thus FRET_2CDE cannot be computed.\n",
    "            FRET_2CDE.append(np.nan)\n",
    "            continue\n",
    "\n",
    "        kde_ddi = KDE_DTi[burst_slice][mask_d[burst_slice]]\n",
    "        kde_adi = KDE_ATi[burst_slice][mask_d[burst_slice]]    \n",
    "        kde_dai = KDE_DTi[burst_slice][mask_a[burst_slice]]\n",
    "        kde_aai = KDE_ATi[burst_slice][mask_a[burst_slice]]\n",
    "        \n",
    "        ED = np.mean(kde_adi / (kde_adi + kde_ddi))  # (E)_D\n",
    "        EA = np.mean(kde_dai / (kde_dai + kde_aai))  # (1 - E)_A\n",
    "\n",
    "        fret_2cde = 110 - 100 * (ED + EA)\n",
    "        FRET_2CDE.append(fret_2cde)\n",
    "    return np.array(FRET_2CDE)"
   ]
  },
  {
   "cell_type": "markdown",
   "metadata": {},
   "source": [
    "## FRET-2CDE Results\n",
    "\n",
    "Let's define $\\tau$, the kernel parameter which defines the \"time range\"\n",
    "of the photon density estimation:"
   ]
  },
  {
   "cell_type": "code",
   "execution_count": null,
   "metadata": {},
   "outputs": [],
   "source": [
    "tau_s = 50e-6             # in seconds\n",
    "tau = int(tau_s/d.clk_p)  # in raw timestamp units\n",
    "tau"
   ]
  },
  {
   "cell_type": "markdown",
   "metadata": {},
   "source": [
    "Next, we get the timestamps and selection masks for DexDem and DexAem photon streams,\n",
    "as well as the burst data:"
   ]
  },
  {
   "cell_type": "code",
   "execution_count": null,
   "metadata": {},
   "outputs": [],
   "source": [
    "ph = d.get_ph_times(ph_sel=Ph_sel('all'))\n",
    "mask_d = d.get_ph_mask(ph_sel=Ph_sel(Dex='Dem'))\n",
    "mask_a = d.get_ph_mask(ph_sel=Ph_sel(Dex='Aem'))\n",
    "\n",
    "bursts = ds.mburst[0]"
   ]
  },
  {
   "cell_type": "markdown",
   "metadata": {},
   "source": [
    "We can finally compute the *FRET-2CDE* for each burst:"
   ]
  },
  {
   "cell_type": "code",
   "execution_count": null,
   "metadata": {},
   "outputs": [],
   "source": [
    "fret_2cde = calc_fret_2cde(tau, ph, mask_d, mask_a, bursts)"
   ]
  },
  {
   "cell_type": "code",
   "execution_count": null,
   "metadata": {},
   "outputs": [],
   "source": [
    "fret_2cde_gauss = calc_fret_2cde_gauss(tau, ph, mask_d, mask_a, bursts)"
   ]
  },
  {
   "cell_type": "code",
   "execution_count": null,
   "metadata": {},
   "outputs": [],
   "source": [
    "len(fret_2cde), len(fret_2cde_gauss), bursts.num_bursts, ds.num_bursts"
   ]
  },
  {
   "cell_type": "markdown",
   "metadata": {},
   "source": [
    "And visualize the results with some plots:"
   ]
  },
  {
   "cell_type": "code",
   "execution_count": null,
   "metadata": {},
   "outputs": [],
   "source": [
    "plt.figure(figsize=(4.5, 4.5))\n",
    "hist_kws = dict(edgecolor='k', linewidth=0.2,\n",
    "                facecolor=sns.color_palette('Spectral_r', 100)[7])\n",
    "\n",
    "valid = np.isfinite(fret_2cde)\n",
    "sns.kdeplot(x=ds.E[0][valid], y=fret_2cde[valid],\n",
    "            cmap='Spectral_r', shade=True, shade_lowest=False, n_levels=20)\n",
    "plt.xlabel('E', fontsize=16)\n",
    "plt.ylabel('FRET-2CDE', fontsize=16);\n",
    "plt.ylim(-10, 50);\n",
    "plt.axhline(10, ls='--', lw=2, color='k')\n",
    "plt.text(0.05, 0.95, '2CDE', va='top', fontsize=22, transform=plt.gca().transAxes)\n",
    "plt.text(0.95, 0.95, '# Bursts: %d' % valid.sum(), \n",
    "         va='top', ha='right', transform=plt.gca().transAxes)\n",
    "plt.savefig('2cde.png', bbox_inches='tight', dpi=200, transparent=False)"
   ]
  },
  {
   "cell_type": "code",
   "execution_count": null,
   "metadata": {},
   "outputs": [],
   "source": [
    "valid = np.isfinite(fret_2cde)\n",
    "x, y = ds.E[0][valid], fret_2cde[valid]\n",
    "hist_kws = dict(edgecolor='k', linewidth=0.2,\n",
    "                facecolor=sns.color_palette('Spectral_r', 100)[7])\n",
    "\n",
    "g = sns.JointGrid(x=x, y=y, ratio=3)\n",
    "g.plot_joint(sns.kdeplot, cmap='Spectral_r', shade=True, shade_lowest=False, n_levels=20)\n",
    "g.ax_marg_x.hist(x, bins=np.arange(-0.2, 1.2, 0.0333), **hist_kws)\n",
    "g.ax_marg_y.hist(y, bins=70, orientation=\"horizontal\", **hist_kws)\n",
    "\n",
    "g.ax_joint.set_xlabel('E', fontsize=16)\n",
    "g.ax_joint.set_ylabel('FRET-2CDE', fontsize=16);\n",
    "g.ax_joint.set_ylim(-10, 50);\n",
    "g.ax_joint.set_xlim(-0.1, 1.1);\n",
    "g.ax_joint.axhline(10, ls='--', lw=2, color='k')\n",
    "g.ax_joint.text(0.05, 0.95, '2CDE', va='top', fontsize=22, transform=g.ax_joint.transAxes)\n",
    "g.ax_joint.text(0.95, 0.95, '# Bursts: %d' % valid.sum(), \n",
    "                va='top', ha='right', transform=g.ax_joint.transAxes)\n",
    "plt.savefig('2cde_joint.png', bbox_inches='tight', dpi=200, transparent=False)"
   ]
  },
  {
   "cell_type": "markdown",
   "metadata": {},
   "source": [
    "## ALEX-2CDE Definition\n",
    "\n",
    "To compute ALEX-2CDE we need to define ([Tomov 2012, eq. 10](http://dx.doi.org/10.1016%2Fj.bpj.2011.11.4025)):\n",
    "\n",
    "$$BR_{D_{EX}} = \\frac{1}{ N_{CHA_{EX}} } \n",
    "\\sum_{i=1}^{N_{CHD_{EX}}} \\frac{ KDE_{D_{EX}i}^A }{ KDE_{D_{EX}i}^D }$$\n",
    "\n",
    "and the analogous ([Tomov 2012, eq. 11](http://dx.doi.org/10.1016%2Fj.bpj.2011.11.4025)):\n",
    "\n",
    "$$BR_{A_{EX}} = \\frac{1}{ N_{CHD_{EX}} } \n",
    "\\sum_{i=1}^{N_{CHA_{EX}}} \\frac{ KDE_{A_{EX}i}^D }{ KDE_{A_{EX}i}^A }$$\n",
    "\n",
    "Finally, *ALEX-2CDE* is defined as ([Tomov 2012, eq. 12](http://dx.doi.org/10.1016%2Fj.bpj.2011.11.4025)):\n",
    "\n",
    "$$ ALEX-2CDE \\left( t_{CHD}, t_{CHA} \\right) = \n",
    "110 - 50 \\cdot \\left[ BR_{D_{EX}} + BR_{A_{EX}} \\right]\n",
    "$$\n"
   ]
  },
  {
   "cell_type": "markdown",
   "metadata": {},
   "source": [
    "## ALEX-2CDE Implementation"
   ]
  },
  {
   "cell_type": "code",
   "execution_count": null,
   "metadata": {},
   "outputs": [],
   "source": [
    "bursts = ds1.mburst[0]\n",
    "\n",
    "ph_dex = d.get_ph_times(ph_sel=Ph_sel(Dex='DAem'))\n",
    "ph_aex = d.get_ph_times(ph_sel=Ph_sel(Aex='Aem'))\n",
    "\n",
    "mask_dex = d.get_ph_mask(ph_sel=Ph_sel(Dex='DAem'))\n",
    "mask_aex = d.get_ph_mask(ph_sel=Ph_sel(Aex='Aem'))\n",
    "\n",
    "KDE_DexTi = phrates.kde_laplace(ph_dex, tau, time_axis=ph)\n",
    "KDE_AexTi = phrates.kde_laplace(ph_aex, tau, time_axis=ph)\n",
    "\n",
    "ALEX_2CDE = []\n",
    "BRDex, BRAex = [], []\n",
    "for ib, burst in enumerate(bursts):\n",
    "    burst_slice = slice(int(burst.istart), int(burst.istop) + 1)\n",
    "    if ~mask_dex[burst_slice].any() or ~mask_aex[burst_slice].any():\n",
    "        # Either D or A photon stream has no photons in current burst, \n",
    "        # thus ALEX_2CDE cannot be computed.\n",
    "        ALEX_2CDE.append(np.nan)\n",
    "        continue\n",
    "\n",
    "    kde_dexdex = KDE_DexTi[burst_slice][mask_dex[burst_slice]]\n",
    "    kde_aexdex = KDE_AexTi[burst_slice][mask_dex[burst_slice]]\n",
    "    N_chaex = mask_aex[burst_slice].sum()\n",
    "    BRDex.append(np.sum(kde_aexdex / kde_dexdex) / N_chaex)\n",
    "    \n",
    "    kde_aexaex = KDE_AexTi[burst_slice][mask_aex[burst_slice]]\n",
    "    kde_dexaex = KDE_DexTi[burst_slice][mask_aex[burst_slice]]\n",
    "    N_chdex = mask_dex[burst_slice].sum()\n",
    "    BRAex.append(np.sum(kde_dexaex / kde_aexaex) / N_chdex)\n",
    "    \n",
    "    alex_2cde = 100 - 50*(BRDex[-1] - BRAex[-1])\n",
    "    ALEX_2CDE.append(alex_2cde)\n",
    "ALEX_2CDE = np.array(ALEX_2CDE)"
   ]
  },
  {
   "cell_type": "code",
   "execution_count": null,
   "metadata": {},
   "outputs": [],
   "source": [
    "ALEX_2CDE.size, np.isfinite(ALEX_2CDE).sum(), np.isfinite(ds1.E[0]).sum()"
   ]
  },
  {
   "cell_type": "markdown",
   "metadata": {},
   "source": [
    "And some final plots of *ALEX-2CDE*:"
   ]
  },
  {
   "cell_type": "code",
   "execution_count": null,
   "metadata": {},
   "outputs": [],
   "source": [
    "hist_kws = dict(edgecolor='k', linewidth=0.2,\n",
    "                facecolor=sns.color_palette('Spectral_r', 100)[7])\n",
    "valid = np.isfinite(ALEX_2CDE)\n",
    "g = sns.JointGrid(x=ds1.E[0][valid], y=ALEX_2CDE[valid], ratio=3)\n",
    "g = g.plot_joint(plt.hexbin, **{'cmap': 'Spectral_r', 'mincnt': 1, 'gridsize': 40})\n",
    "_ = g.ax_marg_x.hist(ds1.E[0][valid], bins=np.arange(-0.2, 1.2, 0.0333), **hist_kws)\n",
    "_ = g.ax_marg_y.hist(ALEX_2CDE[valid], bins=40, orientation=\"horizontal\", **hist_kws)\n",
    "g.ax_joint.set_xlabel('E', fontsize=16)\n",
    "g.ax_joint.set_ylabel('ALEX-2CDE', fontsize=16);\n",
    "g.ax_joint.text(0.95, 0.95, '# Bursts: %d' % valid.sum(), \n",
    "                va='top', ha='right', transform=g.ax_joint.transAxes);"
   ]
  },
  {
   "cell_type": "code",
   "execution_count": null,
   "metadata": {},
   "outputs": [],
   "source": [
    "valid = np.isfinite(ALEX_2CDE)\n",
    "print('Number of bursts (removing NaNs/Infs):', valid.sum())\n",
    "g = sns.JointGrid(x=ds1.S[0][valid], y=ALEX_2CDE[valid], ratio=3)\n",
    "g = g.plot_joint(plt.hexbin, **{'cmap': 'Spectral_r', 'mincnt': 1, 'gridsize': 40})\n",
    "_ = g.ax_marg_x.hist(ds1.S[0][valid], bins=np.arange(0, 1.2, 0.0333), **hist_kws)\n",
    "_ = g.ax_marg_y.hist(ALEX_2CDE[valid], bins=40, orientation=\"horizontal\", **hist_kws)\n",
    "g.ax_joint.set_xlabel('S', fontsize=16)\n",
    "g.ax_joint.set_ylabel('ALEX-2CDE', fontsize=16)\n",
    "g.ax_joint.text(0.95, 0.95, '# Bursts: %d' % valid.sum(), \n",
    "                va='top', ha='right', transform=g.ax_joint.transAxes);"
   ]
  },
  {
   "cell_type": "code",
   "execution_count": null,
   "metadata": {},
   "outputs": [],
   "source": [
    "masks = [valid * (ALEX_2CDE < 88) * (ds1.S[0] > 0.9)]\n",
    "ds2 = ds1.select_bursts_mask_apply(masks)"
   ]
  },
  {
   "cell_type": "code",
   "execution_count": null,
   "metadata": {},
   "outputs": [],
   "source": [
    "alex_jointplot(ds2, vmax_fret=False)"
   ]
  }
 ],
 "metadata": {
  "hide_input": false,
  "kernelspec": {
   "display_name": "Python 3",
   "language": "python",
   "name": "python3"
  },
  "language_info": {
   "codemirror_mode": {
    "name": "ipython",
    "version": 3
   },
   "file_extension": ".py",
   "mimetype": "text/x-python",
   "name": "python",
   "nbconvert_exporter": "python",
   "pygments_lexer": "ipython3",
   "version": "3.6.13"
  },
  "toc": {
   "colors": {
    "hover_highlight": "#DAA520",
    "running_highlight": "#FF0000",
    "selected_highlight": "#FFD700"
   },
   "moveMenuLeft": true,
   "nav_menu": {
    "height": "208px",
    "width": "252px"
   },
   "navigate_menu": true,
   "number_sections": false,
   "sideBar": true,
   "threshold": 4,
   "toc_cell": false,
   "toc_section_display": "block",
   "toc_window_display": false,
   "widenNotebook": false
  }
 },
 "nbformat": 4,
 "nbformat_minor": 1
}
