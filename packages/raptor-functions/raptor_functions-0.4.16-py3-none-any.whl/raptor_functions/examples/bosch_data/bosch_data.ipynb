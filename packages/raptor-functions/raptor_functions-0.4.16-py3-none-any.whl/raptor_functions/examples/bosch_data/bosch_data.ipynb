{
 "cells": [
  {
   "cell_type": "code",
   "execution_count": null,
   "metadata": {},
   "outputs": [],
   "source": [
    "import sys \n",
    "import pandas as pd\n",
    "\n",
    "PACKAGE_FOLDER = '/Users/amash/Insync/GDrive/Projects/Raptor/raptor_functions'\n",
    "sys.path.insert(0, PACKAGE_FOLDER)"
   ]
  },
  {
   "cell_type": "code",
   "execution_count": 28,
   "metadata": {},
   "outputs": [],
   "source": [
    "from raptor_functions.supervised.preprocess import preprocess_bosch_json_files\n",
    "from raptor_functions.supervised.feature_extraction import get_training_features\n",
    "from raptor_functions.supervised.train import train_experiments\n",
    "from raptor_functions.eda.visualisations import dimension_reduction_plot\n",
    "\n",
    "import pandas as pd\n"
   ]
  },
  {
   "cell_type": "code",
   "execution_count": 29,
   "metadata": {},
   "outputs": [],
   "source": [
    "from raptor_functions.eda.visualisations import dimension_reduction_plot, PCA_plot, plot_sensors\n"
   ]
  },
  {
   "cell_type": "code",
   "execution_count": 30,
   "metadata": {},
   "outputs": [],
   "source": [
    "structured_file_path_ouput = 'output'\n",
    "json_file_path_peony = 'Cherry_and_Peony.json'\n",
    "json_file_path_baseline = 'new_bosch_data.json'\n",
    "json_file_path_vanilla = 'vanilla_new.json'\n",
    "\n",
    "labels = ['baseline', 'peony', 'vanilla']\n",
    "filepaths = [json_file_path_baseline, json_file_path_peony, json_file_path_vanilla]"
   ]
  },
  {
   "cell_type": "code",
   "execution_count": 31,
   "metadata": {},
   "outputs": [
    {
     "name": "stdout",
     "output_type": "stream",
     "text": [
      "No of experiments for baseline is 253\n",
      "No of experiments for peony is 252\n",
      "No of experiments for vanilla is 302\n"
     ]
    }
   ],
   "source": [
    "df_all = preprocess_bosch_json_files(filepaths, labels, structured_file_path_ouput)\n"
   ]
  },
  {
   "cell_type": "code",
   "execution_count": 32,
   "metadata": {},
   "outputs": [],
   "source": [
    "cols_to_drop = ['exp_unique_id', 'timesteps', 'real_time_clock', 'result']\n",
    "features = df_all.drop(cols_to_drop, axis=1).columns.tolist()\n",
    "\n",
    "# features"
   ]
  },
  {
   "cell_type": "code",
   "execution_count": 33,
   "metadata": {},
   "outputs": [],
   "source": [
    "df_all.to_csv('df_all.csv')"
   ]
  },
  {
   "cell_type": "code",
   "execution_count": 34,
   "metadata": {},
   "outputs": [
    {
     "name": "stdout",
     "output_type": "stream",
     "text": [
      "Extracting all features\n"
     ]
    },
    {
     "name": "stderr",
     "output_type": "stream",
     "text": [
      "Feature Extraction:  50%|█████     | 10/20 [10:30<10:30, 63.08s/it]Process ForkPoolWorker-65:\n",
      "\n",
      "Traceback (most recent call last):\n",
      "  File \"/Users/amash/anaconda3/envs/ra37/lib/python3.7/multiprocessing/process.py\", line 297, in _bootstrap\n",
      "    self.run()\n",
      "  File \"/Users/amash/anaconda3/envs/ra37/lib/python3.7/multiprocessing/process.py\", line 99, in run\n",
      "    self._target(*self._args, **self._kwargs)\n",
      "  File \"/Users/amash/anaconda3/envs/ra37/lib/python3.7/multiprocessing/pool.py\", line 121, in worker\n",
      "    result = (True, func(*args, **kwds))\n",
      "  File \"/Users/amash/anaconda3/envs/ra37/lib/python3.7/site-packages/tsfresh/utilities/distribution.py\", line 43, in _function_with_partly_reduce\n",
      "    results = list(itertools.chain.from_iterable(results))\n",
      "  File \"/Users/amash/anaconda3/envs/ra37/lib/python3.7/site-packages/tsfresh/utilities/distribution.py\", line 42, in <genexpr>\n",
      "    results = (map_function(chunk, **kwargs) for chunk in chunk_list)\n",
      "  File \"/Users/amash/anaconda3/envs/ra37/lib/python3.7/site-packages/tsfresh/feature_extraction/extraction.py\", line 386, in _do_extraction_on_chunk\n",
      "    return list(_f())\n",
      "  File \"/Users/amash/anaconda3/envs/ra37/lib/python3.7/site-packages/tsfresh/feature_extraction/extraction.py\", line 374, in _f\n",
      "    for key, item in result:\n",
      "  File \"/Users/amash/anaconda3/envs/ra37/lib/python3.7/site-packages/tsfresh/feature_extraction/extraction.py\", line 369, in <genexpr>\n",
      "    for param in parameter_list\n",
      "  File \"/Users/amash/anaconda3/envs/ra37/lib/python3.7/site-packages/tsfresh/feature_extraction/feature_calculators.py\", line 2139, in max_langevin_fixed_point\n",
      "    coeff = _estimate_friedrich_coefficients(x, m, r)\n",
      "  File \"/Users/amash/anaconda3/envs/ra37/lib/python3.7/site-packages/tsfresh/feature_extraction/feature_calculators.py\", line 152, in _estimate_friedrich_coefficients\n",
      "    df[\"quantiles\"] = pd.qcut(df.signal, r)\n",
      "  File \"/Users/amash/anaconda3/envs/ra37/lib/python3.7/site-packages/pandas/core/reshape/tile.py\", line 379, in qcut\n",
      "    duplicates=duplicates,\n",
      "  File \"/Users/amash/anaconda3/envs/ra37/lib/python3.7/site-packages/pandas/core/reshape/tile.py\", line 426, in _bins_to_cuts\n",
      "    na_mask = isna(x) | (ids == len(bins)) | (ids == 0)\n",
      "  File \"/Users/amash/anaconda3/envs/ra37/lib/python3.7/site-packages/pandas/core/dtypes/missing.py\", line 138, in isna\n",
      "    return _isna(obj)\n",
      "  File \"/Users/amash/anaconda3/envs/ra37/lib/python3.7/site-packages/pandas/core/dtypes/missing.py\", line 177, in _isna\n",
      "    result, index=obj.index, name=obj.name, copy=False\n",
      "KeyboardInterrupt\n",
      "Process ForkPoolWorker-67:\n",
      "Traceback (most recent call last):\n",
      "  File \"/Users/amash/anaconda3/envs/ra37/lib/python3.7/multiprocessing/process.py\", line 297, in _bootstrap\n",
      "    self.run()\n",
      "  File \"/Users/amash/anaconda3/envs/ra37/lib/python3.7/multiprocessing/process.py\", line 99, in run\n",
      "    self._target(*self._args, **self._kwargs)\n",
      "  File \"/Users/amash/anaconda3/envs/ra37/lib/python3.7/multiprocessing/pool.py\", line 121, in worker\n",
      "    result = (True, func(*args, **kwds))\n",
      "  File \"/Users/amash/anaconda3/envs/ra37/lib/python3.7/site-packages/tsfresh/utilities/distribution.py\", line 43, in _function_with_partly_reduce\n",
      "    results = list(itertools.chain.from_iterable(results))\n",
      "  File \"/Users/amash/anaconda3/envs/ra37/lib/python3.7/site-packages/tsfresh/utilities/distribution.py\", line 42, in <genexpr>\n",
      "    results = (map_function(chunk, **kwargs) for chunk in chunk_list)\n",
      "  File \"/Users/amash/anaconda3/envs/ra37/lib/python3.7/site-packages/tsfresh/feature_extraction/extraction.py\", line 386, in _do_extraction_on_chunk\n",
      "    return list(_f())\n",
      "  File \"/Users/amash/anaconda3/envs/ra37/lib/python3.7/site-packages/tsfresh/feature_extraction/extraction.py\", line 374, in _f\n",
      "    for key, item in result:\n",
      "  File \"/Users/amash/anaconda3/envs/ra37/lib/python3.7/site-packages/tsfresh/feature_extraction/extraction.py\", line 369, in <genexpr>\n",
      "    for param in parameter_list\n",
      "  File \"/Users/amash/anaconda3/envs/ra37/lib/python3.7/site-packages/tsfresh/feature_extraction/feature_calculators.py\", line 1532, in change_quantiles\n",
      "    return aggregator(div[ind_inside_corridor])\n",
      "  File \"<__array_function__ internals>\", line 6, in mean\n",
      "  File \"/Users/amash/anaconda3/envs/ra37/lib/python3.7/site-packages/numpy/core/fromnumeric.py\", line 3441, in mean\n",
      "    out=out, **kwargs)\n",
      "  File \"/Users/amash/anaconda3/envs/ra37/lib/python3.7/site-packages/numpy/core/_methods.py\", line 179, in _mean\n",
      "    ret = umr_sum(arr, axis, dtype, out, keepdims, where=where)\n",
      "KeyboardInterrupt\n",
      "Process ForkPoolWorker-68:\n",
      "Traceback (most recent call last):\n",
      "  File \"/Users/amash/anaconda3/envs/ra37/lib/python3.7/multiprocessing/process.py\", line 297, in _bootstrap\n",
      "    self.run()\n",
      "  File \"/Users/amash/anaconda3/envs/ra37/lib/python3.7/multiprocessing/process.py\", line 99, in run\n",
      "    self._target(*self._args, **self._kwargs)\n",
      "  File \"/Users/amash/anaconda3/envs/ra37/lib/python3.7/multiprocessing/pool.py\", line 121, in worker\n",
      "    result = (True, func(*args, **kwds))\n",
      "  File \"/Users/amash/anaconda3/envs/ra37/lib/python3.7/site-packages/tsfresh/utilities/distribution.py\", line 43, in _function_with_partly_reduce\n",
      "    results = list(itertools.chain.from_iterable(results))\n",
      "  File \"/Users/amash/anaconda3/envs/ra37/lib/python3.7/site-packages/tsfresh/utilities/distribution.py\", line 42, in <genexpr>\n",
      "    results = (map_function(chunk, **kwargs) for chunk in chunk_list)\n",
      "  File \"/Users/amash/anaconda3/envs/ra37/lib/python3.7/site-packages/tsfresh/feature_extraction/extraction.py\", line 386, in _do_extraction_on_chunk\n",
      "    return list(_f())\n",
      "  File \"/Users/amash/anaconda3/envs/ra37/lib/python3.7/site-packages/tsfresh/feature_extraction/extraction.py\", line 374, in _f\n",
      "    for key, item in result:\n",
      "  File \"/Users/amash/anaconda3/envs/ra37/lib/python3.7/site-packages/tsfresh/feature_extraction/extraction.py\", line 369, in <genexpr>\n",
      "    for param in parameter_list\n",
      "  File \"/Users/amash/anaconda3/envs/ra37/lib/python3.7/site-packages/tsfresh/feature_extraction/feature_calculators.py\", line 2139, in max_langevin_fixed_point\n",
      "    coeff = _estimate_friedrich_coefficients(x, m, r)\n",
      "  File \"/Users/amash/anaconda3/envs/ra37/lib/python3.7/site-packages/tsfresh/feature_extraction/feature_calculators.py\", line 159, in _estimate_friedrich_coefficients\n",
      "    {\"x_mean\": quantiles.signal.mean(), \"y_mean\": quantiles.delta.mean()}\n",
      "  File \"/Users/amash/anaconda3/envs/ra37/lib/python3.7/site-packages/pandas/core/groupby/groupby.py\", line 1690, in mean\n",
      "    numeric_only=numeric_only,\n",
      "  File \"/Users/amash/anaconda3/envs/ra37/lib/python3.7/site-packages/pandas/core/groupby/generic.py\", line 355, in _cython_agg_general\n",
      "    result, index=self.grouper.result_index, name=obj.name\n",
      "  File \"/Users/amash/anaconda3/envs/ra37/lib/python3.7/site-packages/pandas/core/series.py\", line 449, in __init__\n",
      "    self._set_axis(0, index, fastpath=True)\n",
      "  File \"/Users/amash/anaconda3/envs/ra37/lib/python3.7/site-packages/pandas/core/series.py\", line 538, in _set_axis\n",
      "    if labels._is_all_dates:\n",
      "  File \"pandas/_libs/properties.pyx\", line 37, in pandas._libs.properties.CachedProperty.__get__\n",
      "  File \"/Users/amash/anaconda3/envs/ra37/lib/python3.7/site-packages/pandas/core/indexes/base.py\", line 2394, in _is_all_dates\n",
      "    return is_datetime_array(ensure_object(self._values))\n",
      "  File \"pandas/_libs/algos_common_helper.pxi\", line 35, in pandas._libs.algos.ensure_object\n",
      "  File \"/Users/amash/anaconda3/envs/ra37/lib/python3.7/site-packages/pandas/core/arrays/categorical.py\", line 1451, in __array__\n",
      "    ret = take_nd(self.categories._values, self._codes)\n",
      "  File \"/Users/amash/anaconda3/envs/ra37/lib/python3.7/site-packages/pandas/core/array_algos/take.py\", line 105, in take_nd\n",
      "    return arr.take(indexer, fill_value=fill_value, allow_fill=allow_fill)\n",
      "  File \"/Users/amash/anaconda3/envs/ra37/lib/python3.7/site-packages/pandas/core/arrays/interval.py\", line 1013, in take\n",
      "    return self._shallow_copy(left_take, right_take)\n",
      "  File \"/Users/amash/anaconda3/envs/ra37/lib/python3.7/site-packages/pandas/core/arrays/interval.py\", line 605, in _shallow_copy\n",
      "    return self._simple_new(left, right, closed=self.closed, verify_integrity=False)\n",
      "  File \"/Users/amash/anaconda3/envs/ra37/lib/python3.7/site-packages/pandas/core/arrays/interval.py\", line 307, in _simple_new\n",
      "    left = extract_array(left, extract_numpy=True)\n",
      "  File \"/Users/amash/anaconda3/envs/ra37/lib/python3.7/site-packages/pandas/core/construction.py\", line 423, in extract_array\n",
      "    obj = obj.array\n",
      "KeyboardInterrupt\n",
      "Process ForkPoolWorker-66:\n",
      "Traceback (most recent call last):\n",
      "  File \"/Users/amash/anaconda3/envs/ra37/lib/python3.7/multiprocessing/process.py\", line 297, in _bootstrap\n",
      "    self.run()\n",
      "  File \"/Users/amash/anaconda3/envs/ra37/lib/python3.7/multiprocessing/process.py\", line 99, in run\n",
      "    self._target(*self._args, **self._kwargs)\n",
      "  File \"/Users/amash/anaconda3/envs/ra37/lib/python3.7/multiprocessing/pool.py\", line 127, in worker\n",
      "    put((job, i, result))\n",
      "  File \"/Users/amash/anaconda3/envs/ra37/lib/python3.7/multiprocessing/queues.py\", line 358, in put\n",
      "    obj = _ForkingPickler.dumps(obj)\n",
      "  File \"/Users/amash/anaconda3/envs/ra37/lib/python3.7/multiprocessing/reduction.py\", line 51, in dumps\n",
      "    cls(buf, protocol).dump(obj)\n",
      "KeyboardInterrupt\n"
     ]
    },
    {
     "ename": "KeyboardInterrupt",
     "evalue": "",
     "output_type": "error",
     "traceback": [
      "\u001b[0;31m---------------------------------------------------------------------------\u001b[0m",
      "\u001b[0;31mIndexError\u001b[0m                                Traceback (most recent call last)",
      "\u001b[0;32m~/anaconda3/envs/ra37/lib/python3.7/multiprocessing/pool.py\u001b[0m in \u001b[0;36mnext\u001b[0;34m(self, timeout)\u001b[0m\n\u001b[1;32m    732\u001b[0m             \u001b[0;32mtry\u001b[0m\u001b[0;34m:\u001b[0m\u001b[0;34m\u001b[0m\u001b[0;34m\u001b[0m\u001b[0m\n\u001b[0;32m--> 733\u001b[0;31m                 \u001b[0mitem\u001b[0m \u001b[0;34m=\u001b[0m \u001b[0mself\u001b[0m\u001b[0;34m.\u001b[0m\u001b[0m_items\u001b[0m\u001b[0;34m.\u001b[0m\u001b[0mpopleft\u001b[0m\u001b[0;34m(\u001b[0m\u001b[0;34m)\u001b[0m\u001b[0;34m\u001b[0m\u001b[0;34m\u001b[0m\u001b[0m\n\u001b[0m\u001b[1;32m    734\u001b[0m             \u001b[0;32mexcept\u001b[0m \u001b[0mIndexError\u001b[0m\u001b[0;34m:\u001b[0m\u001b[0;34m\u001b[0m\u001b[0;34m\u001b[0m\u001b[0m\n",
      "\u001b[0;31mIndexError\u001b[0m: pop from an empty deque",
      "\nDuring handling of the above exception, another exception occurred:\n",
      "\u001b[0;31mKeyboardInterrupt\u001b[0m                         Traceback (most recent call last)",
      "\u001b[0;32m/var/folders/mw/pr9lh8g56s998209vx6gx4000000gn/T/ipykernel_72142/3411551758.py\u001b[0m in \u001b[0;36m<module>\u001b[0;34m\u001b[0m\n\u001b[1;32m      1\u001b[0m \u001b[0mtimesteps\u001b[0m \u001b[0;34m=\u001b[0m \u001b[0;34m'real_time_clock'\u001b[0m\u001b[0;34m\u001b[0m\u001b[0;34m\u001b[0m\u001b[0m\n\u001b[0;32m----> 2\u001b[0;31m \u001b[0mdf_train\u001b[0m \u001b[0;34m=\u001b[0m \u001b[0mget_training_features\u001b[0m\u001b[0;34m(\u001b[0m\u001b[0mdf_all\u001b[0m\u001b[0;34m,\u001b[0m\u001b[0mtimesteps\u001b[0m\u001b[0;34m=\u001b[0m\u001b[0mtimesteps\u001b[0m\u001b[0;34m,\u001b[0m \u001b[0mfeatures\u001b[0m\u001b[0;34m=\u001b[0m\u001b[0mfeatures\u001b[0m\u001b[0;34m)\u001b[0m\u001b[0;34m\u001b[0m\u001b[0;34m\u001b[0m\u001b[0m\n\u001b[0m",
      "\u001b[0;32m~/Insync/GDrive/Projects/Raptor/raptor_functions/raptor_functions/supervised/feature_extraction.py\u001b[0m in \u001b[0;36mget_training_features\u001b[0;34m(df, offset, gradient, tree_model, unique_id, timesteps, label, features)\u001b[0m\n\u001b[1;32m    130\u001b[0m \u001b[0;34m\u001b[0m\u001b[0m\n\u001b[1;32m    131\u001b[0m     \u001b[0mprint\u001b[0m\u001b[0;34m(\u001b[0m\u001b[0;34m'Extracting all features'\u001b[0m\u001b[0;34m)\u001b[0m\u001b[0;34m\u001b[0m\u001b[0;34m\u001b[0m\u001b[0m\n\u001b[0;32m--> 132\u001b[0;31m     \u001b[0mX\u001b[0m \u001b[0;34m=\u001b[0m \u001b[0mget_all_features\u001b[0m\u001b[0;34m(\u001b[0m\u001b[0mX\u001b[0m\u001b[0;34m,\u001b[0m \u001b[0munique_id\u001b[0m\u001b[0;34m=\u001b[0m\u001b[0munique_id\u001b[0m\u001b[0;34m,\u001b[0m \u001b[0mtimesteps\u001b[0m\u001b[0;34m=\u001b[0m\u001b[0mtimesteps\u001b[0m\u001b[0;34m,\u001b[0m \u001b[0mfeatures\u001b[0m\u001b[0;34m=\u001b[0m\u001b[0mfeatures\u001b[0m\u001b[0;34m)\u001b[0m\u001b[0;34m\u001b[0m\u001b[0;34m\u001b[0m\u001b[0m\n\u001b[0m\u001b[1;32m    133\u001b[0m \u001b[0;34m\u001b[0m\u001b[0m\n\u001b[1;32m    134\u001b[0m     \u001b[0mprint\u001b[0m\u001b[0;34m(\u001b[0m\u001b[0;34m'Selecting relevant features'\u001b[0m\u001b[0;34m)\u001b[0m\u001b[0;34m\u001b[0m\u001b[0;34m\u001b[0m\u001b[0m\n",
      "\u001b[0;32m~/Insync/GDrive/Projects/Raptor/raptor_functions/raptor_functions/supervised/feature_extraction.py\u001b[0m in \u001b[0;36mget_all_features\u001b[0;34m(X, unique_id, timesteps, features)\u001b[0m\n\u001b[1;32m     67\u001b[0m         \u001b[0mdefault_fc_parameters\u001b[0m\u001b[0;34m=\u001b[0m\u001b[0mextraction_settings\u001b[0m\u001b[0;34m,\u001b[0m\u001b[0;34m\u001b[0m\u001b[0;34m\u001b[0m\u001b[0m\n\u001b[1;32m     68\u001b[0m         \u001b[0;31m# we impute = remove all NaN features automatically\u001b[0m\u001b[0;34m\u001b[0m\u001b[0;34m\u001b[0m\u001b[0;34m\u001b[0m\u001b[0m\n\u001b[0;32m---> 69\u001b[0;31m         \u001b[0mimpute_function\u001b[0m\u001b[0;34m=\u001b[0m\u001b[0mimpute\u001b[0m\u001b[0;34m,\u001b[0m\u001b[0;34m\u001b[0m\u001b[0;34m\u001b[0m\u001b[0m\n\u001b[0m\u001b[1;32m     70\u001b[0m     )\n\u001b[1;32m     71\u001b[0m \u001b[0;34m\u001b[0m\u001b[0m\n",
      "\u001b[0;32m~/anaconda3/envs/ra37/lib/python3.7/site-packages/tsfresh/feature_extraction/extraction.py\u001b[0m in \u001b[0;36mextract_features\u001b[0;34m(timeseries_container, default_fc_parameters, kind_to_fc_parameters, column_id, column_sort, column_kind, column_value, chunksize, n_jobs, show_warnings, disable_progressbar, impute_function, profile, profiling_filename, profiling_sorting, distributor, pivot)\u001b[0m\n\u001b[1;32m    175\u001b[0m             \u001b[0mkind_to_fc_parameters\u001b[0m\u001b[0;34m=\u001b[0m\u001b[0mkind_to_fc_parameters\u001b[0m\u001b[0;34m,\u001b[0m\u001b[0;34m\u001b[0m\u001b[0;34m\u001b[0m\u001b[0m\n\u001b[1;32m    176\u001b[0m             \u001b[0mdistributor\u001b[0m\u001b[0;34m=\u001b[0m\u001b[0mdistributor\u001b[0m\u001b[0;34m,\u001b[0m\u001b[0;34m\u001b[0m\u001b[0;34m\u001b[0m\u001b[0m\n\u001b[0;32m--> 177\u001b[0;31m             \u001b[0mpivot\u001b[0m\u001b[0;34m=\u001b[0m\u001b[0mpivot\u001b[0m\u001b[0;34m,\u001b[0m\u001b[0;34m\u001b[0m\u001b[0;34m\u001b[0m\u001b[0m\n\u001b[0m\u001b[1;32m    178\u001b[0m         )\n\u001b[1;32m    179\u001b[0m \u001b[0;34m\u001b[0m\u001b[0m\n",
      "\u001b[0;32m~/anaconda3/envs/ra37/lib/python3.7/site-packages/tsfresh/feature_extraction/extraction.py\u001b[0m in \u001b[0;36m_do_extraction\u001b[0;34m(df, column_id, column_value, column_kind, column_sort, default_fc_parameters, kind_to_fc_parameters, n_jobs, chunk_size, disable_progressbar, show_warnings, distributor, pivot)\u001b[0m\n\u001b[1;32m    296\u001b[0m         \u001b[0mdata\u001b[0m\u001b[0;34m=\u001b[0m\u001b[0mdata\u001b[0m\u001b[0;34m,\u001b[0m\u001b[0;34m\u001b[0m\u001b[0;34m\u001b[0m\u001b[0m\n\u001b[1;32m    297\u001b[0m         \u001b[0mchunk_size\u001b[0m\u001b[0;34m=\u001b[0m\u001b[0mchunk_size\u001b[0m\u001b[0;34m,\u001b[0m\u001b[0;34m\u001b[0m\u001b[0;34m\u001b[0m\u001b[0m\n\u001b[0;32m--> 298\u001b[0;31m         \u001b[0mfunction_kwargs\u001b[0m\u001b[0;34m=\u001b[0m\u001b[0mkwargs\u001b[0m\u001b[0;34m,\u001b[0m\u001b[0;34m\u001b[0m\u001b[0;34m\u001b[0m\u001b[0m\n\u001b[0m\u001b[1;32m    299\u001b[0m     )\n\u001b[1;32m    300\u001b[0m \u001b[0;34m\u001b[0m\u001b[0m\n",
      "\u001b[0;32m~/anaconda3/envs/ra37/lib/python3.7/site-packages/tsfresh/utilities/distribution.py\u001b[0m in \u001b[0;36mmap_reduce\u001b[0;34m(self, map_function, data, function_kwargs, chunk_size, data_length)\u001b[0m\n\u001b[1;32m    239\u001b[0m             )\n\u001b[1;32m    240\u001b[0m \u001b[0;34m\u001b[0m\u001b[0m\n\u001b[0;32m--> 241\u001b[0;31m         \u001b[0mresult\u001b[0m \u001b[0;34m=\u001b[0m \u001b[0mlist\u001b[0m\u001b[0;34m(\u001b[0m\u001b[0mitertools\u001b[0m\u001b[0;34m.\u001b[0m\u001b[0mchain\u001b[0m\u001b[0;34m.\u001b[0m\u001b[0mfrom_iterable\u001b[0m\u001b[0;34m(\u001b[0m\u001b[0mresult\u001b[0m\u001b[0;34m)\u001b[0m\u001b[0;34m)\u001b[0m\u001b[0;34m\u001b[0m\u001b[0;34m\u001b[0m\u001b[0m\n\u001b[0m\u001b[1;32m    242\u001b[0m \u001b[0;34m\u001b[0m\u001b[0m\n\u001b[1;32m    243\u001b[0m         \u001b[0mself\u001b[0m\u001b[0;34m.\u001b[0m\u001b[0mclose\u001b[0m\u001b[0;34m(\u001b[0m\u001b[0;34m)\u001b[0m\u001b[0;34m\u001b[0m\u001b[0;34m\u001b[0m\u001b[0m\n",
      "\u001b[0;32m~/anaconda3/envs/ra37/lib/python3.7/site-packages/tqdm/std.py\u001b[0m in \u001b[0;36m__iter__\u001b[0;34m(self)\u001b[0m\n\u001b[1;32m   1193\u001b[0m \u001b[0;34m\u001b[0m\u001b[0m\n\u001b[1;32m   1194\u001b[0m         \u001b[0;32mtry\u001b[0m\u001b[0;34m:\u001b[0m\u001b[0;34m\u001b[0m\u001b[0;34m\u001b[0m\u001b[0m\n\u001b[0;32m-> 1195\u001b[0;31m             \u001b[0;32mfor\u001b[0m \u001b[0mobj\u001b[0m \u001b[0;32min\u001b[0m \u001b[0miterable\u001b[0m\u001b[0;34m:\u001b[0m\u001b[0;34m\u001b[0m\u001b[0;34m\u001b[0m\u001b[0m\n\u001b[0m\u001b[1;32m   1196\u001b[0m                 \u001b[0;32myield\u001b[0m \u001b[0mobj\u001b[0m\u001b[0;34m\u001b[0m\u001b[0;34m\u001b[0m\u001b[0m\n\u001b[1;32m   1197\u001b[0m                 \u001b[0;31m# Update and possibly print the progressbar.\u001b[0m\u001b[0;34m\u001b[0m\u001b[0;34m\u001b[0m\u001b[0;34m\u001b[0m\u001b[0m\n",
      "\u001b[0;32m~/anaconda3/envs/ra37/lib/python3.7/multiprocessing/pool.py\u001b[0m in \u001b[0;36mnext\u001b[0;34m(self, timeout)\u001b[0m\n\u001b[1;32m    735\u001b[0m                 \u001b[0;32mif\u001b[0m \u001b[0mself\u001b[0m\u001b[0;34m.\u001b[0m\u001b[0m_index\u001b[0m \u001b[0;34m==\u001b[0m \u001b[0mself\u001b[0m\u001b[0;34m.\u001b[0m\u001b[0m_length\u001b[0m\u001b[0;34m:\u001b[0m\u001b[0;34m\u001b[0m\u001b[0;34m\u001b[0m\u001b[0m\n\u001b[1;32m    736\u001b[0m                     \u001b[0;32mraise\u001b[0m \u001b[0mStopIteration\u001b[0m \u001b[0;32mfrom\u001b[0m \u001b[0;32mNone\u001b[0m\u001b[0;34m\u001b[0m\u001b[0;34m\u001b[0m\u001b[0m\n\u001b[0;32m--> 737\u001b[0;31m                 \u001b[0mself\u001b[0m\u001b[0;34m.\u001b[0m\u001b[0m_cond\u001b[0m\u001b[0;34m.\u001b[0m\u001b[0mwait\u001b[0m\u001b[0;34m(\u001b[0m\u001b[0mtimeout\u001b[0m\u001b[0;34m)\u001b[0m\u001b[0;34m\u001b[0m\u001b[0;34m\u001b[0m\u001b[0m\n\u001b[0m\u001b[1;32m    738\u001b[0m                 \u001b[0;32mtry\u001b[0m\u001b[0;34m:\u001b[0m\u001b[0;34m\u001b[0m\u001b[0;34m\u001b[0m\u001b[0m\n\u001b[1;32m    739\u001b[0m                     \u001b[0mitem\u001b[0m \u001b[0;34m=\u001b[0m \u001b[0mself\u001b[0m\u001b[0;34m.\u001b[0m\u001b[0m_items\u001b[0m\u001b[0;34m.\u001b[0m\u001b[0mpopleft\u001b[0m\u001b[0;34m(\u001b[0m\u001b[0;34m)\u001b[0m\u001b[0;34m\u001b[0m\u001b[0;34m\u001b[0m\u001b[0m\n",
      "\u001b[0;32m~/anaconda3/envs/ra37/lib/python3.7/threading.py\u001b[0m in \u001b[0;36mwait\u001b[0;34m(self, timeout)\u001b[0m\n\u001b[1;32m    294\u001b[0m         \u001b[0;32mtry\u001b[0m\u001b[0;34m:\u001b[0m    \u001b[0;31m# restore state no matter what (e.g., KeyboardInterrupt)\u001b[0m\u001b[0;34m\u001b[0m\u001b[0;34m\u001b[0m\u001b[0m\n\u001b[1;32m    295\u001b[0m             \u001b[0;32mif\u001b[0m \u001b[0mtimeout\u001b[0m \u001b[0;32mis\u001b[0m \u001b[0;32mNone\u001b[0m\u001b[0;34m:\u001b[0m\u001b[0;34m\u001b[0m\u001b[0;34m\u001b[0m\u001b[0m\n\u001b[0;32m--> 296\u001b[0;31m                 \u001b[0mwaiter\u001b[0m\u001b[0;34m.\u001b[0m\u001b[0macquire\u001b[0m\u001b[0;34m(\u001b[0m\u001b[0;34m)\u001b[0m\u001b[0;34m\u001b[0m\u001b[0;34m\u001b[0m\u001b[0m\n\u001b[0m\u001b[1;32m    297\u001b[0m                 \u001b[0mgotit\u001b[0m \u001b[0;34m=\u001b[0m \u001b[0;32mTrue\u001b[0m\u001b[0;34m\u001b[0m\u001b[0;34m\u001b[0m\u001b[0m\n\u001b[1;32m    298\u001b[0m             \u001b[0;32melse\u001b[0m\u001b[0;34m:\u001b[0m\u001b[0;34m\u001b[0m\u001b[0;34m\u001b[0m\u001b[0m\n",
      "\u001b[0;31mKeyboardInterrupt\u001b[0m: "
     ]
    }
   ],
   "source": [
    "timesteps = 'real_time_clock'\n",
    "df_train = get_training_features(df_all,timesteps=timesteps, features=features)"
   ]
  },
  {
   "cell_type": "code",
   "execution_count": 25,
   "metadata": {},
   "outputs": [
    {
     "data": {
      "text/plain": [
       "31"
      ]
     },
     "execution_count": 25,
     "metadata": {},
     "output_type": "execute_result"
    }
   ],
   "source": [
    "len(df_train.columns)"
   ]
  },
  {
   "cell_type": "code",
   "execution_count": 17,
   "metadata": {},
   "outputs": [],
   "source": [
    "df_train.to_csv('df_selected_features.csv')"
   ]
  },
  {
   "cell_type": "code",
   "execution_count": null,
   "metadata": {},
   "outputs": [],
   "source": [
    "df_train = pd.read_csv('df_selected_features.csv', index_col=0)"
   ]
  },
  {
   "cell_type": "code",
   "execution_count": 22,
   "metadata": {},
   "outputs": [
    {
     "name": "stdout",
     "output_type": "stream",
     "text": [
      "Plot saved sucesfully in current path!\n"
     ]
    }
   ],
   "source": [
    "X = df_train.drop('result', axis=1)\n",
    "y = df_train['result']\n",
    "\n",
    "dimension_reduction_plot(X, y)"
   ]
  },
  {
   "cell_type": "code",
   "execution_count": 26,
   "metadata": {},
   "outputs": [
    {
     "data": {
      "text/html": [
       "<style type=\"text/css\">\n",
       "#T_9fd60_row10_col0, #T_9fd60_row10_col1, #T_9fd60_row10_col2, #T_9fd60_row10_col3, #T_9fd60_row10_col4, #T_9fd60_row10_col5 {\n",
       "  background: yellow;\n",
       "}\n",
       "</style>\n",
       "<table id=\"T_9fd60_\">\n",
       "  <thead>\n",
       "    <tr>\n",
       "      <th class=\"blank level0\" >&nbsp;</th>\n",
       "      <th class=\"col_heading level0 col0\" >Accuracy</th>\n",
       "      <th class=\"col_heading level0 col1\" >AUC</th>\n",
       "      <th class=\"col_heading level0 col2\" >Recall</th>\n",
       "      <th class=\"col_heading level0 col3\" >Prec.</th>\n",
       "      <th class=\"col_heading level0 col4\" >F1</th>\n",
       "      <th class=\"col_heading level0 col5\" >Specificity</th>\n",
       "    </tr>\n",
       "    <tr>\n",
       "      <th class=\"index_name level0\" >Fold</th>\n",
       "      <th class=\"blank col0\" >&nbsp;</th>\n",
       "      <th class=\"blank col1\" >&nbsp;</th>\n",
       "      <th class=\"blank col2\" >&nbsp;</th>\n",
       "      <th class=\"blank col3\" >&nbsp;</th>\n",
       "      <th class=\"blank col4\" >&nbsp;</th>\n",
       "      <th class=\"blank col5\" >&nbsp;</th>\n",
       "    </tr>\n",
       "  </thead>\n",
       "  <tbody>\n",
       "    <tr>\n",
       "      <th id=\"T_9fd60_level0_row0\" class=\"row_heading level0 row0\" >0</th>\n",
       "      <td id=\"T_9fd60_row0_col0\" class=\"data row0 col0\" >0.2807</td>\n",
       "      <td id=\"T_9fd60_row0_col1\" class=\"data row0 col1\" >0.0000</td>\n",
       "      <td id=\"T_9fd60_row0_col2\" class=\"data row0 col2\" >0.3333</td>\n",
       "      <td id=\"T_9fd60_row0_col3\" class=\"data row0 col3\" >0.0788</td>\n",
       "      <td id=\"T_9fd60_row0_col4\" class=\"data row0 col4\" >0.1230</td>\n",
       "      <td id=\"T_9fd60_row0_col5\" class=\"data row0 col5\" >0.0000</td>\n",
       "    </tr>\n",
       "    <tr>\n",
       "      <th id=\"T_9fd60_level0_row1\" class=\"row_heading level0 row1\" >1</th>\n",
       "      <td id=\"T_9fd60_row1_col0\" class=\"data row1 col0\" >0.2807</td>\n",
       "      <td id=\"T_9fd60_row1_col1\" class=\"data row1 col1\" >0.0000</td>\n",
       "      <td id=\"T_9fd60_row1_col2\" class=\"data row1 col2\" >0.3137</td>\n",
       "      <td id=\"T_9fd60_row1_col3\" class=\"data row1 col3\" >0.0852</td>\n",
       "      <td id=\"T_9fd60_row1_col4\" class=\"data row1 col4\" >0.1307</td>\n",
       "      <td id=\"T_9fd60_row1_col5\" class=\"data row1 col5\" >0.0000</td>\n",
       "    </tr>\n",
       "    <tr>\n",
       "      <th id=\"T_9fd60_level0_row2\" class=\"row_heading level0 row2\" >2</th>\n",
       "      <td id=\"T_9fd60_row2_col0\" class=\"data row2 col0\" >0.2982</td>\n",
       "      <td id=\"T_9fd60_row2_col1\" class=\"data row2 col1\" >0.0000</td>\n",
       "      <td id=\"T_9fd60_row2_col2\" class=\"data row2 col2\" >0.3333</td>\n",
       "      <td id=\"T_9fd60_row2_col3\" class=\"data row2 col3\" >0.0890</td>\n",
       "      <td id=\"T_9fd60_row2_col4\" class=\"data row2 col4\" >0.1370</td>\n",
       "      <td id=\"T_9fd60_row2_col5\" class=\"data row2 col5\" >0.0000</td>\n",
       "    </tr>\n",
       "    <tr>\n",
       "      <th id=\"T_9fd60_level0_row3\" class=\"row_heading level0 row3\" >3</th>\n",
       "      <td id=\"T_9fd60_row3_col0\" class=\"data row3 col0\" >0.3860</td>\n",
       "      <td id=\"T_9fd60_row3_col1\" class=\"data row3 col1\" >0.0000</td>\n",
       "      <td id=\"T_9fd60_row3_col2\" class=\"data row3 col2\" >0.3333</td>\n",
       "      <td id=\"T_9fd60_row3_col3\" class=\"data row3 col3\" >0.1490</td>\n",
       "      <td id=\"T_9fd60_row3_col4\" class=\"data row3 col4\" >0.2150</td>\n",
       "      <td id=\"T_9fd60_row3_col5\" class=\"data row3 col5\" >0.0000</td>\n",
       "    </tr>\n",
       "    <tr>\n",
       "      <th id=\"T_9fd60_level0_row4\" class=\"row_heading level0 row4\" >4</th>\n",
       "      <td id=\"T_9fd60_row4_col0\" class=\"data row4 col0\" >0.3036</td>\n",
       "      <td id=\"T_9fd60_row4_col1\" class=\"data row4 col1\" >0.0000</td>\n",
       "      <td id=\"T_9fd60_row4_col2\" class=\"data row4 col2\" >0.3519</td>\n",
       "      <td id=\"T_9fd60_row4_col3\" class=\"data row4 col3\" >0.4045</td>\n",
       "      <td id=\"T_9fd60_row4_col4\" class=\"data row4 col4\" >0.1626</td>\n",
       "      <td id=\"T_9fd60_row4_col5\" class=\"data row4 col5\" >0.0000</td>\n",
       "    </tr>\n",
       "    <tr>\n",
       "      <th id=\"T_9fd60_level0_row5\" class=\"row_heading level0 row5\" >5</th>\n",
       "      <td id=\"T_9fd60_row5_col0\" class=\"data row5 col0\" >0.2857</td>\n",
       "      <td id=\"T_9fd60_row5_col1\" class=\"data row5 col1\" >0.0000</td>\n",
       "      <td id=\"T_9fd60_row5_col2\" class=\"data row5 col2\" >0.3333</td>\n",
       "      <td id=\"T_9fd60_row5_col3\" class=\"data row5 col3\" >0.0816</td>\n",
       "      <td id=\"T_9fd60_row5_col4\" class=\"data row5 col4\" >0.1270</td>\n",
       "      <td id=\"T_9fd60_row5_col5\" class=\"data row5 col5\" >0.0000</td>\n",
       "    </tr>\n",
       "    <tr>\n",
       "      <th id=\"T_9fd60_level0_row6\" class=\"row_heading level0 row6\" >6</th>\n",
       "      <td id=\"T_9fd60_row6_col0\" class=\"data row6 col0\" >0.2857</td>\n",
       "      <td id=\"T_9fd60_row6_col1\" class=\"data row6 col1\" >0.0000</td>\n",
       "      <td id=\"T_9fd60_row6_col2\" class=\"data row6 col2\" >0.3333</td>\n",
       "      <td id=\"T_9fd60_row6_col3\" class=\"data row6 col3\" >0.0816</td>\n",
       "      <td id=\"T_9fd60_row6_col4\" class=\"data row6 col4\" >0.1270</td>\n",
       "      <td id=\"T_9fd60_row6_col5\" class=\"data row6 col5\" >0.0000</td>\n",
       "    </tr>\n",
       "    <tr>\n",
       "      <th id=\"T_9fd60_level0_row7\" class=\"row_heading level0 row7\" >7</th>\n",
       "      <td id=\"T_9fd60_row7_col0\" class=\"data row7 col0\" >0.3214</td>\n",
       "      <td id=\"T_9fd60_row7_col1\" class=\"data row7 col1\" >0.0000</td>\n",
       "      <td id=\"T_9fd60_row7_col2\" class=\"data row7 col2\" >0.3333</td>\n",
       "      <td id=\"T_9fd60_row7_col3\" class=\"data row7 col3\" >0.1033</td>\n",
       "      <td id=\"T_9fd60_row7_col4\" class=\"data row7 col4\" >0.1564</td>\n",
       "      <td id=\"T_9fd60_row7_col5\" class=\"data row7 col5\" >0.0000</td>\n",
       "    </tr>\n",
       "    <tr>\n",
       "      <th id=\"T_9fd60_level0_row8\" class=\"row_heading level0 row8\" >8</th>\n",
       "      <td id=\"T_9fd60_row8_col0\" class=\"data row8 col0\" >0.3214</td>\n",
       "      <td id=\"T_9fd60_row8_col1\" class=\"data row8 col1\" >0.0000</td>\n",
       "      <td id=\"T_9fd60_row8_col2\" class=\"data row8 col2\" >0.3333</td>\n",
       "      <td id=\"T_9fd60_row8_col3\" class=\"data row8 col3\" >0.1033</td>\n",
       "      <td id=\"T_9fd60_row8_col4\" class=\"data row8 col4\" >0.1564</td>\n",
       "      <td id=\"T_9fd60_row8_col5\" class=\"data row8 col5\" >0.0000</td>\n",
       "    </tr>\n",
       "    <tr>\n",
       "      <th id=\"T_9fd60_level0_row9\" class=\"row_heading level0 row9\" >9</th>\n",
       "      <td id=\"T_9fd60_row9_col0\" class=\"data row9 col0\" >0.2857</td>\n",
       "      <td id=\"T_9fd60_row9_col1\" class=\"data row9 col1\" >0.0000</td>\n",
       "      <td id=\"T_9fd60_row9_col2\" class=\"data row9 col2\" >0.3333</td>\n",
       "      <td id=\"T_9fd60_row9_col3\" class=\"data row9 col3\" >0.0816</td>\n",
       "      <td id=\"T_9fd60_row9_col4\" class=\"data row9 col4\" >0.1270</td>\n",
       "      <td id=\"T_9fd60_row9_col5\" class=\"data row9 col5\" >0.0000</td>\n",
       "    </tr>\n",
       "    <tr>\n",
       "      <th id=\"T_9fd60_level0_row10\" class=\"row_heading level0 row10\" >Mean</th>\n",
       "      <td id=\"T_9fd60_row10_col0\" class=\"data row10 col0\" >0.3049</td>\n",
       "      <td id=\"T_9fd60_row10_col1\" class=\"data row10 col1\" >0.0000</td>\n",
       "      <td id=\"T_9fd60_row10_col2\" class=\"data row10 col2\" >0.3332</td>\n",
       "      <td id=\"T_9fd60_row10_col3\" class=\"data row10 col3\" >0.1258</td>\n",
       "      <td id=\"T_9fd60_row10_col4\" class=\"data row10 col4\" >0.1462</td>\n",
       "      <td id=\"T_9fd60_row10_col5\" class=\"data row10 col5\" >0.0000</td>\n",
       "    </tr>\n",
       "    <tr>\n",
       "      <th id=\"T_9fd60_level0_row11\" class=\"row_heading level0 row11\" >Std</th>\n",
       "      <td id=\"T_9fd60_row11_col0\" class=\"data row11 col0\" >0.0307</td>\n",
       "      <td id=\"T_9fd60_row11_col1\" class=\"data row11 col1\" >0.0000</td>\n",
       "      <td id=\"T_9fd60_row11_col2\" class=\"data row11 col2\" >0.0085</td>\n",
       "      <td id=\"T_9fd60_row11_col3\" class=\"data row11 col3\" >0.0950</td>\n",
       "      <td id=\"T_9fd60_row11_col4\" class=\"data row11 col4\" >0.0268</td>\n",
       "      <td id=\"T_9fd60_row11_col5\" class=\"data row11 col5\" >0.0000</td>\n",
       "    </tr>\n",
       "  </tbody>\n",
       "</table>\n"
      ],
      "text/plain": [
       "<pandas.io.formats.style.Styler at 0x7fb2b4d0a150>"
      ]
     },
     "metadata": {},
     "output_type": "display_data"
    },
    {
     "data": {
      "text/html": [
       "<style type=\"text/css\">\n",
       "</style>\n",
       "<table id=\"T_effbb_\">\n",
       "  <thead>\n",
       "    <tr>\n",
       "      <th class=\"blank level0\" >&nbsp;</th>\n",
       "      <th class=\"col_heading level0 col0\" >Model</th>\n",
       "      <th class=\"col_heading level0 col1\" >Accuracy</th>\n",
       "      <th class=\"col_heading level0 col2\" >AUC</th>\n",
       "      <th class=\"col_heading level0 col3\" >Recall</th>\n",
       "      <th class=\"col_heading level0 col4\" >Prec.</th>\n",
       "      <th class=\"col_heading level0 col5\" >F1</th>\n",
       "      <th class=\"col_heading level0 col6\" >Specificity</th>\n",
       "    </tr>\n",
       "  </thead>\n",
       "  <tbody>\n",
       "    <tr>\n",
       "      <th id=\"T_effbb_level0_row0\" class=\"row_heading level0 row0\" >0</th>\n",
       "      <td id=\"T_effbb_row0_col0\" class=\"data row0 col0\" >SVM - Linear Kernel</td>\n",
       "      <td id=\"T_effbb_row0_col1\" class=\"data row0 col1\" >0.3704</td>\n",
       "      <td id=\"T_effbb_row0_col2\" class=\"data row0 col2\" >0</td>\n",
       "      <td id=\"T_effbb_row0_col3\" class=\"data row0 col3\" >0.3333</td>\n",
       "      <td id=\"T_effbb_row0_col4\" class=\"data row0 col4\" >0.1377</td>\n",
       "      <td id=\"T_effbb_row0_col5\" class=\"data row0 col5\" >0.2008</td>\n",
       "      <td id=\"T_effbb_row0_col6\" class=\"data row0 col6\" >0</td>\n",
       "    </tr>\n",
       "  </tbody>\n",
       "</table>\n"
      ],
      "text/plain": [
       "<pandas.io.formats.style.Styler at 0x7fb2f7b31e50>"
      ]
     },
     "metadata": {},
     "output_type": "display_data"
    },
    {
     "name": "stderr",
     "output_type": "stream",
     "text": [
      "2022/07/28 09:11:45 WARNING mlflow.models.model: Logging model metadata to the tracking server has failed, possibly due older server version. The model artifacts have been logged successfully under s3://raptor-mlflow-data/4/49c7aec2245744459cde0adc9a6c1718/artifacts. In addition to exporting model artifacts, MLflow clients 1.7.0 and above attempt to record model metadata to the tracking store. If logging to a mlflow server via REST, consider upgrading the server version to MLflow 1.7.0 or above.\n"
     ]
    },
    {
     "name": "stdout",
     "output_type": "stream",
     "text": [
      "WARNING: For shap='linear', shap interaction values can unfortunately not be calculated!\n"
     ]
    },
    {
     "name": "stderr",
     "output_type": "stream",
     "text": [
      "\u001b[33m[W 2022-07-28 09:11:46,510]\u001b[0m Trial 4 failed, because the value None could not be cast to float.\u001b[0m\n"
     ]
    },
    {
     "name": "stdout",
     "output_type": "stream",
     "text": [
      "Click on this link to track experiments:  http://ec2-18-133-140-90.eu-west-2.compute.amazonaws.com:5000/\n"
     ]
    }
   ],
   "source": [
    "import mlflow\n",
    "\n",
    "mlflow.end_run()\n",
    "train_experiments(df_train, study_name='bosch')"
   ]
  },
  {
   "cell_type": "code",
   "execution_count": null,
   "metadata": {},
   "outputs": [],
   "source": []
  }
 ],
 "metadata": {
  "kernelspec": {
   "display_name": "Python 3.9.13 64-bit",
   "language": "python",
   "name": "python3"
  },
  "language_info": {
   "codemirror_mode": {
    "name": "ipython",
    "version": 3
   },
   "file_extension": ".py",
   "mimetype": "text/x-python",
   "name": "python",
   "nbconvert_exporter": "python",
   "pygments_lexer": "ipython3",
   "version": "3.9.13"
  },
  "orig_nbformat": 4,
  "vscode": {
   "interpreter": {
    "hash": "b0fa6594d8f4cbf19f97940f81e996739fb7646882a419484c72d19e05852a7e"
   }
  }
 },
 "nbformat": 4,
 "nbformat_minor": 2
}
