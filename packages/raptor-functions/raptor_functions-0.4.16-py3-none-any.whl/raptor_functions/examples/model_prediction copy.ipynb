{
  "cells": [
    {
      "cell_type": "code",
      "execution_count": 1,
      "metadata": {},
      "outputs": [],
      "source": [
        "import os\n",
        "import sys\n",
        "import glob\n",
        "import numpy as np\n",
        "import pandas as pd\n",
        "\n",
        "import os\n",
        "# PACKAGE_FOLDER =  os.environ.get('PACKAGE_FOLDER')\n",
        "PACKAGE_FOLDER = '/Users/amash/Insync/GDrive/Projects/Raptor/raptor_functions'\n",
        "sys.path.insert(0, PACKAGE_FOLDER)"
      ]
    },
    {
      "cell_type": "markdown",
      "metadata": {
        "id": "rmLfmB_m-hLF"
      },
      "source": [
        "# Libraries to install"
      ]
    },
    {
      "cell_type": "code",
      "execution_count": 2,
      "metadata": {
        "id": "61otSm367mdd"
      },
      "outputs": [],
      "source": [
        "# !pip install mlflow boto3 awscli tsfresh raptor_functions"
      ]
    },
    {
      "cell_type": "markdown",
      "metadata": {
        "id": "UgS_p5aA-lAh"
      },
      "source": [
        "# Retrieve Model URI from mlflow"
      ]
    },
    {
      "cell_type": "code",
      "execution_count": 3,
      "metadata": {
        "colab": {
          "base_uri": "https://localhost:8080/"
        },
        "id": "cF5Np6AZ78vc",
        "outputId": "238b6bd5-ce5c-4d02-981e-5d509549b65b"
      },
      "outputs": [],
      "source": [
        "# !aws configure"
      ]
    },
    {
      "cell_type": "markdown",
      "metadata": {
        "id": "MhXPgJyPGOBU"
      },
      "source": [
        "This is the only thing we add in the code to make a prediction + new data"
      ]
    },
    {
      "cell_type": "code",
      "execution_count": 4,
      "metadata": {
        "id": "s4XGp04P_zRs"
      },
      "outputs": [],
      "source": [
        "# INPUT - URI to the MLFlow experiment\n",
        "# ************************************\n",
        "# ************************************\n",
        "model_uri = 's3://raptor-mlflow-data/mlartifacts/3/24ed79470750408cb81dde2c7a1845b4/artifacts/ssc'\n",
        "# ************************************\n",
        "# ************************************"
      ]
    },
    {
      "cell_type": "markdown",
      "metadata": {
        "id": "JJwpWPBGDdYC"
      },
      "source": [
        "## Get new data"
      ]
    },
    {
      "cell_type": "code",
      "execution_count": 5,
      "metadata": {},
      "outputs": [],
      "source": [
        "# model_uri1 = 's3://raptor-mlflow-data/mlartifacts/1/5c313b84ccfa4c39a538a1d3241cafab/artifacts/Extreme Gradient Boosting'"
      ]
    },
    {
      "cell_type": "code",
      "execution_count": 4,
      "metadata": {},
      "outputs": [],
      "source": [
        "model_uri1 = \"s3://raptor-mlflow-data/mlartifacts/1/db53e8baeb3f4ecb9116f13b033ec75e/artifacts/Extreme Gradient Boosting\"\n",
        "model_uri2 = 's3://raptor-mlflow-data/mlartifacts/3/e0ae99ed8de249feab80393307c9be22/artifacts/ssc'\n",
        "# model_uri2 = 's3://raptor-mlflow-data/mlartifacts/3/3032491ee7e44b59a99c3209716af01a/artifacts/ssc'\n"
      ]
    },
    {
      "cell_type": "code",
      "execution_count": 5,
      "metadata": {
        "id": "M9mPVs7853s9"
      },
      "outputs": [],
      "source": [
        "from raptor_functions.supervised.datasets import get_data\n",
        "df = get_data('handheld_data')\n",
        "\n",
        "# select one single experiment\n",
        "df_exp = df.groupby('exp_unique_id').get_group(0)"
      ]
    },
    {
      "cell_type": "markdown",
      "metadata": {
        "id": "QhgZZaiKF1Lj"
      },
      "source": [
        "# Predict on new data"
      ]
    },
    {
      "cell_type": "markdown",
      "metadata": {
        "id": "SX5aCaekELyN"
      },
      "source": [
        "### Method 1\n",
        "- get prediction data\n",
        "- load model\n",
        "- make prediction"
      ]
    },
    {
      "cell_type": "code",
      "execution_count": 6,
      "metadata": {
        "id": "OmvLXHOZCUGn"
      },
      "outputs": [
        {
          "name": "stderr",
          "output_type": "stream",
          "text": [
            "Feature Extraction: 100%|██████████| 18/18 [00:00<00:00, 3628.99it/s]\n",
            "/Users/amash/Insync/GDrive/Projects/Raptor/raptor_functions/raptor_functions/semi_supervised/prediction.py:60: FutureWarning: The default value of regex will change from True to False in a future version.\n",
            "  prediction_data.columns = prediction_data.columns.str.replace('[\"]', \"\")\n",
            "Feature Extraction: 100%|██████████| 18/18 [00:00<00:00, 8538.51it/s]\n",
            "/Users/amash/Insync/GDrive/Projects/Raptor/raptor_functions/raptor_functions/semi_supervised/prediction.py:60: FutureWarning: The default value of regex will change from True to False in a future version.\n",
            "  prediction_data.columns = prediction_data.columns.str.replace('[\"]', \"\")\n"
          ]
        }
      ],
      "source": [
        "# from raptor_functions.supervised.prediction import get_prediction_features\n",
        "\n",
        "from raptor_functions.semi_supervised.prediction import get_prediction_features\n",
        "\n",
        "prediction_data1 = get_prediction_features(df_exp, model_uri1)\n",
        "prediction_data2 = get_prediction_features(df_exp, model_uri2)"
      ]
    },
    {
      "cell_type": "code",
      "execution_count": 7,
      "metadata": {
        "id": "9n36kSarFR9R"
      },
      "outputs": [
        {
          "data": {
            "text/html": [
              "<div>\n",
              "<style scoped>\n",
              "    .dataframe tbody tr th:only-of-type {\n",
              "        vertical-align: middle;\n",
              "    }\n",
              "\n",
              "    .dataframe tbody tr th {\n",
              "        vertical-align: top;\n",
              "    }\n",
              "\n",
              "    .dataframe thead th {\n",
              "        text-align: right;\n",
              "    }\n",
              "</style>\n",
              "<table border=\"1\" class=\"dataframe\">\n",
              "  <thead>\n",
              "    <tr style=\"text-align: right;\">\n",
              "      <th></th>\n",
              "      <th>sensor_5__fft_coefficient__attr_angle__coeff_34</th>\n",
              "    </tr>\n",
              "  </thead>\n",
              "  <tbody>\n",
              "    <tr>\n",
              "      <th>0</th>\n",
              "      <td>27.346596</td>\n",
              "    </tr>\n",
              "  </tbody>\n",
              "</table>\n",
              "</div>"
            ],
            "text/plain": [
              "   sensor_5__fft_coefficient__attr_angle__coeff_34\n",
              "0                                        27.346596"
            ]
          },
          "execution_count": 7,
          "metadata": {},
          "output_type": "execute_result"
        }
      ],
      "source": [
        "prediction_data1"
      ]
    },
    {
      "cell_type": "code",
      "execution_count": 8,
      "metadata": {},
      "outputs": [
        {
          "data": {
            "text/html": [
              "<div>\n",
              "<style scoped>\n",
              "    .dataframe tbody tr th:only-of-type {\n",
              "        vertical-align: middle;\n",
              "    }\n",
              "\n",
              "    .dataframe tbody tr th {\n",
              "        vertical-align: top;\n",
              "    }\n",
              "\n",
              "    .dataframe thead th {\n",
              "        text-align: right;\n",
              "    }\n",
              "</style>\n",
              "<table border=\"1\" class=\"dataframe\">\n",
              "  <thead>\n",
              "    <tr style=\"text-align: right;\">\n",
              "      <th></th>\n",
              "      <th>sensor_1__autocorrelation__lag_9</th>\n",
              "    </tr>\n",
              "  </thead>\n",
              "  <tbody>\n",
              "    <tr>\n",
              "      <th>0</th>\n",
              "      <td>0.679405</td>\n",
              "    </tr>\n",
              "  </tbody>\n",
              "</table>\n",
              "</div>"
            ],
            "text/plain": [
              "   sensor_1__autocorrelation__lag_9\n",
              "0                          0.679405"
            ]
          },
          "execution_count": 8,
          "metadata": {},
          "output_type": "execute_result"
        }
      ],
      "source": [
        "prediction_data2"
      ]
    },
    {
      "cell_type": "code",
      "execution_count": 9,
      "metadata": {
        "id": "zQ_UuWul7ry9"
      },
      "outputs": [],
      "source": [
        "import mlflow\n",
        "# Load model as a PyFuncModel.\n",
        "loaded_model1 = mlflow.pyfunc.load_model(model_uri1)\n",
        "pred1 = loaded_model1.predict(prediction_data1)\n",
        "\n",
        "loaded_model2 = mlflow.pyfunc.load_model(model_uri2)\n",
        "pred2 = loaded_model2.predict(prediction_data2)"
      ]
    },
    {
      "cell_type": "code",
      "execution_count": 10,
      "metadata": {},
      "outputs": [
        {
          "data": {
            "text/plain": [
              "array([0])"
            ]
          },
          "execution_count": 10,
          "metadata": {},
          "output_type": "execute_result"
        }
      ],
      "source": [
        "pred1"
      ]
    },
    {
      "cell_type": "code",
      "execution_count": 11,
      "metadata": {
        "colab": {
          "base_uri": "https://localhost:8080/"
        },
        "id": "9QjQKplqShpB",
        "outputId": "267aa08c-714b-48ae-a128-fc552e217964"
      },
      "outputs": [
        {
          "data": {
            "text/plain": [
              "0"
            ]
          },
          "execution_count": 11,
          "metadata": {},
          "output_type": "execute_result"
        }
      ],
      "source": [
        "pred2"
      ]
    },
    {
      "cell_type": "markdown",
      "metadata": {
        "id": "FiZbjDTwEOip"
      },
      "source": [
        "### Method 2\n",
        "- make prediction"
      ]
    },
    {
      "cell_type": "code",
      "execution_count": 12,
      "metadata": {},
      "outputs": [],
      "source": [
        "from raptor_functions.supervised.prediction import make_prediction, make_ensemble_prediction\n"
      ]
    },
    {
      "cell_type": "code",
      "execution_count": 13,
      "metadata": {},
      "outputs": [
        {
          "data": {
            "text/html": [
              "<div>\n",
              "<style scoped>\n",
              "    .dataframe tbody tr th:only-of-type {\n",
              "        vertical-align: middle;\n",
              "    }\n",
              "\n",
              "    .dataframe tbody tr th {\n",
              "        vertical-align: top;\n",
              "    }\n",
              "\n",
              "    .dataframe thead th {\n",
              "        text-align: right;\n",
              "    }\n",
              "</style>\n",
              "<table border=\"1\" class=\"dataframe\">\n",
              "  <thead>\n",
              "    <tr style=\"text-align: right;\">\n",
              "      <th></th>\n",
              "      <th>exp_unique_id</th>\n",
              "      <th>exp_name</th>\n",
              "      <th>timesteps</th>\n",
              "      <th>sensor_1</th>\n",
              "      <th>sensor_2</th>\n",
              "      <th>sensor_3</th>\n",
              "      <th>sensor_4</th>\n",
              "      <th>sensor_5</th>\n",
              "      <th>sensor_6</th>\n",
              "      <th>sensor_7</th>\n",
              "      <th>...</th>\n",
              "      <th>sensor_23</th>\n",
              "      <th>sensor_24</th>\n",
              "      <th>Humidity (r.h.)</th>\n",
              "      <th>measurement_stage</th>\n",
              "      <th>date_exp</th>\n",
              "      <th>time_elapsed</th>\n",
              "      <th>datetime_exp_start</th>\n",
              "      <th>datetime_exp</th>\n",
              "      <th>filename</th>\n",
              "      <th>result</th>\n",
              "    </tr>\n",
              "  </thead>\n",
              "  <tbody>\n",
              "    <tr>\n",
              "      <th>0</th>\n",
              "      <td>0</td>\n",
              "      <td>Test 24</td>\n",
              "      <td>1</td>\n",
              "      <td>131.938</td>\n",
              "      <td>132.443</td>\n",
              "      <td>177.444</td>\n",
              "      <td>178.157</td>\n",
              "      <td>44.974</td>\n",
              "      <td>44.508</td>\n",
              "      <td>219.374</td>\n",
              "      <td>...</td>\n",
              "      <td>143.288</td>\n",
              "      <td>142.050</td>\n",
              "      <td>46.07</td>\n",
              "      <td>baseline</td>\n",
              "      <td>21/3/2022</td>\n",
              "      <td>0.00</td>\n",
              "      <td>14:12:54</td>\n",
              "      <td>2022-03-21 14:12:54.000</td>\n",
              "      <td>5 NegTest_3_20220321_14_12.txt</td>\n",
              "      <td>Control</td>\n",
              "    </tr>\n",
              "    <tr>\n",
              "      <th>1</th>\n",
              "      <td>0</td>\n",
              "      <td>Test 24</td>\n",
              "      <td>2</td>\n",
              "      <td>133.078</td>\n",
              "      <td>133.972</td>\n",
              "      <td>177.444</td>\n",
              "      <td>178.694</td>\n",
              "      <td>45.131</td>\n",
              "      <td>44.611</td>\n",
              "      <td>219.607</td>\n",
              "      <td>...</td>\n",
              "      <td>142.874</td>\n",
              "      <td>141.914</td>\n",
              "      <td>46.07</td>\n",
              "      <td>baseline</td>\n",
              "      <td>21/3/2022</td>\n",
              "      <td>0.25</td>\n",
              "      <td>14:12:54</td>\n",
              "      <td>2022-03-21 14:12:54.250</td>\n",
              "      <td>5 NegTest_3_20220321_14_12.txt</td>\n",
              "      <td>Control</td>\n",
              "    </tr>\n",
              "    <tr>\n",
              "      <th>2</th>\n",
              "      <td>0</td>\n",
              "      <td>Test 24</td>\n",
              "      <td>3</td>\n",
              "      <td>131.812</td>\n",
              "      <td>132.064</td>\n",
              "      <td>177.622</td>\n",
              "      <td>178.694</td>\n",
              "      <td>45.183</td>\n",
              "      <td>44.663</td>\n",
              "      <td>219.841</td>\n",
              "      <td>...</td>\n",
              "      <td>143.288</td>\n",
              "      <td>141.914</td>\n",
              "      <td>46.07</td>\n",
              "      <td>baseline</td>\n",
              "      <td>21/3/2022</td>\n",
              "      <td>0.50</td>\n",
              "      <td>14:12:54</td>\n",
              "      <td>2022-03-21 14:12:54.500</td>\n",
              "      <td>5 NegTest_3_20220321_14_12.txt</td>\n",
              "      <td>Control</td>\n",
              "    </tr>\n",
              "    <tr>\n",
              "      <th>3</th>\n",
              "      <td>0</td>\n",
              "      <td>Test 24</td>\n",
              "      <td>4</td>\n",
              "      <td>131.059</td>\n",
              "      <td>132.064</td>\n",
              "      <td>177.444</td>\n",
              "      <td>178.694</td>\n",
              "      <td>45.183</td>\n",
              "      <td>44.663</td>\n",
              "      <td>219.607</td>\n",
              "      <td>...</td>\n",
              "      <td>142.599</td>\n",
              "      <td>141.368</td>\n",
              "      <td>46.07</td>\n",
              "      <td>baseline</td>\n",
              "      <td>21/3/2022</td>\n",
              "      <td>0.75</td>\n",
              "      <td>14:12:54</td>\n",
              "      <td>2022-03-21 14:12:54.750</td>\n",
              "      <td>5 NegTest_3_20220321_14_12.txt</td>\n",
              "      <td>Control</td>\n",
              "    </tr>\n",
              "    <tr>\n",
              "      <th>4</th>\n",
              "      <td>0</td>\n",
              "      <td>Test 24</td>\n",
              "      <td>5</td>\n",
              "      <td>131.435</td>\n",
              "      <td>131.938</td>\n",
              "      <td>177.622</td>\n",
              "      <td>178.694</td>\n",
              "      <td>45.131</td>\n",
              "      <td>44.663</td>\n",
              "      <td>219.607</td>\n",
              "      <td>...</td>\n",
              "      <td>142.187</td>\n",
              "      <td>140.825</td>\n",
              "      <td>46.07</td>\n",
              "      <td>baseline</td>\n",
              "      <td>21/3/2022</td>\n",
              "      <td>1.00</td>\n",
              "      <td>14:12:54</td>\n",
              "      <td>2022-03-21 14:12:55.000</td>\n",
              "      <td>5 NegTest_3_20220321_14_12.txt</td>\n",
              "      <td>Control</td>\n",
              "    </tr>\n",
              "    <tr>\n",
              "      <th>...</th>\n",
              "      <td>...</td>\n",
              "      <td>...</td>\n",
              "      <td>...</td>\n",
              "      <td>...</td>\n",
              "      <td>...</td>\n",
              "      <td>...</td>\n",
              "      <td>...</td>\n",
              "      <td>...</td>\n",
              "      <td>...</td>\n",
              "      <td>...</td>\n",
              "      <td>...</td>\n",
              "      <td>...</td>\n",
              "      <td>...</td>\n",
              "      <td>...</td>\n",
              "      <td>...</td>\n",
              "      <td>...</td>\n",
              "      <td>...</td>\n",
              "      <td>...</td>\n",
              "      <td>...</td>\n",
              "      <td>...</td>\n",
              "      <td>...</td>\n",
              "    </tr>\n",
              "    <tr>\n",
              "      <th>123</th>\n",
              "      <td>0</td>\n",
              "      <td>Test 24</td>\n",
              "      <td>124</td>\n",
              "      <td>132.064</td>\n",
              "      <td>132.824</td>\n",
              "      <td>177.444</td>\n",
              "      <td>178.514</td>\n",
              "      <td>45.026</td>\n",
              "      <td>44.508</td>\n",
              "      <td>219.841</td>\n",
              "      <td>...</td>\n",
              "      <td>142.462</td>\n",
              "      <td>141.368</td>\n",
              "      <td>46.00</td>\n",
              "      <td>flush</td>\n",
              "      <td>21/3/2022</td>\n",
              "      <td>30.75</td>\n",
              "      <td>14:12:54</td>\n",
              "      <td>2022-03-21 14:13:24.750</td>\n",
              "      <td>5 NegTest_3_20220321_14_12.txt</td>\n",
              "      <td>Control</td>\n",
              "    </tr>\n",
              "    <tr>\n",
              "      <th>124</th>\n",
              "      <td>0</td>\n",
              "      <td>Test 24</td>\n",
              "      <td>125</td>\n",
              "      <td>131.812</td>\n",
              "      <td>132.697</td>\n",
              "      <td>177.444</td>\n",
              "      <td>178.514</td>\n",
              "      <td>45.131</td>\n",
              "      <td>44.611</td>\n",
              "      <td>219.607</td>\n",
              "      <td>...</td>\n",
              "      <td>140.690</td>\n",
              "      <td>139.478</td>\n",
              "      <td>46.07</td>\n",
              "      <td>flush</td>\n",
              "      <td>21/3/2022</td>\n",
              "      <td>31.00</td>\n",
              "      <td>14:12:54</td>\n",
              "      <td>2022-03-21 14:13:25.000</td>\n",
              "      <td>5 NegTest_3_20220321_14_12.txt</td>\n",
              "      <td>Control</td>\n",
              "    </tr>\n",
              "    <tr>\n",
              "      <th>125</th>\n",
              "      <td>0</td>\n",
              "      <td>Test 24</td>\n",
              "      <td>126</td>\n",
              "      <td>132.570</td>\n",
              "      <td>133.078</td>\n",
              "      <td>177.444</td>\n",
              "      <td>178.336</td>\n",
              "      <td>45.131</td>\n",
              "      <td>44.560</td>\n",
              "      <td>219.841</td>\n",
              "      <td>...</td>\n",
              "      <td>141.504</td>\n",
              "      <td>140.150</td>\n",
              "      <td>46.07</td>\n",
              "      <td>flush</td>\n",
              "      <td>21/3/2022</td>\n",
              "      <td>31.25</td>\n",
              "      <td>14:12:54</td>\n",
              "      <td>2022-03-21 14:13:25.250</td>\n",
              "      <td>5 NegTest_3_20220321_14_12.txt</td>\n",
              "      <td>Control</td>\n",
              "    </tr>\n",
              "    <tr>\n",
              "      <th>126</th>\n",
              "      <td>0</td>\n",
              "      <td>Test 24</td>\n",
              "      <td>127</td>\n",
              "      <td>132.443</td>\n",
              "      <td>132.824</td>\n",
              "      <td>177.267</td>\n",
              "      <td>178.336</td>\n",
              "      <td>45.079</td>\n",
              "      <td>44.508</td>\n",
              "      <td>219.607</td>\n",
              "      <td>...</td>\n",
              "      <td>140.961</td>\n",
              "      <td>139.881</td>\n",
              "      <td>46.07</td>\n",
              "      <td>flush</td>\n",
              "      <td>21/3/2022</td>\n",
              "      <td>31.50</td>\n",
              "      <td>14:12:54</td>\n",
              "      <td>2022-03-21 14:13:25.500</td>\n",
              "      <td>5 NegTest_3_20220321_14_12.txt</td>\n",
              "      <td>Control</td>\n",
              "    </tr>\n",
              "    <tr>\n",
              "      <th>127</th>\n",
              "      <td>0</td>\n",
              "      <td>Test 24</td>\n",
              "      <td>128</td>\n",
              "      <td>132.317</td>\n",
              "      <td>133.205</td>\n",
              "      <td>177.444</td>\n",
              "      <td>178.514</td>\n",
              "      <td>45.026</td>\n",
              "      <td>44.560</td>\n",
              "      <td>219.607</td>\n",
              "      <td>...</td>\n",
              "      <td>140.961</td>\n",
              "      <td>139.881</td>\n",
              "      <td>46.07</td>\n",
              "      <td>flush</td>\n",
              "      <td>21/3/2022</td>\n",
              "      <td>31.75</td>\n",
              "      <td>14:12:54</td>\n",
              "      <td>2022-03-21 14:13:25.750</td>\n",
              "      <td>5 NegTest_3_20220321_14_12.txt</td>\n",
              "      <td>Control</td>\n",
              "    </tr>\n",
              "  </tbody>\n",
              "</table>\n",
              "<p>128 rows × 35 columns</p>\n",
              "</div>"
            ],
            "text/plain": [
              "     exp_unique_id  exp_name  timesteps  sensor_1  sensor_2  sensor_3  \\\n",
              "0                0  Test 24           1   131.938   132.443   177.444   \n",
              "1                0  Test 24           2   133.078   133.972   177.444   \n",
              "2                0  Test 24           3   131.812   132.064   177.622   \n",
              "3                0  Test 24           4   131.059   132.064   177.444   \n",
              "4                0  Test 24           5   131.435   131.938   177.622   \n",
              "..             ...       ...        ...       ...       ...       ...   \n",
              "123              0  Test 24         124   132.064   132.824   177.444   \n",
              "124              0  Test 24         125   131.812   132.697   177.444   \n",
              "125              0  Test 24         126   132.570   133.078   177.444   \n",
              "126              0  Test 24         127   132.443   132.824   177.267   \n",
              "127              0  Test 24         128   132.317   133.205   177.444   \n",
              "\n",
              "     sensor_4  sensor_5  sensor_6  sensor_7  ...  sensor_23  sensor_24  \\\n",
              "0     178.157    44.974    44.508   219.374  ...    143.288    142.050   \n",
              "1     178.694    45.131    44.611   219.607  ...    142.874    141.914   \n",
              "2     178.694    45.183    44.663   219.841  ...    143.288    141.914   \n",
              "3     178.694    45.183    44.663   219.607  ...    142.599    141.368   \n",
              "4     178.694    45.131    44.663   219.607  ...    142.187    140.825   \n",
              "..        ...       ...       ...       ...  ...        ...        ...   \n",
              "123   178.514    45.026    44.508   219.841  ...    142.462    141.368   \n",
              "124   178.514    45.131    44.611   219.607  ...    140.690    139.478   \n",
              "125   178.336    45.131    44.560   219.841  ...    141.504    140.150   \n",
              "126   178.336    45.079    44.508   219.607  ...    140.961    139.881   \n",
              "127   178.514    45.026    44.560   219.607  ...    140.961    139.881   \n",
              "\n",
              "      Humidity (r.h.)  measurement_stage   date_exp  time_elapsed  \\\n",
              "0               46.07           baseline  21/3/2022          0.00   \n",
              "1               46.07           baseline  21/3/2022          0.25   \n",
              "2               46.07           baseline  21/3/2022          0.50   \n",
              "3               46.07           baseline  21/3/2022          0.75   \n",
              "4               46.07           baseline  21/3/2022          1.00   \n",
              "..                ...                ...        ...           ...   \n",
              "123             46.00              flush  21/3/2022         30.75   \n",
              "124             46.07              flush  21/3/2022         31.00   \n",
              "125             46.07              flush  21/3/2022         31.25   \n",
              "126             46.07              flush  21/3/2022         31.50   \n",
              "127             46.07              flush  21/3/2022         31.75   \n",
              "\n",
              "     datetime_exp_start             datetime_exp  \\\n",
              "0              14:12:54  2022-03-21 14:12:54.000   \n",
              "1              14:12:54  2022-03-21 14:12:54.250   \n",
              "2              14:12:54  2022-03-21 14:12:54.500   \n",
              "3              14:12:54  2022-03-21 14:12:54.750   \n",
              "4              14:12:54  2022-03-21 14:12:55.000   \n",
              "..                  ...                      ...   \n",
              "123            14:12:54  2022-03-21 14:13:24.750   \n",
              "124            14:12:54  2022-03-21 14:13:25.000   \n",
              "125            14:12:54  2022-03-21 14:13:25.250   \n",
              "126            14:12:54  2022-03-21 14:13:25.500   \n",
              "127            14:12:54  2022-03-21 14:13:25.750   \n",
              "\n",
              "                           filename   result  \n",
              "0    5 NegTest_3_20220321_14_12.txt  Control  \n",
              "1    5 NegTest_3_20220321_14_12.txt  Control  \n",
              "2    5 NegTest_3_20220321_14_12.txt  Control  \n",
              "3    5 NegTest_3_20220321_14_12.txt  Control  \n",
              "4    5 NegTest_3_20220321_14_12.txt  Control  \n",
              "..                              ...      ...  \n",
              "123  5 NegTest_3_20220321_14_12.txt  Control  \n",
              "124  5 NegTest_3_20220321_14_12.txt  Control  \n",
              "125  5 NegTest_3_20220321_14_12.txt  Control  \n",
              "126  5 NegTest_3_20220321_14_12.txt  Control  \n",
              "127  5 NegTest_3_20220321_14_12.txt  Control  \n",
              "\n",
              "[128 rows x 35 columns]"
            ]
          },
          "execution_count": 13,
          "metadata": {},
          "output_type": "execute_result"
        }
      ],
      "source": [
        "df_exp"
      ]
    },
    {
      "cell_type": "code",
      "execution_count": 14,
      "metadata": {},
      "outputs": [
        {
          "data": {
            "text/plain": [
              "2"
            ]
          },
          "execution_count": 14,
          "metadata": {},
          "output_type": "execute_result"
        }
      ],
      "source": [
        "df_exp.ndim"
      ]
    },
    {
      "cell_type": "code",
      "execution_count": 15,
      "metadata": {
        "id": "dLVZ00RiD35w"
      },
      "outputs": [
        {
          "name": "stderr",
          "output_type": "stream",
          "text": [
            "Feature Extraction: 100%|██████████| 18/18 [00:00<00:00, 4809.06it/s]\n",
            "/Users/amash/Insync/GDrive/Projects/Raptor/raptor_functions/raptor_functions/supervised/prediction.py:72: FutureWarning: The default value of regex will change from True to False in a future version.\n",
            "  prediction_data.columns = prediction_data.columns.str.replace('[\"]', \"\")\n"
          ]
        }
      ],
      "source": [
        "\n",
        "pred1 = make_prediction(df_exp, model_uri1)"
      ]
    },
    {
      "cell_type": "code",
      "execution_count": 16,
      "metadata": {
        "colab": {
          "base_uri": "https://localhost:8080/"
        },
        "id": "VpdPP_zeEFWn",
        "outputId": "947db4c5-cfab-4626-e681-7ddb0f6a0fa2"
      },
      "outputs": [
        {
          "data": {
            "text/plain": [
              "array([0])"
            ]
          },
          "execution_count": 16,
          "metadata": {},
          "output_type": "execute_result"
        }
      ],
      "source": [
        "pred1"
      ]
    },
    {
      "cell_type": "code",
      "execution_count": 17,
      "metadata": {},
      "outputs": [
        {
          "name": "stderr",
          "output_type": "stream",
          "text": [
            "Feature Extraction: 100%|██████████| 18/18 [00:00<00:00, 3666.53it/s]\n",
            "/Users/amash/Insync/GDrive/Projects/Raptor/raptor_functions/raptor_functions/supervised/prediction.py:72: FutureWarning: The default value of regex will change from True to False in a future version.\n",
            "  prediction_data.columns = prediction_data.columns.str.replace('[\"]', \"\")\n"
          ]
        }
      ],
      "source": [
        "pred2 = make_prediction(df_exp, model_uri2)"
      ]
    },
    {
      "cell_type": "code",
      "execution_count": 18,
      "metadata": {},
      "outputs": [
        {
          "data": {
            "text/plain": [
              "0"
            ]
          },
          "execution_count": 18,
          "metadata": {},
          "output_type": "execute_result"
        }
      ],
      "source": [
        "pred2"
      ]
    },
    {
      "cell_type": "code",
      "execution_count": 19,
      "metadata": {},
      "outputs": [
        {
          "name": "stderr",
          "output_type": "stream",
          "text": [
            "Feature Extraction: 100%|██████████| 18/18 [00:00<00:00, 998.10it/s]\n",
            "/Users/amash/Insync/GDrive/Projects/Raptor/raptor_functions/raptor_functions/supervised/prediction.py:72: FutureWarning: The default value of regex will change from True to False in a future version.\n",
            "  prediction_data.columns = prediction_data.columns.str.replace('[\"]', \"\")\n",
            "Feature Extraction: 100%|██████████| 18/18 [00:00<00:00, 975.97it/s]\n",
            "/Users/amash/Insync/GDrive/Projects/Raptor/raptor_functions/raptor_functions/supervised/prediction.py:72: FutureWarning: The default value of regex will change from True to False in a future version.\n",
            "  prediction_data.columns = prediction_data.columns.str.replace('[\"]', \"\")\n",
            "Feature Extraction: 100%|██████████| 18/18 [00:00<00:00, 2233.32it/s]"
          ]
        },
        {
          "name": "stdout",
          "output_type": "stream",
          "text": [
            "type preds:  <class 'dict'>\n",
            "preds:  {'Extra Trees Classifier': array([0]), 'Logistic Regression': array([1]), 'ssc': 0}\n"
          ]
        },
        {
          "name": "stderr",
          "output_type": "stream",
          "text": [
            "\n",
            "/Users/amash/Insync/GDrive/Projects/Raptor/raptor_functions/raptor_functions/supervised/prediction.py:72: FutureWarning: The default value of regex will change from True to False in a future version.\n",
            "  prediction_data.columns = prediction_data.columns.str.replace('[\"]', \"\")\n"
          ]
        }
      ],
      "source": [
        "d = make_ensemble_prediction(df_exp)"
      ]
    },
    {
      "cell_type": "code",
      "execution_count": 20,
      "metadata": {},
      "outputs": [
        {
          "data": {
            "text/plain": [
              "(0,\n",
              " {'Extra Trees Classifier': array([0]),\n",
              "  'Logistic Regression': array([1]),\n",
              "  'ssc': 0})"
            ]
          },
          "execution_count": 20,
          "metadata": {},
          "output_type": "execute_result"
        }
      ],
      "source": [
        "d"
      ]
    },
    {
      "cell_type": "code",
      "execution_count": null,
      "metadata": {},
      "outputs": [],
      "source": []
    },
    {
      "cell_type": "code",
      "execution_count": null,
      "metadata": {},
      "outputs": [],
      "source": []
    },
    {
      "cell_type": "code",
      "execution_count": 22,
      "metadata": {},
      "outputs": [],
      "source": [
        "from raptor_functions.supervised.preprocess import preprocess_single_file"
      ]
    },
    {
      "cell_type": "code",
      "execution_count": 26,
      "metadata": {},
      "outputs": [],
      "source": [
        "filepath = '/content/drive/MyDrive/Projects/Raptor/data/Raw_Data/24H 1 Control_14_15_26.28.txt'"
      ]
    },
    {
      "cell_type": "code",
      "execution_count": 28,
      "metadata": {},
      "outputs": [
        {
          "data": {
            "text/html": [
              "<div>\n",
              "<style scoped>\n",
              "    .dataframe tbody tr th:only-of-type {\n",
              "        vertical-align: middle;\n",
              "    }\n",
              "\n",
              "    .dataframe tbody tr th {\n",
              "        vertical-align: top;\n",
              "    }\n",
              "\n",
              "    .dataframe thead th {\n",
              "        text-align: right;\n",
              "    }\n",
              "</style>\n",
              "<table border=\"1\" class=\"dataframe\">\n",
              "  <thead>\n",
              "    <tr style=\"text-align: right;\">\n",
              "      <th></th>\n",
              "      <th>exp_unique_id</th>\n",
              "      <th>timesteps</th>\n",
              "      <th>sensor_1</th>\n",
              "      <th>sensor_2</th>\n",
              "      <th>sensor_3</th>\n",
              "      <th>sensor_4</th>\n",
              "      <th>sensor_5</th>\n",
              "      <th>sensor_6</th>\n",
              "      <th>sensor_7</th>\n",
              "      <th>sensor_8</th>\n",
              "      <th>sensor_9</th>\n",
              "      <th>sensor_10</th>\n",
              "      <th>sensor_11</th>\n",
              "      <th>sensor_12</th>\n",
              "      <th>sensor_13</th>\n",
              "      <th>sensor_14</th>\n",
              "      <th>sensor_15</th>\n",
              "      <th>sensor_16</th>\n",
              "      <th>sensor_17</th>\n",
              "      <th>sensor_18</th>\n",
              "      <th>sensor_19</th>\n",
              "      <th>sensor_20</th>\n",
              "      <th>sensor_21</th>\n",
              "      <th>sensor_22</th>\n",
              "      <th>sensor_23</th>\n",
              "      <th>sensor_24</th>\n",
              "      <th>humidity</th>\n",
              "      <th>measurement_stage</th>\n",
              "      <th>date_exp</th>\n",
              "      <th>time_elapsed</th>\n",
              "      <th>datetime_exp_start</th>\n",
              "      <th>datetime_exp</th>\n",
              "      <th>filename</th>\n",
              "      <th>exp_name</th>\n",
              "      <th>repeat_no</th>\n",
              "      <th>result</th>\n",
              "    </tr>\n",
              "  </thead>\n",
              "  <tbody>\n",
              "    <tr>\n",
              "      <th>0</th>\n",
              "      <td>0</td>\n",
              "      <td>0.0</td>\n",
              "      <td>314.851</td>\n",
              "      <td>310.005</td>\n",
              "      <td>305.016</td>\n",
              "      <td>303.225</td>\n",
              "      <td>259.226</td>\n",
              "      <td>303.750</td>\n",
              "      <td>305.708</td>\n",
              "      <td>313.180</td>\n",
              "      <td>298.355</td>\n",
              "      <td>299.501</td>\n",
              "      <td>303.631</td>\n",
              "      <td>308.597</td>\n",
              "      <td>104.813</td>\n",
              "      <td>109.898</td>\n",
              "      <td>114.768</td>\n",
              "      <td>116.487</td>\n",
              "      <td>160.629</td>\n",
              "      <td>115.508</td>\n",
              "      <td>113.813</td>\n",
              "      <td>105.887</td>\n",
              "      <td>120.402</td>\n",
              "      <td>119.256</td>\n",
              "      <td>114.887</td>\n",
              "      <td>110.686</td>\n",
              "      <td>30.810</td>\n",
              "      <td>baseline</td>\n",
              "      <td>13/07/2021</td>\n",
              "      <td>0.00</td>\n",
              "      <td>14:16:06</td>\n",
              "      <td>2021-07-13 14:16:06.000</td>\n",
              "      <td>24H 1 Control_14_15_26.28.txt</td>\n",
              "      <td>24H 1 Control</td>\n",
              "      <td>2</td>\n",
              "      <td>Control</td>\n",
              "    </tr>\n",
              "    <tr>\n",
              "      <th>1</th>\n",
              "      <td>0</td>\n",
              "      <td>1.0</td>\n",
              "      <td>314.899</td>\n",
              "      <td>309.623</td>\n",
              "      <td>304.323</td>\n",
              "      <td>302.151</td>\n",
              "      <td>258.391</td>\n",
              "      <td>303.655</td>\n",
              "      <td>305.851</td>\n",
              "      <td>313.180</td>\n",
              "      <td>298.785</td>\n",
              "      <td>299.740</td>\n",
              "      <td>303.703</td>\n",
              "      <td>308.453</td>\n",
              "      <td>104.980</td>\n",
              "      <td>109.993</td>\n",
              "      <td>114.935</td>\n",
              "      <td>116.463</td>\n",
              "      <td>160.677</td>\n",
              "      <td>115.484</td>\n",
              "      <td>113.932</td>\n",
              "      <td>105.911</td>\n",
              "      <td>120.498</td>\n",
              "      <td>119.232</td>\n",
              "      <td>114.744</td>\n",
              "      <td>110.590</td>\n",
              "      <td>42.992</td>\n",
              "      <td>baseline</td>\n",
              "      <td>13/07/2021</td>\n",
              "      <td>0.25</td>\n",
              "      <td>14:16:06</td>\n",
              "      <td>2021-07-13 14:16:06.250</td>\n",
              "      <td>24H 1 Control_14_15_26.28.txt</td>\n",
              "      <td>24H 1 Control</td>\n",
              "      <td>2</td>\n",
              "      <td>Control</td>\n",
              "    </tr>\n",
              "    <tr>\n",
              "      <th>2</th>\n",
              "      <td>0</td>\n",
              "      <td>2.0</td>\n",
              "      <td>314.493</td>\n",
              "      <td>309.647</td>\n",
              "      <td>304.896</td>\n",
              "      <td>302.533</td>\n",
              "      <td>258.391</td>\n",
              "      <td>304.084</td>\n",
              "      <td>305.708</td>\n",
              "      <td>313.085</td>\n",
              "      <td>298.426</td>\n",
              "      <td>299.525</td>\n",
              "      <td>303.726</td>\n",
              "      <td>308.716</td>\n",
              "      <td>104.980</td>\n",
              "      <td>109.898</td>\n",
              "      <td>114.816</td>\n",
              "      <td>116.415</td>\n",
              "      <td>160.701</td>\n",
              "      <td>115.389</td>\n",
              "      <td>113.765</td>\n",
              "      <td>105.887</td>\n",
              "      <td>120.450</td>\n",
              "      <td>119.089</td>\n",
              "      <td>114.887</td>\n",
              "      <td>110.829</td>\n",
              "      <td>51.970</td>\n",
              "      <td>baseline</td>\n",
              "      <td>13/07/2021</td>\n",
              "      <td>0.50</td>\n",
              "      <td>14:16:06</td>\n",
              "      <td>2021-07-13 14:16:06.500</td>\n",
              "      <td>24H 1 Control_14_15_26.28.txt</td>\n",
              "      <td>24H 1 Control</td>\n",
              "      <td>2</td>\n",
              "      <td>Control</td>\n",
              "    </tr>\n",
              "    <tr>\n",
              "      <th>3</th>\n",
              "      <td>0</td>\n",
              "      <td>3.0</td>\n",
              "      <td>314.708</td>\n",
              "      <td>310.196</td>\n",
              "      <td>304.848</td>\n",
              "      <td>302.604</td>\n",
              "      <td>258.295</td>\n",
              "      <td>303.607</td>\n",
              "      <td>305.517</td>\n",
              "      <td>313.371</td>\n",
              "      <td>299.071</td>\n",
              "      <td>299.907</td>\n",
              "      <td>303.989</td>\n",
              "      <td>308.788</td>\n",
              "      <td>105.075</td>\n",
              "      <td>109.826</td>\n",
              "      <td>114.673</td>\n",
              "      <td>116.487</td>\n",
              "      <td>160.629</td>\n",
              "      <td>115.484</td>\n",
              "      <td>114.052</td>\n",
              "      <td>105.935</td>\n",
              "      <td>120.450</td>\n",
              "      <td>119.137</td>\n",
              "      <td>114.816</td>\n",
              "      <td>110.614</td>\n",
              "      <td>47.278</td>\n",
              "      <td>baseline</td>\n",
              "      <td>13/07/2021</td>\n",
              "      <td>0.75</td>\n",
              "      <td>14:16:06</td>\n",
              "      <td>2021-07-13 14:16:06.750</td>\n",
              "      <td>24H 1 Control_14_15_26.28.txt</td>\n",
              "      <td>24H 1 Control</td>\n",
              "      <td>2</td>\n",
              "      <td>Control</td>\n",
              "    </tr>\n",
              "    <tr>\n",
              "      <th>4</th>\n",
              "      <td>0</td>\n",
              "      <td>4.0</td>\n",
              "      <td>314.708</td>\n",
              "      <td>309.910</td>\n",
              "      <td>304.562</td>\n",
              "      <td>302.103</td>\n",
              "      <td>258.701</td>\n",
              "      <td>303.726</td>\n",
              "      <td>305.827</td>\n",
              "      <td>313.324</td>\n",
              "      <td>299.238</td>\n",
              "      <td>299.811</td>\n",
              "      <td>304.180</td>\n",
              "      <td>308.525</td>\n",
              "      <td>105.099</td>\n",
              "      <td>109.874</td>\n",
              "      <td>114.816</td>\n",
              "      <td>116.320</td>\n",
              "      <td>160.533</td>\n",
              "      <td>115.389</td>\n",
              "      <td>113.765</td>\n",
              "      <td>105.887</td>\n",
              "      <td>120.283</td>\n",
              "      <td>119.185</td>\n",
              "      <td>114.768</td>\n",
              "      <td>110.662</td>\n",
              "      <td>35.141</td>\n",
              "      <td>baseline</td>\n",
              "      <td>13/07/2021</td>\n",
              "      <td>1.00</td>\n",
              "      <td>14:16:06</td>\n",
              "      <td>2021-07-13 14:16:07.000</td>\n",
              "      <td>24H 1 Control_14_15_26.28.txt</td>\n",
              "      <td>24H 1 Control</td>\n",
              "      <td>2</td>\n",
              "      <td>Control</td>\n",
              "    </tr>\n",
              "    <tr>\n",
              "      <th>...</th>\n",
              "      <td>...</td>\n",
              "      <td>...</td>\n",
              "      <td>...</td>\n",
              "      <td>...</td>\n",
              "      <td>...</td>\n",
              "      <td>...</td>\n",
              "      <td>...</td>\n",
              "      <td>...</td>\n",
              "      <td>...</td>\n",
              "      <td>...</td>\n",
              "      <td>...</td>\n",
              "      <td>...</td>\n",
              "      <td>...</td>\n",
              "      <td>...</td>\n",
              "      <td>...</td>\n",
              "      <td>...</td>\n",
              "      <td>...</td>\n",
              "      <td>...</td>\n",
              "      <td>...</td>\n",
              "      <td>...</td>\n",
              "      <td>...</td>\n",
              "      <td>...</td>\n",
              "      <td>...</td>\n",
              "      <td>...</td>\n",
              "      <td>...</td>\n",
              "      <td>...</td>\n",
              "      <td>...</td>\n",
              "      <td>...</td>\n",
              "      <td>...</td>\n",
              "      <td>...</td>\n",
              "      <td>...</td>\n",
              "      <td>...</td>\n",
              "      <td>...</td>\n",
              "      <td>...</td>\n",
              "      <td>...</td>\n",
              "      <td>...</td>\n",
              "    </tr>\n",
              "    <tr>\n",
              "      <th>116</th>\n",
              "      <td>0</td>\n",
              "      <td>116.0</td>\n",
              "      <td>314.302</td>\n",
              "      <td>309.766</td>\n",
              "      <td>304.538</td>\n",
              "      <td>302.437</td>\n",
              "      <td>258.128</td>\n",
              "      <td>302.724</td>\n",
              "      <td>304.705</td>\n",
              "      <td>312.894</td>\n",
              "      <td>297.209</td>\n",
              "      <td>298.737</td>\n",
              "      <td>303.321</td>\n",
              "      <td>308.859</td>\n",
              "      <td>105.147</td>\n",
              "      <td>110.137</td>\n",
              "      <td>115.174</td>\n",
              "      <td>116.559</td>\n",
              "      <td>161.536</td>\n",
              "      <td>116.272</td>\n",
              "      <td>114.696</td>\n",
              "      <td>106.174</td>\n",
              "      <td>122.073</td>\n",
              "      <td>120.092</td>\n",
              "      <td>115.317</td>\n",
              "      <td>110.948</td>\n",
              "      <td>50.843</td>\n",
              "      <td>flush</td>\n",
              "      <td>13/07/2021</td>\n",
              "      <td>29.00</td>\n",
              "      <td>14:16:06</td>\n",
              "      <td>2021-07-13 14:16:35.000</td>\n",
              "      <td>24H 1 Control_14_15_26.28.txt</td>\n",
              "      <td>24H 1 Control</td>\n",
              "      <td>2</td>\n",
              "      <td>Control</td>\n",
              "    </tr>\n",
              "    <tr>\n",
              "      <th>117</th>\n",
              "      <td>0</td>\n",
              "      <td>117.0</td>\n",
              "      <td>314.565</td>\n",
              "      <td>309.575</td>\n",
              "      <td>304.323</td>\n",
              "      <td>302.389</td>\n",
              "      <td>258.128</td>\n",
              "      <td>303.321</td>\n",
              "      <td>304.872</td>\n",
              "      <td>313.037</td>\n",
              "      <td>297.567</td>\n",
              "      <td>298.928</td>\n",
              "      <td>303.416</td>\n",
              "      <td>308.597</td>\n",
              "      <td>105.052</td>\n",
              "      <td>110.256</td>\n",
              "      <td>115.246</td>\n",
              "      <td>116.654</td>\n",
              "      <td>161.512</td>\n",
              "      <td>116.368</td>\n",
              "      <td>114.625</td>\n",
              "      <td>106.006</td>\n",
              "      <td>122.049</td>\n",
              "      <td>119.996</td>\n",
              "      <td>115.413</td>\n",
              "      <td>110.948</td>\n",
              "      <td>40.330</td>\n",
              "      <td>flush</td>\n",
              "      <td>13/07/2021</td>\n",
              "      <td>29.25</td>\n",
              "      <td>14:16:06</td>\n",
              "      <td>2021-07-13 14:16:35.250</td>\n",
              "      <td>24H 1 Control_14_15_26.28.txt</td>\n",
              "      <td>24H 1 Control</td>\n",
              "      <td>2</td>\n",
              "      <td>Control</td>\n",
              "    </tr>\n",
              "    <tr>\n",
              "      <th>118</th>\n",
              "      <td>0</td>\n",
              "      <td>118.0</td>\n",
              "      <td>314.947</td>\n",
              "      <td>309.790</td>\n",
              "      <td>304.299</td>\n",
              "      <td>302.127</td>\n",
              "      <td>257.889</td>\n",
              "      <td>302.795</td>\n",
              "      <td>304.968</td>\n",
              "      <td>312.965</td>\n",
              "      <td>297.352</td>\n",
              "      <td>299.167</td>\n",
              "      <td>303.416</td>\n",
              "      <td>308.597</td>\n",
              "      <td>105.266</td>\n",
              "      <td>110.065</td>\n",
              "      <td>115.269</td>\n",
              "      <td>116.630</td>\n",
              "      <td>161.512</td>\n",
              "      <td>116.272</td>\n",
              "      <td>114.696</td>\n",
              "      <td>106.078</td>\n",
              "      <td>121.978</td>\n",
              "      <td>120.163</td>\n",
              "      <td>115.436</td>\n",
              "      <td>110.972</td>\n",
              "      <td>29.276</td>\n",
              "      <td>flush</td>\n",
              "      <td>13/07/2021</td>\n",
              "      <td>29.50</td>\n",
              "      <td>14:16:06</td>\n",
              "      <td>2021-07-13 14:16:35.500</td>\n",
              "      <td>24H 1 Control_14_15_26.28.txt</td>\n",
              "      <td>24H 1 Control</td>\n",
              "      <td>2</td>\n",
              "      <td>Control</td>\n",
              "    </tr>\n",
              "    <tr>\n",
              "      <th>119</th>\n",
              "      <td>0</td>\n",
              "      <td>119.0</td>\n",
              "      <td>314.016</td>\n",
              "      <td>309.647</td>\n",
              "      <td>304.347</td>\n",
              "      <td>302.533</td>\n",
              "      <td>257.651</td>\n",
              "      <td>302.652</td>\n",
              "      <td>304.825</td>\n",
              "      <td>312.774</td>\n",
              "      <td>297.257</td>\n",
              "      <td>299.262</td>\n",
              "      <td>303.726</td>\n",
              "      <td>308.501</td>\n",
              "      <td>105.362</td>\n",
              "      <td>110.089</td>\n",
              "      <td>115.126</td>\n",
              "      <td>116.582</td>\n",
              "      <td>161.393</td>\n",
              "      <td>116.463</td>\n",
              "      <td>114.601</td>\n",
              "      <td>105.863</td>\n",
              "      <td>121.715</td>\n",
              "      <td>119.805</td>\n",
              "      <td>115.556</td>\n",
              "      <td>111.092</td>\n",
              "      <td>30.358</td>\n",
              "      <td>flush</td>\n",
              "      <td>13/07/2021</td>\n",
              "      <td>29.75</td>\n",
              "      <td>14:16:06</td>\n",
              "      <td>2021-07-13 14:16:35.750</td>\n",
              "      <td>24H 1 Control_14_15_26.28.txt</td>\n",
              "      <td>24H 1 Control</td>\n",
              "      <td>2</td>\n",
              "      <td>Control</td>\n",
              "    </tr>\n",
              "    <tr>\n",
              "      <th>120</th>\n",
              "      <td>0</td>\n",
              "      <td>120.0</td>\n",
              "      <td>314.469</td>\n",
              "      <td>310.053</td>\n",
              "      <td>304.466</td>\n",
              "      <td>302.652</td>\n",
              "      <td>258.033</td>\n",
              "      <td>302.819</td>\n",
              "      <td>304.825</td>\n",
              "      <td>313.156</td>\n",
              "      <td>297.543</td>\n",
              "      <td>299.358</td>\n",
              "      <td>303.750</td>\n",
              "      <td>308.286</td>\n",
              "      <td>105.219</td>\n",
              "      <td>110.041</td>\n",
              "      <td>115.126</td>\n",
              "      <td>116.535</td>\n",
              "      <td>161.417</td>\n",
              "      <td>116.344</td>\n",
              "      <td>114.577</td>\n",
              "      <td>106.006</td>\n",
              "      <td>121.835</td>\n",
              "      <td>119.996</td>\n",
              "      <td>115.317</td>\n",
              "      <td>111.068</td>\n",
              "      <td>42.135</td>\n",
              "      <td>flush</td>\n",
              "      <td>13/07/2021</td>\n",
              "      <td>30.00</td>\n",
              "      <td>14:16:06</td>\n",
              "      <td>2021-07-13 14:16:36.000</td>\n",
              "      <td>24H 1 Control_14_15_26.28.txt</td>\n",
              "      <td>24H 1 Control</td>\n",
              "      <td>2</td>\n",
              "      <td>Control</td>\n",
              "    </tr>\n",
              "  </tbody>\n",
              "</table>\n",
              "<p>121 rows × 36 columns</p>\n",
              "</div>"
            ],
            "text/plain": [
              "     exp_unique_id  timesteps  sensor_1  ...       exp_name  repeat_no   result\n",
              "0                0        0.0   314.851  ...  24H 1 Control          2  Control\n",
              "1                0        1.0   314.899  ...  24H 1 Control          2  Control\n",
              "2                0        2.0   314.493  ...  24H 1 Control          2  Control\n",
              "3                0        3.0   314.708  ...  24H 1 Control          2  Control\n",
              "4                0        4.0   314.708  ...  24H 1 Control          2  Control\n",
              "..             ...        ...       ...  ...            ...        ...      ...\n",
              "116              0      116.0   314.302  ...  24H 1 Control          2  Control\n",
              "117              0      117.0   314.565  ...  24H 1 Control          2  Control\n",
              "118              0      118.0   314.947  ...  24H 1 Control          2  Control\n",
              "119              0      119.0   314.016  ...  24H 1 Control          2  Control\n",
              "120              0      120.0   314.469  ...  24H 1 Control          2  Control\n",
              "\n",
              "[121 rows x 36 columns]"
            ]
          },
          "execution_count": 28,
          "metadata": {},
          "output_type": "execute_result"
        }
      ],
      "source": [
        "preprocess_single_file(filepath)"
      ]
    },
    {
      "cell_type": "code",
      "execution_count": null,
      "metadata": {},
      "outputs": [],
      "source": []
    },
    {
      "cell_type": "code",
      "execution_count": null,
      "metadata": {},
      "outputs": [],
      "source": []
    }
  ],
  "metadata": {
    "colab": {
      "name": "model prediction.ipynb",
      "provenance": []
    },
    "kernelspec": {
      "display_name": "Python 3.7.13 64-bit ('venv-3.7')",
      "language": "python",
      "name": "python3"
    },
    "language_info": {
      "codemirror_mode": {
        "name": "ipython",
        "version": 3
      },
      "file_extension": ".py",
      "mimetype": "text/x-python",
      "name": "python",
      "nbconvert_exporter": "python",
      "pygments_lexer": "ipython3",
      "version": "3.7.13"
    },
    "vscode": {
      "interpreter": {
        "hash": "ee11bcebc16333c1f12fa33af752d4705ffd3425f6d5ea8efafb5052afd7992e"
      }
    }
  },
  "nbformat": 4,
  "nbformat_minor": 0
}
