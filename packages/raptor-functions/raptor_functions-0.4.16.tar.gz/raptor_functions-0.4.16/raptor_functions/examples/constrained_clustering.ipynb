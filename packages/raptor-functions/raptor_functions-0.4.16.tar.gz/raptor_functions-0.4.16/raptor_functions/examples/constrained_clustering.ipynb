{
 "cells": [
  {
   "cell_type": "markdown",
   "metadata": {},
   "source": [
    "## Semi-Supervised Clustering with Constraints"
   ]
  },
  {
   "cell_type": "code",
   "execution_count": 7,
   "metadata": {},
   "outputs": [],
   "source": [
    "import os\n",
    "import sys\n",
    "import glob\n",
    "import numpy as np\n",
    "import pandas as pd\n",
    "\n",
    "\n",
    "# PACKAGE_FOLDER =  os.environ.get('PACKAGE_FOLDER')\n",
    "# sys.path.insert(0, PACKAGE_FOLDER)"
   ]
  },
  {
   "cell_type": "code",
   "execution_count": 8,
   "metadata": {},
   "outputs": [],
   "source": [
    "# Install latest raptor_functions library and import modules\n",
    "\n",
    "from raptor_functions.supervised.datasets import get_data\n",
    "from raptor_functions.supervised.feature_extraction import *\n",
    "from raptor_functions.semi_supervised.ss_clustering import *\n",
    "from raptor_functions.semi_supervised.train import *"
   ]
  },
  {
   "cell_type": "code",
   "execution_count": 9,
   "metadata": {},
   "outputs": [],
   "source": [
    "# Load data\n",
    "lab_data =  get_data('lab_data')"
   ]
  },
  {
   "cell_type": "code",
   "execution_count": 10,
   "metadata": {},
   "outputs": [
    {
     "data": {
      "text/html": [
       "<div>\n",
       "<style scoped>\n",
       "    .dataframe tbody tr th:only-of-type {\n",
       "        vertical-align: middle;\n",
       "    }\n",
       "\n",
       "    .dataframe tbody tr th {\n",
       "        vertical-align: top;\n",
       "    }\n",
       "\n",
       "    .dataframe thead th {\n",
       "        text-align: right;\n",
       "    }\n",
       "</style>\n",
       "<table border=\"1\" class=\"dataframe\">\n",
       "  <thead>\n",
       "    <tr style=\"text-align: right;\">\n",
       "      <th></th>\n",
       "      <th>exp_unique_id</th>\n",
       "      <th>exp_name</th>\n",
       "      <th>timesteps</th>\n",
       "      <th>sensor_1</th>\n",
       "      <th>sensor_2</th>\n",
       "      <th>sensor_3</th>\n",
       "      <th>sensor_4</th>\n",
       "      <th>sensor_5</th>\n",
       "      <th>sensor_6</th>\n",
       "      <th>sensor_7</th>\n",
       "      <th>sensor_8</th>\n",
       "      <th>sensor_9</th>\n",
       "      <th>sensor_10</th>\n",
       "      <th>sensor_11</th>\n",
       "      <th>sensor_12</th>\n",
       "      <th>sensor_13</th>\n",
       "      <th>sensor_14</th>\n",
       "      <th>sensor_15</th>\n",
       "      <th>sensor_16</th>\n",
       "      <th>sensor_17</th>\n",
       "      <th>sensor_18</th>\n",
       "      <th>sensor_19</th>\n",
       "      <th>sensor_20</th>\n",
       "      <th>sensor_21</th>\n",
       "      <th>sensor_22</th>\n",
       "      <th>sensor_23</th>\n",
       "      <th>sensor_24</th>\n",
       "      <th>humidity</th>\n",
       "      <th>measurement_stage</th>\n",
       "      <th>date_exp</th>\n",
       "      <th>time_elapsed</th>\n",
       "      <th>datetime_exp</th>\n",
       "      <th>filename</th>\n",
       "      <th>result</th>\n",
       "    </tr>\n",
       "  </thead>\n",
       "  <tbody>\n",
       "    <tr>\n",
       "      <th>0</th>\n",
       "      <td>0</td>\n",
       "      <td>72H 2 Control</td>\n",
       "      <td>0.0</td>\n",
       "      <td>315.042</td>\n",
       "      <td>310.101</td>\n",
       "      <td>304.156</td>\n",
       "      <td>302.366</td>\n",
       "      <td>258.152</td>\n",
       "      <td>303.153</td>\n",
       "      <td>304.705</td>\n",
       "      <td>313.252</td>\n",
       "      <td>297.018</td>\n",
       "      <td>299.477</td>\n",
       "      <td>303.679</td>\n",
       "      <td>308.549</td>\n",
       "      <td>105.195</td>\n",
       "      <td>109.778</td>\n",
       "      <td>115.102</td>\n",
       "      <td>116.606</td>\n",
       "      <td>161.035</td>\n",
       "      <td>116.248</td>\n",
       "      <td>114.840</td>\n",
       "      <td>105.887</td>\n",
       "      <td>122.073</td>\n",
       "      <td>119.113</td>\n",
       "      <td>114.816</td>\n",
       "      <td>110.710</td>\n",
       "      <td>29.276</td>\n",
       "      <td>baseline</td>\n",
       "      <td>13/07/2021</td>\n",
       "      <td>0.00</td>\n",
       "      <td>2021-07-13 14:36:50.000</td>\n",
       "      <td>72H 2 Control_14_36_11.28.txt</td>\n",
       "      <td>Control</td>\n",
       "    </tr>\n",
       "    <tr>\n",
       "      <th>1</th>\n",
       "      <td>0</td>\n",
       "      <td>72H 2 Control</td>\n",
       "      <td>1.0</td>\n",
       "      <td>314.780</td>\n",
       "      <td>309.695</td>\n",
       "      <td>304.084</td>\n",
       "      <td>302.318</td>\n",
       "      <td>257.627</td>\n",
       "      <td>302.939</td>\n",
       "      <td>304.681</td>\n",
       "      <td>313.156</td>\n",
       "      <td>297.710</td>\n",
       "      <td>300.289</td>\n",
       "      <td>304.323</td>\n",
       "      <td>308.597</td>\n",
       "      <td>105.004</td>\n",
       "      <td>109.778</td>\n",
       "      <td>115.150</td>\n",
       "      <td>116.606</td>\n",
       "      <td>160.963</td>\n",
       "      <td>116.057</td>\n",
       "      <td>114.744</td>\n",
       "      <td>105.839</td>\n",
       "      <td>122.121</td>\n",
       "      <td>119.161</td>\n",
       "      <td>114.816</td>\n",
       "      <td>110.686</td>\n",
       "      <td>40.330</td>\n",
       "      <td>baseline</td>\n",
       "      <td>13/07/2021</td>\n",
       "      <td>0.25</td>\n",
       "      <td>2021-07-13 14:36:50.250</td>\n",
       "      <td>72H 2 Control_14_36_11.28.txt</td>\n",
       "      <td>Control</td>\n",
       "    </tr>\n",
       "    <tr>\n",
       "      <th>2</th>\n",
       "      <td>0</td>\n",
       "      <td>72H 2 Control</td>\n",
       "      <td>2.0</td>\n",
       "      <td>315.042</td>\n",
       "      <td>310.029</td>\n",
       "      <td>304.968</td>\n",
       "      <td>303.010</td>\n",
       "      <td>258.415</td>\n",
       "      <td>303.321</td>\n",
       "      <td>304.705</td>\n",
       "      <td>312.965</td>\n",
       "      <td>297.137</td>\n",
       "      <td>299.978</td>\n",
       "      <td>304.156</td>\n",
       "      <td>308.191</td>\n",
       "      <td>105.243</td>\n",
       "      <td>109.969</td>\n",
       "      <td>115.078</td>\n",
       "      <td>116.415</td>\n",
       "      <td>161.035</td>\n",
       "      <td>116.057</td>\n",
       "      <td>114.720</td>\n",
       "      <td>106.054</td>\n",
       "      <td>122.049</td>\n",
       "      <td>119.041</td>\n",
       "      <td>114.792</td>\n",
       "      <td>110.781</td>\n",
       "      <td>51.610</td>\n",
       "      <td>baseline</td>\n",
       "      <td>13/07/2021</td>\n",
       "      <td>0.50</td>\n",
       "      <td>2021-07-13 14:36:50.500</td>\n",
       "      <td>72H 2 Control_14_36_11.28.txt</td>\n",
       "      <td>Control</td>\n",
       "    </tr>\n",
       "    <tr>\n",
       "      <th>3</th>\n",
       "      <td>0</td>\n",
       "      <td>72H 2 Control</td>\n",
       "      <td>3.0</td>\n",
       "      <td>314.422</td>\n",
       "      <td>310.005</td>\n",
       "      <td>304.228</td>\n",
       "      <td>302.843</td>\n",
       "      <td>258.486</td>\n",
       "      <td>303.297</td>\n",
       "      <td>304.872</td>\n",
       "      <td>313.133</td>\n",
       "      <td>297.161</td>\n",
       "      <td>300.074</td>\n",
       "      <td>304.204</td>\n",
       "      <td>308.358</td>\n",
       "      <td>105.195</td>\n",
       "      <td>109.969</td>\n",
       "      <td>115.150</td>\n",
       "      <td>116.535</td>\n",
       "      <td>160.987</td>\n",
       "      <td>115.962</td>\n",
       "      <td>114.625</td>\n",
       "      <td>106.030</td>\n",
       "      <td>122.169</td>\n",
       "      <td>119.089</td>\n",
       "      <td>114.792</td>\n",
       "      <td>110.662</td>\n",
       "      <td>47.188</td>\n",
       "      <td>baseline</td>\n",
       "      <td>13/07/2021</td>\n",
       "      <td>0.75</td>\n",
       "      <td>2021-07-13 14:36:50.750</td>\n",
       "      <td>72H 2 Control_14_36_11.28.txt</td>\n",
       "      <td>Control</td>\n",
       "    </tr>\n",
       "    <tr>\n",
       "      <th>4</th>\n",
       "      <td>0</td>\n",
       "      <td>72H 2 Control</td>\n",
       "      <td>4.0</td>\n",
       "      <td>314.875</td>\n",
       "      <td>310.029</td>\n",
       "      <td>304.466</td>\n",
       "      <td>302.795</td>\n",
       "      <td>258.438</td>\n",
       "      <td>303.703</td>\n",
       "      <td>304.968</td>\n",
       "      <td>313.085</td>\n",
       "      <td>297.137</td>\n",
       "      <td>300.360</td>\n",
       "      <td>304.252</td>\n",
       "      <td>308.477</td>\n",
       "      <td>105.028</td>\n",
       "      <td>109.731</td>\n",
       "      <td>115.078</td>\n",
       "      <td>116.511</td>\n",
       "      <td>161.035</td>\n",
       "      <td>115.986</td>\n",
       "      <td>114.601</td>\n",
       "      <td>105.959</td>\n",
       "      <td>121.954</td>\n",
       "      <td>118.874</td>\n",
       "      <td>114.744</td>\n",
       "      <td>110.829</td>\n",
       "      <td>33.652</td>\n",
       "      <td>baseline</td>\n",
       "      <td>13/07/2021</td>\n",
       "      <td>1.00</td>\n",
       "      <td>2021-07-13 14:36:51.000</td>\n",
       "      <td>72H 2 Control_14_36_11.28.txt</td>\n",
       "      <td>Control</td>\n",
       "    </tr>\n",
       "  </tbody>\n",
       "</table>\n",
       "</div>"
      ],
      "text/plain": [
       "   exp_unique_id       exp_name  timesteps  sensor_1  sensor_2  sensor_3  \\\n",
       "0              0  72H 2 Control        0.0   315.042   310.101   304.156   \n",
       "1              0  72H 2 Control        1.0   314.780   309.695   304.084   \n",
       "2              0  72H 2 Control        2.0   315.042   310.029   304.968   \n",
       "3              0  72H 2 Control        3.0   314.422   310.005   304.228   \n",
       "4              0  72H 2 Control        4.0   314.875   310.029   304.466   \n",
       "\n",
       "   sensor_4  sensor_5  sensor_6  sensor_7  sensor_8  sensor_9  sensor_10  \\\n",
       "0   302.366   258.152   303.153   304.705   313.252   297.018    299.477   \n",
       "1   302.318   257.627   302.939   304.681   313.156   297.710    300.289   \n",
       "2   303.010   258.415   303.321   304.705   312.965   297.137    299.978   \n",
       "3   302.843   258.486   303.297   304.872   313.133   297.161    300.074   \n",
       "4   302.795   258.438   303.703   304.968   313.085   297.137    300.360   \n",
       "\n",
       "   sensor_11  sensor_12  sensor_13  sensor_14  sensor_15  sensor_16  \\\n",
       "0    303.679    308.549    105.195    109.778    115.102    116.606   \n",
       "1    304.323    308.597    105.004    109.778    115.150    116.606   \n",
       "2    304.156    308.191    105.243    109.969    115.078    116.415   \n",
       "3    304.204    308.358    105.195    109.969    115.150    116.535   \n",
       "4    304.252    308.477    105.028    109.731    115.078    116.511   \n",
       "\n",
       "   sensor_17  sensor_18  sensor_19  sensor_20  sensor_21  sensor_22  \\\n",
       "0    161.035    116.248    114.840    105.887    122.073    119.113   \n",
       "1    160.963    116.057    114.744    105.839    122.121    119.161   \n",
       "2    161.035    116.057    114.720    106.054    122.049    119.041   \n",
       "3    160.987    115.962    114.625    106.030    122.169    119.089   \n",
       "4    161.035    115.986    114.601    105.959    121.954    118.874   \n",
       "\n",
       "   sensor_23  sensor_24  humidity measurement_stage    date_exp  time_elapsed  \\\n",
       "0    114.816    110.710    29.276          baseline  13/07/2021          0.00   \n",
       "1    114.816    110.686    40.330          baseline  13/07/2021          0.25   \n",
       "2    114.792    110.781    51.610          baseline  13/07/2021          0.50   \n",
       "3    114.792    110.662    47.188          baseline  13/07/2021          0.75   \n",
       "4    114.744    110.829    33.652          baseline  13/07/2021          1.00   \n",
       "\n",
       "              datetime_exp                       filename   result  \n",
       "0  2021-07-13 14:36:50.000  72H 2 Control_14_36_11.28.txt  Control  \n",
       "1  2021-07-13 14:36:50.250  72H 2 Control_14_36_11.28.txt  Control  \n",
       "2  2021-07-13 14:36:50.500  72H 2 Control_14_36_11.28.txt  Control  \n",
       "3  2021-07-13 14:36:50.750  72H 2 Control_14_36_11.28.txt  Control  \n",
       "4  2021-07-13 14:36:51.000  72H 2 Control_14_36_11.28.txt  Control  "
      ]
     },
     "execution_count": 10,
     "metadata": {},
     "output_type": "execute_result"
    }
   ],
   "source": [
    "lab_data.head()"
   ]
  },
  {
   "cell_type": "code",
   "execution_count": 13,
   "metadata": {},
   "outputs": [
    {
     "name": "stdout",
     "output_type": "stream",
     "text": [
      "Extracting all features\n"
     ]
    },
    {
     "name": "stderr",
     "output_type": "stream",
     "text": [
      "Feature Extraction: 100%|██████████| 10/10 [01:12<00:00,  7.24s/it]\n"
     ]
    },
    {
     "name": "stdout",
     "output_type": "stream",
     "text": [
      "Selecting relevant features\n",
      "[16:24:23] WARNING: ../src/learner.cc:1115: Starting in XGBoost 1.3.0, the default evaluation metric used with the objective 'binary:logistic' was changed from 'error' to 'logloss'. Explicitly set eval_metric if you'd like to restore the old behavior.\n",
      "[16:26:40] WARNING: ../src/learner.cc:1115: Starting in XGBoost 1.3.0, the default evaluation metric used with the objective 'binary:logistic' was changed from 'error' to 'logloss'. Explicitly set eval_metric if you'd like to restore the old behavior.\n",
      "[16:29:07] WARNING: ../src/learner.cc:1115: Starting in XGBoost 1.3.0, the default evaluation metric used with the objective 'binary:logistic' was changed from 'error' to 'logloss'. Explicitly set eval_metric if you'd like to restore the old behavior.\n",
      "[16:31:24] WARNING: ../src/learner.cc:1115: Starting in XGBoost 1.3.0, the default evaluation metric used with the objective 'binary:logistic' was changed from 'error' to 'logloss'. Explicitly set eval_metric if you'd like to restore the old behavior.\n",
      "[16:33:45] WARNING: ../src/learner.cc:1115: Starting in XGBoost 1.3.0, the default evaluation metric used with the objective 'binary:logistic' was changed from 'error' to 'logloss'. Explicitly set eval_metric if you'd like to restore the old behavior.\n",
      "[16:36:24] WARNING: ../src/learner.cc:1115: Starting in XGBoost 1.3.0, the default evaluation metric used with the objective 'binary:logistic' was changed from 'error' to 'logloss'. Explicitly set eval_metric if you'd like to restore the old behavior.\n",
      "[16:40:12] WARNING: ../src/learner.cc:1115: Starting in XGBoost 1.3.0, the default evaluation metric used with the objective 'binary:logistic' was changed from 'error' to 'logloss'. Explicitly set eval_metric if you'd like to restore the old behavior.\n"
     ]
    },
    {
     "ename": "KeyboardInterrupt",
     "evalue": "",
     "output_type": "error",
     "traceback": [
      "\u001b[0;31m---------------------------------------------------------------------------\u001b[0m",
      "\u001b[0;31mKeyboardInterrupt\u001b[0m                         Traceback (most recent call last)",
      "\u001b[0;32m/tmp/ipykernel_13624/3844150995.py\u001b[0m in \u001b[0;36m<cell line: 4>\u001b[0;34m()\u001b[0m\n\u001b[1;32m      2\u001b[0m \u001b[0;31m# Takes a while.........\u001b[0m\u001b[0;34m\u001b[0m\u001b[0;34m\u001b[0m\u001b[0;34m\u001b[0m\u001b[0m\n\u001b[1;32m      3\u001b[0m \u001b[0;34m\u001b[0m\u001b[0m\n\u001b[0;32m----> 4\u001b[0;31m \u001b[0mdf\u001b[0m \u001b[0;34m=\u001b[0m \u001b[0mget_training_features\u001b[0m\u001b[0;34m(\u001b[0m\u001b[0mlab_data\u001b[0m\u001b[0;34m)\u001b[0m\u001b[0;34m\u001b[0m\u001b[0;34m\u001b[0m\u001b[0m\n\u001b[0m",
      "\u001b[0;32m/content/drive/MyDrive/Projects/Raptor/raptor_functions/raptor_functions/supervised/feature_extraction.py\u001b[0m in \u001b[0;36mget_training_features\u001b[0;34m(df, offset, gradient, tree_model)\u001b[0m\n\u001b[1;32m    134\u001b[0m     \u001b[0mX\u001b[0m \u001b[0;34m=\u001b[0m \u001b[0mget_all_features\u001b[0m\u001b[0;34m(\u001b[0m\u001b[0mX\u001b[0m\u001b[0;34m)\u001b[0m\u001b[0;34m\u001b[0m\u001b[0;34m\u001b[0m\u001b[0m\n\u001b[1;32m    135\u001b[0m     \u001b[0mprint\u001b[0m\u001b[0;34m(\u001b[0m\u001b[0;34m'Selecting relevant features'\u001b[0m\u001b[0;34m)\u001b[0m\u001b[0;34m\u001b[0m\u001b[0;34m\u001b[0m\u001b[0m\n\u001b[0;32m--> 136\u001b[0;31m     \u001b[0mX\u001b[0m \u001b[0;34m=\u001b[0m \u001b[0mselect_relevant_features\u001b[0m\u001b[0;34m(\u001b[0m\u001b[0mX\u001b[0m\u001b[0;34m,\u001b[0m \u001b[0my\u001b[0m\u001b[0;34m,\u001b[0m \u001b[0mtree_model\u001b[0m\u001b[0;34m=\u001b[0m\u001b[0mtree_model\u001b[0m\u001b[0;34m)\u001b[0m\u001b[0;34m\u001b[0m\u001b[0;34m\u001b[0m\u001b[0m\n\u001b[0m\u001b[1;32m    137\u001b[0m \u001b[0;34m\u001b[0m\u001b[0m\n\u001b[1;32m    138\u001b[0m     \u001b[0mdf\u001b[0m \u001b[0;34m=\u001b[0m \u001b[0mX\u001b[0m\u001b[0;34m.\u001b[0m\u001b[0mjoin\u001b[0m\u001b[0;34m(\u001b[0m\u001b[0my\u001b[0m\u001b[0;34m)\u001b[0m\u001b[0;34m\u001b[0m\u001b[0;34m\u001b[0m\u001b[0m\n",
      "\u001b[0;32m/content/drive/MyDrive/Projects/Raptor/raptor_functions/raptor_functions/supervised/feature_extraction.py\u001b[0m in \u001b[0;36mselect_relevant_features\u001b[0;34m(X, y, tree_model)\u001b[0m\n\u001b[1;32m     90\u001b[0m \u001b[0;34m\u001b[0m\u001b[0m\n\u001b[1;32m     91\u001b[0m     \u001b[0;31m# fit Boruta (it accepts np.array, not pd.DataFrame)\u001b[0m\u001b[0;34m\u001b[0m\u001b[0;34m\u001b[0m\u001b[0;34m\u001b[0m\u001b[0m\n\u001b[0;32m---> 92\u001b[0;31m     \u001b[0mboruta\u001b[0m\u001b[0;34m.\u001b[0m\u001b[0mfit\u001b[0m\u001b[0;34m(\u001b[0m\u001b[0mnp\u001b[0m\u001b[0;34m.\u001b[0m\u001b[0marray\u001b[0m\u001b[0;34m(\u001b[0m\u001b[0mX\u001b[0m\u001b[0;34m)\u001b[0m\u001b[0;34m,\u001b[0m \u001b[0mnp\u001b[0m\u001b[0;34m.\u001b[0m\u001b[0marray\u001b[0m\u001b[0;34m(\u001b[0m\u001b[0my\u001b[0m\u001b[0;34m)\u001b[0m\u001b[0;34m)\u001b[0m\u001b[0;34m\u001b[0m\u001b[0;34m\u001b[0m\u001b[0m\n\u001b[0m\u001b[1;32m     93\u001b[0m \u001b[0;34m\u001b[0m\u001b[0m\n\u001b[1;32m     94\u001b[0m     \u001b[0;31m# green and blue area are the important features identified by boruta algorithm\u001b[0m\u001b[0;34m\u001b[0m\u001b[0;34m\u001b[0m\u001b[0;34m\u001b[0m\u001b[0m\n",
      "\u001b[0;32m~/miniconda3/envs/raptor/lib/python3.8/site-packages/boruta/boruta_py.py\u001b[0m in \u001b[0;36mfit\u001b[0;34m(self, X, y)\u001b[0m\n\u001b[1;32m    199\u001b[0m         \"\"\"\n\u001b[1;32m    200\u001b[0m \u001b[0;34m\u001b[0m\u001b[0m\n\u001b[0;32m--> 201\u001b[0;31m         \u001b[0;32mreturn\u001b[0m \u001b[0mself\u001b[0m\u001b[0;34m.\u001b[0m\u001b[0m_fit\u001b[0m\u001b[0;34m(\u001b[0m\u001b[0mX\u001b[0m\u001b[0;34m,\u001b[0m \u001b[0my\u001b[0m\u001b[0;34m)\u001b[0m\u001b[0;34m\u001b[0m\u001b[0;34m\u001b[0m\u001b[0m\n\u001b[0m\u001b[1;32m    202\u001b[0m \u001b[0;34m\u001b[0m\u001b[0m\n\u001b[1;32m    203\u001b[0m     \u001b[0;32mdef\u001b[0m \u001b[0mtransform\u001b[0m\u001b[0;34m(\u001b[0m\u001b[0mself\u001b[0m\u001b[0;34m,\u001b[0m \u001b[0mX\u001b[0m\u001b[0;34m,\u001b[0m \u001b[0mweak\u001b[0m\u001b[0;34m=\u001b[0m\u001b[0;32mFalse\u001b[0m\u001b[0;34m)\u001b[0m\u001b[0;34m:\u001b[0m\u001b[0;34m\u001b[0m\u001b[0;34m\u001b[0m\u001b[0m\n",
      "\u001b[0;32m~/miniconda3/envs/raptor/lib/python3.8/site-packages/boruta/boruta_py.py\u001b[0m in \u001b[0;36m_fit\u001b[0;34m(self, X, y)\u001b[0m\n\u001b[1;32m    283\u001b[0m \u001b[0;34m\u001b[0m\u001b[0m\n\u001b[1;32m    284\u001b[0m             \u001b[0;31m# add shadow attributes, shuffle them and train estimator, get imps\u001b[0m\u001b[0;34m\u001b[0m\u001b[0;34m\u001b[0m\u001b[0;34m\u001b[0m\u001b[0m\n\u001b[0;32m--> 285\u001b[0;31m             \u001b[0mcur_imp\u001b[0m \u001b[0;34m=\u001b[0m \u001b[0mself\u001b[0m\u001b[0;34m.\u001b[0m\u001b[0m_add_shadows_get_imps\u001b[0m\u001b[0;34m(\u001b[0m\u001b[0mX\u001b[0m\u001b[0;34m,\u001b[0m \u001b[0my\u001b[0m\u001b[0;34m,\u001b[0m \u001b[0mdec_reg\u001b[0m\u001b[0;34m)\u001b[0m\u001b[0;34m\u001b[0m\u001b[0;34m\u001b[0m\u001b[0m\n\u001b[0m\u001b[1;32m    286\u001b[0m \u001b[0;34m\u001b[0m\u001b[0m\n\u001b[1;32m    287\u001b[0m             \u001b[0;31m# get the threshold of shadow importances we will use for rejection\u001b[0m\u001b[0;34m\u001b[0m\u001b[0;34m\u001b[0m\u001b[0;34m\u001b[0m\u001b[0m\n",
      "\u001b[0;32m~/miniconda3/envs/raptor/lib/python3.8/site-packages/boruta/boruta_py.py\u001b[0m in \u001b[0;36m_add_shadows_get_imps\u001b[0;34m(self, X, y, dec_reg)\u001b[0m\n\u001b[1;32m    410\u001b[0m         \u001b[0mx_sha\u001b[0m \u001b[0;34m=\u001b[0m \u001b[0mnp\u001b[0m\u001b[0;34m.\u001b[0m\u001b[0mapply_along_axis\u001b[0m\u001b[0;34m(\u001b[0m\u001b[0mself\u001b[0m\u001b[0;34m.\u001b[0m\u001b[0m_get_shuffle\u001b[0m\u001b[0;34m,\u001b[0m \u001b[0;36m0\u001b[0m\u001b[0;34m,\u001b[0m \u001b[0mx_sha\u001b[0m\u001b[0;34m)\u001b[0m\u001b[0;34m\u001b[0m\u001b[0;34m\u001b[0m\u001b[0m\n\u001b[1;32m    411\u001b[0m         \u001b[0;31m# get importance of the merged matrix\u001b[0m\u001b[0;34m\u001b[0m\u001b[0;34m\u001b[0m\u001b[0;34m\u001b[0m\u001b[0m\n\u001b[0;32m--> 412\u001b[0;31m         \u001b[0mimp\u001b[0m \u001b[0;34m=\u001b[0m \u001b[0mself\u001b[0m\u001b[0;34m.\u001b[0m\u001b[0m_get_imp\u001b[0m\u001b[0;34m(\u001b[0m\u001b[0mnp\u001b[0m\u001b[0;34m.\u001b[0m\u001b[0mhstack\u001b[0m\u001b[0;34m(\u001b[0m\u001b[0;34m(\u001b[0m\u001b[0mx_cur\u001b[0m\u001b[0;34m,\u001b[0m \u001b[0mx_sha\u001b[0m\u001b[0;34m)\u001b[0m\u001b[0;34m)\u001b[0m\u001b[0;34m,\u001b[0m \u001b[0my\u001b[0m\u001b[0;34m)\u001b[0m\u001b[0;34m\u001b[0m\u001b[0;34m\u001b[0m\u001b[0m\n\u001b[0m\u001b[1;32m    413\u001b[0m         \u001b[0;31m# separate importances of real and shadow features\u001b[0m\u001b[0;34m\u001b[0m\u001b[0;34m\u001b[0m\u001b[0;34m\u001b[0m\u001b[0m\n\u001b[1;32m    414\u001b[0m         \u001b[0mimp_sha\u001b[0m \u001b[0;34m=\u001b[0m \u001b[0mimp\u001b[0m\u001b[0;34m[\u001b[0m\u001b[0mx_cur_w\u001b[0m\u001b[0;34m:\u001b[0m\u001b[0;34m]\u001b[0m\u001b[0;34m\u001b[0m\u001b[0;34m\u001b[0m\u001b[0m\n",
      "\u001b[0;32m~/miniconda3/envs/raptor/lib/python3.8/site-packages/boruta/boruta_py.py\u001b[0m in \u001b[0;36m_get_imp\u001b[0;34m(self, X, y)\u001b[0m\n\u001b[1;32m    382\u001b[0m     \u001b[0;32mdef\u001b[0m \u001b[0m_get_imp\u001b[0m\u001b[0;34m(\u001b[0m\u001b[0mself\u001b[0m\u001b[0;34m,\u001b[0m \u001b[0mX\u001b[0m\u001b[0;34m,\u001b[0m \u001b[0my\u001b[0m\u001b[0;34m)\u001b[0m\u001b[0;34m:\u001b[0m\u001b[0;34m\u001b[0m\u001b[0;34m\u001b[0m\u001b[0m\n\u001b[1;32m    383\u001b[0m         \u001b[0;32mtry\u001b[0m\u001b[0;34m:\u001b[0m\u001b[0;34m\u001b[0m\u001b[0;34m\u001b[0m\u001b[0m\n\u001b[0;32m--> 384\u001b[0;31m             \u001b[0mself\u001b[0m\u001b[0;34m.\u001b[0m\u001b[0mestimator\u001b[0m\u001b[0;34m.\u001b[0m\u001b[0mfit\u001b[0m\u001b[0;34m(\u001b[0m\u001b[0mX\u001b[0m\u001b[0;34m,\u001b[0m \u001b[0my\u001b[0m\u001b[0;34m)\u001b[0m\u001b[0;34m\u001b[0m\u001b[0;34m\u001b[0m\u001b[0m\n\u001b[0m\u001b[1;32m    385\u001b[0m         \u001b[0;32mexcept\u001b[0m \u001b[0mException\u001b[0m \u001b[0;32mas\u001b[0m \u001b[0me\u001b[0m\u001b[0;34m:\u001b[0m\u001b[0;34m\u001b[0m\u001b[0;34m\u001b[0m\u001b[0m\n\u001b[1;32m    386\u001b[0m             raise ValueError('Please check your X and y variable. The provided'\n",
      "\u001b[0;32m~/miniconda3/envs/raptor/lib/python3.8/site-packages/xgboost/core.py\u001b[0m in \u001b[0;36minner_f\u001b[0;34m(*args, **kwargs)\u001b[0m\n\u001b[1;32m    504\u001b[0m         \u001b[0;32mfor\u001b[0m \u001b[0mk\u001b[0m\u001b[0;34m,\u001b[0m \u001b[0marg\u001b[0m \u001b[0;32min\u001b[0m \u001b[0mzip\u001b[0m\u001b[0;34m(\u001b[0m\u001b[0msig\u001b[0m\u001b[0;34m.\u001b[0m\u001b[0mparameters\u001b[0m\u001b[0;34m,\u001b[0m \u001b[0margs\u001b[0m\u001b[0;34m)\u001b[0m\u001b[0;34m:\u001b[0m\u001b[0;34m\u001b[0m\u001b[0;34m\u001b[0m\u001b[0m\n\u001b[1;32m    505\u001b[0m             \u001b[0mkwargs\u001b[0m\u001b[0;34m[\u001b[0m\u001b[0mk\u001b[0m\u001b[0;34m]\u001b[0m \u001b[0;34m=\u001b[0m \u001b[0marg\u001b[0m\u001b[0;34m\u001b[0m\u001b[0;34m\u001b[0m\u001b[0m\n\u001b[0;32m--> 506\u001b[0;31m         \u001b[0;32mreturn\u001b[0m \u001b[0mf\u001b[0m\u001b[0;34m(\u001b[0m\u001b[0;34m**\u001b[0m\u001b[0mkwargs\u001b[0m\u001b[0;34m)\u001b[0m\u001b[0;34m\u001b[0m\u001b[0;34m\u001b[0m\u001b[0m\n\u001b[0m\u001b[1;32m    507\u001b[0m \u001b[0;34m\u001b[0m\u001b[0m\n\u001b[1;32m    508\u001b[0m     \u001b[0;32mreturn\u001b[0m \u001b[0minner_f\u001b[0m\u001b[0;34m\u001b[0m\u001b[0;34m\u001b[0m\u001b[0m\n",
      "\u001b[0;32m~/miniconda3/envs/raptor/lib/python3.8/site-packages/xgboost/sklearn.py\u001b[0m in \u001b[0;36mfit\u001b[0;34m(self, X, y, sample_weight, base_margin, eval_set, eval_metric, early_stopping_rounds, verbose, xgb_model, sample_weight_eval_set, base_margin_eval_set, feature_weights, callbacks)\u001b[0m\n\u001b[1;32m   1248\u001b[0m         )\n\u001b[1;32m   1249\u001b[0m \u001b[0;34m\u001b[0m\u001b[0m\n\u001b[0;32m-> 1250\u001b[0;31m         self._Booster = train(\n\u001b[0m\u001b[1;32m   1251\u001b[0m             \u001b[0mparams\u001b[0m\u001b[0;34m,\u001b[0m\u001b[0;34m\u001b[0m\u001b[0;34m\u001b[0m\u001b[0m\n\u001b[1;32m   1252\u001b[0m             \u001b[0mtrain_dmatrix\u001b[0m\u001b[0;34m,\u001b[0m\u001b[0;34m\u001b[0m\u001b[0;34m\u001b[0m\u001b[0m\n",
      "\u001b[0;32m~/miniconda3/envs/raptor/lib/python3.8/site-packages/xgboost/training.py\u001b[0m in \u001b[0;36mtrain\u001b[0;34m(params, dtrain, num_boost_round, evals, obj, feval, maximize, early_stopping_rounds, evals_result, verbose_eval, xgb_model, callbacks)\u001b[0m\n\u001b[1;32m    186\u001b[0m     \u001b[0mBooster\u001b[0m \u001b[0;34m:\u001b[0m \u001b[0ma\u001b[0m \u001b[0mtrained\u001b[0m \u001b[0mbooster\u001b[0m \u001b[0mmodel\u001b[0m\u001b[0;34m\u001b[0m\u001b[0;34m\u001b[0m\u001b[0m\n\u001b[1;32m    187\u001b[0m     \"\"\"\n\u001b[0;32m--> 188\u001b[0;31m     bst = _train_internal(params, dtrain,\n\u001b[0m\u001b[1;32m    189\u001b[0m                           \u001b[0mnum_boost_round\u001b[0m\u001b[0;34m=\u001b[0m\u001b[0mnum_boost_round\u001b[0m\u001b[0;34m,\u001b[0m\u001b[0;34m\u001b[0m\u001b[0;34m\u001b[0m\u001b[0m\n\u001b[1;32m    190\u001b[0m                           \u001b[0mevals\u001b[0m\u001b[0;34m=\u001b[0m\u001b[0mevals\u001b[0m\u001b[0;34m,\u001b[0m\u001b[0;34m\u001b[0m\u001b[0;34m\u001b[0m\u001b[0m\n",
      "\u001b[0;32m~/miniconda3/envs/raptor/lib/python3.8/site-packages/xgboost/training.py\u001b[0m in \u001b[0;36m_train_internal\u001b[0;34m(params, dtrain, num_boost_round, evals, obj, feval, xgb_model, callbacks, evals_result, maximize, verbose_eval, early_stopping_rounds)\u001b[0m\n\u001b[1;32m     79\u001b[0m         \u001b[0;32mif\u001b[0m \u001b[0mcallbacks\u001b[0m\u001b[0;34m.\u001b[0m\u001b[0mbefore_iteration\u001b[0m\u001b[0;34m(\u001b[0m\u001b[0mbst\u001b[0m\u001b[0;34m,\u001b[0m \u001b[0mi\u001b[0m\u001b[0;34m,\u001b[0m \u001b[0mdtrain\u001b[0m\u001b[0;34m,\u001b[0m \u001b[0mevals\u001b[0m\u001b[0;34m)\u001b[0m\u001b[0;34m:\u001b[0m\u001b[0;34m\u001b[0m\u001b[0;34m\u001b[0m\u001b[0m\n\u001b[1;32m     80\u001b[0m             \u001b[0;32mbreak\u001b[0m\u001b[0;34m\u001b[0m\u001b[0;34m\u001b[0m\u001b[0m\n\u001b[0;32m---> 81\u001b[0;31m         \u001b[0mbst\u001b[0m\u001b[0;34m.\u001b[0m\u001b[0mupdate\u001b[0m\u001b[0;34m(\u001b[0m\u001b[0mdtrain\u001b[0m\u001b[0;34m,\u001b[0m \u001b[0mi\u001b[0m\u001b[0;34m,\u001b[0m \u001b[0mobj\u001b[0m\u001b[0;34m)\u001b[0m\u001b[0;34m\u001b[0m\u001b[0;34m\u001b[0m\u001b[0m\n\u001b[0m\u001b[1;32m     82\u001b[0m         \u001b[0;32mif\u001b[0m \u001b[0mcallbacks\u001b[0m\u001b[0;34m.\u001b[0m\u001b[0mafter_iteration\u001b[0m\u001b[0;34m(\u001b[0m\u001b[0mbst\u001b[0m\u001b[0;34m,\u001b[0m \u001b[0mi\u001b[0m\u001b[0;34m,\u001b[0m \u001b[0mdtrain\u001b[0m\u001b[0;34m,\u001b[0m \u001b[0mevals\u001b[0m\u001b[0;34m)\u001b[0m\u001b[0;34m:\u001b[0m\u001b[0;34m\u001b[0m\u001b[0;34m\u001b[0m\u001b[0m\n\u001b[1;32m     83\u001b[0m             \u001b[0;32mbreak\u001b[0m\u001b[0;34m\u001b[0m\u001b[0;34m\u001b[0m\u001b[0m\n",
      "\u001b[0;32m~/miniconda3/envs/raptor/lib/python3.8/site-packages/xgboost/core.py\u001b[0m in \u001b[0;36mupdate\u001b[0;34m(self, dtrain, iteration, fobj)\u001b[0m\n\u001b[1;32m   1678\u001b[0m \u001b[0;34m\u001b[0m\u001b[0m\n\u001b[1;32m   1679\u001b[0m         \u001b[0;32mif\u001b[0m \u001b[0mfobj\u001b[0m \u001b[0;32mis\u001b[0m \u001b[0;32mNone\u001b[0m\u001b[0;34m:\u001b[0m\u001b[0;34m\u001b[0m\u001b[0;34m\u001b[0m\u001b[0m\n\u001b[0;32m-> 1680\u001b[0;31m             _check_call(_LIB.XGBoosterUpdateOneIter(self.handle,\n\u001b[0m\u001b[1;32m   1681\u001b[0m                                                     \u001b[0mctypes\u001b[0m\u001b[0;34m.\u001b[0m\u001b[0mc_int\u001b[0m\u001b[0;34m(\u001b[0m\u001b[0miteration\u001b[0m\u001b[0;34m)\u001b[0m\u001b[0;34m,\u001b[0m\u001b[0;34m\u001b[0m\u001b[0;34m\u001b[0m\u001b[0m\n\u001b[1;32m   1682\u001b[0m                                                     dtrain.handle))\n",
      "\u001b[0;31mKeyboardInterrupt\u001b[0m: "
     ]
    }
   ],
   "source": [
    "# Extract and select training features \n",
    "# Takes a while.........\n",
    "\n",
    "df = get_training_features(lab_data)\n"
   ]
  },
  {
   "cell_type": "code",
   "execution_count": 7,
   "metadata": {},
   "outputs": [
    {
     "data": {
      "text/html": [
       "<div>\n",
       "<style scoped>\n",
       "    .dataframe tbody tr th:only-of-type {\n",
       "        vertical-align: middle;\n",
       "    }\n",
       "\n",
       "    .dataframe tbody tr th {\n",
       "        vertical-align: top;\n",
       "    }\n",
       "\n",
       "    .dataframe thead th {\n",
       "        text-align: right;\n",
       "    }\n",
       "</style>\n",
       "<table border=\"1\" class=\"dataframe\">\n",
       "  <thead>\n",
       "    <tr style=\"text-align: right;\">\n",
       "      <th></th>\n",
       "      <th>sensor_18__mean_abs_change</th>\n",
       "      <th>result</th>\n",
       "    </tr>\n",
       "  </thead>\n",
       "  <tbody>\n",
       "    <tr>\n",
       "      <th>0</th>\n",
       "      <td>0.891033</td>\n",
       "      <td>Control</td>\n",
       "    </tr>\n",
       "    <tr>\n",
       "      <th>1</th>\n",
       "      <td>0.882908</td>\n",
       "      <td>-1</td>\n",
       "    </tr>\n",
       "    <tr>\n",
       "      <th>2</th>\n",
       "      <td>0.888700</td>\n",
       "      <td>Control</td>\n",
       "    </tr>\n",
       "    <tr>\n",
       "      <th>3</th>\n",
       "      <td>0.890117</td>\n",
       "      <td>-1</td>\n",
       "    </tr>\n",
       "    <tr>\n",
       "      <th>4</th>\n",
       "      <td>0.884100</td>\n",
       "      <td>-1</td>\n",
       "    </tr>\n",
       "    <tr>\n",
       "      <th>5</th>\n",
       "      <td>0.925108</td>\n",
       "      <td>-1</td>\n",
       "    </tr>\n",
       "    <tr>\n",
       "      <th>6</th>\n",
       "      <td>0.908558</td>\n",
       "      <td>-1</td>\n",
       "    </tr>\n",
       "    <tr>\n",
       "      <th>7</th>\n",
       "      <td>0.896642</td>\n",
       "      <td>-1</td>\n",
       "    </tr>\n",
       "    <tr>\n",
       "      <th>8</th>\n",
       "      <td>0.911358</td>\n",
       "      <td>Covid</td>\n",
       "    </tr>\n",
       "    <tr>\n",
       "      <th>9</th>\n",
       "      <td>0.936642</td>\n",
       "      <td>-1</td>\n",
       "    </tr>\n",
       "  </tbody>\n",
       "</table>\n",
       "</div>"
      ],
      "text/plain": [
       "   sensor_18__mean_abs_change   result\n",
       "0                    0.891033  Control\n",
       "1                    0.882908       -1\n",
       "2                    0.888700  Control\n",
       "3                    0.890117       -1\n",
       "4                    0.884100       -1\n",
       "5                    0.925108       -1\n",
       "6                    0.908558       -1\n",
       "7                    0.896642       -1\n",
       "8                    0.911358    Covid\n",
       "9                    0.936642       -1"
      ]
     },
     "execution_count": 7,
     "metadata": {},
     "output_type": "execute_result"
    }
   ],
   "source": [
    "# This is to simulate a situation of labeled and unlabeled data\n",
    "# We are replacing the label of 30% of the data with -1\n",
    "# unlabeled data will have label of -1\n",
    "df_ul = replace_sample(df, 'result', 0.6, -1)\n",
    "df_ul.head(10)"
   ]
  },
  {
   "cell_type": "code",
   "execution_count": null,
   "metadata": {},
   "outputs": [],
   "source": []
  },
  {
   "cell_type": "code",
   "execution_count": 8,
   "metadata": {},
   "outputs": [
    {
     "name": "stderr",
     "output_type": "stream",
     "text": [
      "\u001b[32m[I 2022-06-20 12:25:47,813]\u001b[0m A new study created in memory with name: Constrained Clustering\u001b[0m\n",
      "2022/06/20 12:25:47 INFO mlflow.tracking.fluent: Experiment with name 'Constrained Clustering' does not exist. Creating a new experiment.\n",
      "\u001b[33m[W 2022-06-20 12:25:49,260]\u001b[0m Trial 0 failed, because the value None could not be cast to float.\u001b[0m\n",
      "2022/06/20 12:25:49 INFO mlflow.tracking.fluent: Experiment with name 'Constrained Clustering' does not exist. Creating a new experiment.\n",
      "\u001b[33m[W 2022-06-20 12:25:49,747]\u001b[0m Trial 1 failed, because the value None could not be cast to float.\u001b[0m\n",
      "\u001b[33m[W 2022-06-20 12:25:50,210]\u001b[0m Trial 2 failed, because the value None could not be cast to float.\u001b[0m\n",
      "\u001b[33m[W 2022-06-20 12:25:50,518]\u001b[0m Trial 3 failed, because the value None could not be cast to float.\u001b[0m\n",
      "\u001b[33m[W 2022-06-20 12:25:50,769]\u001b[0m Trial 4 failed, because the value None could not be cast to float.\u001b[0m\n"
     ]
    },
    {
     "name": "stdout",
     "output_type": "stream",
     "text": [
      "Click on this link to track experiments:  http://ec2-3-10-175-206.eu-west-2.compute.amazonaws.com:5000/\n"
     ]
    }
   ],
   "source": [
    "train_experiments(df_ul)"
   ]
  },
  {
   "cell_type": "code",
   "execution_count": 63,
   "metadata": {},
   "outputs": [],
   "source": [
    "df_ul['sen'] = df['sensor_18__mean_abs_change'].sample(frac=1)"
   ]
  },
  {
   "cell_type": "code",
   "execution_count": null,
   "metadata": {},
   "outputs": [],
   "source": [
    "# This is a 3 stage process:\n",
    "\n",
    "# 1. We get our constraints - must_link and cannot_link\n",
    "# 2. We use our constraints and unsupervised ML - KMeans to get clusters\n",
    "# 3. We map our clusters to actual labels\n",
    "# 4. Assign each data point to cluster/label\n",
    "\n",
    "df_cluster, centroids = get_cluster_labels(df_ul)"
   ]
  },
  {
   "cell_type": "code",
   "execution_count": null,
   "metadata": {},
   "outputs": [],
   "source": []
  },
  {
   "cell_type": "code",
   "execution_count": 135,
   "metadata": {},
   "outputs": [],
   "source": [
    "\n",
    "\n",
    "\n",
    "X = df_cluster[['sensor_18__mean_abs_change', 'sen']]\n",
    "x = df_cluster['sensor_18__mean_abs_change']\n",
    "\n",
    "df_X = X.join(df['result'])\n",
    "df_x = pd.concat([x, df['result']], axis = 1)\n",
    "\n",
    "df_ul_X = replace_sample(df_X, 'result', 0.6, -1)\n",
    "df_ul_x = replace_sample(df_x, 'result', 0.6, -1)\n",
    "\n"
   ]
  },
  {
   "cell_type": "code",
   "execution_count": 136,
   "metadata": {},
   "outputs": [],
   "source": [
    "df_cluster_X, centroids_X = get_cluster_labels(df_ul_X)\n",
    "df_cluster_x, centroids_x = get_cluster_labels(df_ul_x)"
   ]
  },
  {
   "cell_type": "code",
   "execution_count": 459,
   "metadata": {},
   "outputs": [
    {
     "data": {
      "text/plain": [
       "0.8910333333333335"
      ]
     },
     "execution_count": 459,
     "metadata": {},
     "output_type": "execute_result"
    }
   ],
   "source": [
    "x.iloc[0]"
   ]
  },
  {
   "cell_type": "code",
   "execution_count": 486,
   "metadata": {},
   "outputs": [
    {
     "data": {
      "text/plain": [
       "(54,)"
      ]
     },
     "execution_count": 486,
     "metadata": {},
     "output_type": "execute_result"
    }
   ],
   "source": [
    "x.values.shape"
   ]
  },
  {
   "cell_type": "code",
   "execution_count": 484,
   "metadata": {},
   "outputs": [
    {
     "data": {
      "text/plain": [
       "(2,)"
      ]
     },
     "execution_count": 484,
     "metadata": {},
     "output_type": "execute_result"
    }
   ],
   "source": [
    "X.iloc[0].values.shape"
   ]
  },
  {
   "cell_type": "code",
   "execution_count": 487,
   "metadata": {},
   "outputs": [],
   "source": [
    "def ss_predictions(prediction_data, centroids, mode='single'):\n",
    "    # print('type: ', type(prediction_data))\n",
    "\n",
    "    if (isinstance(prediction_data, pd.Series)) and mode=='multi':\n",
    "        preds = prediction_data.apply(ss_prediction, centroids=centroids)\n",
    "        return preds\n",
    "\n",
    "    if (isinstance(prediction_data, pd.DataFrame)):\n",
    "        preds = []\n",
    "        for i in prediction_data.values:\n",
    "        # print()\n",
    "            pred = ss_prediction(i, centroids)\n",
    "            preds.append(pred)\n",
    "        return preds\n",
    "    if prediction_data.ndim == 0:\n",
    "        pred = ss_prediction(prediction_data, centroids)\n",
    "        return pred\n",
    "    if prediction_data.ndim == 1:\n",
    "        pred = ss_prediction(prediction_data, centroids)\n",
    "        return pred\n",
    "\n",
    "    # print(prediction_data)\n",
    "    # return preds"
   ]
  },
  {
   "cell_type": "code",
   "execution_count": 488,
   "metadata": {},
   "outputs": [],
   "source": [
    "def ss_prediction(prediction_data, centroids):\n",
    "\n",
    "    prediction_data = np.array(prediction_data)\n",
    "\n",
    "    # print('Type: ', type(prediction_data))\n",
    "\n",
    "    # print('N Shape: ', prediction_data.shape)\n",
    "    # print('N Dimensions: ', prediction_data.ndim)\n",
    "\n",
    "    # if prediction_data.ndim == 1:\n",
    "    \n",
    "    if prediction_data.ndim == 0:\n",
    "\n",
    "        dist_matrix = pd.DataFrame(cdist(np.array(prediction_data).reshape(-1,1), centroids))\n",
    "        cluster = dist_matrix.idxmin(axis=1)\n",
    "        # return 0\n",
    "    \n",
    "    if prediction_data.ndim == 1:\n",
    "        dist_matrix = pd.DataFrame(cdist(np.array(prediction_data).reshape(1,-1), centroids))\n",
    "        cluster = dist_matrix.idxmin(axis=1)\n",
    "        # return 1\n",
    "\n",
    "    # dist_matrix = pd.DataFrame(cdist(np.array(prediction_data), centroids))\n",
    "    # cluster = dist_matrix.idxmin(axis=1)\n",
    "    return cluster\n",
    "\n",
    "\n",
    "    # return cluster"
   ]
  },
  {
   "cell_type": "code",
   "execution_count": 463,
   "metadata": {},
   "outputs": [],
   "source": [
    "# ss_prediction(X.iloc[0], centroids_X)"
   ]
  },
  {
   "cell_type": "code",
   "execution_count": 464,
   "metadata": {},
   "outputs": [],
   "source": [
    "# ss_prediction(x.iloc[0], centroids_x)"
   ]
  },
  {
   "cell_type": "code",
   "execution_count": 490,
   "metadata": {},
   "outputs": [
    {
     "data": {
      "text/html": [
       "<div>\n",
       "<style scoped>\n",
       "    .dataframe tbody tr th:only-of-type {\n",
       "        vertical-align: middle;\n",
       "    }\n",
       "\n",
       "    .dataframe tbody tr th {\n",
       "        vertical-align: top;\n",
       "    }\n",
       "\n",
       "    .dataframe thead th {\n",
       "        text-align: right;\n",
       "    }\n",
       "</style>\n",
       "<table border=\"1\" class=\"dataframe\">\n",
       "  <thead>\n",
       "    <tr style=\"text-align: right;\">\n",
       "      <th></th>\n",
       "      <th>0</th>\n",
       "    </tr>\n",
       "  </thead>\n",
       "  <tbody>\n",
       "    <tr>\n",
       "      <th>0</th>\n",
       "      <td>1</td>\n",
       "    </tr>\n",
       "    <tr>\n",
       "      <th>1</th>\n",
       "      <td>1</td>\n",
       "    </tr>\n",
       "    <tr>\n",
       "      <th>2</th>\n",
       "      <td>1</td>\n",
       "    </tr>\n",
       "    <tr>\n",
       "      <th>3</th>\n",
       "      <td>1</td>\n",
       "    </tr>\n",
       "    <tr>\n",
       "      <th>4</th>\n",
       "      <td>1</td>\n",
       "    </tr>\n",
       "    <tr>\n",
       "      <th>5</th>\n",
       "      <td>0</td>\n",
       "    </tr>\n",
       "    <tr>\n",
       "      <th>6</th>\n",
       "      <td>0</td>\n",
       "    </tr>\n",
       "    <tr>\n",
       "      <th>7</th>\n",
       "      <td>0</td>\n",
       "    </tr>\n",
       "    <tr>\n",
       "      <th>8</th>\n",
       "      <td>0</td>\n",
       "    </tr>\n",
       "    <tr>\n",
       "      <th>9</th>\n",
       "      <td>0</td>\n",
       "    </tr>\n",
       "    <tr>\n",
       "      <th>10</th>\n",
       "      <td>0</td>\n",
       "    </tr>\n",
       "    <tr>\n",
       "      <th>11</th>\n",
       "      <td>1</td>\n",
       "    </tr>\n",
       "    <tr>\n",
       "      <th>12</th>\n",
       "      <td>1</td>\n",
       "    </tr>\n",
       "    <tr>\n",
       "      <th>13</th>\n",
       "      <td>1</td>\n",
       "    </tr>\n",
       "    <tr>\n",
       "      <th>14</th>\n",
       "      <td>0</td>\n",
       "    </tr>\n",
       "    <tr>\n",
       "      <th>15</th>\n",
       "      <td>1</td>\n",
       "    </tr>\n",
       "    <tr>\n",
       "      <th>16</th>\n",
       "      <td>1</td>\n",
       "    </tr>\n",
       "    <tr>\n",
       "      <th>17</th>\n",
       "      <td>0</td>\n",
       "    </tr>\n",
       "    <tr>\n",
       "      <th>18</th>\n",
       "      <td>0</td>\n",
       "    </tr>\n",
       "    <tr>\n",
       "      <th>19</th>\n",
       "      <td>0</td>\n",
       "    </tr>\n",
       "    <tr>\n",
       "      <th>20</th>\n",
       "      <td>0</td>\n",
       "    </tr>\n",
       "    <tr>\n",
       "      <th>21</th>\n",
       "      <td>0</td>\n",
       "    </tr>\n",
       "    <tr>\n",
       "      <th>22</th>\n",
       "      <td>0</td>\n",
       "    </tr>\n",
       "    <tr>\n",
       "      <th>23</th>\n",
       "      <td>0</td>\n",
       "    </tr>\n",
       "    <tr>\n",
       "      <th>24</th>\n",
       "      <td>0</td>\n",
       "    </tr>\n",
       "    <tr>\n",
       "      <th>25</th>\n",
       "      <td>1</td>\n",
       "    </tr>\n",
       "    <tr>\n",
       "      <th>26</th>\n",
       "      <td>0</td>\n",
       "    </tr>\n",
       "    <tr>\n",
       "      <th>27</th>\n",
       "      <td>0</td>\n",
       "    </tr>\n",
       "    <tr>\n",
       "      <th>28</th>\n",
       "      <td>1</td>\n",
       "    </tr>\n",
       "    <tr>\n",
       "      <th>29</th>\n",
       "      <td>0</td>\n",
       "    </tr>\n",
       "    <tr>\n",
       "      <th>30</th>\n",
       "      <td>1</td>\n",
       "    </tr>\n",
       "    <tr>\n",
       "      <th>31</th>\n",
       "      <td>0</td>\n",
       "    </tr>\n",
       "    <tr>\n",
       "      <th>32</th>\n",
       "      <td>1</td>\n",
       "    </tr>\n",
       "    <tr>\n",
       "      <th>33</th>\n",
       "      <td>0</td>\n",
       "    </tr>\n",
       "    <tr>\n",
       "      <th>34</th>\n",
       "      <td>1</td>\n",
       "    </tr>\n",
       "    <tr>\n",
       "      <th>35</th>\n",
       "      <td>0</td>\n",
       "    </tr>\n",
       "    <tr>\n",
       "      <th>36</th>\n",
       "      <td>0</td>\n",
       "    </tr>\n",
       "    <tr>\n",
       "      <th>37</th>\n",
       "      <td>0</td>\n",
       "    </tr>\n",
       "    <tr>\n",
       "      <th>38</th>\n",
       "      <td>0</td>\n",
       "    </tr>\n",
       "    <tr>\n",
       "      <th>39</th>\n",
       "      <td>0</td>\n",
       "    </tr>\n",
       "    <tr>\n",
       "      <th>40</th>\n",
       "      <td>0</td>\n",
       "    </tr>\n",
       "    <tr>\n",
       "      <th>41</th>\n",
       "      <td>0</td>\n",
       "    </tr>\n",
       "    <tr>\n",
       "      <th>42</th>\n",
       "      <td>0</td>\n",
       "    </tr>\n",
       "    <tr>\n",
       "      <th>43</th>\n",
       "      <td>1</td>\n",
       "    </tr>\n",
       "    <tr>\n",
       "      <th>44</th>\n",
       "      <td>0</td>\n",
       "    </tr>\n",
       "    <tr>\n",
       "      <th>45</th>\n",
       "      <td>0</td>\n",
       "    </tr>\n",
       "    <tr>\n",
       "      <th>46</th>\n",
       "      <td>1</td>\n",
       "    </tr>\n",
       "    <tr>\n",
       "      <th>47</th>\n",
       "      <td>1</td>\n",
       "    </tr>\n",
       "    <tr>\n",
       "      <th>48</th>\n",
       "      <td>0</td>\n",
       "    </tr>\n",
       "    <tr>\n",
       "      <th>49</th>\n",
       "      <td>0</td>\n",
       "    </tr>\n",
       "    <tr>\n",
       "      <th>50</th>\n",
       "      <td>0</td>\n",
       "    </tr>\n",
       "    <tr>\n",
       "      <th>51</th>\n",
       "      <td>1</td>\n",
       "    </tr>\n",
       "    <tr>\n",
       "      <th>52</th>\n",
       "      <td>0</td>\n",
       "    </tr>\n",
       "    <tr>\n",
       "      <th>53</th>\n",
       "      <td>1</td>\n",
       "    </tr>\n",
       "  </tbody>\n",
       "</table>\n",
       "</div>"
      ],
      "text/plain": [
       "    0\n",
       "0   1\n",
       "1   1\n",
       "2   1\n",
       "3   1\n",
       "4   1\n",
       "5   0\n",
       "6   0\n",
       "7   0\n",
       "8   0\n",
       "9   0\n",
       "10  0\n",
       "11  1\n",
       "12  1\n",
       "13  1\n",
       "14  0\n",
       "15  1\n",
       "16  1\n",
       "17  0\n",
       "18  0\n",
       "19  0\n",
       "20  0\n",
       "21  0\n",
       "22  0\n",
       "23  0\n",
       "24  0\n",
       "25  1\n",
       "26  0\n",
       "27  0\n",
       "28  1\n",
       "29  0\n",
       "30  1\n",
       "31  0\n",
       "32  1\n",
       "33  0\n",
       "34  1\n",
       "35  0\n",
       "36  0\n",
       "37  0\n",
       "38  0\n",
       "39  0\n",
       "40  0\n",
       "41  0\n",
       "42  0\n",
       "43  1\n",
       "44  0\n",
       "45  0\n",
       "46  1\n",
       "47  1\n",
       "48  0\n",
       "49  0\n",
       "50  0\n",
       "51  1\n",
       "52  0\n",
       "53  1"
      ]
     },
     "execution_count": 490,
     "metadata": {},
     "output_type": "execute_result"
    }
   ],
   "source": [
    "ss_predictions(x, centroids_x, mode='multi')"
   ]
  },
  {
   "cell_type": "code",
   "execution_count": 491,
   "metadata": {},
   "outputs": [
    {
     "data": {
      "text/plain": [
       "[0    1\n",
       " dtype: int64,\n",
       " 0    1\n",
       " dtype: int64,\n",
       " 0    1\n",
       " dtype: int64,\n",
       " 0    1\n",
       " dtype: int64,\n",
       " 0    1\n",
       " dtype: int64,\n",
       " 0    0\n",
       " dtype: int64,\n",
       " 0    0\n",
       " dtype: int64,\n",
       " 0    0\n",
       " dtype: int64,\n",
       " 0    0\n",
       " dtype: int64,\n",
       " 0    0\n",
       " dtype: int64,\n",
       " 0    0\n",
       " dtype: int64,\n",
       " 0    1\n",
       " dtype: int64,\n",
       " 0    1\n",
       " dtype: int64,\n",
       " 0    1\n",
       " dtype: int64,\n",
       " 0    0\n",
       " dtype: int64,\n",
       " 0    1\n",
       " dtype: int64,\n",
       " 0    1\n",
       " dtype: int64,\n",
       " 0    0\n",
       " dtype: int64,\n",
       " 0    0\n",
       " dtype: int64,\n",
       " 0    0\n",
       " dtype: int64,\n",
       " 0    0\n",
       " dtype: int64,\n",
       " 0    0\n",
       " dtype: int64,\n",
       " 0    0\n",
       " dtype: int64,\n",
       " 0    0\n",
       " dtype: int64,\n",
       " 0    0\n",
       " dtype: int64,\n",
       " 0    1\n",
       " dtype: int64,\n",
       " 0    0\n",
       " dtype: int64,\n",
       " 0    0\n",
       " dtype: int64,\n",
       " 0    1\n",
       " dtype: int64,\n",
       " 0    0\n",
       " dtype: int64,\n",
       " 0    1\n",
       " dtype: int64,\n",
       " 0    0\n",
       " dtype: int64,\n",
       " 0    1\n",
       " dtype: int64,\n",
       " 0    0\n",
       " dtype: int64,\n",
       " 0    1\n",
       " dtype: int64,\n",
       " 0    0\n",
       " dtype: int64,\n",
       " 0    0\n",
       " dtype: int64,\n",
       " 0    0\n",
       " dtype: int64,\n",
       " 0    0\n",
       " dtype: int64,\n",
       " 0    0\n",
       " dtype: int64,\n",
       " 0    0\n",
       " dtype: int64,\n",
       " 0    0\n",
       " dtype: int64,\n",
       " 0    0\n",
       " dtype: int64,\n",
       " 0    1\n",
       " dtype: int64,\n",
       " 0    0\n",
       " dtype: int64,\n",
       " 0    0\n",
       " dtype: int64,\n",
       " 0    1\n",
       " dtype: int64,\n",
       " 0    1\n",
       " dtype: int64,\n",
       " 0    0\n",
       " dtype: int64,\n",
       " 0    0\n",
       " dtype: int64,\n",
       " 0    0\n",
       " dtype: int64,\n",
       " 0    1\n",
       " dtype: int64,\n",
       " 0    0\n",
       " dtype: int64,\n",
       " 0    1\n",
       " dtype: int64]"
      ]
     },
     "execution_count": 491,
     "metadata": {},
     "output_type": "execute_result"
    }
   ],
   "source": [
    "ss_predictions(X, centroids_X)"
   ]
  },
  {
   "cell_type": "code",
   "execution_count": null,
   "metadata": {},
   "outputs": [],
   "source": []
  },
  {
   "cell_type": "code",
   "execution_count": null,
   "metadata": {},
   "outputs": [],
   "source": []
  },
  {
   "cell_type": "code",
   "execution_count": null,
   "metadata": {},
   "outputs": [],
   "source": []
  },
  {
   "cell_type": "code",
   "execution_count": 492,
   "metadata": {},
   "outputs": [
    {
     "data": {
      "text/plain": [
       "[0    1\n",
       " dtype: int64,\n",
       " 0    1\n",
       " dtype: int64,\n",
       " 0    1\n",
       " dtype: int64,\n",
       " 0    1\n",
       " dtype: int64,\n",
       " 0    1\n",
       " dtype: int64,\n",
       " 0    0\n",
       " dtype: int64,\n",
       " 0    0\n",
       " dtype: int64,\n",
       " 0    0\n",
       " dtype: int64,\n",
       " 0    0\n",
       " dtype: int64,\n",
       " 0    0\n",
       " dtype: int64,\n",
       " 0    0\n",
       " dtype: int64,\n",
       " 0    1\n",
       " dtype: int64,\n",
       " 0    1\n",
       " dtype: int64,\n",
       " 0    1\n",
       " dtype: int64,\n",
       " 0    0\n",
       " dtype: int64,\n",
       " 0    1\n",
       " dtype: int64,\n",
       " 0    1\n",
       " dtype: int64,\n",
       " 0    0\n",
       " dtype: int64,\n",
       " 0    0\n",
       " dtype: int64,\n",
       " 0    0\n",
       " dtype: int64,\n",
       " 0    0\n",
       " dtype: int64,\n",
       " 0    0\n",
       " dtype: int64,\n",
       " 0    0\n",
       " dtype: int64,\n",
       " 0    0\n",
       " dtype: int64,\n",
       " 0    0\n",
       " dtype: int64,\n",
       " 0    1\n",
       " dtype: int64,\n",
       " 0    0\n",
       " dtype: int64,\n",
       " 0    0\n",
       " dtype: int64,\n",
       " 0    1\n",
       " dtype: int64,\n",
       " 0    0\n",
       " dtype: int64,\n",
       " 0    1\n",
       " dtype: int64,\n",
       " 0    0\n",
       " dtype: int64,\n",
       " 0    1\n",
       " dtype: int64,\n",
       " 0    0\n",
       " dtype: int64,\n",
       " 0    1\n",
       " dtype: int64,\n",
       " 0    0\n",
       " dtype: int64,\n",
       " 0    0\n",
       " dtype: int64,\n",
       " 0    0\n",
       " dtype: int64,\n",
       " 0    0\n",
       " dtype: int64,\n",
       " 0    0\n",
       " dtype: int64,\n",
       " 0    0\n",
       " dtype: int64,\n",
       " 0    0\n",
       " dtype: int64,\n",
       " 0    0\n",
       " dtype: int64,\n",
       " 0    1\n",
       " dtype: int64,\n",
       " 0    0\n",
       " dtype: int64,\n",
       " 0    0\n",
       " dtype: int64,\n",
       " 0    1\n",
       " dtype: int64,\n",
       " 0    1\n",
       " dtype: int64,\n",
       " 0    0\n",
       " dtype: int64,\n",
       " 0    0\n",
       " dtype: int64,\n",
       " 0    0\n",
       " dtype: int64,\n",
       " 0    1\n",
       " dtype: int64,\n",
       " 0    0\n",
       " dtype: int64,\n",
       " 0    1\n",
       " dtype: int64]"
      ]
     },
     "execution_count": 492,
     "metadata": {},
     "output_type": "execute_result"
    }
   ],
   "source": [
    "ss_predictions(X, centroids_X)"
   ]
  },
  {
   "cell_type": "code",
   "execution_count": 494,
   "metadata": {},
   "outputs": [
    {
     "data": {
      "text/html": [
       "<div>\n",
       "<style scoped>\n",
       "    .dataframe tbody tr th:only-of-type {\n",
       "        vertical-align: middle;\n",
       "    }\n",
       "\n",
       "    .dataframe tbody tr th {\n",
       "        vertical-align: top;\n",
       "    }\n",
       "\n",
       "    .dataframe thead th {\n",
       "        text-align: right;\n",
       "    }\n",
       "</style>\n",
       "<table border=\"1\" class=\"dataframe\">\n",
       "  <thead>\n",
       "    <tr style=\"text-align: right;\">\n",
       "      <th></th>\n",
       "      <th>0</th>\n",
       "    </tr>\n",
       "  </thead>\n",
       "  <tbody>\n",
       "    <tr>\n",
       "      <th>0</th>\n",
       "      <td>1</td>\n",
       "    </tr>\n",
       "    <tr>\n",
       "      <th>1</th>\n",
       "      <td>1</td>\n",
       "    </tr>\n",
       "    <tr>\n",
       "      <th>2</th>\n",
       "      <td>1</td>\n",
       "    </tr>\n",
       "    <tr>\n",
       "      <th>3</th>\n",
       "      <td>1</td>\n",
       "    </tr>\n",
       "    <tr>\n",
       "      <th>4</th>\n",
       "      <td>1</td>\n",
       "    </tr>\n",
       "    <tr>\n",
       "      <th>5</th>\n",
       "      <td>0</td>\n",
       "    </tr>\n",
       "    <tr>\n",
       "      <th>6</th>\n",
       "      <td>0</td>\n",
       "    </tr>\n",
       "    <tr>\n",
       "      <th>7</th>\n",
       "      <td>0</td>\n",
       "    </tr>\n",
       "    <tr>\n",
       "      <th>8</th>\n",
       "      <td>0</td>\n",
       "    </tr>\n",
       "    <tr>\n",
       "      <th>9</th>\n",
       "      <td>0</td>\n",
       "    </tr>\n",
       "    <tr>\n",
       "      <th>10</th>\n",
       "      <td>0</td>\n",
       "    </tr>\n",
       "    <tr>\n",
       "      <th>11</th>\n",
       "      <td>1</td>\n",
       "    </tr>\n",
       "    <tr>\n",
       "      <th>12</th>\n",
       "      <td>1</td>\n",
       "    </tr>\n",
       "    <tr>\n",
       "      <th>13</th>\n",
       "      <td>1</td>\n",
       "    </tr>\n",
       "    <tr>\n",
       "      <th>14</th>\n",
       "      <td>0</td>\n",
       "    </tr>\n",
       "    <tr>\n",
       "      <th>15</th>\n",
       "      <td>1</td>\n",
       "    </tr>\n",
       "    <tr>\n",
       "      <th>16</th>\n",
       "      <td>1</td>\n",
       "    </tr>\n",
       "    <tr>\n",
       "      <th>17</th>\n",
       "      <td>0</td>\n",
       "    </tr>\n",
       "    <tr>\n",
       "      <th>18</th>\n",
       "      <td>0</td>\n",
       "    </tr>\n",
       "    <tr>\n",
       "      <th>19</th>\n",
       "      <td>0</td>\n",
       "    </tr>\n",
       "    <tr>\n",
       "      <th>20</th>\n",
       "      <td>0</td>\n",
       "    </tr>\n",
       "    <tr>\n",
       "      <th>21</th>\n",
       "      <td>0</td>\n",
       "    </tr>\n",
       "    <tr>\n",
       "      <th>22</th>\n",
       "      <td>0</td>\n",
       "    </tr>\n",
       "    <tr>\n",
       "      <th>23</th>\n",
       "      <td>0</td>\n",
       "    </tr>\n",
       "    <tr>\n",
       "      <th>24</th>\n",
       "      <td>0</td>\n",
       "    </tr>\n",
       "    <tr>\n",
       "      <th>25</th>\n",
       "      <td>1</td>\n",
       "    </tr>\n",
       "    <tr>\n",
       "      <th>26</th>\n",
       "      <td>0</td>\n",
       "    </tr>\n",
       "    <tr>\n",
       "      <th>27</th>\n",
       "      <td>0</td>\n",
       "    </tr>\n",
       "    <tr>\n",
       "      <th>28</th>\n",
       "      <td>1</td>\n",
       "    </tr>\n",
       "    <tr>\n",
       "      <th>29</th>\n",
       "      <td>0</td>\n",
       "    </tr>\n",
       "    <tr>\n",
       "      <th>30</th>\n",
       "      <td>1</td>\n",
       "    </tr>\n",
       "    <tr>\n",
       "      <th>31</th>\n",
       "      <td>0</td>\n",
       "    </tr>\n",
       "    <tr>\n",
       "      <th>32</th>\n",
       "      <td>1</td>\n",
       "    </tr>\n",
       "    <tr>\n",
       "      <th>33</th>\n",
       "      <td>0</td>\n",
       "    </tr>\n",
       "    <tr>\n",
       "      <th>34</th>\n",
       "      <td>1</td>\n",
       "    </tr>\n",
       "    <tr>\n",
       "      <th>35</th>\n",
       "      <td>0</td>\n",
       "    </tr>\n",
       "    <tr>\n",
       "      <th>36</th>\n",
       "      <td>0</td>\n",
       "    </tr>\n",
       "    <tr>\n",
       "      <th>37</th>\n",
       "      <td>0</td>\n",
       "    </tr>\n",
       "    <tr>\n",
       "      <th>38</th>\n",
       "      <td>0</td>\n",
       "    </tr>\n",
       "    <tr>\n",
       "      <th>39</th>\n",
       "      <td>0</td>\n",
       "    </tr>\n",
       "    <tr>\n",
       "      <th>40</th>\n",
       "      <td>0</td>\n",
       "    </tr>\n",
       "    <tr>\n",
       "      <th>41</th>\n",
       "      <td>0</td>\n",
       "    </tr>\n",
       "    <tr>\n",
       "      <th>42</th>\n",
       "      <td>0</td>\n",
       "    </tr>\n",
       "    <tr>\n",
       "      <th>43</th>\n",
       "      <td>1</td>\n",
       "    </tr>\n",
       "    <tr>\n",
       "      <th>44</th>\n",
       "      <td>0</td>\n",
       "    </tr>\n",
       "    <tr>\n",
       "      <th>45</th>\n",
       "      <td>0</td>\n",
       "    </tr>\n",
       "    <tr>\n",
       "      <th>46</th>\n",
       "      <td>1</td>\n",
       "    </tr>\n",
       "    <tr>\n",
       "      <th>47</th>\n",
       "      <td>1</td>\n",
       "    </tr>\n",
       "    <tr>\n",
       "      <th>48</th>\n",
       "      <td>0</td>\n",
       "    </tr>\n",
       "    <tr>\n",
       "      <th>49</th>\n",
       "      <td>0</td>\n",
       "    </tr>\n",
       "    <tr>\n",
       "      <th>50</th>\n",
       "      <td>0</td>\n",
       "    </tr>\n",
       "    <tr>\n",
       "      <th>51</th>\n",
       "      <td>1</td>\n",
       "    </tr>\n",
       "    <tr>\n",
       "      <th>52</th>\n",
       "      <td>0</td>\n",
       "    </tr>\n",
       "    <tr>\n",
       "      <th>53</th>\n",
       "      <td>1</td>\n",
       "    </tr>\n",
       "  </tbody>\n",
       "</table>\n",
       "</div>"
      ],
      "text/plain": [
       "    0\n",
       "0   1\n",
       "1   1\n",
       "2   1\n",
       "3   1\n",
       "4   1\n",
       "5   0\n",
       "6   0\n",
       "7   0\n",
       "8   0\n",
       "9   0\n",
       "10  0\n",
       "11  1\n",
       "12  1\n",
       "13  1\n",
       "14  0\n",
       "15  1\n",
       "16  1\n",
       "17  0\n",
       "18  0\n",
       "19  0\n",
       "20  0\n",
       "21  0\n",
       "22  0\n",
       "23  0\n",
       "24  0\n",
       "25  1\n",
       "26  0\n",
       "27  0\n",
       "28  1\n",
       "29  0\n",
       "30  1\n",
       "31  0\n",
       "32  1\n",
       "33  0\n",
       "34  1\n",
       "35  0\n",
       "36  0\n",
       "37  0\n",
       "38  0\n",
       "39  0\n",
       "40  0\n",
       "41  0\n",
       "42  0\n",
       "43  1\n",
       "44  0\n",
       "45  0\n",
       "46  1\n",
       "47  1\n",
       "48  0\n",
       "49  0\n",
       "50  0\n",
       "51  1\n",
       "52  0\n",
       "53  1"
      ]
     },
     "execution_count": 494,
     "metadata": {},
     "output_type": "execute_result"
    }
   ],
   "source": [
    "ss_predictions(x, centroids_x, mode='multi')"
   ]
  },
  {
   "cell_type": "code",
   "execution_count": 469,
   "metadata": {},
   "outputs": [],
   "source": [
    "# X.shape, centroids_X"
   ]
  },
  {
   "cell_type": "code",
   "execution_count": 470,
   "metadata": {},
   "outputs": [],
   "source": [
    "# x.shape, centroids_x"
   ]
  },
  {
   "cell_type": "code",
   "execution_count": 471,
   "metadata": {},
   "outputs": [
    {
     "data": {
      "text/plain": [
       "Index(['sensor_18__mean_abs_change', 'sen'], dtype='object')"
      ]
     },
     "execution_count": 471,
     "metadata": {},
     "output_type": "execute_result"
    }
   ],
   "source": [
    "X.columns"
   ]
  },
  {
   "cell_type": "code",
   "execution_count": 472,
   "metadata": {},
   "outputs": [
    {
     "data": {
      "text/plain": [
       "(2, 1)"
      ]
     },
     "execution_count": 472,
     "metadata": {},
     "output_type": "execute_result"
    }
   ],
   "source": [
    "X.ndim, X.iloc[0].ndim"
   ]
  },
  {
   "cell_type": "code",
   "execution_count": 473,
   "metadata": {},
   "outputs": [
    {
     "data": {
      "text/plain": [
       "(1, 0)"
      ]
     },
     "execution_count": 473,
     "metadata": {},
     "output_type": "execute_result"
    }
   ],
   "source": [
    "x.ndim, x.iloc[0].ndim"
   ]
  },
  {
   "cell_type": "code",
   "execution_count": null,
   "metadata": {},
   "outputs": [],
   "source": []
  },
  {
   "cell_type": "code",
   "execution_count": 474,
   "metadata": {},
   "outputs": [],
   "source": [
    "# x.columns"
   ]
  },
  {
   "cell_type": "code",
   "execution_count": 495,
   "metadata": {},
   "outputs": [
    {
     "data": {
      "text/plain": [
       "0    1\n",
       "dtype: int64"
      ]
     },
     "execution_count": 495,
     "metadata": {},
     "output_type": "execute_result"
    }
   ],
   "source": [
    "ss_predictions(X.iloc[0], centroids_X)"
   ]
  },
  {
   "cell_type": "code",
   "execution_count": 479,
   "metadata": {},
   "outputs": [
    {
     "data": {
      "text/plain": [
       "sensor_18__mean_abs_change    0.891033\n",
       "sen                           0.891033\n",
       "Name: 0, dtype: float64"
      ]
     },
     "execution_count": 479,
     "metadata": {},
     "output_type": "execute_result"
    }
   ],
   "source": [
    "X.iloc[0]"
   ]
  },
  {
   "cell_type": "code",
   "execution_count": 496,
   "metadata": {},
   "outputs": [
    {
     "data": {
      "text/plain": [
       "0    1\n",
       "dtype: int64"
      ]
     },
     "execution_count": 496,
     "metadata": {},
     "output_type": "execute_result"
    }
   ],
   "source": [
    "ss_predictions(X.iloc[0], centroids_X)"
   ]
  },
  {
   "cell_type": "code",
   "execution_count": 497,
   "metadata": {},
   "outputs": [
    {
     "data": {
      "text/plain": [
       "0    1\n",
       "dtype: int64"
      ]
     },
     "execution_count": 497,
     "metadata": {},
     "output_type": "execute_result"
    }
   ],
   "source": [
    "ss_predictions(x.iloc[0], centroids_x)"
   ]
  },
  {
   "cell_type": "code",
   "execution_count": null,
   "metadata": {},
   "outputs": [],
   "source": [
    "cluster_pred_X = ss_prediction(prediction_data_X, centroids)"
   ]
  },
  {
   "cell_type": "code",
   "execution_count": null,
   "metadata": {},
   "outputs": [],
   "source": [
    "cluster_pred_x = ss_prediction(prediction_data_x, centroids)"
   ]
  },
  {
   "cell_type": "code",
   "execution_count": null,
   "metadata": {},
   "outputs": [],
   "source": []
  },
  {
   "cell_type": "code",
   "execution_count": null,
   "metadata": {},
   "outputs": [],
   "source": []
  },
  {
   "cell_type": "code",
   "execution_count": 128,
   "metadata": {},
   "outputs": [],
   "source": [
    "import mlflow.pyfunc\n",
    "from scipy.spatial import distance_matrix\n",
    "from scipy.spatial.distance import cdist\n",
    "\n",
    "\n",
    "def ss_prediction(prediction_data, centroids):\n",
    "\n",
    "    dist_matrix = pd.DataFrame(cdist(np.array(prediction_data).reshape(-1,1), centroids))\n",
    "    cluster = dist_matrix.idxmin(axis=1)\n",
    "    \n",
    "    return cluster\n",
    "\n",
    "# Define the model class\n",
    "class SSC(mlflow.pyfunc.PythonModel):\n",
    "\n",
    "    def __init__(self, centroids):\n",
    "        self.centroids = centroids\n",
    "\n",
    "    def predict(self, context, model_input):\n",
    "\n",
    "        return ss_prediction(model_input, self.centroids)\n",
    "\n",
    "\n"
   ]
  },
  {
   "cell_type": "code",
   "execution_count": 79,
   "metadata": {},
   "outputs": [],
   "source": [
    "# Construct the model\n",
    "model_path = \"ssc\"\n",
    "ssc = SSC(centroids)"
   ]
  },
  {
   "cell_type": "code",
   "execution_count": 126,
   "metadata": {},
   "outputs": [],
   "source": []
  },
  {
   "cell_type": "code",
   "execution_count": 81,
   "metadata": {},
   "outputs": [],
   "source": [
    "# save the model\n",
    "mlflow.pyfunc.save_model(path=model_path, python_model=ssc)"
   ]
  },
  {
   "cell_type": "code",
   "execution_count": 82,
   "metadata": {},
   "outputs": [],
   "source": [
    "\n",
    "# Load the model in `python_function` format\n",
    "loaded_model = mlflow.pyfunc.load_model(model_path)"
   ]
  },
  {
   "cell_type": "code",
   "execution_count": null,
   "metadata": {},
   "outputs": [],
   "source": [
    "model_output = loaded_model.predict(X.iloc[9])\n"
   ]
  },
  {
   "cell_type": "code",
   "execution_count": null,
   "metadata": {},
   "outputs": [],
   "source": [
    "ss_prediction()"
   ]
  },
  {
   "cell_type": "code",
   "execution_count": null,
   "metadata": {},
   "outputs": [],
   "source": []
  },
  {
   "cell_type": "code",
   "execution_count": null,
   "metadata": {},
   "outputs": [],
   "source": []
  },
  {
   "cell_type": "code",
   "execution_count": null,
   "metadata": {},
   "outputs": [],
   "source": []
  },
  {
   "cell_type": "code",
   "execution_count": null,
   "metadata": {},
   "outputs": [],
   "source": []
  },
  {
   "cell_type": "code",
   "execution_count": 55,
   "metadata": {},
   "outputs": [
    {
     "data": {
      "text/plain": [
       "0    0\n",
       "dtype: int64"
      ]
     },
     "execution_count": 55,
     "metadata": {},
     "output_type": "execute_result"
    }
   ],
   "source": [
    "model_output"
   ]
  },
  {
   "cell_type": "code",
   "execution_count": null,
   "metadata": {},
   "outputs": [],
   "source": [
    "\n",
    "# Evaluate the model\n",
    "import pandas as pd\n",
    "model_input = pd.DataFrame([range(10)])\n",
    "model_output = loaded_model.predict(model_input)\n",
    "assert model_output.equals(pd.DataFrame([range(5, 15)]))"
   ]
  },
  {
   "cell_type": "code",
   "execution_count": null,
   "metadata": {},
   "outputs": [],
   "source": []
  },
  {
   "cell_type": "code",
   "execution_count": 10,
   "metadata": {},
   "outputs": [],
   "source": [
    "# This is a 3 stage process:\n",
    "\n",
    "# 1. We get our constraints - must_link and cannot_link\n",
    "# 2. We use our constraints and unsupervised ML - KMeans to get clusters\n",
    "# 3. We map our clusters to actual labels\n",
    "# 4. Assign each data point to cluster/label\n",
    "\n",
    "df_cluster, centroids = get_cluster_labels(df_ul)"
   ]
  },
  {
   "cell_type": "code",
   "execution_count": 58,
   "metadata": {},
   "outputs": [],
   "source": [
    "# data with new labels\n",
    "\n"
   ]
  },
  {
   "cell_type": "code",
   "execution_count": 12,
   "metadata": {},
   "outputs": [],
   "source": [
    "# Compare the unlabeled data to the new labels\n",
    "\n",
    "df_combined = df_ul.join(df_cluster[['cluster', 'cluster_label']])\n",
    "df_all = df_combined.join(df['result'], rsuffix='_actual')"
   ]
  },
  {
   "cell_type": "code",
   "execution_count": 13,
   "metadata": {},
   "outputs": [
    {
     "data": {
      "text/plain": [
       "49"
      ]
     },
     "execution_count": 13,
     "metadata": {},
     "output_type": "execute_result"
    }
   ],
   "source": [
    "sum(df_all['cluster_label'] == df_all['result_actual'])"
   ]
  },
  {
   "cell_type": "code",
   "execution_count": 14,
   "metadata": {},
   "outputs": [
    {
     "data": {
      "text/html": [
       "<div>\n",
       "<style scoped>\n",
       "    .dataframe tbody tr th:only-of-type {\n",
       "        vertical-align: middle;\n",
       "    }\n",
       "\n",
       "    .dataframe tbody tr th {\n",
       "        vertical-align: top;\n",
       "    }\n",
       "\n",
       "    .dataframe thead th {\n",
       "        text-align: right;\n",
       "    }\n",
       "</style>\n",
       "<table border=\"1\" class=\"dataframe\">\n",
       "  <thead>\n",
       "    <tr style=\"text-align: right;\">\n",
       "      <th></th>\n",
       "      <th>sensor_18__mean_abs_change</th>\n",
       "      <th>result</th>\n",
       "      <th>cluster</th>\n",
       "      <th>cluster_label</th>\n",
       "      <th>result_actual</th>\n",
       "    </tr>\n",
       "  </thead>\n",
       "  <tbody>\n",
       "    <tr>\n",
       "      <th>7</th>\n",
       "      <td>0.896642</td>\n",
       "      <td>-1</td>\n",
       "      <td>0</td>\n",
       "      <td>Covid</td>\n",
       "      <td>Control</td>\n",
       "    </tr>\n",
       "    <tr>\n",
       "      <th>20</th>\n",
       "      <td>0.895450</td>\n",
       "      <td>-1</td>\n",
       "      <td>0</td>\n",
       "      <td>Covid</td>\n",
       "      <td>Control</td>\n",
       "    </tr>\n",
       "    <tr>\n",
       "      <th>39</th>\n",
       "      <td>0.895842</td>\n",
       "      <td>Control</td>\n",
       "      <td>0</td>\n",
       "      <td>Covid</td>\n",
       "      <td>Control</td>\n",
       "    </tr>\n",
       "    <tr>\n",
       "      <th>45</th>\n",
       "      <td>0.896425</td>\n",
       "      <td>-1</td>\n",
       "      <td>0</td>\n",
       "      <td>Covid</td>\n",
       "      <td>Control</td>\n",
       "    </tr>\n",
       "    <tr>\n",
       "      <th>50</th>\n",
       "      <td>0.894858</td>\n",
       "      <td>-1</td>\n",
       "      <td>0</td>\n",
       "      <td>Covid</td>\n",
       "      <td>Control</td>\n",
       "    </tr>\n",
       "  </tbody>\n",
       "</table>\n",
       "</div>"
      ],
      "text/plain": [
       "    sensor_18__mean_abs_change   result  cluster cluster_label result_actual\n",
       "7                     0.896642       -1        0         Covid       Control\n",
       "20                    0.895450       -1        0         Covid       Control\n",
       "39                    0.895842  Control        0         Covid       Control\n",
       "45                    0.896425       -1        0         Covid       Control\n",
       "50                    0.894858       -1        0         Covid       Control"
      ]
     },
     "execution_count": 14,
     "metadata": {},
     "output_type": "execute_result"
    }
   ],
   "source": [
    "df_all[df_all['cluster_label'] != df_all['result_actual'] ]"
   ]
  },
  {
   "cell_type": "code",
   "execution_count": 15,
   "metadata": {},
   "outputs": [
    {
     "data": {
      "text/html": [
       "<div>\n",
       "<style scoped>\n",
       "    .dataframe tbody tr th:only-of-type {\n",
       "        vertical-align: middle;\n",
       "    }\n",
       "\n",
       "    .dataframe tbody tr th {\n",
       "        vertical-align: top;\n",
       "    }\n",
       "\n",
       "    .dataframe thead th {\n",
       "        text-align: right;\n",
       "    }\n",
       "</style>\n",
       "<table border=\"1\" class=\"dataframe\">\n",
       "  <thead>\n",
       "    <tr style=\"text-align: right;\">\n",
       "      <th></th>\n",
       "      <th>sensor_18__mean_abs_change</th>\n",
       "      <th>result</th>\n",
       "      <th>cluster</th>\n",
       "      <th>cluster_label</th>\n",
       "      <th>result_actual</th>\n",
       "    </tr>\n",
       "  </thead>\n",
       "  <tbody>\n",
       "    <tr>\n",
       "      <th>49</th>\n",
       "      <td>0.920725</td>\n",
       "      <td>-1</td>\n",
       "      <td>0</td>\n",
       "      <td>Covid</td>\n",
       "      <td>Covid</td>\n",
       "    </tr>\n",
       "    <tr>\n",
       "      <th>50</th>\n",
       "      <td>0.894858</td>\n",
       "      <td>-1</td>\n",
       "      <td>0</td>\n",
       "      <td>Covid</td>\n",
       "      <td>Control</td>\n",
       "    </tr>\n",
       "    <tr>\n",
       "      <th>51</th>\n",
       "      <td>0.875758</td>\n",
       "      <td>-1</td>\n",
       "      <td>1</td>\n",
       "      <td>Control</td>\n",
       "      <td>Control</td>\n",
       "    </tr>\n",
       "    <tr>\n",
       "      <th>52</th>\n",
       "      <td>0.929242</td>\n",
       "      <td>Covid</td>\n",
       "      <td>0</td>\n",
       "      <td>Covid</td>\n",
       "      <td>Covid</td>\n",
       "    </tr>\n",
       "    <tr>\n",
       "      <th>53</th>\n",
       "      <td>0.884100</td>\n",
       "      <td>-1</td>\n",
       "      <td>1</td>\n",
       "      <td>Control</td>\n",
       "      <td>Control</td>\n",
       "    </tr>\n",
       "  </tbody>\n",
       "</table>\n",
       "</div>"
      ],
      "text/plain": [
       "    sensor_18__mean_abs_change result  cluster cluster_label result_actual\n",
       "49                    0.920725     -1        0         Covid         Covid\n",
       "50                    0.894858     -1        0         Covid       Control\n",
       "51                    0.875758     -1        1       Control       Control\n",
       "52                    0.929242  Covid        0         Covid         Covid\n",
       "53                    0.884100     -1        1       Control       Control"
      ]
     },
     "execution_count": 15,
     "metadata": {},
     "output_type": "execute_result"
    }
   ],
   "source": [
    "df_all.tail()"
   ]
  },
  {
   "cell_type": "code",
   "execution_count": null,
   "metadata": {},
   "outputs": [],
   "source": [
    "from scipy.spatial import distance_matrix\n",
    "from scipy.spatial.distance import cdist\n",
    "\n",
    "\n",
    "dist_df = pd.DataFrame(distance_matrix(df_all['sensor_18__mean_abs_change'].values.reshape(-1,1), centroids))\n",
    "cluster = dist_df.idxmin(axis=1)"
   ]
  },
  {
   "cell_type": "code",
   "execution_count": 106,
   "metadata": {},
   "outputs": [
    {
     "data": {
      "text/plain": [
       "array([[0.89103333, 0.89103333]])"
      ]
     },
     "execution_count": 106,
     "metadata": {},
     "output_type": "execute_result"
    }
   ],
   "source": [
    "X.iloc[0].values.reshape(1,-1)"
   ]
  },
  {
   "cell_type": "code",
   "execution_count": 109,
   "metadata": {},
   "outputs": [
    {
     "data": {
      "text/plain": [
       "array([[0.04126972, 0.02027301]])"
      ]
     },
     "execution_count": 109,
     "metadata": {},
     "output_type": "execute_result"
    }
   ],
   "source": [
    "distance_matrix(X.iloc[0].values.reshape(1,-1), centroids)"
   ]
  },
  {
   "cell_type": "code",
   "execution_count": 110,
   "metadata": {},
   "outputs": [
    {
     "data": {
      "text/plain": [
       "array([[0.04126972, 0.02027301]])"
      ]
     },
     "execution_count": 110,
     "metadata": {},
     "output_type": "execute_result"
    }
   ],
   "source": [
    "cdist(X.iloc[0].values.reshape(1,-1), centroids)"
   ]
  },
  {
   "cell_type": "code",
   "execution_count": 95,
   "metadata": {},
   "outputs": [
    {
     "data": {
      "text/plain": [
       "array([[0.89103333],\n",
       "       [0.89103333]])"
      ]
     },
     "execution_count": 95,
     "metadata": {},
     "output_type": "execute_result"
    }
   ],
   "source": [
    "X.iloc[0].values.reshape(-1,1)"
   ]
  },
  {
   "cell_type": "code",
   "execution_count": null,
   "metadata": {},
   "outputs": [],
   "source": []
  },
  {
   "cell_type": "code",
   "execution_count": null,
   "metadata": {},
   "outputs": [],
   "source": [
    "from scipy.spatial import distance_matrix\n",
    "\n",
    "dist_df = pd.DataFrame(distance_matrix(df_all['sensor_18__mean_abs_change'].values.reshape(-1,1), centroids))\n",
    "cluster = dist_df.idxmin(axis=1)"
   ]
  },
  {
   "cell_type": "code",
   "execution_count": null,
   "metadata": {},
   "outputs": [],
   "source": []
  },
  {
   "cell_type": "code",
   "execution_count": 47,
   "metadata": {},
   "outputs": [],
   "source": []
  },
  {
   "cell_type": "code",
   "execution_count": 83,
   "metadata": {},
   "outputs": [],
   "source": [
    "control_cluster = df_all[df_all['cluster_label']=='Control']['sensor_12__minimum'].values\n",
    "covid_cluster = df_all[df_all['cluster_label']=='Covid']['sensor_12__minimum'].values"
   ]
  },
  {
   "cell_type": "code",
   "execution_count": 112,
   "metadata": {},
   "outputs": [
    {
     "data": {
      "text/plain": [
       "[[247.86240740740737], [245.01803703703706]]"
      ]
     },
     "execution_count": 112,
     "metadata": {},
     "output_type": "execute_result"
    }
   ],
   "source": [
    "centroids"
   ]
  },
  {
   "cell_type": "code",
   "execution_count": 104,
   "metadata": {},
   "outputs": [],
   "source": [
    "control = df_ul[df_ul['result']=='Control']['sensor_12__minimum'].values\n",
    "covid = df_ul[df_ul['result']=='Covid']['sensor_12__minimum'].values\n",
    "unknown = df_ul[df_ul['result']==-1]['sensor_12__minimum'].values"
   ]
  },
  {
   "cell_type": "code",
   "execution_count": 111,
   "metadata": {},
   "outputs": [
    {
     "data": {
      "image/png": "[encoded data removed]",
      "text/plain": [
       "<Figure size 432x288 with 1 Axes>"
      ]
     },
     "metadata": {
      "needs_background": "light"
     },
     "output_type": "display_data"
    }
   ],
   "source": [
    "import numpy as np\n",
    "import matplotlib.pyplot as plt\n",
    "val = 0. # this is the value where you want the data to apltear on the y-axis.\n",
    "ar = df_ul['sensor_12__minimum'].values \n",
    "plt.plot(control, np.zeros_like(control) + val, 'x')\n",
    "plt.plot(covid, np.zeros_like(covid) + val, 'o');"
   ]
  },
  {
   "cell_type": "code",
   "execution_count": 109,
   "metadata": {},
   "outputs": [
    {
     "data": {
      "image/png": "[encoded data removed]",
      "text/plain": [
       "<Figure size 432x288 with 1 Axes>"
      ]
     },
     "metadata": {
      "needs_background": "light"
     },
     "output_type": "display_data"
    }
   ],
   "source": [
    "import numpy as np\n",
    "import matplotlib.pyplot as plt\n",
    "val = 0. # this is the value where you want the data to apltear on the y-axis.\n",
    "ar = df_ul['sensor_12__minimum'].values \n",
    "plt.plot(control, np.zeros_like(control) + val, 'x')\n",
    "plt.plot(covid, np.zeros_like(covid) + val, 'o')\n",
    "plt.plot(unknown, np.zeros_like(unknown) + val, 'x', color='black')\n",
    "\n",
    "# plt.plot(centroids[0], np.zeros_like(centroids[0]) + val, 'x', markersize=12, color='blue')\n",
    "# plt.plot(centroids[1], np.zeros_like(centroids[1]) + val, 'o', markersize=12, color='orange')\n",
    "\n",
    "plt.show()"
   ]
  },
  {
   "cell_type": "code",
   "execution_count": null,
   "metadata": {},
   "outputs": [],
   "source": []
  },
  {
   "cell_type": "code",
   "execution_count": null,
   "metadata": {},
   "outputs": [],
   "source": [
    "control_cluster = df_all[df_all['cluster_label']=='Control']['sensor_12__minimum'].values\n",
    "covid_cluster = df_all[df_all['cluster_label']=='Covid']['sensor_12__minimum'].values"
   ]
  },
  {
   "cell_type": "code",
   "execution_count": 98,
   "metadata": {},
   "outputs": [
    {
     "data": {
      "image/png": "[encoded data removed]",
      "text/plain": [
       "<Figure size 432x288 with 1 Axes>"
      ]
     },
     "metadata": {
      "needs_background": "light"
     },
     "output_type": "display_data"
    }
   ],
   "source": [
    "import numpy as np\n",
    "import matplotlib.pyplot as plt\n",
    "val = 0. # this is the value where you want the data to apltear on the y-axis.\n",
    "ar = df_all['sensor_12__minimum'].values \n",
    "plt.plot(control_cluster, np.zeros_like(control_cluster) + val, 'x')\n",
    "plt.plot(covid_cluster, np.zeros_like(covid_cluster) + val, 'o')\n",
    "plt.plot(centroids[0], np.zeros_like(centroids[0]) + val, 'x', markersize=12, color='blue')\n",
    "plt.plot(centroids[1], np.zeros_like(centroids[1]) + val, 'o', markersize=12, color='orange')\n",
    "\n",
    "plt.show()"
   ]
  },
  {
   "cell_type": "code",
   "execution_count": 41,
   "metadata": {},
   "outputs": [
    {
     "data": {
      "text/plain": [
       "[247.86240740740737]"
      ]
     },
     "execution_count": 41,
     "metadata": {},
     "output_type": "execute_result"
    }
   ],
   "source": [
    "centroids[0]"
   ]
  }
 ],
 "metadata": {
  "kernelspec": {
   "display_name": "Python 3.7.13 64-bit ('venv-3.7')",
   "language": "python",
   "name": "python3"
  },
  "language_info": {
   "codemirror_mode": {
    "name": "ipython",
    "version": 3
   },
   "file_extension": ".py",
   "mimetype": "text/x-python",
   "name": "python",
   "nbconvert_exporter": "python",
   "pygments_lexer": "ipython3",
   "version": "3.7.13"
  },
  "orig_nbformat": 4,
  "vscode": {
   "interpreter": {
    "hash": "ee11bcebc16333c1f12fa33af752d4705ffd3425f6d5ea8efafb5052afd7992e"
   }
  }
 },
 "nbformat": 4,
 "nbformat_minor": 2
}
