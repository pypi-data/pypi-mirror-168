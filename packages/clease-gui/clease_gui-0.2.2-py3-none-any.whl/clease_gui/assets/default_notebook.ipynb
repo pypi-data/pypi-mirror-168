{
 "cells": [
  {
   "cell_type": "code",
   "execution_count": null,
   "id": "7532f533",
   "metadata": {},
   "outputs": [],
   "source": [
    "%matplotlib tk\n",
    "from clease_gui import display_ui\n",
    "\n",
    "display_ui();"
   ]
  }
 ],
 "metadata": {
  "language_info": {
   "name": "python"
  }
 },
 "nbformat": 4,
 "nbformat_minor": 5
}
