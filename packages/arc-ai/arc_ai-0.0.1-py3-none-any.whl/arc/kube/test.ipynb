{
 "cells": [
  {
   "cell_type": "code",
   "execution_count": 1,
   "metadata": {},
   "outputs": [],
   "source": [
    "a = \"a\""
   ]
  },
  {
   "cell_type": "code",
   "execution_count": 6,
   "metadata": {},
   "outputs": [
    {
     "data": {
      "text/plain": [
       "'a'"
      ]
     },
     "execution_count": 6,
     "metadata": {},
     "output_type": "execute_result"
    }
   ],
   "source": [
    "a"
   ]
  },
  {
   "cell_type": "code",
   "execution_count": 7,
   "metadata": {},
   "outputs": [],
   "source": [
    "b = \"foo\""
   ]
  },
  {
   "cell_type": "code",
   "execution_count": 9,
   "metadata": {},
   "outputs": [
    {
     "data": {
      "text/plain": [
       "'c'"
      ]
     },
     "execution_count": 9,
     "metadata": {},
     "output_type": "execute_result"
    }
   ],
   "source": [
    "b = \"\"\n",
    "\n",
    "def t():\n",
    "    global b\n",
    "    b = \"c\"\n",
    "\n",
    "t()\n",
    "b"
   ]
  },
  {
   "cell_type": "code",
   "execution_count": 11,
   "metadata": {},
   "outputs": [],
   "source": [
    "\"\"\"Simple CRDs from python classes\"\"\"\n",
    "\n",
    "from __future__ import annotations\n",
    "from typing import Dict, Any, List\n",
    "import os\n",
    "\n",
    "from pydantic.dataclasses import dataclass\n",
    "\n",
    "\n",
    "\n",
    "@dataclass\n",
    "class GVK:\n",
    "    \"\"\"Group Version Kind\"\"\"\n",
    "\n",
    "    group: str\n",
    "    \"\"\"API group e.g. foo.bar.com\"\"\"\n",
    "\n",
    "    version: str\n",
    "    \"\"\"API version e.g. v1alpha1\"\"\"\n",
    "\n",
    "    kind: str\n",
    "    \"\"\"Kind of resource\"\"\"\n",
    "\n",
    "    def group_version(self) -> str:\n",
    "        \"\"\"group/version from the gvk e.g. foo.bar.com/v1alpha1\n",
    "\n",
    "        Returns:\n",
    "            str: A Kubernetes formatted group/version\n",
    "        \"\"\"\n",
    "        return os.path.join(self.group, self.version)\n",
    "\n",
    "    @classmethod\n",
    "    def from_group_version(cls, gv: str, kind: str):\n",
    "        group, version = cls.parse_group_version(gv)\n",
    "        return cls(group=group, version=version, kind=kind)\n",
    "\n",
    "    @classmethod\n",
    "    def from_resource(cls, resource: Dict[str, Any]):\n",
    "        \"\"\"create a GVK from an existing resource\n",
    "\n",
    "        Args:\n",
    "            resource (Dict[str, Any]): a Kubernetes resource\n",
    "        \"\"\"\n",
    "        group_version = resource[\"apiVersion\"]\n",
    "        group, version = cls.parse_group_version(group_version)\n",
    "        return cls(group=group, version=version, kind=resource[\"kind\"])\n",
    "\n",
    "    @classmethod\n",
    "    def parse_group_version(cls, gv: str) -> List[str]:\n",
    "        return gv.split(\"/\")\n"
   ]
  },
  {
   "cell_type": "code",
   "execution_count": 12,
   "metadata": {},
   "outputs": [
    {
     "data": {
      "text/plain": [
       "GVK(group='g', version='v', kind='k')"
      ]
     },
     "execution_count": 12,
     "metadata": {},
     "output_type": "execute_result"
    }
   ],
   "source": [
    "GVK(group=\"g\", version=\"v\", kind=\"k\")"
   ]
  },
  {
   "cell_type": "code",
   "execution_count": 13,
   "metadata": {},
   "outputs": [
    {
     "data": {
      "text/plain": [
       "GVK(group='g.a', version='v1', kind='Test')"
      ]
     },
     "execution_count": 13,
     "metadata": {},
     "output_type": "execute_result"
    }
   ],
   "source": [
    "GVK.from_group_version(\"g.a/v1\", \"Test\")"
   ]
  },
  {
   "cell_type": "code",
   "execution_count": 14,
   "metadata": {},
   "outputs": [],
   "source": [
    "from dataclasses_jsonschema import JsonSchemaMixin"
   ]
  },
  {
   "cell_type": "code",
   "execution_count": 16,
   "metadata": {},
   "outputs": [
    {
     "data": {
      "text/plain": [
       "{'type': 'object',\n",
       " 'properties': {'a': {'type': 'string', 'default': 'aaa'},\n",
       "  'b': {'type': 'integer', 'default': 2}},\n",
       " 'description': \"Te(a: 'str' = 'aaa', b: 'int' = 2)\",\n",
       " '$schema': 'http://json-schema.org/draft-06/schema#'}"
      ]
     },
     "execution_count": 16,
     "metadata": {},
     "output_type": "execute_result"
    }
   ],
   "source": [
    "@dataclass\n",
    "class Te(JsonSchemaMixin):\n",
    "    a: str = \"aaa\"\n",
    "    b: int = 2\n",
    "\n",
    "Te.json_schema()"
   ]
  },
  {
   "cell_type": "code",
   "execution_count": 18,
   "metadata": {},
   "outputs": [
    {
     "name": "stdout",
     "output_type": "stream",
     "text": [
      "1\n",
      "4\n",
      "9\n",
      "16\n",
      "25\n",
      "36\n",
      "49\n",
      "64\n",
      "81\n",
      "100\n"
     ]
    }
   ],
   "source": [
    "import time\n",
    "def nextSquare():\n",
    "    i = 1\n",
    "  \n",
    "    # An Infinite loop to generate squares \n",
    "    while True:\n",
    "        time.sleep(1)\n",
    "        yield i*i                \n",
    "        i += 1  # Next execution resumes \n",
    "                # from this point     \n",
    "  \n",
    "# Driver code to test above generator \n",
    "# function\n",
    "for num in nextSquare():\n",
    "    if num > 100:\n",
    "         break    \n",
    "    print(num)"
   ]
  },
  {
   "cell_type": "code",
   "execution_count": 19,
   "metadata": {},
   "outputs": [],
   "source": [
    "a: List[str] = [\"abc\", \"efg\", \"hij\"]"
   ]
  },
  {
   "cell_type": "code",
   "execution_count": 20,
   "metadata": {},
   "outputs": [
    {
     "data": {
      "text/plain": [
       "\"a: ['abc', 'efg', 'hij']\""
      ]
     },
     "execution_count": 20,
     "metadata": {},
     "output_type": "execute_result"
    }
   ],
   "source": [
    "f\"a: {a}\""
   ]
  },
  {
   "cell_type": "code",
   "execution_count": 21,
   "metadata": {},
   "outputs": [
    {
     "data": {
      "text/plain": [
       "'LABEL \"hello\"=\"cruel world\"'"
      ]
     },
     "execution_count": 21,
     "metadata": {},
     "output_type": "execute_result"
    }
   ],
   "source": [
    "key = \"hello\"\n",
    "value = \"cruel world\"\n",
    "f'LABEL \"{key}\"=\"{value}\"'"
   ]
  },
  {
   "cell_type": "code",
   "execution_count": 22,
   "metadata": {},
   "outputs": [],
   "source": [
    "import git"
   ]
  },
  {
   "cell_type": "code",
   "execution_count": 30,
   "metadata": {},
   "outputs": [
    {
     "data": {
      "text/plain": [
       "'/Users/patrickbarker/artificalcreatures/arc'"
      ]
     },
     "execution_count": 30,
     "metadata": {},
     "output_type": "execute_result"
    }
   ],
   "source": [
    "repo = git.Repo(\".\", search_parent_directories=True)\n",
    "repo.working_dir"
   ]
  },
  {
   "cell_type": "code",
   "execution_count": 26,
   "metadata": {},
   "outputs": [
    {
     "data": {
      "text/plain": [
       "['Dockerfile',\n",
       " 'Dockerfile.arc',\n",
       " 'Makefile',\n",
       " 'arc/config.py',\n",
       " 'arc/image/__init__.py',\n",
       " 'arc/image/build.py',\n",
       " 'arc/image/build_test.py',\n",
       " 'arc/image/file.py',\n",
       " 'arc/image/file_test.py',\n",
       " 'arc/image/hash.py',\n",
       " 'arc/image/registry.py',\n",
       " 'arc/kube/resource_test.py',\n",
       " 'arc/kube/run.py',\n",
       " 'arc/kube/run_test.py',\n",
       " 'git_dif_stat.txt']"
      ]
     },
     "execution_count": 26,
     "metadata": {},
     "output_type": "execute_result"
    }
   ],
   "source": [
    "repo.untracked_files  "
   ]
  },
  {
   "cell_type": "code",
   "execution_count": 33,
   "metadata": {},
   "outputs": [],
   "source": [
    "dirty = \"\"\n",
    "for untracked in repo.untracked_files:\n",
    "    with open(os.path.join(repo.working_dir, untracked), \"r\") as f:\n",
    "        dirty += f.read()\n",
    "\n",
    "\n"
   ]
  },
  {
   "cell_type": "code",
   "execution_count": 41,
   "metadata": {},
   "outputs": [],
   "source": [
    "t = repo.head.commit.tree\n",
    "diff = repo.git.diff(t)"
   ]
  },
  {
   "cell_type": "code",
   "execution_count": 38,
   "metadata": {},
   "outputs": [],
   "source": [
    "import hashlib"
   ]
  },
  {
   "cell_type": "code",
   "execution_count": 39,
   "metadata": {},
   "outputs": [],
   "source": [
    "h = hashlib.new(\"sha256\")"
   ]
  },
  {
   "cell_type": "code",
   "execution_count": 43,
   "metadata": {},
   "outputs": [],
   "source": [
    "h.update(str.encode(diff))"
   ]
  },
  {
   "cell_type": "code",
   "execution_count": 45,
   "metadata": {},
   "outputs": [
    {
     "data": {
      "text/plain": [
       "'a6c29a9901667ac68163d1f43005b5d3e79cd7edf4802e738918ee12ea6ef0b9'"
      ]
     },
     "execution_count": 45,
     "metadata": {},
     "output_type": "execute_result"
    }
   ],
   "source": [
    "h.hexdigest()"
   ]
  },
  {
   "cell_type": "code",
   "execution_count": 46,
   "metadata": {},
   "outputs": [],
   "source": [
    "from docker import APIClient\n",
    "cli = APIClient(base_url=\"unix:///var/run/docker.sock\")"
   ]
  },
  {
   "cell_type": "code",
   "execution_count": 51,
   "metadata": {},
   "outputs": [
    {
     "data": {
      "text/plain": [
       "[{'Containers': -1,\n",
       "  'Created': 1643515505,\n",
       "  'Id': 'sha256:77a3c889e1e61c3e706a59de789bfb400b609cc2f488cbbb6006163fe893c52d',\n",
       "  'Labels': None,\n",
       "  'ParentId': 'sha256:61f35ead7d2e9c2e5281cca29c3aef3026732b25f3732a0020cf015c40b67843',\n",
       "  'RepoDigests': ['oldoceancreature/arc@sha256:e3468cfba60305848b4223d0ce0bf95f8dcc584a040a3d17ae412411f353dd86'],\n",
       "  'RepoTags': ['oldoceancreature/arc:be9fba39bc4cccfb4ad0c56d9f8fe12deb19b4ce-1643515470'],\n",
       "  'SharedSize': -1,\n",
       "  'Size': 1755600057,\n",
       "  'VirtualSize': 1755600057},\n",
       " {'Containers': -1,\n",
       "  'Created': 1643514962,\n",
       "  'Id': 'sha256:03798e1b5f81074e087b85e9c9bdfdca4099f71423986b1ffae1274b8202093f',\n",
       "  'Labels': None,\n",
       "  'ParentId': 'sha256:61f35ead7d2e9c2e5281cca29c3aef3026732b25f3732a0020cf015c40b67843',\n",
       "  'RepoDigests': ['oldoceancreature/arc@sha256:bcf7ba0367eef676beb5e91adcdfd81a69488416507b739220976aafbad970fe'],\n",
       "  'RepoTags': ['oldoceancreature/arc:be9fba39bc4cccfb4ad0c56d9f8fe12deb19b4ce-1643514927'],\n",
       "  'SharedSize': -1,\n",
       "  'Size': 1755600221,\n",
       "  'VirtualSize': 1755600221},\n",
       " {'Containers': -1,\n",
       "  'Created': 1643514663,\n",
       "  'Id': 'sha256:60de6b27533bbbf8853c523c0793be4fc4d4b1fe3d4bb21a1b7ff0b53c5ee2be',\n",
       "  'Labels': None,\n",
       "  'ParentId': 'sha256:61f35ead7d2e9c2e5281cca29c3aef3026732b25f3732a0020cf015c40b67843',\n",
       "  'RepoDigests': ['oldoceancreature/arc@sha256:0ef742c0d9d606f8451a66117f1cebd4891b7ab5860408073d50d2b4035a20fd'],\n",
       "  'RepoTags': ['oldoceancreature/arc:be9fba39bc4cccfb4ad0c56d9f8fe12deb19b4ce-1643514628'],\n",
       "  'SharedSize': -1,\n",
       "  'Size': 1755600122,\n",
       "  'VirtualSize': 1755600122},\n",
       " {'Containers': -1,\n",
       "  'Created': 1643514467,\n",
       "  'Id': 'sha256:12599b511ea82d9dfe5ec098deb2ec6d88cbddbf9850f5efe7a3b659361c1afc',\n",
       "  'Labels': None,\n",
       "  'ParentId': 'sha256:61f35ead7d2e9c2e5281cca29c3aef3026732b25f3732a0020cf015c40b67843',\n",
       "  'RepoDigests': ['oldoceancreature/arc@sha256:edb0a3f15521d08f192e587dcb2ff9b0aef80a6893e5bc9082569aea9e5addf4'],\n",
       "  'RepoTags': ['oldoceancreature/arc:be9fba39bc4cccfb4ad0c56d9f8fe12deb19b4ce-1643514433'],\n",
       "  'SharedSize': -1,\n",
       "  'Size': 1755600095,\n",
       "  'VirtualSize': 1755600095},\n",
       " {'Containers': -1,\n",
       "  'Created': 1643513957,\n",
       "  'Id': 'sha256:3c0cfa22c82ae015072061e46bffc73b5e1cd00f617bf3857cde0ae7952c6494',\n",
       "  'Labels': None,\n",
       "  'ParentId': 'sha256:61f35ead7d2e9c2e5281cca29c3aef3026732b25f3732a0020cf015c40b67843',\n",
       "  'RepoDigests': ['oldoceancreature/arc@sha256:a78d53741354c0b0916297d556f944573cccd270c617f7273010b5c51175e9c1'],\n",
       "  'RepoTags': ['oldoceancreature/arc:be9fba39bc4cccfb4ad0c56d9f8fe12deb19b4ce-1643513925'],\n",
       "  'SharedSize': -1,\n",
       "  'Size': 1755599898,\n",
       "  'VirtualSize': 1755599898},\n",
       " {'Containers': -1,\n",
       "  'Created': 1643513794,\n",
       "  'Id': 'sha256:e3b32953202322f86ce0f7e06dff7ae6a95242366e5aebaa7c472acb0e8004f7',\n",
       "  'Labels': None,\n",
       "  'ParentId': 'sha256:61f35ead7d2e9c2e5281cca29c3aef3026732b25f3732a0020cf015c40b67843',\n",
       "  'RepoDigests': ['oldoceancreature/arc@sha256:cdbf9b386b4eae2ebfbee5f0e9e159c4094bec75da7cfa96b0fb94dc6afbb959'],\n",
       "  'RepoTags': ['oldoceancreature/arc:be9fba39bc4cccfb4ad0c56d9f8fe12deb19b4ce-1643513759'],\n",
       "  'SharedSize': -1,\n",
       "  'Size': 1755599883,\n",
       "  'VirtualSize': 1755599883},\n",
       " {'Containers': -1,\n",
       "  'Created': 1643513687,\n",
       "  'Id': 'sha256:d36399b8682f2830b74d2f4d26541e34e7ef963e2f133a0b6a48ec92bba3ba54',\n",
       "  'Labels': None,\n",
       "  'ParentId': 'sha256:61f35ead7d2e9c2e5281cca29c3aef3026732b25f3732a0020cf015c40b67843',\n",
       "  'RepoDigests': ['oldoceancreature/arc@sha256:ffbdb7575271518938dd79c915d8e650dbe9d5d70f521a853e7c0f990502fb23'],\n",
       "  'RepoTags': ['oldoceancreature/arc:be9fba39bc4cccfb4ad0c56d9f8fe12deb19b4ce-1643513651'],\n",
       "  'SharedSize': -1,\n",
       "  'Size': 1755599848,\n",
       "  'VirtualSize': 1755599848},\n",
       " {'Containers': -1,\n",
       "  'Created': 1643513405,\n",
       "  'Id': 'sha256:73e5f59981d3c1cbd887ceba4c720495c1827607108842c119b5fa353264db39',\n",
       "  'Labels': None,\n",
       "  'ParentId': 'sha256:61f35ead7d2e9c2e5281cca29c3aef3026732b25f3732a0020cf015c40b67843',\n",
       "  'RepoDigests': ['oldoceancreature/arc@sha256:0fe8ea667524d179824cd06c78f2b85ffd2bcbca01175d25e40cd3b384984dac'],\n",
       "  'RepoTags': ['oldoceancreature/arc:be9fba39bc4cccfb4ad0c56d9f8fe12deb19b4ce-1643513323'],\n",
       "  'SharedSize': -1,\n",
       "  'Size': 1755599692,\n",
       "  'VirtualSize': 1755599692},\n",
       " {'Containers': -1,\n",
       "  'Created': 1643495041,\n",
       "  'Id': 'sha256:4f0083cd4d90ebadf8ddab291460046d02b9c16ed7ffcb53d328c036bf6485bc',\n",
       "  'Labels': None,\n",
       "  'ParentId': 'sha256:4cc11e99b3ee8b1e1cfa6380741114360475686d14cf136f4d33abaada158691',\n",
       "  'RepoDigests': ['oldoceancreature/arc@sha256:1cfaca610b8ae49ad801a7e2fd435419bffb4ea14462cfbee3aa2d91a12a6657'],\n",
       "  'RepoTags': ['oldoceancreature/arc:be9fba39bc4cccfb4ad0c56d9f8fe12deb19b4ce-1643494964'],\n",
       "  'SharedSize': -1,\n",
       "  'Size': 1749373330,\n",
       "  'VirtualSize': 1749373330},\n",
       " {'Containers': -1,\n",
       "  'Created': 1643494649,\n",
       "  'Id': 'sha256:3c759c3b9fb762f7035b46755dc7b332438405c5431b9965010aebc615182687',\n",
       "  'Labels': None,\n",
       "  'ParentId': 'sha256:e3868c53ab676b300003b823aa7c15cab9a30e64a9da343a98446fa44bf353b9',\n",
       "  'RepoDigests': None,\n",
       "  'RepoTags': ['artificialcreatures/arc:be9fba39bc4cccfb4ad0c56d9f8fe12deb19b4ce-1643494613'],\n",
       "  'SharedSize': -1,\n",
       "  'Size': 1749372222,\n",
       "  'VirtualSize': 1749372222},\n",
       " {'Containers': -1,\n",
       "  'Created': 1643492851,\n",
       "  'Id': 'sha256:e32fff44665f5b1da26bde99b5fc818e7e80ba5cc16b91da10c4575354097d7e',\n",
       "  'Labels': None,\n",
       "  'ParentId': 'sha256:e3868c53ab676b300003b823aa7c15cab9a30e64a9da343a98446fa44bf353b9',\n",
       "  'RepoDigests': None,\n",
       "  'RepoTags': ['artificialcreatures/arc:be9fba39bc4cccfb4ad0c56d9f8fe12deb19b4ce-1643492818'],\n",
       "  'SharedSize': -1,\n",
       "  'Size': 1749371036,\n",
       "  'VirtualSize': 1749371036},\n",
       " {'Containers': -1,\n",
       "  'Created': 1643492740,\n",
       "  'Id': 'sha256:0a57876ac69b501fe97bc7883ac7e4a30c4e1bbe823fd30620eca0e0e4e6e32e',\n",
       "  'Labels': None,\n",
       "  'ParentId': 'sha256:e3868c53ab676b300003b823aa7c15cab9a30e64a9da343a98446fa44bf353b9',\n",
       "  'RepoDigests': None,\n",
       "  'RepoTags': ['artificialcreatures/arc:be9fba39bc4cccfb4ad0c56d9f8fe12deb19b4ce-1643492708'],\n",
       "  'SharedSize': -1,\n",
       "  'Size': 1749370958,\n",
       "  'VirtualSize': 1749370958},\n",
       " {'Containers': -1,\n",
       "  'Created': 1643492692,\n",
       "  'Id': 'sha256:2a18c41856ecf242d1e787e0ff1c10509fcf0d4db37514faacbba40815efae92',\n",
       "  'Labels': None,\n",
       "  'ParentId': 'sha256:e3868c53ab676b300003b823aa7c15cab9a30e64a9da343a98446fa44bf353b9',\n",
       "  'RepoDigests': None,\n",
       "  'RepoTags': ['artificialcreatures/arc:be9fba39bc4cccfb4ad0c56d9f8fe12deb19b4ce-1643492660'],\n",
       "  'SharedSize': -1,\n",
       "  'Size': 1749370829,\n",
       "  'VirtualSize': 1749370829},\n",
       " {'Containers': -1,\n",
       "  'Created': 1643492595,\n",
       "  'Id': 'sha256:6fddabd0cf166d46c8f0cb66afa7b700212fc2820383c0e5cceeaf54712c686e',\n",
       "  'Labels': None,\n",
       "  'ParentId': 'sha256:e3868c53ab676b300003b823aa7c15cab9a30e64a9da343a98446fa44bf353b9',\n",
       "  'RepoDigests': None,\n",
       "  'RepoTags': ['artificialcreatures/arc:be9fba39bc4cccfb4ad0c56d9f8fe12deb19b4ce-1643492562'],\n",
       "  'SharedSize': -1,\n",
       "  'Size': 1749370747,\n",
       "  'VirtualSize': 1749370747},\n",
       " {'Containers': -1,\n",
       "  'Created': 1643492555,\n",
       "  'Id': 'sha256:fb169c3731da094300c4b88f6b9b3c032e2ec5d4fcedcb64f1e6c59d4683bf03',\n",
       "  'Labels': None,\n",
       "  'ParentId': 'sha256:e3868c53ab676b300003b823aa7c15cab9a30e64a9da343a98446fa44bf353b9',\n",
       "  'RepoDigests': None,\n",
       "  'RepoTags': ['artificialcreatures/arc:be9fba39bc4cccfb4ad0c56d9f8fe12deb19b4ce-1643492524'],\n",
       "  'SharedSize': -1,\n",
       "  'Size': 1749370766,\n",
       "  'VirtualSize': 1749370766},\n",
       " {'Containers': -1,\n",
       "  'Created': 1643492420,\n",
       "  'Id': 'sha256:b25d7c6a26ce380052c72eb9e3db4d1feed3d32c27cf98d746def169594f8c25',\n",
       "  'Labels': None,\n",
       "  'ParentId': 'sha256:e3868c53ab676b300003b823aa7c15cab9a30e64a9da343a98446fa44bf353b9',\n",
       "  'RepoDigests': None,\n",
       "  'RepoTags': ['artificialcreatures/arc:be9fba39bc4cccfb4ad0c56d9f8fe12deb19b4ce-1643492344'],\n",
       "  'SharedSize': -1,\n",
       "  'Size': 1749370923,\n",
       "  'VirtualSize': 1749370923},\n",
       " {'Containers': -1,\n",
       "  'Created': 1643490798,\n",
       "  'Id': 'sha256:86445dea4fdf2e6c3baab8187787be5959dcf8b9172032de83ca462e09ee25d5',\n",
       "  'Labels': None,\n",
       "  'ParentId': 'sha256:99ca0a4c6024d18118ca4e8cb9108666b6119b2d328d025bc82ad3464ab4f270',\n",
       "  'RepoDigests': ['<none>@<none>'],\n",
       "  'RepoTags': ['<none>:<none>'],\n",
       "  'SharedSize': -1,\n",
       "  'Size': 1748273792,\n",
       "  'VirtualSize': 1748273792},\n",
       " {'Containers': -1,\n",
       "  'Created': 1643490600,\n",
       "  'Id': 'sha256:9b100bb22240acb8ac4ce03aa21b6ceb0c08cf9449c26bc93d3ee00db10f2273',\n",
       "  'Labels': None,\n",
       "  'ParentId': 'sha256:b7d2f84a66569e9ccb6f46a1604c632c055305e2b9ec9c7bc2ab910c7a96f628',\n",
       "  'RepoDigests': ['<none>@<none>'],\n",
       "  'RepoTags': ['<none>:<none>'],\n",
       "  'SharedSize': -1,\n",
       "  'Size': 1071301658,\n",
       "  'VirtualSize': 1071301658},\n",
       " {'Containers': -1,\n",
       "  'Created': 1643424282,\n",
       "  'Id': 'sha256:e2e732b7951fb02a92d6687dea6489e410226ea213c130e8fd6a9bac5bd58a75',\n",
       "  'Labels': None,\n",
       "  'ParentId': '',\n",
       "  'RepoDigests': ['python@sha256:a7a73f894e756267b2bac3b068e51ad50aa06f16855a9c6b208630d48937796f'],\n",
       "  'RepoTags': ['python:3.10'],\n",
       "  'SharedSize': -1,\n",
       "  'Size': 885516645,\n",
       "  'VirtualSize': 885516645},\n",
       " {'Containers': -1,\n",
       "  'Created': 1639745258,\n",
       "  'Id': 'sha256:d0554070bc8c4555c5b9d738de30ba8c3fc1341c556efda507759be33d15c5e2',\n",
       "  'Labels': {'maintainer': 'NGINX Docker Maintainers <docker-maint@nginx.com>',\n",
       "   'org.opencontainers.image.created': '2021-12-17T12:47:35Z',\n",
       "   'org.opencontainers.image.revision': '0c57cf24ca65fecba4dd24624a27364def22fbca',\n",
       "   'org.opencontainers.image.source': 'https://github.com/rancher/k3d.git',\n",
       "   'org.opencontainers.image.url': 'https://github.com/rancher/k3d'},\n",
       "  'ParentId': '',\n",
       "  'RepoDigests': ['rancher/k3d-proxy@sha256:820f01a792a044e84b8510eabc57bed046a1e530f9f25ad778611ae9ef07bf39'],\n",
       "  'RepoTags': ['rancher/k3d-proxy:5.2.2'],\n",
       "  'SharedSize': -1,\n",
       "  'Size': 42411942,\n",
       "  'VirtualSize': 42411942},\n",
       " {'Containers': -1,\n",
       "  'Created': 1638204231,\n",
       "  'Id': 'sha256:4cbf38ec7da6c499ecc50cc6c54ef8c89d88f02a95da66eab5e404ade7067c61',\n",
       "  'Labels': {'org.opencontainers.image.created': '2021-11-29T16:43:32Z',\n",
       "   'org.opencontainers.image.revision': 'ac70570999c566ac3507d2cc17369bb0629c1cc0',\n",
       "   'org.opencontainers.image.source': 'https://github.com/k3s-io/k3s.git',\n",
       "   'org.opencontainers.image.url': 'https://github.com/k3s-io/k3s'},\n",
       "  'ParentId': '',\n",
       "  'RepoDigests': ['rancher/k3s@sha256:45c6fea03802805751c382844be39fa2c751b4da75e31057f41968dea604ea58'],\n",
       "  'RepoTags': ['rancher/k3s:v1.21.7-k3s1'],\n",
       "  'SharedSize': -1,\n",
       "  'Size': 173707011,\n",
       "  'VirtualSize': 173707011},\n",
       " {'Containers': -1,\n",
       "  'Created': 1621638342,\n",
       "  'Id': 'sha256:32b8b755dee8d5fc6dbafef80898e7f2e450655f45f4b59cca3f7f57e9278c3b',\n",
       "  'Labels': {},\n",
       "  'ParentId': '',\n",
       "  'RepoDigests': ['kindest/node@sha256:69860bda5563ac81e3c0057d654b5253219618a22ec3a346306239bba8cfa1a6'],\n",
       "  'RepoTags': None,\n",
       "  'SharedSize': -1,\n",
       "  'Size': 1121898141,\n",
       "  'VirtualSize': 1121898141},\n",
       " {'Containers': -1,\n",
       "  'Created': 1587929378,\n",
       "  'Id': 'sha256:c773bb17a2faa05bc3f4dae2eae1def15db79c65abf9ded488965d3579f3c6bd',\n",
       "  'Labels': None,\n",
       "  'ParentId': 'sha256:f4517f866b744f1a9c85a23cf87ee374cf2475799461b1029b4dfad76ad7fe78',\n",
       "  'RepoDigests': ['<none>@<none>'],\n",
       "  'RepoTags': ['<none>:<none>'],\n",
       "  'SharedSize': -1,\n",
       "  'Size': 536354048,\n",
       "  'VirtualSize': 536354048},\n",
       " {'Containers': -1,\n",
       "  'Created': 1587926839,\n",
       "  'Id': 'sha256:92569bfd920ecfcb58e874d4f437c46022d736e782ed8a9cac6282af3ab77963',\n",
       "  'Labels': None,\n",
       "  'ParentId': 'sha256:1c53c807485acb802b4f6c7c94bb5c33f054ecf3f057d32e8798b2a9d5f16f1d',\n",
       "  'RepoDigests': ['<none>@<none>'],\n",
       "  'RepoTags': ['<none>:<none>'],\n",
       "  'SharedSize': -1,\n",
       "  'Size': 552853640,\n",
       "  'VirtualSize': 552853640},\n",
       " {'Containers': -1,\n",
       "  'Created': 1587869512,\n",
       "  'Id': 'sha256:c5da7d6335a634a9323d1f5642b14bbd27c73805bf4753bb6c991089d5463e79',\n",
       "  'Labels': None,\n",
       "  'ParentId': 'sha256:5bcdda56abf0a8b38ce51e3b8314873502b560392ed7c664510ef8d5313912c2',\n",
       "  'RepoDigests': ['<none>@<none>'],\n",
       "  'RepoTags': ['<none>:<none>'],\n",
       "  'SharedSize': -1,\n",
       "  'Size': 552836281,\n",
       "  'VirtualSize': 552836281},\n",
       " {'Containers': -1,\n",
       "  'Created': 1587868368,\n",
       "  'Id': 'sha256:82b910a8cb2dcfc43b4627ffd518612d0126254335938496f321f110b36f74d3',\n",
       "  'Labels': None,\n",
       "  'ParentId': 'sha256:5bcdda56abf0a8b38ce51e3b8314873502b560392ed7c664510ef8d5313912c2',\n",
       "  'RepoDigests': ['<none>@<none>'],\n",
       "  'RepoTags': ['<none>:<none>'],\n",
       "  'SharedSize': -1,\n",
       "  'Size': 548579225,\n",
       "  'VirtualSize': 548579225},\n",
       " {'Containers': -1,\n",
       "  'Created': 1587868149,\n",
       "  'Id': 'sha256:418671a8109fc9c652bd57be2ab9181873f5b72c5386fa2355e39c1a4a6d77db',\n",
       "  'Labels': None,\n",
       "  'ParentId': 'sha256:a2b17b52df5bf5a9dd187f87e09ef64d4ba18d13a913ffd74672cebe394afef5',\n",
       "  'RepoDigests': ['<none>@<none>'],\n",
       "  'RepoTags': ['<none>:<none>'],\n",
       "  'SharedSize': -1,\n",
       "  'Size': 548718131,\n",
       "  'VirtualSize': 548718131},\n",
       " {'Containers': -1,\n",
       "  'Created': 1587855587,\n",
       "  'Id': 'sha256:e9e18273acd56beeb5966cc59f7a07dc34572c719ad6d688e53abf31671ec14d',\n",
       "  'Labels': {'com.nvidia.volumes.needed': 'nvidia_driver'},\n",
       "  'ParentId': 'sha256:a10c611c2731b3b07fad270deb787d836f658285f70fdaed86a9ba383ac6baab',\n",
       "  'RepoDigests': ['<none>@<none>'],\n",
       "  'RepoTags': ['<none>:<none>'],\n",
       "  'SharedSize': -1,\n",
       "  'Size': 3344962883,\n",
       "  'VirtualSize': 3344962883},\n",
       " {'Containers': -1,\n",
       "  'Created': 1587608750,\n",
       "  'Id': 'sha256:111fa4f7392787f13dc27275ce386e472677d320c10d0aa6bede31f7aa80bdf5',\n",
       "  'Labels': None,\n",
       "  'ParentId': 'sha256:abbef289ef59b705fd28317fbddf34e794c75e6ca8db4a30b3c4223ec808a374',\n",
       "  'RepoDigests': ['<none>@<none>'],\n",
       "  'RepoTags': ['<none>:<none>'],\n",
       "  'SharedSize': -1,\n",
       "  'Size': 463780788,\n",
       "  'VirtualSize': 463780788},\n",
       " {'Containers': -1,\n",
       "  'Created': 1587597806,\n",
       "  'Id': 'sha256:88d41eba4c9ac8e97052271257c92419325020ec4b718a7946cf9413daa36eae',\n",
       "  'Labels': None,\n",
       "  'ParentId': 'sha256:25ee1e7a94838112510235495f34eea3e24ec0bae7e696a33699894c44955692',\n",
       "  'RepoDigests': ['<none>@<none>'],\n",
       "  'RepoTags': ['<none>:<none>'],\n",
       "  'SharedSize': -1,\n",
       "  'Size': 429517119,\n",
       "  'VirtualSize': 429517119},\n",
       " {'Containers': -1,\n",
       "  'Created': 1587597221,\n",
       "  'Id': 'sha256:9657803703357a32ab44f24f7154833c4c84705f2d89dd9dfdf281712a4c592e',\n",
       "  'Labels': None,\n",
       "  'ParentId': 'sha256:52817f10359ad66ef10081474bdeb885d30f717cf82933cce4eca27cd2ffd9b6',\n",
       "  'RepoDigests': ['<none>@<none>'],\n",
       "  'RepoTags': ['<none>:<none>'],\n",
       "  'SharedSize': -1,\n",
       "  'Size': 429767562,\n",
       "  'VirtualSize': 429767562},\n",
       " {'Containers': -1,\n",
       "  'Created': 1587591556,\n",
       "  'Id': 'sha256:bc009b31c248afc36c1acfa1231628a32d7462d0036c368c498d854740b8013a',\n",
       "  'Labels': None,\n",
       "  'ParentId': 'sha256:14376fe95b376adf5b91172cf8d5e042413ea090d9f2a5fb11081ddb60c6987b',\n",
       "  'RepoDigests': ['<none>@<none>'],\n",
       "  'RepoTags': ['<none>:<none>'],\n",
       "  'SharedSize': -1,\n",
       "  'Size': 246175676,\n",
       "  'VirtualSize': 246175676},\n",
       " {'Containers': -1,\n",
       "  'Created': 1587589748,\n",
       "  'Id': 'sha256:ce837932da84886e53d00b8977909dbc7f691874201736c2af35579fbd30a19e',\n",
       "  'Labels': None,\n",
       "  'ParentId': 'sha256:0bfd1c7a9a44d08639585a80eb5648d24ceb506c4135e158390fc7df637c89f7',\n",
       "  'RepoDigests': ['<none>@<none>'],\n",
       "  'RepoTags': ['<none>:<none>'],\n",
       "  'SharedSize': -1,\n",
       "  'Size': 77803349,\n",
       "  'VirtualSize': 77803349},\n",
       " {'Containers': -1,\n",
       "  'Created': 1587589143,\n",
       "  'Id': 'sha256:b5fe34bec3736053cf4ebd6f85e4ffd31055be5833e69e11e3469ed9abc136d2',\n",
       "  'Labels': None,\n",
       "  'ParentId': 'sha256:2db28b0a345f15dd3690e4850d86f88b9fdec527b56a40c808c70f1ae95aff28',\n",
       "  'RepoDigests': ['<none>@<none>'],\n",
       "  'RepoTags': ['<none>:<none>'],\n",
       "  'SharedSize': -1,\n",
       "  'Size': 77328094,\n",
       "  'VirtualSize': 77328094},\n",
       " {'Containers': -1,\n",
       "  'Created': 1587588937,\n",
       "  'Id': 'sha256:7ccf57f9a9481972b11abb366c339657ad409484ec6991b1b066b8f0910c0c2f',\n",
       "  'Labels': None,\n",
       "  'ParentId': 'sha256:94275e34aa45238fb154c8a74284aa180633aa3a92ff97fc90c5b3f89f0b20e3',\n",
       "  'RepoDigests': ['<none>@<none>'],\n",
       "  'RepoTags': ['<none>:<none>'],\n",
       "  'SharedSize': -1,\n",
       "  'Size': 75769975,\n",
       "  'VirtualSize': 75769975},\n",
       " {'Containers': -1,\n",
       "  'Created': 1587588868,\n",
       "  'Id': 'sha256:7057580e24dec2499ad89da73bf9ea0e3e57e654340987c172b8876d6878b877',\n",
       "  'Labels': None,\n",
       "  'ParentId': 'sha256:352288a6545393ebfb559c779b0aba9d8219ed6da38a8ec88913929b0db9a480',\n",
       "  'RepoDigests': ['<none>@<none>'],\n",
       "  'RepoTags': ['<none>:<none>'],\n",
       "  'SharedSize': -1,\n",
       "  'Size': 75769961,\n",
       "  'VirtualSize': 75769961},\n",
       " {'Containers': -1,\n",
       "  'Created': 1587485884,\n",
       "  'Id': 'sha256:a10c611c2731b3b07fad270deb787d836f658285f70fdaed86a9ba383ac6baab',\n",
       "  'Labels': {'com.nvidia.volumes.needed': 'nvidia_driver'},\n",
       "  'ParentId': '',\n",
       "  'RepoDigests': ['pytorch/pytorch@sha256:1f79d91afb716ef6da8f167829c5fd101959b284028435b92fa3778719a0439b'],\n",
       "  'RepoTags': ['pytorch/pytorch:1.5-cuda10.1-cudnn7-runtime'],\n",
       "  'SharedSize': -1,\n",
       "  'Size': 3140210979,\n",
       "  'VirtualSize': 3140210979},\n",
       " {'Containers': -1,\n",
       "  'Created': 1586659853,\n",
       "  'Id': 'sha256:669c76702d02005913593b02f142f8d5b66e721689e83b97e8d48e309c67b453',\n",
       "  'Labels': None,\n",
       "  'ParentId': '',\n",
       "  'RepoDigests': ['sphereproject/gym@sha256:ac13c5abcb034948fc4081b0412183a8077a77204e4a754bf79f6c5c9629a769'],\n",
       "  'RepoTags': ['sphereproject/gym:latest'],\n",
       "  'SharedSize': -1,\n",
       "  'Size': 1895097050,\n",
       "  'VirtualSize': 1895097050},\n",
       " {'Containers': -1,\n",
       "  'Created': 1584732022,\n",
       "  'Id': 'sha256:4e5021d210f65ebe915670c7089120120bc0a303b90208592851708c1b8c04bd',\n",
       "  'Labels': None,\n",
       "  'ParentId': '',\n",
       "  'RepoDigests': ['ubuntu@sha256:bec5a2727be7fff3d308193cfde3491f8fba1a2ba392b7546b43a051853a341d'],\n",
       "  'RepoTags': ['ubuntu:18.04'],\n",
       "  'SharedSize': -1,\n",
       "  'Size': 64205678,\n",
       "  'VirtualSize': 64205678}]"
      ]
     },
     "execution_count": 51,
     "metadata": {},
     "output_type": "execute_result"
    }
   ],
   "source": [
    "cli.images()"
   ]
  },
  {
   "cell_type": "code",
   "execution_count": 53,
   "metadata": {},
   "outputs": [],
   "source": [
    "from kubernetes.client import V1PersistentVolumeClaim, V1PersistentVolumeClaimSpec, V1Pod, V1PodSpec\n",
    "from kubernetes import client, config\n",
    "config.load_kube_config()\n",
    "core_v1_api = client.CoreV1Api()"
   ]
  },
  {
   "cell_type": "code",
   "execution_count": 80,
   "metadata": {},
   "outputs": [
    {
     "name": "stdout",
     "output_type": "stream",
     "text": [
      "yea\n",
      "404\n"
     ]
    }
   ],
   "source": [
    "from kubernetes.client.rest import ApiException\n",
    "try:\n",
    "    core_v1_api.read_namespaced_pod(\"default\", \"abc\")\n",
    "except ApiException as e:\n",
    "    if e.status == 404:\n",
    "        print(\"yea\")\n",
    "    print(e.status)"
   ]
  },
  {
   "cell_type": "code",
   "execution_count": 58,
   "metadata": {},
   "outputs": [],
   "source": [
    "repo = git.Repo(search_parent_directories=True)\n",
    "g = repo.git"
   ]
  },
  {
   "cell_type": "code",
   "execution_count": 60,
   "metadata": {},
   "outputs": [
    {
     "data": {
      "text/plain": [
       "'.gitignore\\n.pylintrc\\nDockerfile\\nDockerfile.arc\\nLICENSE\\nMakefile\\nREADME.md\\narc/__init__.py\\narc/config.py\\narc/data/__init__.py\\narc/data/controller.py\\narc/data/dataset.py\\narc/data/dataset_test.py\\narc/data/s3.py\\narc/image/__init__.py\\narc/image/build.py\\narc/image/build_test.py\\narc/image/client.py\\narc/image/file.py\\narc/image/file_test.py\\narc/image/id.py\\narc/image/registry.py\\narc/kube/__init__.py\\narc/kube/client.py\\narc/kube/controller.py\\narc/kube/entrypoint.py\\narc/kube/resource.py\\narc/kube/resource_test.py\\narc/kube/run.py\\narc/kube/run_test.py\\narc/kube/test.ipynb\\narc/model/classifier/base.py\\narc/model/classifier/multiclass.py\\narc/multiclass.py\\narc/train.py\\narc/xy.py\\ngit_dif_stat.txt\\npoetry.lock\\npyproject.toml\\ntmp/test_crd.yaml\\ntmp/test_obj.json\\ntmp/test_obj1.json'"
      ]
     },
     "execution_count": 60,
     "metadata": {},
     "output_type": "execute_result"
    }
   ],
   "source": [
    "g.ls_files(\".\")"
   ]
  },
  {
   "cell_type": "code",
   "execution_count": 71,
   "metadata": {},
   "outputs": [
    {
     "data": {
      "text/plain": [
       "['test.y',\n",
       " '.gitignore',\n",
       " '.pylintrc',\n",
       " 'Dockerfile',\n",
       " 'Dockerfile.arc',\n",
       " 'LICENSE',\n",
       " 'Makefile',\n",
       " 'README.md',\n",
       " 'git_dif_stat.txt',\n",
       " 'poetry.lock',\n",
       " 'pyproject.toml',\n",
       " 'arc/__init__.py',\n",
       " 'arc/config.py',\n",
       " 'arc/multiclass.py',\n",
       " 'arc/train.py',\n",
       " 'arc/xy.py',\n",
       " 'arc/data/__init__.py',\n",
       " 'arc/data/controller.py',\n",
       " 'arc/data/dataset.py',\n",
       " 'arc/data/dataset_test.py',\n",
       " 'arc/data/s3.py',\n",
       " 'arc/image/__init__.py',\n",
       " 'arc/image/build.py',\n",
       " 'arc/image/build_test.py',\n",
       " 'arc/image/client.py',\n",
       " 'arc/image/file.py',\n",
       " 'arc/image/file_test.py',\n",
       " 'arc/image/id.py',\n",
       " 'arc/image/registry.py',\n",
       " 'arc/kube/__init__.py',\n",
       " 'arc/kube/client.py',\n",
       " 'arc/kube/controller.py',\n",
       " 'arc/kube/entrypoint.py',\n",
       " 'arc/kube/resource.py',\n",
       " 'arc/kube/resource_test.py',\n",
       " 'arc/kube/run.py',\n",
       " 'arc/kube/run_test.py',\n",
       " 'arc/kube/test.ipynb',\n",
       " 'arc/model/classifier/base.py',\n",
       " 'arc/model/classifier/multiclass.py',\n",
       " 'tmp/test_crd.yaml',\n",
       " 'tmp/test_obj.json',\n",
       " 'tmp/test_obj1.json']"
      ]
     },
     "execution_count": 71,
     "metadata": {},
     "output_type": "execute_result"
    }
   ],
   "source": [
    "from pathlib import Path\n",
    "def list_paths(root_tree, path=Path(\".\")):\n",
    "    for blob in root_tree.blobs:\n",
    "        yield path / blob.name\n",
    "    for tree in root_tree.trees:\n",
    "        yield from list_paths(tree, path / tree.name)\n",
    "\n",
    "all_files = repo.untracked_files\n",
    "for path in list_paths(repo.tree()):\n",
    "    all_files.append(str(path))\n",
    "all_files\n",
    "\n"
   ]
  },
  {
   "cell_type": "code",
   "execution_count": 1,
   "metadata": {},
   "outputs": [
    {
     "data": {
      "text/plain": [
       "'/var/folders/2y/6b7m4pk176d8t6hmvwhj93880000gn/T/ipykernel_4633/238862785.py'"
      ]
     },
     "execution_count": 1,
     "metadata": {},
     "output_type": "execute_result"
    }
   ],
   "source": [
    "def foo():\n",
    "    print(\"Bar\")\n",
    "\n",
    "import inspect\n",
    "\n",
    "mod = inspect.getmodule(foo)\n",
    "fil = inspect.getfile(foo)\n",
    "mod\n",
    "fil"
   ]
  },
  {
   "cell_type": "code",
   "execution_count": 2,
   "metadata": {},
   "outputs": [],
   "source": [
    "\n",
    "def isnotebook():\n",
    "    try:\n",
    "        shell = get_ipython().__class__.__name__\n",
    "        if shell == 'ZMQInteractiveShell':\n",
    "            return True   # Jupyter notebook or qtconsole\n",
    "        elif shell == 'TerminalInteractiveShell':\n",
    "            return False  # Terminal running IPython\n",
    "        else:\n",
    "            return False  # Other type (?)\n",
    "    except NameError:\n",
    "        return False "
   ]
  },
  {
   "cell_type": "code",
   "execution_count": 4,
   "metadata": {},
   "outputs": [
    {
     "data": {
      "text/plain": [
       "True"
      ]
     },
     "execution_count": 4,
     "metadata": {},
     "output_type": "execute_result"
    }
   ],
   "source": [
    "isnotebook()"
   ]
  },
  {
   "cell_type": "code",
   "execution_count": 5,
   "metadata": {},
   "outputs": [
    {
     "data": {
      "text/plain": [
       "<ipykernel.zmqshell.ZMQInteractiveShell at 0x112c82200>"
      ]
     },
     "execution_count": 5,
     "metadata": {},
     "output_type": "execute_result"
    }
   ],
   "source": [
    "get_ipython()"
   ]
  },
  {
   "cell_type": "code",
   "execution_count": 76,
   "metadata": {},
   "outputs": [
    {
     "data": {
      "text/plain": [
       "'# This module is used as the entrypoint for the container\\nfrom __main__ import foo\\nfrom xmlrpc.server import SimpleXMLRPCServer\\nfrom xmlrpc.server import SimpleXMLRPCRequestHandler\\n\\n# Restrict to a particular path.\\nclass RequestHandler(SimpleXMLRPCRequestHandler):\\n    rpc_paths = (\"/RPC2\",)\\n\\n# Create server\\nwith SimpleXMLRPCServer((\"localhost\", 8000),\\n                        requestHandler=RequestHandler) as server:\\n\\n    # register the function\\n    server.register_function(foo)\\n\\n    # Run the server\\'s main loop\\n    server.serve_forever()\\n'"
      ]
     },
     "execution_count": 76,
     "metadata": {},
     "output_type": "execute_result"
    }
   ],
   "source": [
    "from arc.kube.entrypoint import generate_entrypoint\n",
    "\n",
    "generate_entrypoint(foo)"
   ]
  },
  {
   "cell_type": "code",
   "execution_count": 77,
   "metadata": {},
   "outputs": [
    {
     "data": {
      "text/plain": [
       "'/'"
      ]
     },
     "execution_count": 77,
     "metadata": {},
     "output_type": "execute_result"
    }
   ],
   "source": [
    "import os\n",
    "os.path.join(\"/app/\", \"/\")"
   ]
  },
  {
   "cell_type": "code",
   "execution_count": 78,
   "metadata": {},
   "outputs": [],
   "source": [
    "from kubernetes.client import CoreV1Api, V1Pod, V1PodSpec, V1Container, V1ObjectMeta, V1ContainerPort, V1Namespace\n",
    "from kubernetes.client.rest import ApiException\n",
    "from kubernetes import config"
   ]
  },
  {
   "cell_type": "code",
   "execution_count": 79,
   "metadata": {},
   "outputs": [
    {
     "ename": "ConfigException",
     "evalue": "File does not exist: /var/folders/2y/6b7m4pk176d8t6hmvwhj93880000gn/T/tmpdbopuw6q",
     "output_type": "error",
     "traceback": [
      "\u001b[0;31m---------------------------------------------------------------------------\u001b[0m",
      "\u001b[0;31mConfigException\u001b[0m                           Traceback (most recent call last)",
      "Input \u001b[0;32mIn [79]\u001b[0m, in \u001b[0;36m<module>\u001b[0;34m\u001b[0m\n\u001b[0;32m----> 1\u001b[0m \u001b[43mconfig\u001b[49m\u001b[38;5;241;43m.\u001b[39;49m\u001b[43mload_kube_config\u001b[49m\u001b[43m(\u001b[49m\u001b[43m)\u001b[49m\n\u001b[1;32m      2\u001b[0m core_v1_api \u001b[38;5;241m=\u001b[39m CoreV1Api()\n",
      "File \u001b[0;32m~/artificalcreatures/arc/.venv/lib/python3.10/site-packages/kubernetes/config/kube_config.py:814\u001b[0m, in \u001b[0;36mload_kube_config\u001b[0;34m(config_file, context, client_configuration, persist_config)\u001b[0m\n\u001b[1;32m    812\u001b[0m \u001b[38;5;28;01mif\u001b[39;00m client_configuration \u001b[38;5;129;01mis\u001b[39;00m \u001b[38;5;28;01mNone\u001b[39;00m:\n\u001b[1;32m    813\u001b[0m     config \u001b[38;5;241m=\u001b[39m \u001b[38;5;28mtype\u001b[39m\u001b[38;5;241m.\u001b[39m\u001b[38;5;21m__call__\u001b[39m(Configuration)\n\u001b[0;32m--> 814\u001b[0m     \u001b[43mloader\u001b[49m\u001b[38;5;241;43m.\u001b[39;49m\u001b[43mload_and_set\u001b[49m\u001b[43m(\u001b[49m\u001b[43mconfig\u001b[49m\u001b[43m)\u001b[49m\n\u001b[1;32m    815\u001b[0m     Configuration\u001b[38;5;241m.\u001b[39mset_default(config)\n\u001b[1;32m    816\u001b[0m \u001b[38;5;28;01melse\u001b[39;00m:\n",
      "File \u001b[0;32m~/artificalcreatures/arc/.venv/lib/python3.10/site-packages/kubernetes/config/kube_config.py:585\u001b[0m, in \u001b[0;36mKubeConfigLoader.load_and_set\u001b[0;34m(self, client_configuration)\u001b[0m\n\u001b[1;32m    583\u001b[0m \u001b[38;5;28;01mdef\u001b[39;00m \u001b[38;5;21mload_and_set\u001b[39m(\u001b[38;5;28mself\u001b[39m, client_configuration):\n\u001b[1;32m    584\u001b[0m     \u001b[38;5;28mself\u001b[39m\u001b[38;5;241m.\u001b[39m_load_authentication()\n\u001b[0;32m--> 585\u001b[0m     \u001b[38;5;28;43mself\u001b[39;49m\u001b[38;5;241;43m.\u001b[39;49m\u001b[43m_load_cluster_info\u001b[49m\u001b[43m(\u001b[49m\u001b[43m)\u001b[49m\n\u001b[1;32m    586\u001b[0m     \u001b[38;5;28mself\u001b[39m\u001b[38;5;241m.\u001b[39m_set_config(client_configuration)\n",
      "File \u001b[0;32m~/artificalcreatures/arc/.venv/lib/python3.10/site-packages/kubernetes/config/kube_config.py:552\u001b[0m, in \u001b[0;36mKubeConfigLoader._load_cluster_info\u001b[0;34m(self)\u001b[0m\n\u001b[1;32m    547\u001b[0m \u001b[38;5;28;01mif\u001b[39;00m \u001b[38;5;28mself\u001b[39m\u001b[38;5;241m.\u001b[39mhost\u001b[38;5;241m.\u001b[39mstartswith(\u001b[38;5;124m\"\u001b[39m\u001b[38;5;124mhttps\u001b[39m\u001b[38;5;124m\"\u001b[39m):\n\u001b[1;32m    548\u001b[0m     base_path \u001b[38;5;241m=\u001b[39m \u001b[38;5;28mself\u001b[39m\u001b[38;5;241m.\u001b[39m_get_base_path(\u001b[38;5;28mself\u001b[39m\u001b[38;5;241m.\u001b[39m_cluster\u001b[38;5;241m.\u001b[39mpath)\n\u001b[1;32m    549\u001b[0m     \u001b[38;5;28mself\u001b[39m\u001b[38;5;241m.\u001b[39mssl_ca_cert \u001b[38;5;241m=\u001b[39m \u001b[43mFileOrData\u001b[49m\u001b[43m(\u001b[49m\n\u001b[1;32m    550\u001b[0m \u001b[43m        \u001b[49m\u001b[38;5;28;43mself\u001b[39;49m\u001b[38;5;241;43m.\u001b[39;49m\u001b[43m_cluster\u001b[49m\u001b[43m,\u001b[49m\u001b[43m \u001b[49m\u001b[38;5;124;43m'\u001b[39;49m\u001b[38;5;124;43mcertificate-authority\u001b[39;49m\u001b[38;5;124;43m'\u001b[39;49m\u001b[43m,\u001b[49m\n\u001b[1;32m    551\u001b[0m \u001b[43m        \u001b[49m\u001b[43mfile_base_path\u001b[49m\u001b[38;5;241;43m=\u001b[39;49m\u001b[43mbase_path\u001b[49m\u001b[43m,\u001b[49m\n\u001b[0;32m--> 552\u001b[0m \u001b[43m        \u001b[49m\u001b[43mtemp_file_path\u001b[49m\u001b[38;5;241;43m=\u001b[39;49m\u001b[38;5;28;43mself\u001b[39;49m\u001b[38;5;241;43m.\u001b[39;49m\u001b[43m_temp_file_path\u001b[49m\u001b[43m)\u001b[49m\u001b[38;5;241;43m.\u001b[39;49m\u001b[43mas_file\u001b[49m\u001b[43m(\u001b[49m\u001b[43m)\u001b[49m\n\u001b[1;32m    553\u001b[0m     \u001b[38;5;28;01mif\u001b[39;00m \u001b[38;5;124m'\u001b[39m\u001b[38;5;124mcert_file\u001b[39m\u001b[38;5;124m'\u001b[39m \u001b[38;5;129;01mnot\u001b[39;00m \u001b[38;5;129;01min\u001b[39;00m \u001b[38;5;28mself\u001b[39m\u001b[38;5;241m.\u001b[39m\u001b[38;5;18m__dict__\u001b[39m:\n\u001b[1;32m    554\u001b[0m         \u001b[38;5;66;03m# cert_file could have been provided by\u001b[39;00m\n\u001b[1;32m    555\u001b[0m         \u001b[38;5;66;03m# _load_from_exec_plugin; only load from the _user\u001b[39;00m\n\u001b[1;32m    556\u001b[0m         \u001b[38;5;66;03m# section if we need it.\u001b[39;00m\n\u001b[1;32m    557\u001b[0m         \u001b[38;5;28mself\u001b[39m\u001b[38;5;241m.\u001b[39mcert_file \u001b[38;5;241m=\u001b[39m FileOrData(\n\u001b[1;32m    558\u001b[0m             \u001b[38;5;28mself\u001b[39m\u001b[38;5;241m.\u001b[39m_user, \u001b[38;5;124m'\u001b[39m\u001b[38;5;124mclient-certificate\u001b[39m\u001b[38;5;124m'\u001b[39m,\n\u001b[1;32m    559\u001b[0m             file_base_path\u001b[38;5;241m=\u001b[39mbase_path,\n\u001b[1;32m    560\u001b[0m             temp_file_path\u001b[38;5;241m=\u001b[39m\u001b[38;5;28mself\u001b[39m\u001b[38;5;241m.\u001b[39m_temp_file_path)\u001b[38;5;241m.\u001b[39mas_file()\n",
      "File \u001b[0;32m~/artificalcreatures/arc/.venv/lib/python3.10/site-packages/kubernetes/config/kube_config.py:129\u001b[0m, in \u001b[0;36mFileOrData.as_file\u001b[0;34m(self)\u001b[0m\n\u001b[1;32m    126\u001b[0m         \u001b[38;5;28mself\u001b[39m\u001b[38;5;241m.\u001b[39m_file \u001b[38;5;241m=\u001b[39m _create_temp_file_with_content(\n\u001b[1;32m    127\u001b[0m             \u001b[38;5;28mself\u001b[39m\u001b[38;5;241m.\u001b[39m_data, \u001b[38;5;28mself\u001b[39m\u001b[38;5;241m.\u001b[39m_temp_file_path)\n\u001b[1;32m    128\u001b[0m \u001b[38;5;28;01mif\u001b[39;00m \u001b[38;5;28mself\u001b[39m\u001b[38;5;241m.\u001b[39m_file \u001b[38;5;129;01mand\u001b[39;00m \u001b[38;5;129;01mnot\u001b[39;00m os\u001b[38;5;241m.\u001b[39mpath\u001b[38;5;241m.\u001b[39misfile(\u001b[38;5;28mself\u001b[39m\u001b[38;5;241m.\u001b[39m_file):\n\u001b[0;32m--> 129\u001b[0m     \u001b[38;5;28;01mraise\u001b[39;00m ConfigException(\u001b[38;5;124m\"\u001b[39m\u001b[38;5;124mFile does not exist: \u001b[39m\u001b[38;5;132;01m%s\u001b[39;00m\u001b[38;5;124m\"\u001b[39m \u001b[38;5;241m%\u001b[39m \u001b[38;5;28mself\u001b[39m\u001b[38;5;241m.\u001b[39m_file)\n\u001b[1;32m    130\u001b[0m \u001b[38;5;28;01mreturn\u001b[39;00m \u001b[38;5;28mself\u001b[39m\u001b[38;5;241m.\u001b[39m_file\n",
      "\u001b[0;31mConfigException\u001b[0m: File does not exist: /var/folders/2y/6b7m4pk176d8t6hmvwhj93880000gn/T/tmpdbopuw6q"
     ]
    }
   ],
   "source": [
    "config.load_kube_config()\n",
    "core_v1_api = CoreV1Api()"
   ]
  },
  {
   "cell_type": "code",
   "execution_count": 9,
   "metadata": {},
   "outputs": [],
   "source": [
    "from kubernetes.client import CoreV1Api, V1Pod, V1PodSpec, V1Container, V1ObjectMeta, V1ContainerPort, V1Namespace\n",
    "from kubernetes.client.rest import ApiException\n",
    "from kubernetes import config\n",
    "from kubernetes.stream import portforward\n",
    "import socket\n",
    "import xmlrpc.client\n",
    "\n",
    "config.load_kube_config()\n",
    "core_v1_api = CoreV1Api()\n",
    "\n",
    "socket_create_connection = socket.create_connection\n",
    "\n",
    "def kubernetes_create_connection(address, *args, **kwargs):\n",
    "    print(\"address: \", address)\n",
    "    dns_name = address[0]\n",
    "    if isinstance(dns_name, bytes):\n",
    "        dns_name = dns_name.decode()\n",
    "    dns_name = dns_name.split(\".\")\n",
    "    if dns_name[-1] != \"kubernetes\":\n",
    "        return socket_create_connection(address, *args, **kwargs)\n",
    "    if len(dns_name) not in (3, 4):\n",
    "        raise RuntimeError(\"Unexpected kubernetes DNS name.\")\n",
    "    namespace = dns_name[-2]\n",
    "    name = dns_name[0]\n",
    "    port = address[1]\n",
    "    pf = portforward(core_v1_api.connect_get_namespaced_pod_portforward, name, namespace, ports=str(port))\n",
    "    return pf.socket(port)\n",
    "\n",
    "socket.create_connection = kubernetes_create_connection\n"
   ]
  },
  {
   "cell_type": "code",
   "execution_count": 22,
   "metadata": {},
   "outputs": [
    {
     "name": "stdout",
     "output_type": "stream",
     "text": [
      "connecting to:  http://fn-main-foo-2a26cff-c0f711a.pod.arc-arc.kubernetes:8000\n",
      "connected\n",
      "address:  ('fn-main-foo-2a26cff-c0f711a.pod.arc-arc.kubernetes', 8000)\n",
      "d:  {'res': 'hello world'}\n",
      "None\n"
     ]
    }
   ],
   "source": [
    "####\n",
    "server_addr = f\"http://fn-main-foo-2a26cff-c0f711a.pod.arc-arc.kubernetes:8000\"\n",
    "print(\"connecting to: \", server_addr)\n",
    "with xmlrpc.client.ServerProxy(server_addr) as proxy:\n",
    "    print(\"connected\")\n",
    "    res = None\n",
    "    cmd = f\"res = proxy.foo()\"\n",
    "    d = {}\n",
    "    exec(cmd, locals(), d)\n",
    "    print(\"d: \", d)\n",
    "    print(res)"
   ]
  },
  {
   "cell_type": "code",
   "execution_count": 25,
   "metadata": {},
   "outputs": [
    {
     "data": {
      "text/plain": [
       "'val container'"
      ]
     },
     "execution_count": 25,
     "metadata": {},
     "output_type": "execute_result"
    }
   ],
   "source": [
    "from arc.config import RemoteSyncStrategy\n",
    "\n",
    "a = RemoteSyncStrategy.CONTAINER\n",
    "\n",
    "a.value\n",
    "\n",
    "f\"val {a.value}\""
   ]
  },
  {
   "cell_type": "code",
   "execution_count": 27,
   "metadata": {},
   "outputs": [],
   "source": [
    "if \"container\" == \"contaier\":\n",
    "    print(\"hellpo\")"
   ]
  },
  {
   "cell_type": "code",
   "execution_count": 1,
   "metadata": {},
   "outputs": [],
   "source": [
    "# Test Apply\n",
    "from kubernetes.client import CoreV1Api, V1Pod, V1PodSpec, V1Container, V1ObjectMeta, V1ContainerPort, V1Namespace\n",
    "from kubernetes.client.rest import ApiException\n",
    "from kubernetes import config\n",
    "\n",
    "config.load_kube_config()\n",
    "core_v1_api = CoreV1Api()\n"
   ]
  },
  {
   "cell_type": "code",
   "execution_count": 5,
   "metadata": {},
   "outputs": [
    {
     "ename": "ApiTypeError",
     "evalue": "Got an unexpected keyword argument 'content_type' to method patch_namespaced_pod",
     "output_type": "error",
     "traceback": [
      "\u001b[0;31m---------------------------------------------------------------------------\u001b[0m",
      "\u001b[0;31mApiTypeError\u001b[0m                              Traceback (most recent call last)",
      "Input \u001b[0;32mIn [5]\u001b[0m, in \u001b[0;36m<module>\u001b[0;34m\u001b[0m\n\u001b[1;32m      1\u001b[0m pod \u001b[38;5;241m=\u001b[39m V1Pod(\n\u001b[1;32m      2\u001b[0m     metadata\u001b[38;5;241m=\u001b[39mV1ObjectMeta(\n\u001b[1;32m      3\u001b[0m         name\u001b[38;5;241m=\u001b[39m\u001b[38;5;124m\"\u001b[39m\u001b[38;5;124mtester\u001b[39m\u001b[38;5;124m\"\u001b[39m,\n\u001b[0;32m   (...)\u001b[0m\n\u001b[1;32m      8\u001b[0m     spec\u001b[38;5;241m=\u001b[39mV1PodSpec(containers\u001b[38;5;241m=\u001b[39m[V1Container(name\u001b[38;5;241m=\u001b[39m\u001b[38;5;124m\"\u001b[39m\u001b[38;5;124mtest\u001b[39m\u001b[38;5;124m\"\u001b[39m, image\u001b[38;5;241m=\u001b[39m\u001b[38;5;124m\"\u001b[39m\u001b[38;5;124mubuntu\u001b[39m\u001b[38;5;124m\"\u001b[39m, command\u001b[38;5;241m=\u001b[39m[\u001b[38;5;124m\"\u001b[39m\u001b[38;5;124msleep\u001b[39m\u001b[38;5;124m\"\u001b[39m, \u001b[38;5;124m\"\u001b[39m\u001b[38;5;124minfinity\u001b[39m\u001b[38;5;124m\"\u001b[39m])]),\n\u001b[1;32m      9\u001b[0m )\n\u001b[0;32m---> 10\u001b[0m \u001b[43mcore_v1_api\u001b[49m\u001b[38;5;241;43m.\u001b[39;49m\u001b[43mpatch_namespaced_pod\u001b[49m\u001b[43m(\u001b[49m\u001b[38;5;124;43m\"\u001b[39;49m\u001b[38;5;124;43mtester\u001b[39;49m\u001b[38;5;124;43m\"\u001b[39;49m\u001b[43m,\u001b[49m\u001b[43m \u001b[49m\u001b[38;5;124;43m\"\u001b[39;49m\u001b[38;5;124;43mdefault\u001b[39;49m\u001b[38;5;124;43m\"\u001b[39;49m\u001b[43m,\u001b[49m\u001b[43m \u001b[49m\u001b[43mpod\u001b[49m\u001b[43m,\u001b[49m\u001b[43m \u001b[49m\u001b[43mcontent_type\u001b[49m\u001b[38;5;241;43m=\u001b[39;49m\u001b[38;5;124;43m\"\u001b[39;49m\u001b[38;5;124;43mapplication/apply-patch+yaml\u001b[39;49m\u001b[38;5;124;43m\"\u001b[39;49m\u001b[43m)\u001b[49m\n",
      "File \u001b[0;32m~/artificalcreatures/arc/.venv/lib/python3.10/site-packages/kubernetes/client/api/core_v1_api.py:19347\u001b[0m, in \u001b[0;36mCoreV1Api.patch_namespaced_pod\u001b[0;34m(self, name, namespace, body, **kwargs)\u001b[0m\n\u001b[1;32m  19319\u001b[0m \u001b[38;5;124;03m\"\"\"patch_namespaced_pod  # noqa: E501\u001b[39;00m\n\u001b[1;32m  19320\u001b[0m \n\u001b[1;32m  19321\u001b[0m \u001b[38;5;124;03mpartially update the specified Pod  # noqa: E501\u001b[39;00m\n\u001b[0;32m   (...)\u001b[0m\n\u001b[1;32m  19344\u001b[0m \u001b[38;5;124;03m         returns the request thread.\u001b[39;00m\n\u001b[1;32m  19345\u001b[0m \u001b[38;5;124;03m\"\"\"\u001b[39;00m\n\u001b[1;32m  19346\u001b[0m kwargs[\u001b[38;5;124m'\u001b[39m\u001b[38;5;124m_return_http_data_only\u001b[39m\u001b[38;5;124m'\u001b[39m] \u001b[38;5;241m=\u001b[39m \u001b[38;5;28;01mTrue\u001b[39;00m\n\u001b[0;32m> 19347\u001b[0m \u001b[38;5;28;01mreturn\u001b[39;00m \u001b[38;5;28;43mself\u001b[39;49m\u001b[38;5;241;43m.\u001b[39;49m\u001b[43mpatch_namespaced_pod_with_http_info\u001b[49m\u001b[43m(\u001b[49m\u001b[43mname\u001b[49m\u001b[43m,\u001b[49m\u001b[43m \u001b[49m\u001b[43mnamespace\u001b[49m\u001b[43m,\u001b[49m\u001b[43m \u001b[49m\u001b[43mbody\u001b[49m\u001b[43m,\u001b[49m\u001b[43m \u001b[49m\u001b[38;5;241;43m*\u001b[39;49m\u001b[38;5;241;43m*\u001b[39;49m\u001b[43mkwargs\u001b[49m\u001b[43m)\u001b[49m\n",
      "File \u001b[0;32m~/artificalcreatures/arc/.venv/lib/python3.10/site-packages/kubernetes/client/api/core_v1_api.py:19402\u001b[0m, in \u001b[0;36mCoreV1Api.patch_namespaced_pod_with_http_info\u001b[0;34m(self, name, namespace, body, **kwargs)\u001b[0m\n\u001b[1;32m  19400\u001b[0m \u001b[38;5;28;01mfor\u001b[39;00m key, val \u001b[38;5;129;01min\u001b[39;00m six\u001b[38;5;241m.\u001b[39miteritems(local_var_params[\u001b[38;5;124m'\u001b[39m\u001b[38;5;124mkwargs\u001b[39m\u001b[38;5;124m'\u001b[39m]):\n\u001b[1;32m  19401\u001b[0m     \u001b[38;5;28;01mif\u001b[39;00m key \u001b[38;5;129;01mnot\u001b[39;00m \u001b[38;5;129;01min\u001b[39;00m all_params:\n\u001b[0;32m> 19402\u001b[0m         \u001b[38;5;28;01mraise\u001b[39;00m ApiTypeError(\n\u001b[1;32m  19403\u001b[0m             \u001b[38;5;124m\"\u001b[39m\u001b[38;5;124mGot an unexpected keyword argument \u001b[39m\u001b[38;5;124m'\u001b[39m\u001b[38;5;132;01m%s\u001b[39;00m\u001b[38;5;124m'\u001b[39m\u001b[38;5;124m\"\u001b[39m\n\u001b[1;32m  19404\u001b[0m             \u001b[38;5;124m\"\u001b[39m\u001b[38;5;124m to method patch_namespaced_pod\u001b[39m\u001b[38;5;124m\"\u001b[39m \u001b[38;5;241m%\u001b[39m key\n\u001b[1;32m  19405\u001b[0m         )\n\u001b[1;32m  19406\u001b[0m     local_var_params[key] \u001b[38;5;241m=\u001b[39m val\n\u001b[1;32m  19407\u001b[0m \u001b[38;5;28;01mdel\u001b[39;00m local_var_params[\u001b[38;5;124m'\u001b[39m\u001b[38;5;124mkwargs\u001b[39m\u001b[38;5;124m'\u001b[39m]\n",
      "\u001b[0;31mApiTypeError\u001b[0m: Got an unexpected keyword argument 'content_type' to method patch_namespaced_pod"
     ]
    }
   ],
   "source": [
    "pod = V1Pod(\n",
    "    metadata=V1ObjectMeta(\n",
    "        name=\"tester\",\n",
    "        labels={\n",
    "            \"test\": \"yes\"\n",
    "        },\n",
    "    ),\n",
    "    spec=V1PodSpec(containers=[V1Container(name=\"test\", image=\"ubuntu\", command=[\"sleep\", \"infinity\"])]),\n",
    ")\n",
    "core_v1_api.patch_namespaced_pod(\"tester\", \"default\", pod, content_type=\"application/apply-patch+yaml\")"
   ]
  },
  {
   "cell_type": "code",
   "execution_count": 10,
   "metadata": {},
   "outputs": [],
   "source": [
    "from tempfile import TemporaryFile\n",
    "import tarfile\n",
    "\n",
    "with tarfile.open(\"./tmp/test.tar\", mode=\"w\") as tar:\n",
    "    tar.add(\"./sync.py\", \"./tmp/a\")"
   ]
  },
  {
   "cell_type": "code",
   "execution_count": 17,
   "metadata": {},
   "outputs": [
    {
     "name": "stdout",
     "output_type": "stream",
     "text": [
      "list!\n"
     ]
    }
   ],
   "source": [
    "from typing import Union, List\n",
    "def a(b: Union[str, List[str]]):\n",
    "    if isinstance(b, List):\n",
    "        print(\"list!\")\n",
    "    else:\n",
    "        print(\"no list\")\n",
    "\n",
    "a([\"test\"])"
   ]
  },
  {
   "cell_type": "code",
   "execution_count": 23,
   "metadata": {},
   "outputs": [
    {
     "data": {
      "text/plain": [
       "'t/est/'"
      ]
     },
     "execution_count": 23,
     "metadata": {},
     "output_type": "execute_result"
    }
   ],
   "source": [
    "a = \"t/est/\"\n",
    "a.lstrip(\"/\")"
   ]
  },
  {
   "cell_type": "code",
   "execution_count": null,
   "metadata": {},
   "outputs": [],
   "source": [
    "\"\""
   ]
  }
 ],
 "metadata": {
  "interpreter": {
   "hash": "c3bdb05f5d30af75c332efbdaabaeba0f633ab6eb70174019b0fa74c25d5bcc4"
  },
  "kernelspec": {
   "display_name": "Python 3.9.9 64-bit ('.venv': poetry)",
   "language": "python",
   "name": "python3"
  },
  "language_info": {
   "codemirror_mode": {
    "name": "ipython",
    "version": 3
   },
   "file_extension": ".py",
   "mimetype": "text/x-python",
   "name": "python",
   "nbconvert_exporter": "python",
   "pygments_lexer": "ipython3",
   "version": "3.10.1"
  },
  "orig_nbformat": 4
 },
 "nbformat": 4,
 "nbformat_minor": 2
}
