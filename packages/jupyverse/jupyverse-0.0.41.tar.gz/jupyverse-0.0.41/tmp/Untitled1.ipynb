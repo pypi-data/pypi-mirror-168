{
  "cells": [
    {
      "source": "hello!\n",
      "execution_count": null,
      "outputs": [],
      "metadata": {
        "trusted": false
      },
      "id": "56f0f967-f4a8-43d4-b77f-f189f3e01e19",
      "cell_type": "code"
    },
    {
      "source": "",
      "metadata": {
        "trusted": false
      },
      "id": "b3d37607-08fd-404c-be30-1603d9474aa8",
      "cell_type": "code",
      "outputs": [],
      "execution_count": null
    }
  ],
  "metadata": {
    "language_info": {
      "mimetype": "text/x-python",
      "file_extension": ".py",
      "nbconvert_exporter": "python",
      "pygments_lexer": "ipython3",
      "version": "3.10.5",
      "name": "python",
      "codemirror_mode": {
        "name": "ipython",
        "version": 3
      }
    },
    "kernelspec": {
      "language": "python",
      "display_name": "Python 3 (ipykernel)",
      "name": "python3"
    }
  },
  "nbformat": 4,
  "nbformat_minor": 5
}