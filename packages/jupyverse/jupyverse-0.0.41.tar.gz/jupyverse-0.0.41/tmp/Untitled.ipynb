{
  "cells": [
    {
      "cell_type": "code",
      "execution_count": 1,
      "id": "a7243792-6f06-4462-a6b5-7e9ec604348e",
      "metadata": {
        "trusted": false
      },
      "source": "1 + 2",
      "outputs": [
        {
          "execution_count": 1,
          "data": {
            "text/plain": "3"
          },
          "output_type": "execute_result",
          "metadata": {}
        }
      ]
    },
    {
      "execution_count": null,
      "metadata": {
        "trusted": false
      },
      "cell_type": "code",
      "source": "",
      "id": "dc428ca1-d2f1-4dc1-8811-6be77103d683",
      "outputs": []
    }
  ],
  "metadata": {
    "kernelspec": {
      "language": "python",
      "display_name": "Python 3 (ipykernel)",
      "name": "python3"
    },
    "language_info": {
      "file_extension": ".py",
      "version": "3.10.6",
      "codemirror_mode": {
        "name": "ipython",
        "version": 3
      },
      "name": "python",
      "pygments_lexer": "ipython3",
      "nbconvert_exporter": "python",
      "mimetype": "text/x-python"
    }
  },
  "nbformat": 4,
  "nbformat_minor": 5
}