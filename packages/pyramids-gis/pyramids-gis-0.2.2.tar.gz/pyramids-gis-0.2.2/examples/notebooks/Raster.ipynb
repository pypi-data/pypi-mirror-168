{
 "cells": [
  {
   "cell_type": "code",
   "execution_count": 2,
   "id": "b7f9d22e-a23e-4e0d-b941-8aaa40f8e8e9",
   "metadata": {
    "pycharm": {
     "name": "#%%\n"
    }
   },
   "outputs": [],
   "source": [
    "import os, sys\n",
    "os.chdir(\"F:/01Algorithms/Hydrology/HAPI/Examples\")\n",
    "rootpath = os.path.abspath(os.getcwd())\n",
    "# sys.path.append(rootpath + \"/src\")\n",
    "datapath = os.path.join(rootpath, \"data/GIS/Hapi_GIS_Data\")\n",
    "datapath2 = os.path.join(rootpath, \"data/GIS\")\n",
    "os.chdir(rootpath)\n",
    "\n",
    "from pyramids.raster import Raster\n",
    "from pyramids.catchment import Catchment as GC\n",
    "# from Hapi.visualizer import Visualize as vis\n",
    "from digitalearth.map import Map\n",
    "from osgeo import gdal\n",
    "import numpy as np\n",
    "import pandas as pd\n",
    "import geopandas as gpd"
   ]
  },
  {
   "cell_type": "markdown",
   "id": "6f3f80e0-a7b0-4515-bf87-f9c4052b9a6f",
   "metadata": {
    "pycharm": {
     "name": "#%% md\n"
    }
   },
   "source": [
    "## Paths"
   ]
  },
  {
   "cell_type": "code",
   "execution_count": 3,
   "id": "7d2ada40-b429-4a32-b67c-d8da3a4cad2c",
   "metadata": {
    "pycharm": {
     "name": "#%%\n"
    }
   },
   "outputs": [],
   "source": [
    "RasterAPath = datapath + \"/acc4000.tif\"\n",
    "RasterBPath = datapath + \"/dem_100_f.tif\"\n",
    "pointsPath = datapath + \"/points.csv\"\n",
    "aligned_raster_folder = datapath + \"/alligned_rasters/\"\n",
    "alligned_rasater = datapath + \"/Evaporation_ECMWF_ERA-Interim_mm_daily_2009.01.01.tif\"\n",
    "soilmappath = datapath + \"/soil_raster.tif\"\n",
    "Basinshp = datapath + \"/basins.shp\""
   ]
  },
  {
   "cell_type": "markdown",
   "id": "803157ef-b871-429b-97d5-d8c10ee6880c",
   "metadata": {
    "pycharm": {
     "name": "#%% md\n"
    }
   },
   "source": [
    "- you need to define the TEMP path in your environment variable as some of the metods in the raster module do some preprocessing in the TEMP path\n",
    "\n",
    "- also if you have installed qgis define the directory to the bin folder inside the installation directory of qgis in the environment variable with a name \"qgis\""
   ]
  },
  {
   "cell_type": "markdown",
   "id": "1be99268-9df0-4975-b5e6-682b61c16f1d",
   "metadata": {
    "pycharm": {
     "name": "#%% md\n"
    }
   },
   "source": [
    "#### 1- Read the raster:\n",
    "- Read the raster using gdal"
   ]
  },
  {
   "cell_type": "code",
   "execution_count": 7,
   "id": "321b771d-028a-47ee-8f4c-b8933aa52b0d",
   "metadata": {
    "pycharm": {
     "name": "#%%\n"
    }
   },
   "outputs": [],
   "source": [
    "src = gdal.Open(RasterAPath)"
   ]
  },
  {
   "cell_type": "markdown",
   "id": "71c470db-20e5-4a7a-a9f7-cc574b16f045",
   "metadata": {
    "pycharm": {
     "name": "#%% md\n"
    }
   },
   "source": [
    "#### 2- Plot the raster"
   ]
  },
  {
   "cell_type": "code",
   "execution_count": 8,
   "id": "8181c9e1-baa4-4abe-ac7e-09dd0c5bf265",
   "metadata": {
    "pycharm": {
     "name": "#%%\n"
    }
   },
   "outputs": [
    {
     "data": {
      "text/plain": [
       "(<Figure size 576x576 with 2 Axes>,\n",
       " <AxesSubplot:title={'center':'Flow Accumulation'}>)"
      ]
     },
     "execution_count": 8,
     "metadata": {},
     "output_type": "execute_result"
    },
    {
     "data": {
      "image/png": "[encoded data removed]",
      "text/plain": [
       "<Figure size 576x576 with 2 Axes>"
      ]
     },
     "metadata": {
      "needs_background": "light"
     },
     "output_type": "display_data"
    }
   ],
   "source": [
    "Map.plot(src, Title=\"Flow Accumulation\")"
   ]
  },
  {
   "cell_type": "markdown",
   "id": "ce2c6bb2-b6e0-4f91-9a65-9e166a039c15",
   "metadata": {
    "pycharm": {
     "name": "#%% md\n"
    }
   },
   "source": [
    "#### 3- GetRasterData\n",
    "\n",
    "- get the basic data inside a raster (the array and the nodatavalue)\n",
    "\n",
    "Inputs:\n",
    "\n",
    "    Input: [gdal.Dataset]\n",
    "        a gdal.Dataset is a raster already been read using gdal\n",
    "    band : [integer]\n",
    "        the band you want to get its data. Default is 1\n",
    "Outputs:\n",
    "\n",
    "    1- mask:[array]\n",
    "        array with all the values in the flow path length raster\n",
    "    2- no_val: [numeric]\n",
    "        value stored in novalue cells"
   ]
  },
  {
   "cell_type": "code",
   "execution_count": 12,
   "id": "ec6cabac-c855-4d91-9d26-534b42328f68",
   "metadata": {
    "pycharm": {
     "name": "#%%\n"
    }
   },
   "outputs": [
    {
     "name": "stdout",
     "output_type": "stream",
     "text": [
      "-3.402823e+38\n"
     ]
    }
   ],
   "source": [
    "arr, nodataval = Raster.getRasterData(src)\n",
    "print(nodataval)"
   ]
  },
  {
   "cell_type": "markdown",
   "id": "217ae964-8d45-4fcb-9d98-e97d9a9a675d",
   "metadata": {
    "pycharm": {
     "name": "#%% md\n"
    }
   },
   "source": [
    "#### 4- GetProjectionData\n",
    "\n",
    "GetProjectionData returns the projection details of a given gdal.Dataset\n",
    "\n",
    "Inputs:\n",
    "\n",
    "    1- src : [gdal.Dataset]\n",
    "        raster read by gdal\n",
    "\n",
    "Returns:\n",
    "\n",
    "    1- epsg : [integer]\n",
    "         integer reference number to the new projection (https://epsg.io/)\n",
    "        (default 3857 the reference no of WGS84 web mercator )\n",
    "    2- geo : [tuple]\n",
    "        geotransform data (minimum lon/x, pixelsize, rotation, maximum lat/y, rotation,\n",
    "                            pixelsize). The default is ''."
   ]
  },
  {
   "cell_type": "code",
   "execution_count": 18,
   "id": "ccc982e9-d70b-4f84-8a43-3492c2f81a4e",
   "metadata": {
    "pycharm": {
     "name": "#%%\n"
    }
   },
   "outputs": [
    {
     "name": "stdout",
     "output_type": "stream",
     "text": [
      "EPSG = 32618\n",
      "Coordinates of the upper left corner are\n",
      "X = 432968.1206170588, Y = 520007.787999178\n",
      "Cell Size = 4000.0\n"
     ]
    }
   ],
   "source": [
    "epsg, geo = Raster.getProjectionData(src)\n",
    "print(\"EPSG = \" + str(epsg))\n",
    "print(\"Coordinates of the upper left corner are\")\n",
    "print(\"X = \" + str(geo[0]) + \", Y = \" +  str(geo[3]))\n",
    "print(\"Cell Size = \" + str(geo[1]))"
   ]
  },
  {
   "cell_type": "markdown",
   "id": "00c3c40f-5a4c-43b3-9303-1ce80e697251",
   "metadata": {
    "pycharm": {
     "name": "#%% md\n"
    }
   },
   "source": [
    "#### 5- GetCoords\n",
    "\n",
    "Returns the coordinates of the cell centres (only the cells that\n",
    "does not have nodata value)\n",
    "\n",
    "Parameters:\n",
    "\n",
    "\n",
    "    dem : [gdal_Dataset]\n",
    "        Get the data from the gdal datasetof the DEM\n",
    "\n",
    "Returns:\n",
    "\n",
    "    coords : array\n",
    "        Array with a list of the coordinates to be interpolated, without the Nan\n",
    "    mat_range : array\n",
    "        Array with all the centres of cells in the domain of the DEM\n"
   ]
  },
  {
   "cell_type": "code",
   "execution_count": null,
   "id": "3c29b818-0822-4469-bfb7-272efa0a3e63",
   "metadata": {
    "pycharm": {
     "name": "#%%\n"
    }
   },
   "outputs": [],
   "source": [
    "coords, centerscoords = Raster.getCellCoords(src)\n",
    "print(coords)\n",
    "print(centerscoords)"
   ]
  },
  {
   "cell_type": "markdown",
   "id": "881e8c01-70ee-479e-b46d-106d140bee43",
   "metadata": {
    "pycharm": {
     "name": "#%% md\n"
    }
   },
   "source": [
    "#### 6- SaveRaster\n",
    "\n",
    "SaveRaster saves a raster to a path\n",
    "\n",
    "inputs:\n",
    "\n",
    "    1- raster:\n",
    "        [gdal object]\n",
    "    2- path:\n",
    "        [string] a path includng the name of the raster and extention like\n",
    "        path=\"data/cropped.tif\"\n",
    "\n",
    "Outputs:\n",
    "\n",
    "    the function does not return and data but only save the raster to the hard drive"
   ]
  },
  {
   "cell_type": "code",
   "execution_count": 23,
   "id": "5f2b1e25-add7-4e8c-8cf4-bdfc0c853209",
   "metadata": {
    "pycharm": {
     "name": "#%%\n"
    }
   },
   "outputs": [],
   "source": [
    "path = datapath + \"/rasterexample.tif\"\n",
    "Raster.saveRaster(src,path)"
   ]
  },
  {
   "cell_type": "markdown",
   "id": "cc682c66-c956-4bba-966f-0f9bcdde1f8e",
   "metadata": {
    "pycharm": {
     "name": "#%% md\n"
    }
   },
   "source": [
    "#### 7- CreateRaster\n",
    "\n",
    "CreateRaster method creates a raster from a given array and geotransform data\n",
    "and save the tif file if a Path is given or it will return the gdal.Dataset\n",
    "\n",
    "Parameters\n",
    "\n",
    "    Path : [str], optional\n",
    "        Path to save the Raster, if '' is given a memory raster will be returned. The default is ''.\n",
    "    arr : [array], optional\n",
    "        numpy array. The default is ''.\n",
    "    geo : [list], optional\n",
    "        geotransform list [minimum lon, pixelsize, rotation, maximum lat, rotation,\n",
    "            pixelsize]. The default is ''.\n",
    "    NoDataValue : TYPE, optional\n",
    "        DESCRIPTION. The default is -9999.\n",
    "    EPSG: [integer]\n",
    "        integer reference number to the new projection (https://epsg.io/)\n",
    "            (default 3857 the reference no of WGS84 web mercator )\n",
    "\n",
    "Returns\n",
    "\n",
    "    1- dst : [gdal.Dataset/save raster to drive].\n",
    "                if a path is given the created raster will be saved to drive, if not\n",
    "                a gdal.Dataset will be returned.\n",
    "            \n",
    "We will recreate the raster that we have already read using the 'GetRasterData' method at the \n",
    "top from the array and the projection data we obtained using the 'GetProjectionData' method\n"
   ]
  },
  {
   "cell_type": "code",
   "execution_count": 24,
   "id": "2630967a-32cb-4146-acc3-16b5fd1c529a",
   "metadata": {
    "pycharm": {
     "name": "#%%\n"
    }
   },
   "outputs": [
    {
     "data": {
      "text/plain": [
       "(<Figure size 576x576 with 2 Axes>,\n",
       " <AxesSubplot:title={'center':'Flow Accumulation'}>)"
      ]
     },
     "execution_count": 24,
     "metadata": {},
     "output_type": "execute_result"
    },
    {
     "data": {
      "image/png": "[encoded data removed]",
      "text/plain": [
       "<Figure size 576x576 with 2 Axes>"
      ]
     },
     "metadata": {
      "needs_background": "light"
     },
     "output_type": "display_data"
    }
   ],
   "source": [
    "src = Raster.createRaster(arr=arr, geo=geo, epsg=str(epsg), nodatavalue=nodataval)\n",
    "Map.plot(src, Title=\"Flow Accumulation\")"
   ]
  },
  {
   "cell_type": "markdown",
   "id": "b1148cdf-b511-4f10-b51d-43514b6088fc",
   "metadata": {
    "pycharm": {
     "name": "#%% md\n"
    }
   },
   "source": [
    "#### 8- RasterLike\n",
    "\n",
    "If we have made some calculation on raster array and we want to save the array back in the raster\n",
    "\n",
    "RasterLike method creates a Geotiff raster like another input raster, new raster\n",
    "will have the same projection, coordinates or the top left corner of the original\n",
    "raster, cell size, nodata velue, and number of rows and columns\n",
    "the raster and the dem should have the same number of columns and rows\n",
    "\n",
    "inputs:\n",
    "\n",
    "    1- src : [gdal.dataset]\n",
    "        source raster to get the spatial information\n",
    "    2- array:\n",
    "        [numpy array]to store in the new raster\n",
    "    3- path : [String]\n",
    "        path to save the new raster including new raster name and extension (.tif)\n",
    "    4- pixel_type : [integer]\n",
    "        type of the data to be stored in the pixels,default is 1 (float32)\n",
    "        for example pixel type of flow direction raster is unsigned integer\n",
    "        1 for float32\n",
    "        2 for float64\n",
    "        3 for Unsigned integer 16\n",
    "        4 for Unsigned integer 32\n",
    "        5 for integer 16\n",
    "        6 for integer 32\n",
    "\n",
    "outputs:\n",
    "\n",
    "    1- save the new raster to the given path\n",
    "    "
   ]
  },
  {
   "cell_type": "code",
   "execution_count": 25,
   "id": "439f29fa-1efd-407c-a683-88c6a28720e2",
   "metadata": {
    "pycharm": {
     "name": "#%%\n"
    }
   },
   "outputs": [
    {
     "data": {
      "text/plain": [
       "(<Figure size 576x576 with 2 Axes>,\n",
       " <AxesSubplot:title={'center':'Flow Accumulation'}>)"
      ]
     },
     "execution_count": 25,
     "metadata": {},
     "output_type": "execute_result"
    },
    {
     "data": {
      "image/png": "[encoded data removed]",
      "text/plain": [
       "<Figure size 576x576 with 2 Axes>"
      ]
     },
     "metadata": {
      "needs_background": "light"
     },
     "output_type": "display_data"
    }
   ],
   "source": [
    "arr2 = np.ones(shape=arr.shape, dtype=np.float64) * nodataval\n",
    "arr2[~ np.isclose(arr, nodataval, rtol=0.001)] = 5\n",
    "\n",
    "path = datapath + \"/rasterlike.tif\"\n",
    "Raster.rasterLike(src,arr2,path, )\n",
    "dst = gdal.Open(path)\n",
    "Map.plot(dst, Title=\"Flow Accumulation\", ColorScale=1)"
   ]
  },
  {
   "cell_type": "markdown",
   "id": "5a79d6d3-180f-4ff6-a121-db258708f73c",
   "metadata": {
    "pycharm": {
     "name": "#%% md\n"
    }
   },
   "source": [
    "#### 9- MapAlgebra\n",
    "\n",
    "MapAlgebra executes a mathematical operation on raster array and returns\n",
    "the result\n",
    "\n",
    "inputs:\n",
    "\n",
    "    1-src : [gdal.dataset]\n",
    "        source raster to that you want to make some calculation on its values\n",
    "    3-function:\n",
    "        defined function that takes one input which is the cell value\n",
    "        "
   ]
  },
  {
   "cell_type": "code",
   "execution_count": 27,
   "id": "d28d3c87-ae5c-431f-9e9f-8aeea4fdffb2",
   "metadata": {
    "pycharm": {
     "name": "#%%\n"
    }
   },
   "outputs": [
    {
     "data": {
      "text/plain": [
       "(<Figure size 576x576 with 2 Axes>, <AxesSubplot:title={'center':'Classes'}>)"
      ]
     },
     "execution_count": 27,
     "metadata": {},
     "output_type": "execute_result"
    },
    {
     "data": {
      "image/png": "[encoded data removed]",
      "text/plain": [
       "<Figure size 576x576 with 2 Axes>"
      ]
     },
     "metadata": {
      "needs_background": "light"
     },
     "output_type": "display_data"
    }
   ],
   "source": [
    "def func1(val):\n",
    "    if val < 20 :\n",
    "        val =  1\n",
    "    elif val < 40 :\n",
    "        val = 2\n",
    "    elif val <  60 :\n",
    "        val = 3\n",
    "    elif val < 80 :\n",
    "        val = 4\n",
    "    elif val < 100 :\n",
    "        val = 5\n",
    "    else:\n",
    "        val = 0\n",
    "    return val\n",
    "dst = Raster.mapAlgebra(src, func1)\n",
    "Map.plot(dst, Title=\"Classes\", ColorScale=4, TicksSpacing=1)"
   ]
  },
  {
   "cell_type": "markdown",
   "id": "cb3a99d4-3868-419d-be64-f2e476c297b1",
   "metadata": {
    "pycharm": {
     "name": "#%% md\n"
    }
   },
   "source": [
    "#### 10- RasterFill\n",
    "\n",
    "RasterFill takes a raster and fill it with one value\n",
    "\n",
    "\n",
    "inputs:\n",
    "\n",
    "    1- src : [gdal.dataset]\n",
    "        source raster\n",
    "    2- Val: [numeric]\n",
    "        numeric value\n",
    "    3- SaveTo : [str]\n",
    "        path including the extension (.tif)\n",
    "\n",
    "Returns:\n",
    "\n",
    "    1- raster : [saved on disk]\n",
    "        the raster will be saved directly to the path you provided."
   ]
  },
  {
   "cell_type": "code",
   "execution_count": 29,
   "id": "a42d0495-1ee3-477c-8729-58282009aeed",
   "metadata": {
    "pycharm": {
     "name": "#%%\n"
    }
   },
   "outputs": [
    {
     "data": {
      "text/plain": [
       "(<Figure size 576x576 with 2 Axes>,\n",
       " <AxesSubplot:title={'center':'Flow Accumulation'}>)"
      ]
     },
     "execution_count": 29,
     "metadata": {},
     "output_type": "execute_result"
    },
    {
     "data": {
      "image/png": "[encoded data removed]",
      "text/plain": [
       "<Figure size 576x576 with 2 Axes>"
      ]
     },
     "metadata": {
      "needs_background": "light"
     },
     "output_type": "display_data"
    }
   ],
   "source": [
    "path = datapath + \"/fillrasterexample.tif\"\n",
    "value = 20\n",
    "Raster.rasterFill(src, value, SaveTo=path)\n",
    "\n",
    "\"now the resulted raster is saved to disk\"\n",
    "dst = gdal.Open(path)\n",
    "Map.plot(dst, Title=\"Flow Accumulation\")"
   ]
  },
  {
   "cell_type": "markdown",
   "id": "889765cc-213a-4256-9554-c54acd2e5506",
   "metadata": {
    "pycharm": {
     "name": "#%% md\n"
    }
   },
   "source": [
    "#### 11-ResampleRaster\n",
    "\n",
    "this function reproject a raster to any projection\n",
    "(default the WGS84 web mercator projection, without resampling)\n",
    "The function returns a GDAL in-memory file object, where you can ReadAsArray etc.\n",
    "\n",
    "inputs:\n",
    "\n",
    "    1- raster : [gdal.Dataset]\n",
    "         gdal raster (src=gdal.Open(\"dem.tif\"))\n",
    "    3-cell_size : [integer]\n",
    "         new cell size to resample the raster.\n",
    "        (default empty so raster will not be resampled)\n",
    "    4- resample_technique : [String]\n",
    "        resampling technique default is \"Nearest\"\n",
    "        https://gisgeography.com/raster-resampling/\n",
    "        \"Nearest\" for nearest neighbour,\"cubic\" for cubic convolution,\n",
    "        \"bilinear\" for bilinear\n",
    "\n",
    "Outputs:\n",
    "\n",
    "    1-raster : [gdal.Dataset]\n",
    "         gdal object (you can read it by ReadAsArray)"
   ]
  },
  {
   "cell_type": "code",
   "execution_count": 32,
   "id": "3a9f246b-f136-4b19-beb7-9d4ec135aa4d",
   "metadata": {
    "pycharm": {
     "name": "#%%\n"
    }
   },
   "outputs": [
    {
     "name": "stdout",
     "output_type": "stream",
     "text": [
      "Original Cell Size =4000.0\n",
      "New cell size is 100.0\n"
     ]
    },
    {
     "data": {
      "text/plain": [
       "(<Figure size 576x576 with 2 Axes>,\n",
       " <AxesSubplot:title={'center':'Flow Accumulation'}>)"
      ]
     },
     "execution_count": 32,
     "metadata": {},
     "output_type": "execute_result"
    },
    {
     "data": {
      "image/png": "[encoded data removed]",
      "text/plain": [
       "<Figure size 576x576 with 2 Axes>"
      ]
     },
     "metadata": {
      "needs_background": "light"
     },
     "output_type": "display_data"
    }
   ],
   "source": [
    "print(\"Original Cell Size =\" + str(geo[1]))\n",
    "cell_size = 100\n",
    "dst = Raster.resampleRaster(src, cell_size, resample_technique=\"bilinear\")\n",
    "\n",
    "dst_arr,_ = Raster.getRasterData(dst)\n",
    "_, newgeo = Raster.getProjectionData(dst)\n",
    "print(\"New cell size is \" + str(newgeo[1]))\n",
    "Map.plot(dst, Title=\"Flow Accumulation\")"
   ]
  },
  {
   "cell_type": "markdown",
   "id": "3f9e193e-b5b3-4412-a34b-223a9b55a1a9",
   "metadata": {
    "pycharm": {
     "name": "#%% md\n"
    }
   },
   "source": [
    "#### 12-ProjectRaster\n",
    "\n",
    "ProjectRaster reprojects a raster to any projection\n",
    "(default the WGS84 web mercator projection, without resampling)\n",
    "The function returns a GDAL in-memory file object, where you can ReadAsArray etc.\n",
    "\n",
    "inputs:\n",
    "\n",
    "    1- raster: [gdal object]\n",
    "        gdal dataset (src=gdal.Open(\"dem.tif\"))\n",
    "    2-to_epsg: [integer]\n",
    "        reference number to the new projection (https://epsg.io/)\n",
    "        (default 3857 the reference no of WGS84 web mercator )\n",
    "    3- resample_technique: [String]\n",
    "        resampling technique default is \"Nearest\"\n",
    "        https://gisgeography.com/raster-resampling/\n",
    "        \"Nearest\" for nearest neighbour,\"cubic\" for cubic convolution,\n",
    "        \"bilinear\" for bilinear\n",
    "    4- Option : [1 or 2]\n",
    "\n",
    "\n",
    "Outputs:\n",
    "\n",
    "    1-raster:\n",
    "        gdal dataset (you can read it by ReadAsArray)\n",
    "        "
   ]
  },
  {
   "cell_type": "code",
   "execution_count": 34,
   "id": "e372620f-dabc-407a-ac9e-797ef7d1cd5e",
   "metadata": {
    "pycharm": {
     "name": "#%%\n"
    }
   },
   "outputs": [
    {
     "name": "stdout",
     "output_type": "stream",
     "text": [
      "current EPSG - 32618\n",
      "New EPSG - 4326\n",
      "New Geotransform - (-75.60441, 0.03606600000000526, 0.0, 4.704305, 0.0, -0.03606600000000526)\n",
      "Option 2\n",
      "New EPSG - 4326\n",
      "New Geotransform - (-75.60441003848668, 0.03611587177268461, 0.0, 4.704560448076901, 0.0, -0.03611587177268461)\n"
     ]
    }
   ],
   "source": [
    "print(\"current EPSG - \" + str(epsg))\n",
    "to_epsg = 4326\n",
    "dst = Raster.projectRaster(src, to_epsg=to_epsg, option=1)\n",
    "newepsg, newgeo = Raster.getProjectionData(dst)\n",
    "print(\"New EPSG - \" + str(newepsg))\n",
    "print(\"New Geotransform - \" + str(newgeo))\n",
    "\"\"\"Option 2\"\"\"\n",
    "print(\"Option 2\")\n",
    "dst = Raster.projectRaster(src, to_epsg=to_epsg, option=2)\n",
    "newepsg, newgeo = Raster.getProjectionData(dst)\n",
    "print(\"New EPSG - \" + str(newepsg))\n",
    "print(\"New Geotransform - \" + str(newgeo))"
   ]
  },
  {
   "cell_type": "markdown",
   "id": "f6d9bf84-b5ef-44ba-9547-40cd3512d78d",
   "metadata": {
    "pycharm": {
     "name": "#%% md\n"
    }
   },
   "source": [
    "#### 13 - ReprojectDataset\n",
    "\n",
    "ReprojectDataset reprojects and resamples a folder of rasters to any projection\n",
    "(default the WGS84 web mercator projection, without resampling)\n",
    "The function returns a GDAL in-memory file object, where you can ReadAsArray etc.\n",
    "\n",
    "inputs:\n",
    "\n",
    "    1- raster:\n",
    "        gdal dataset (src=gdal.Open(\"dem.tif\"))\n",
    "    2-to_epsg:\n",
    "        integer reference number to the new projection (https://epsg.io/)\n",
    "        (default 3857 the reference no of WGS84 web mercator )\n",
    "    3-cell_size:\n",
    "        integer number to resample the raster cell size to a new cell size\n",
    "        (default empty so raster will not be resampled)\n",
    "    4- resample_technique:\n",
    "        [String] resampling technique default is \"Nearest\"\n",
    "        https://gisgeography.com/raster-resampling/\n",
    "        \"Nearest\" for nearest neighbour,\"cubic\" for cubic convolution,\n",
    "        \"bilinear\" for bilinear\n",
    "\n",
    "Outputs:\n",
    "\n",
    "    1-raster:\n",
    "        gdal dataset (you can read it by ReadAsArray)\n",
    "        "
   ]
  }
 ],
 "metadata": {
  "kernelspec": {
   "display_name": "Python 3 (ipykernel)",
   "language": "python",
   "name": "python3"
  },
  "language_info": {
   "codemirror_mode": {
    "name": "ipython",
    "version": 3
   },
   "file_extension": ".py",
   "mimetype": "text/x-python",
   "name": "python",
   "nbconvert_exporter": "python",
   "pygments_lexer": "ipython3",
   "version": "3.7.10"
  }
 },
 "nbformat": 4,
 "nbformat_minor": 5
}
