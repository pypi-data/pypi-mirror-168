{
 "cells": [
  {
   "cell_type": "code",
   "execution_count": 1,
   "id": "e651bdd5-0ff1-4515-940b-7f47a5808ecd",
   "metadata": {},
   "outputs": [],
   "source": [
    "import os, sys, math, logging, random\n",
    "from pathlib import Path\n",
    "\n",
    "import numpy as np\n",
    "\n",
    "%load_ext autoreload\n",
    "%autoreload 2\n",
    "\n",
    "import matplotlib as mpl\n",
    "import matplotlib.pyplot as plt\n",
    "%matplotlib inline\n",
    "%config InlineBackend.figure_format = 'retina'\n",
    "\n",
    "logging.basicConfig(level=logging.INFO, stream=sys.stdout)\n",
    "\n",
    "import pandas as pd\n",
    "pd.set_option('display.max_colwidth', 200)\n",
    "\n",
    "import yamlu\n",
    "\n",
    "from pybpmn.parser import BpmnParser, InvalidBpmnException\n",
    "from yamlu.img import AnnotatedImage, Annotation"
   ]
  },
  {
   "cell_type": "code",
   "execution_count": 2,
   "id": "0949de6e-6763-46ec-b38d-8fa21ac6f390",
   "metadata": {},
   "outputs": [
    {
     "data": {
      "text/plain": [
       "5989"
      ]
     },
     "execution_count": 2,
     "metadata": {},
     "output_type": "execute_result"
    }
   ],
   "source": [
    "bpmn_paths = yamlu.glob(Path.home() / \"ws\" / \"sapsam\" / \"xml\", \"*.xml\")\n",
    "len(bpmn_paths)"
   ]
  },
  {
   "cell_type": "code",
   "execution_count": 8,
   "id": "9fbd5dc4-56a0-4c5f-a854-a0b542d27c9b",
   "metadata": {},
   "outputs": [
    {
     "name": "stderr",
     "output_type": "stream",
     "text": [
      "100%|████████████████████████████████████████████████████████████████████████████████████████████████████████████| 5989/5989 [00:14<00:00, 421.21it/s]"
     ]
    },
    {
     "name": "stdout",
     "output_type": "stream",
     "text": [
      "559 341876\n"
     ]
    },
    {
     "name": "stderr",
     "output_type": "stream",
     "text": [
      "\n"
     ]
    }
   ],
   "source": [
    "import sys\n",
    "from tqdm import tqdm\n",
    "from pybpmn.parser import BpmnParser, InvalidBpmnException\n",
    "\n",
    "logging.getLogger(\"pybpmn\").setLevel(\"WARNING\")\n",
    "parser = BpmnParser()\n",
    "\n",
    "exception_records = []\n",
    "anns = []\n",
    "for p in tqdm(bpmn_paths):\n",
    "    try: \n",
    "        anns += parser.parse_bpmn_anns(p)\n",
    "    except InvalidBpmnException as e:\n",
    "        exception_records.append({\"bpmn_path\": str(p), \"error_type\": e.error_type, \"error_details\": e.details})\n",
    "        continue\n",
    "    except Exception as e:\n",
    "        print(p, sys.exc_info()[0])\n",
    "        raise e        \n",
    "\n",
    "print(len(exception_records), len(anns))"
   ]
  },
  {
   "cell_type": "code",
   "execution_count": 5,
   "id": "770de26b-2c16-48ee-a998-d41f34f45dd1",
   "metadata": {},
   "outputs": [
    {
     "data": {
      "text/plain": [
       "sequenceFlow has no targetRef attrib                              158\n",
       "sequenceFlow has no sourceRef attrib                              157\n",
       "association has no targetRef attrib                                73\n",
       "messageFlow has no sourceRef attrib                                56\n",
       "association has no sourceRef attrib                                51\n",
       "messageFlow has no targetRef attrib                                43\n",
       "Duplicate model element id                                          9\n",
       "Invalid endEvent with multiple event definitions                    6\n",
       "Invalid intermediateThrowEvent with multiple event definitions      3\n",
       "Invalid boundaryEvent with multiple event definitions               2\n",
       "BPMN Choreography diagrams are not implemented.                     1\n",
       "Name: error_type, dtype: int64"
      ]
     },
     "execution_count": 5,
     "metadata": {},
     "output_type": "execute_result"
    }
   ],
   "source": [
    "df = pd.DataFrame.from_records(exception_records)\n",
    "df.error_type.value_counts()"
   ]
  },
  {
   "cell_type": "code",
   "execution_count": 16,
   "id": "a3aac4cd-0ad4-4a3e-96d6-5867ed8fb6a9",
   "metadata": {},
   "outputs": [
    {
     "name": "stdout",
     "output_type": "stream",
     "text": [
      "71\n"
     ]
    },
    {
     "data": {
      "text/plain": [
       "label                                     107943\n",
       "sequenceFlow                               88521\n",
       "task                                       33350\n",
       "exclusiveGateway                           13486\n",
       "messageFlow                                12803\n",
       "lane                                       10455\n",
       "endEvent                                    9280\n",
       "association                                 8476\n",
       "pool                                        8248\n",
       "dataAssociation                             6283\n",
       "textAnnotation                              5600\n",
       "startEvent                                  4492\n",
       "messageIntermediateCatchEvent               4436\n",
       "dataObject                                  4119\n",
       "parallelGateway                             3314\n",
       "sendTask                                    2670\n",
       "subProcessCollapsed                         2131\n",
       "timerIntermediateEvent                      1840\n",
       "messageStartEvent                           1658\n",
       "messageIntermediateThrowEvent               1507\n",
       "eventBasedGateway                           1399\n",
       "userTask                                    1306\n",
       "businessRuleTask                             976\n",
       "dataInput                                    871\n",
       "dataStore                                    798\n",
       "messageEndEvent                              699\n",
       "inclusiveGateway                             517\n",
       "escalationEndEvent                           459\n",
       "manualTask                                   449\n",
       "escalationBoundaryEvent                      434\n",
       "serviceTask                                  430\n",
       "subProcessExpanded                           338\n",
       "intermediateEvent                            321\n",
       "terminateEndEvent                            265\n",
       "receiveTask                                  249\n",
       "timerStartEvent                              202\n",
       "timerBoundaryEvent                           200\n",
       "errorBoundaryEvent                           139\n",
       "conditionalIntermediateCatchEvent            116\n",
       "errorEndEvent                                 97\n",
       "messageBoundaryEvent                          95\n",
       "linkIntermediateThrowEvent                    90\n",
       "callActivity                                  78\n",
       "linkIntermediateCatchEvent                    75\n",
       "group                                         70\n",
       "cancelEndEvent                                67\n",
       "scriptTask                                    58\n",
       "conditionalStartEvent                         44\n",
       "compensateBoundaryEvent                       42\n",
       "signalIntermediateCatchEvent                  41\n",
       "parallelMultipleIntermediateCatchEvent        37\n",
       "signalStartEvent                              36\n",
       "signalIntermediateThrowEvent                  33\n",
       "dataOutput                                    29\n",
       "signalEndEvent                                28\n",
       "parallelMultipleStartEvent                    26\n",
       "complexGateway                                23\n",
       "errorIntermediateCatchEvent                   21\n",
       "adHocSubProcess                               15\n",
       "cancelBoundaryEvent                           13\n",
       "compensateEndEvent                            12\n",
       "transaction                                   12\n",
       "compensateIntermediateThrowEvent              11\n",
       "conditionalBoundaryEvent                       9\n",
       "escalationIntermediateThrowEvent               8\n",
       "signalBoundaryEvent                            8\n",
       "errorStartEvent                                6\n",
       "cancelIntermediateCatchEvent                   4\n",
       "compensateIntermediateCatchEvent               4\n",
       "escalationStartEvent                           3\n",
       "compensateStartEvent                           1\n",
       "dtype: int64"
      ]
     },
     "execution_count": 16,
     "metadata": {},
     "output_type": "execute_result"
    }
   ],
   "source": [
    "from collections import Counter\n",
    "\n",
    "pd.set_option('display.max_rows', 100)\n",
    "s = pd.Series(Counter([a.category for a in anns])).sort_values(ascending=False)\n",
    "print(len(s))\n",
    "s"
   ]
  }
 ],
 "metadata": {
  "kernelspec": {
   "display_name": "Python 3.8.12 (pybpmn)",
   "language": "python",
   "name": "pybpmn"
  },
  "language_info": {
   "codemirror_mode": {
    "name": "ipython",
    "version": 3
   },
   "file_extension": ".py",
   "mimetype": "text/x-python",
   "name": "python",
   "nbconvert_exporter": "python",
   "pygments_lexer": "ipython3",
   "version": "3.8.12"
  }
 },
 "nbformat": 4,
 "nbformat_minor": 5
}
